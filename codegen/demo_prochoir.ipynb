{
 "cells": [
  {
   "cell_type": "code",
   "execution_count": 1,
   "metadata": {
    "collapsed": false
   },
   "outputs": [],
   "source": [
    "%load_ext autoreload\n",
    "%autoreload 2\n",
    "from sympy import symbols, init_printing, simplify, solve, factor, srepr, Add, Symbol, Integer\n",
    "from mako.template import Template\n",
    "from mako.lookup import TemplateLookup\n",
    "from mako.runtime import Context\n",
    "from StringIO import StringIO\n",
    "from fdlib import *\n",
    "init_printing()"
   ]
  },
  {
   "cell_type": "code",
   "execution_count": 2,
   "metadata": {
    "collapsed": true
   },
   "outputs": [],
   "source": [
    "U,V,W,Txx,Tyy,Tzz,Txy,Tyz,Txz = IndexedBases('U V W Txx Tyy Tzz Txy Tyz Txz')\n",
    "b, lam, mu = IndexedBases('beta lambda mu')\n",
    "x,y,z,t,h,dt = symbols('x y z t h dt')"
   ]
  },
  {
   "cell_type": "code",
   "execution_count": 3,
   "metadata": {
    "collapsed": true
   },
   "outputs": [],
   "source": [
    "accuracy_time = 1 # O(dt^2) accuracy in time domain\n",
    "accuracy_space = 2 # O(h^4) accuracy in space domain"
   ]
  },
  {
   "cell_type": "code",
   "execution_count": 4,
   "metadata": {
    "collapsed": true
   },
   "outputs": [],
   "source": [
    "l = [t,x,y,z]\n",
    "\n",
    "# first-order time derivatives in velocities and stresses\n",
    "# O(dt^2) accuracy\n",
    "DtU = Deriv_half(U,l,0,dt,accuracy_time)[1]\n",
    "DtV = Deriv_half(V,l,0,dt,accuracy_time)[1]\n",
    "DtW = Deriv_half(W,l,0,dt,accuracy_time)[1]\n",
    "\n",
    "DtTxx = Deriv_half(Txx,l,0,dt,accuracy_time)[1]\n",
    "DtTxy = Deriv_half(Txy,l,0,dt,accuracy_time)[1]\n",
    "DtTxz = Deriv_half(Txz,l,0,dt,accuracy_time)[1]\n",
    "DtTyy = Deriv_half(Tyy,l,0,dt,accuracy_time)[1]\n",
    "DtTyz = Deriv_half(Tyz,l,0,dt,accuracy_time)[1]\n",
    "DtTzz = Deriv_half(Tzz,l,0,dt,accuracy_time)[1]\n",
    "\n",
    "# first-order spacial derivatives of velocities and stresses\n",
    "# O(h^4) accuracy\n",
    "\n",
    "DxU = Deriv_half(U,l,1,h,accuracy_space,shift_forward=False)[1]\n",
    "DyV = Deriv_half(V,l,2,h,accuracy_space,shift_forward=False)[1]\n",
    "DzW = Deriv_half(W,l,3,h,accuracy_space,shift_forward=False)[1]\n",
    "\n",
    "DyU = Deriv_half(U,l,2,h,accuracy_space)[1]\n",
    "DzU = Deriv_half(U,l,3,h,accuracy_space)[1]\n",
    "DxV = Deriv_half(V,l,1,h,accuracy_space)[1]\n",
    "DzV = Deriv_half(V,l,3,h,accuracy_space)[1]\n",
    "DxW = Deriv_half(W,l,1,h,accuracy_space)[1]\n",
    "DyW = Deriv_half(W,l,2,h,accuracy_space)[1]\n",
    "\n",
    "DxTxx = Deriv_half(Txx,l,1,h,accuracy_space)[1]\n",
    "DyTyy = Deriv_half(Tyy,l,2,h,accuracy_space)[1]\n",
    "DzTzz = Deriv_half(Tzz,l,3,h,accuracy_space)[1]\n",
    "\n",
    "DxTxy = Deriv_half(Txy,l,1,h,accuracy_space,shift_forward=False)[1]\n",
    "DyTxy = Deriv_half(Txy,l,2,h,accuracy_space,shift_forward=False)[1]\n",
    "DyTyz = Deriv_half(Tyz,l,2,h,accuracy_space,shift_forward=False)[1]\n",
    "DzTyz = Deriv_half(Tyz,l,3,h,accuracy_space,shift_forward=False)[1]\n",
    "DxTxz = Deriv_half(Txz,l,1,h,accuracy_space,shift_forward=False)[1]\n",
    "DzTxz = Deriv_half(Txz,l,3,h,accuracy_space,shift_forward=False)[1]"
   ]
  },
  {
   "cell_type": "code",
   "execution_count": 5,
   "metadata": {
    "collapsed": false
   },
   "outputs": [
    {
     "data": {
      "image/png": "[encoded data removed]",
      "text/latex": [
       "$$- \\frac{9 Txx_{t,x,y,z}}{8 h} + \\frac{Txx_{t,x - 1,y,z}}{24 h} + \\frac{9 Txx_{t,x + 1,y,z}}{8 h} - \\frac{Txx_{t,x + 2,y,z}}{24 h}$$"
      ],
      "text/plain": [
       "  9⋅Txx[t, x, y, z]   Txx[t, x - 1, y, z]   9⋅Txx[t, x + 1, y, z]   Txx[t, x +\n",
       "- ───────────────── + ─────────────────── + ───────────────────── - ──────────\n",
       "         8⋅h                  24⋅h                   8⋅h                    24\n",
       "\n",
       " 2, y, z]\n",
       "─────────\n",
       "⋅h       "
      ]
     },
     "execution_count": 5,
     "metadata": {},
     "output_type": "execute_result"
    }
   ],
   "source": [
    "DxTxx"
   ]
  },
  {
   "cell_type": "code",
   "execution_count": 6,
   "metadata": {
    "collapsed": false
   },
   "outputs": [
    {
     "data": {
      "image/png": "[encoded data removed]",
      "text/latex": [
       "$$\\frac{9 Txz_{t,x,y,z}}{8 h} + \\frac{Txz_{t,x - 2,y,z}}{24 h} - \\frac{9 Txz_{t,x - 1,y,z}}{8 h} - \\frac{Txz_{t,x + 1,y,z}}{24 h}$$"
      ],
      "text/plain": [
       "9⋅Txz[t, x, y, z]   Txz[t, x - 2, y, z]   9⋅Txz[t, x - 1, y, z]   Txz[t, x + 1\n",
       "───────────────── + ─────────────────── - ───────────────────── - ────────────\n",
       "       8⋅h                  24⋅h                   8⋅h                    24⋅h\n",
       "\n",
       ", y, z]\n",
       "───────\n",
       "       "
      ]
     },
     "execution_count": 6,
     "metadata": {},
     "output_type": "execute_result"
    }
   ],
   "source": [
    "# note difference between shift_forward True/False\n",
    "DxTxz"
   ]
  },
  {
   "cell_type": "code",
   "execution_count": 7,
   "metadata": {
    "collapsed": false
   },
   "outputs": [
    {
     "data": {
      "image/png": "[encoded data removed]",
      "text/latex": [
       "$$- \\frac{Txx_{t,x,y,z}}{dt} + \\frac{1}{dt} Txx_{t + 1,x,y,z}$$"
      ],
      "text/plain": [
       "  Txx[t, x, y, z]   Txx[t + 1, x, y, z]\n",
       "- ─────────────── + ───────────────────\n",
       "         dt                  dt        "
      ]
     },
     "execution_count": 7,
     "metadata": {},
     "output_type": "execute_result"
    }
   ],
   "source": [
    "DtTxx"
   ]
  },
  {
   "cell_type": "code",
   "execution_count": 8,
   "metadata": {
    "collapsed": false
   },
   "outputs": [],
   "source": [
    "# momentum equations\n",
    "# no need to replace t here\n",
    "eq1 = Eq(DtU, b[t,x,y,z]*(DxTxx + DyTxy + DzTxz))\n",
    "eq2 = Eq(DtV, b[t,x,y,z]*(DxTxy + DyTyy + DzTyz))\n",
    "eq3 = Eq(DtW, b[t,x,y,z]*(DxTxz + DyTyz + DzTzz))\n",
    "\n",
    "# stress-strain equations\n",
    "eq4 = Eq(DtTxx, (lam[t,x,y,z] + 2*mu[t,x,y,z])*DxU + lam[t,x,y,z]*(DyV+DzW))\n",
    "eq5 = Eq(DtTyy, (lam[t,x,y,z] + 2*mu[t,x,y,z])*DyV + lam[t,x,y,z]*(DxU+DzW))\n",
    "eq6 = Eq(DtTzz, (lam[t,x,y,z] + 2*mu[t,x,y,z])*DzW + lam[t,x,y,z]*(DxU+DyV))\n",
    "eq7 = Eq(DtTxy, mu[t,x,y,z]*(DyU+DxV))\n",
    "eq8 = Eq(DtTxz, mu[t,x,y,z]*(DzU+DxW))\n",
    "eq9 = Eq(DtTyz, mu[t,x,y,z]*(DzV+DyW))"
   ]
  },
  {
   "cell_type": "code",
   "execution_count": 9,
   "metadata": {
    "collapsed": false
   },
   "outputs": [
    {
     "data": {
      "image/png": "[encoded data removed]",
      "text/latex": [
       "$$\\frac{dt \\beta_{t,x,y,z}}{24 h} \\left(- 27 Txx_{t,x,y,z} + Txx_{t,x - 1,y,z} + 27 Txx_{t,x + 1,y,z} - Txx_{t,x + 2,y,z} + 27 Txy_{t,x,y,z} + Txy_{t,x,y - 2,z} - 27 Txy_{t,x,y - 1,z} - Txy_{t,x,y + 1,z} + 27 Txz_{t,x,y,z} + Txz_{t,x,y,z - 2} - 27 Txz_{t,x,y,z - 1} - Txz_{t,x,y,z + 1}\\right) + U_{t,x,y,z}$$"
      ],
      "text/plain": [
       "dt⋅(-27⋅Txx[t, x, y, z] + Txx[t, x - 1, y, z] + 27⋅Txx[t, x + 1, y, z] - Txx[t\n",
       "──────────────────────────────────────────────────────────────────────────────\n",
       "                                                                              \n",
       "\n",
       ", x + 2, y, z] + 27⋅Txy[t, x, y, z] + Txy[t, x, y - 2, z] - 27⋅Txy[t, x, y - 1\n",
       "──────────────────────────────────────────────────────────────────────────────\n",
       "                                                                 24⋅h         \n",
       "\n",
       ", z] - Txy[t, x, y + 1, z] + 27⋅Txz[t, x, y, z] + Txz[t, x, y, z - 2] - 27⋅Txz\n",
       "──────────────────────────────────────────────────────────────────────────────\n",
       "                                                                              \n",
       "\n",
       "[t, x, y, z - 1] - Txz[t, x, y, z + 1])⋅beta[t, x, y, z]                \n",
       "──────────────────────────────────────────────────────── + U[t, x, y, z]\n",
       "                                                                        "
      ]
     },
     "execution_count": 9,
     "metadata": {},
     "output_type": "execute_result"
    }
   ],
   "source": [
    "# for demo only\n",
    "simplify(solve(eq1,U[t+1,x,y,z])[0]-U[t,x,y,z])+U[t,x,y,z]"
   ]
  },
  {
   "cell_type": "code",
   "execution_count": 10,
   "metadata": {
    "collapsed": false
   },
   "outputs": [
    {
     "data": {
      "image/png": "[encoded data removed]",
      "text/latex": [
       "$$\\frac{dt}{24 h} \\left(27 U_{t,x,y,z} \\lambda_{t,x,y,z} + 54 U_{t,x,y,z} \\mu_{t,x,y,z} + U_{t,x - 2,y,z} \\lambda_{t,x,y,z} + 2 U_{t,x - 2,y,z} \\mu_{t,x,y,z} - 27 U_{t,x - 1,y,z} \\lambda_{t,x,y,z} - 54 U_{t,x - 1,y,z} \\mu_{t,x,y,z} - U_{t,x + 1,y,z} \\lambda_{t,x,y,z} - 2 U_{t,x + 1,y,z} \\mu_{t,x,y,z} + 27 V_{t,x,y,z} \\lambda_{t,x,y,z} + V_{t,x,y - 2,z} \\lambda_{t,x,y,z} - 27 V_{t,x,y - 1,z} \\lambda_{t,x,y,z} - V_{t,x,y + 1,z} \\lambda_{t,x,y,z} + 27 W_{t,x,y,z} \\lambda_{t,x,y,z} + W_{t,x,y,z - 2} \\lambda_{t,x,y,z} - 27 W_{t,x,y,z - 1} \\lambda_{t,x,y,z} - W_{t,x,y,z + 1} \\lambda_{t,x,y,z}\\right) + Txx_{t,x,y,z}$$"
      ],
      "text/plain": [
       "dt⋅(27⋅U[t, x, y, z]⋅lambda[t, x, y, z] + 54⋅U[t, x, y, z]⋅mu[t, x, y, z] + U[\n",
       "──────────────────────────────────────────────────────────────────────────────\n",
       "                                                                              \n",
       "\n",
       "t, x - 2, y, z]⋅lambda[t, x, y, z] + 2⋅U[t, x - 2, y, z]⋅mu[t, x, y, z] - 27⋅U\n",
       "──────────────────────────────────────────────────────────────────────────────\n",
       "                                                                              \n",
       "\n",
       "[t, x - 1, y, z]⋅lambda[t, x, y, z] - 54⋅U[t, x - 1, y, z]⋅mu[t, x, y, z] - U[\n",
       "──────────────────────────────────────────────────────────────────────────────\n",
       "                                                                              \n",
       "\n",
       "t, x + 1, y, z]⋅lambda[t, x, y, z] - 2⋅U[t, x + 1, y, z]⋅mu[t, x, y, z] + 27⋅V\n",
       "──────────────────────────────────────────────────────────────────────────────\n",
       "                                                                           24⋅\n",
       "\n",
       "[t, x, y, z]⋅lambda[t, x, y, z] + V[t, x, y - 2, z]⋅lambda[t, x, y, z] - 27⋅V[\n",
       "──────────────────────────────────────────────────────────────────────────────\n",
       "h                                                                             \n",
       "\n",
       "t, x, y - 1, z]⋅lambda[t, x, y, z] - V[t, x, y + 1, z]⋅lambda[t, x, y, z] + 27\n",
       "──────────────────────────────────────────────────────────────────────────────\n",
       "                                                                              \n",
       "\n",
       "⋅W[t, x, y, z]⋅lambda[t, x, y, z] + W[t, x, y, z - 2]⋅lambda[t, x, y, z] - 27⋅\n",
       "──────────────────────────────────────────────────────────────────────────────\n",
       "                                                                              \n",
       "\n",
       "W[t, x, y, z - 1]⋅lambda[t, x, y, z] - W[t, x, y, z + 1]⋅lambda[t, x, y, z])  \n",
       "──────────────────────────────────────────────────────────────────────────── +\n",
       "                                                                              \n",
       "\n",
       "                \n",
       " Txx[t, x, y, z]\n",
       "                "
      ]
     },
     "execution_count": 10,
     "metadata": {},
     "output_type": "execute_result"
    }
   ],
   "source": [
    "# for demo only\n",
    "simplify(solve(eq4,Txx[t+1,x,y,z])[0]-Txx[t,x,y,z])+Txx[t,x,y,z]"
   ]
  },
  {
   "cell_type": "code",
   "execution_count": 16,
   "metadata": {
    "collapsed": false
   },
   "outputs": [
    {
     "data": {
      "image/png": "[encoded data removed]",
      "text/latex": [
       "$$Txy_{t,x,y,z} + \\frac{1}{24 h} \\left(- 27 dt \\mu_{x,y,z} U_{t,x,y,z} + dt \\mu_{x,y,z} U_{t,x,y - 1,z} + 27 dt \\mu_{x,y,z} U_{t,x,y + 1,z} - dt \\mu_{x,y,z} U_{t,x,y + 2,z} - 27 dt \\mu_{x,y,z} V_{t,x,y,z} + dt \\mu_{x,y,z} V_{t,x - 1,y,z} + 27 dt \\mu_{x,y,z} V_{t,x + 1,y,z} - dt \\mu_{x,y,z} V_{t,x + 2,y,z} + 24 h Txy_{t,x,y,z} - 24 h Txy_{t,x,y,z,t}\\right)$$"
      ],
      "text/plain": [
       "                  -27⋅dt⋅mu[x, y, z]⋅U[t, x, y, z] + dt⋅mu[x, y, z]⋅U[t, x, y \n",
       "Txy[t, x, y, z] + ────────────────────────────────────────────────────────────\n",
       "                                                                              \n",
       "\n",
       "- 1, z] + 27⋅dt⋅mu[x, y, z]⋅U[t, x, y + 1, z] - dt⋅mu[x, y, z]⋅U[t, x, y + 2, \n",
       "──────────────────────────────────────────────────────────────────────────────\n",
       "                                                                              \n",
       "\n",
       "z] - 27⋅dt⋅mu[x, y, z]⋅V[t, x, y, z] + dt⋅mu[x, y, z]⋅V[t, x - 1, y, z] + 27⋅d\n",
       "──────────────────────────────────────────────────────────────────────────────\n",
       "                          24⋅h                                                \n",
       "\n",
       "t⋅mu[x, y, z]⋅V[t, x + 1, y, z] - dt⋅mu[x, y, z]⋅V[t, x + 2, y, z] + 24⋅h⋅Txy[\n",
       "──────────────────────────────────────────────────────────────────────────────\n",
       "                                                                              \n",
       "\n",
       "t, x, y, z] - 24⋅h⋅Txy[t, x, y, z, t]\n",
       "─────────────────────────────────────\n",
       "                                     "
      ]
     },
     "execution_count": 16,
     "metadata": {},
     "output_type": "execute_result"
    }
   ],
   "source": [
    "# for demo only\n",
    "# note difference between Txx and Txy indices\n",
    "simplify(solve(eq7,Txy[t+1,x,y,z])[0]-Txy[t,x,y,z,t])+Txy[t,x,y,z]"
   ]
  },
  {
   "cell_type": "code",
   "execution_count": 31,
   "metadata": {
    "collapsed": false
   },
   "outputs": [],
   "source": [
    "# generate computation code segments\n",
    "U_t = print_assignment(eq1, U[t+1,x,y,z], U[t,x,y,z], pochoir=True)\n",
    "V_t = print_assignment(eq2, V[t+1,x,y,z], V[t,x,y,z], pochoir=True)\n",
    "W_t = print_assignment(eq3, W[t+1,x,y,z], W[t,x,y,z], pochoir=True)\n",
    "Txx_t = print_assignment(eq4, Txx[t+1,x,y,z], Txx[t,x,y,z], pochoir=True)\n",
    "Tyy_t = print_assignment(eq5, Tyy[t+1,x,y,z], Tyy[t,x,y,z], pochoir=True)\n",
    "Tzz_t = print_assignment(eq6, Tzz[t+1,x,y,z], Tzz[t,x,y,z], pochoir=True)\n",
    "Txy_t = print_assignment(eq7, Txy[t+1,x,y,z], Txy[t,x,y,z], pochoir=True)\n",
    "Txz_t = print_assignment(eq8, Txz[t+1,x,y,z], Txz[t,x,y,z], pochoir=True)\n",
    "Tyz_t = print_assignment(eq9, Tyz[t+1,x,y,z], Tyz[t,x,y,z], pochoir=True)"
   ]
  },
  {
   "cell_type": "code",
   "execution_count": 32,
   "metadata": {
    "collapsed": false
   },
   "outputs": [
    {
     "data": {
      "text/plain": [
       "'Txx(t + 1,x,y,z)=(1.0/24.0)*dt*(27*U(t,x,y,z)*lambda(t,x,y,z) + 54*U(t,x,y,z)*mu(t,x,y,z) + U(t,x - 2,y,z)*lambda(t,x,y,z) + 2*U(t,x - 2,y,z)*mu(t,x,y,z) - 27*U(t,x - 1,y,z)*lambda(t,x,y,z) - 54*U(t,x - 1,y,z)*mu(t,x,y,z) - U(t,x + 1,y,z)*lambda(t,x,y,z) - 2*U(t,x + 1,y,z)*mu(t,x,y,z) + 27*V(t,x,y,z)*lambda(t,x,y,z) + V(t,x,y - 2,z)*lambda(t,x,y,z) - 27*V(t,x,y - 1,z)*lambda(t,x,y,z) - V(t,x,y + 1,z)*lambda(t,x,y,z) + 27*W(t,x,y,z)*lambda(t,x,y,z) + W(t,x,y,z - 2)*lambda(t,x,y,z) - 27*W(t,x,y,z - 1)*lambda(t,x,y,z) - W(t,x,y,z + 1)*lambda(t,x,y,z))/h + Txx(t,x,y,z)'"
      ]
     },
     "execution_count": 32,
     "metadata": {},
     "output_type": "execute_result"
    }
   ],
   "source": [
    "# they look like this\n",
    "Txx_t"
   ]
  },
  {
   "cell_type": "code",
   "execution_count": 33,
   "metadata": {
    "collapsed": false
   },
   "outputs": [
    {
     "data": {
      "text/plain": [
       "'U(t + 1,x,y,z)=(1.0/24.0)*dt*(-27*Txx(t,x,y,z) + Txx(t,x - 1,y,z) + 27*Txx(t,x + 1,y,z) - Txx(t,x + 2,y,z) + 27*Txy(t,x,y,z) + Txy(t,x,y - 2,z) - 27*Txy(t,x,y - 1,z) - Txy(t,x,y + 1,z) + 27*Txz(t,x,y,z) + Txz(t,x,y,z - 2) - 27*Txz(t,x,y,z - 1) - Txz(t,x,y,z + 1))*beta(t,x,y,z)/h + U(t,x,y,z)'"
      ]
     },
     "execution_count": 33,
     "metadata": {},
     "output_type": "execute_result"
    }
   ],
   "source": [
    "# and this\n",
    "U_t"
   ]
  },
  {
   "cell_type": "code",
   "execution_count": 34,
   "metadata": {
    "collapsed": false
   },
   "outputs": [],
   "source": [
    "# write to template file\n",
    "mylookup = TemplateLookup(directories=['templates/'])\n",
    "mytemplate = mylookup.get_template('test_pochoir_iso_elastic_tmpl.cpp')\n",
    "buf = StringIO()\n",
    "dict1 = {'time_period':2,'Txx':Txx_t,'Tyy':Tyy_t,'Tzz':Tzz_t,'Txy':Txy_t,'Txz':Txz_t,'Tyz':Tyz_t,'U':U_t,'V':V_t,'W':W_t}\n",
    "ctx = Context(buf, **dict1)\n",
    "mytemplate.render_context(ctx)\n",
    "code = buf.getvalue()"
   ]
  },
  {
   "cell_type": "code",
   "execution_count": 35,
   "metadata": {
    "collapsed": false
   },
   "outputs": [],
   "source": [
    "# generate compilable C++ source code\n",
    "f= open('../tests/src/mytest_pochoir.cpp','w')\n",
    "f.write(code)\n",
    "f.close()"
   ]
  },
  {
   "cell_type": "code",
   "execution_count": null,
   "metadata": {
    "collapsed": true
   },
   "outputs": [],
   "source": []
  }
 ],
 "metadata": {
  "kernelspec": {
   "display_name": "Python 2",
   "language": "python",
   "name": "python2"
  },
  "language_info": {
   "codemirror_mode": {
    "name": "ipython",
    "version": 2
   },
   "file_extension": ".py",
   "mimetype": "text/x-python",
   "name": "python",
   "nbconvert_exporter": "python",
   "pygments_lexer": "ipython2",
   "version": "2.7.10"
  }
 },
 "nbformat": 4,
 "nbformat_minor": 0
}
