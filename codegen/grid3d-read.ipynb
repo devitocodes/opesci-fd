{
 "cells": [
  {
   "cell_type": "code",
   "execution_count": 90,
   "metadata": {
    "collapsed": false
   },
   "outputs": [
    {
     "name": "stdout",
     "output_type": "stream",
     "text": [
      "The autoreload extension is already loaded. To reload it, use:\n",
      "  %reload_ext autoreload\n"
     ]
    }
   ],
   "source": [
    "%load_ext autoreload\n",
    "%autoreload 2\n",
    "from sympy import symbols, init_printing, simplify, solve, srepr, Add, Symbol, Integer, Float, pi, cos, sin, Rational\n",
    "from sympy import IndexedBase, Eq, simplify, sqrt, latex\n",
    "from mako.template import Template\n",
    "from mako.lookup import TemplateLookup\n",
    "from mako.runtime import Context\n",
    "from StringIO import StringIO\n",
    "from grid import *\n",
    "init_printing()"
   ]
  },
  {
   "cell_type": "code",
   "execution_count": 91,
   "metadata": {
    "collapsed": false
   },
   "outputs": [],
   "source": [
    "Txx = SField('Txx'); Txx.set(dimension=3, direction=(1,1))\n",
    "Tyy = SField('Tyy'); Tyy.set(dimension=3, direction=(2,2))\n",
    "Tzz = SField('Tzz'); Tzz.set(dimension=3, direction=(3,3))\n",
    "Txy = SField('Txy'); Txy.set(dimension=3, direction=(1,2))\n",
    "Tyz = SField('Tyz'); Tyz.set(dimension=3, direction=(2,3))\n",
    "Txz = SField('Txz'); Txz.set(dimension=3, direction=(1,3))\n",
    "U = VField('U'); U.set(dimension=3, direction=1)\n",
    "V = VField('V'); V.set(dimension=3, direction=2)\n",
    "W = VField('W'); W.set(dimension=3, direction=3)"
   ]
  },
  {
   "cell_type": "code",
   "execution_count": 92,
   "metadata": {
    "collapsed": false
   },
   "outputs": [],
   "source": [
    "grid = StaggeredGrid(dimension=3)\n",
    "grid.set_stress_fields([Txx,Tyy,Tzz,Txy,Tyz,Txz])\n",
    "grid.set_velocity_fields([U,V,W])\n",
    "grid.set_domain_size((1.0,1.0,1.0))\n",
    "grid.set_grid_size((195,195,195))\n",
    "grid.set_time_step(0.002,2.0)"
   ]
  },
  {
   "cell_type": "code",
   "execution_count": 93,
   "metadata": {
    "collapsed": false
   },
   "outputs": [
    {
     "data": {
      "text/plain": [
       "'physical parameters to be read from file, please compile and run the executable'"
      ]
     },
     "execution_count": 93,
     "metadata": {},
     "output_type": "execute_result"
    }
   ],
   "source": [
    "rho, beta, lam, mu = symbols('rho beta lambda mu')\n",
    "t,x,y,z = symbols('t x y z')\n",
    "grid.set_index([x,y,z])\n",
    "grid.set_media_params(read=True, rho=1.0, vp=1.0, vs=0.5, rho_file='RHOhomogx200', vp_file='VPhomogx200', vs_file='VShomogx200')\n",
    "grid.get_time_step_limit()"
   ]
  },
  {
   "cell_type": "markdown",
   "metadata": {},
   "source": [
    "####Analytical solutions\n",
    "$U = cos(\\pi x)(sin(\\pi y)-sin(\\pi z))cos(\\Omega t)$<br>\n",
    "$V = cos(\\pi y)(sin(\\pi z)-sin(\\pi x))cos(\\Omega t)$<br>\n",
    "$W = cos(\\pi z)(sin(\\pi x)-sin(\\pi y))cos(\\Omega t)$<br>\n",
    "$T_{xx} = -Asin(\\pi x)(sin(\\pi y)-sin(\\pi z))sin(\\Omega t)$<br>\n",
    "$T_{yy} = -Asin(\\pi y)(sin(\\pi z)-sin(\\pi x))sin(\\Omega t)$<br>\n",
    "$T_{zz} = -Asin(\\pi z)(sin(\\pi x)-sin(\\pi y))sin(\\Omega t)$<br>\n",
    "$T_{xy} = T_{yz} = T_{xz} = 0$<br>\n",
    "where $A=\\sqrt{2\\rho \\mu} \\space \\space \\Omega=\\pi\\sqrt{\\frac{2\\mu}{\\rho}}$"
   ]
  },
  {
   "cell_type": "code",
   "execution_count": 94,
   "metadata": {
    "collapsed": false
   },
   "outputs": [],
   "source": [
    "Omega = pi*sqrt(2*mu*beta)\n",
    "A = sqrt(2*mu/beta)\n",
    "U_func = cos(pi*x)*(sin(pi*y)-sin(pi*z))*cos(Omega*t)\n",
    "V_func = cos(pi*y)*(sin(pi*z)-sin(pi*x))*cos(Omega*t)\n",
    "W_func = cos(pi*z)*(sin(pi*x)-sin(pi*y))*cos(Omega*t)\n",
    "Txx_func = -A*sin(pi*x)*(sin(pi*y)-sin(pi*z))*sin(Omega*t)\n",
    "Tyy_func = -A*sin(pi*y)*(sin(pi*z)-sin(pi*x))*sin(Omega*t)\n",
    "Tzz_func = -A*sin(pi*z)*(sin(pi*x)-sin(pi*y))*sin(Omega*t)\n",
    "Txy_func = Float(0)\n",
    "Tyz_func = Float(0)\n",
    "Txz_func = Float(0)"
   ]
  },
  {
   "cell_type": "code",
   "execution_count": 95,
   "metadata": {
    "collapsed": false
   },
   "outputs": [],
   "source": [
    "U.set_analytic_solution(U_func)\n",
    "V.set_analytic_solution(V_func)\n",
    "W.set_analytic_solution(W_func)\n",
    "Txx.set_analytic_solution(Txx_func)\n",
    "Tyy.set_analytic_solution(Tyy_func)\n",
    "Tzz.set_analytic_solution(Tzz_func)\n",
    "Txy.set_analytic_solution(Txy_func)\n",
    "Tyz.set_analytic_solution(Tyz_func)\n",
    "Txz.set_analytic_solution(Txz_func)"
   ]
  },
  {
   "cell_type": "code",
   "execution_count": 96,
   "metadata": {
    "collapsed": false
   },
   "outputs": [],
   "source": [
    "grid.set_accuracy([1,2,2,2])\n",
    "grid.calc_derivatives()"
   ]
  },
  {
   "cell_type": "markdown",
   "metadata": {},
   "source": [
    "###PDEs\n",
    "#####momentum equations\n",
    "$\\partial_tU = b(\\partial_xT_{xx}+\\partial_yT_{xy}+\\partial_zT_{xz})$<br>\n",
    "$\\partial_tV = b(\\partial_xT_{xy}+\\partial_yT_{yy}+\\partial_zT_{yz})$<br>\n",
    "$\\partial_tW = b(\\partial_xT_{xz}+\\partial_yT_{yz}+\\partial_zT_{zz})$<br>\n",
    "#####stress-strain equations\n",
    "$\\partial_tT_{xx} = (\\lambda+2\\mu)\\partial_xU + \\lambda(\\partial_yV+\\partial_zW)$<br>\n",
    "$\\partial_tT_{yy} = (\\lambda+2\\mu)\\partial_yV + \\lambda(\\partial_xU+\\partial_zW)$<br>\n",
    "$\\partial_tT_{zz} = (\\lambda+2\\mu)\\partial_zW + \\lambda(\\partial_xU+\\partial_yV)$<br>\n",
    "$\\partial_tT_{xy} = \\mu(\\partial_yU + \\partial_xV)$<br>\n",
    "$\\partial_tT_{xz} = \\mu(\\partial_zU + \\partial_xW)$<br>\n",
    "$\\partial_tT_{yz} = \\mu(\\partial_zV + \\partial_yW)$<br>"
   ]
  },
  {
   "cell_type": "code",
   "execution_count": 97,
   "metadata": {
    "collapsed": false
   },
   "outputs": [],
   "source": [
    "# momentum equations\n",
    "eq1 = Eq(U.d[0][1], beta*(Txx.d[1][2] + Txy.d[2][2] + Txz.d[3][2]))\n",
    "eq2 = Eq(V.d[0][1], beta*(Txy.d[1][2] + Tyy.d[2][2] + Tyz.d[3][2]))\n",
    "eq3 = Eq(W.d[0][1], beta*(Txz.d[1][2] + Tyz.d[2][2] + Tzz.d[3][2]))\n",
    "# stress-strain equations\n",
    "eq4 = Eq(Txx.d[0][1], (lam + 2*mu)*U.d[1][2] + lam*(V.d[2][2]+W.d[3][2]))\n",
    "eq5 = Eq(Tyy.d[0][1], (lam + 2*mu)*V.d[2][2] + lam*(U.d[1][2]+W.d[3][2]))\n",
    "eq6 = Eq(Tzz.d[0][1], (lam + 2*mu)*W.d[3][2] + lam*(U.d[1][2]+V.d[2][2]))\n",
    "eq7 = Eq(Txy.d[0][1], mu*(U.d[2][2] + V.d[1][2]))\n",
    "eq8 = Eq(Tyz.d[0][1], mu*(V.d[3][2] + W.d[2][2]))\n",
    "eq9 = Eq(Txz.d[0][1], mu*(U.d[3][2] + W.d[1][2]))"
   ]
  },
  {
   "cell_type": "code",
   "execution_count": 98,
   "metadata": {
    "collapsed": false
   },
   "outputs": [],
   "source": [
    "grid.solve_fd([eq1,eq2,eq3,eq4,eq5,eq6,eq7,eq8,eq9])"
   ]
  },
  {
   "cell_type": "code",
   "execution_count": 99,
   "metadata": {
    "collapsed": false
   },
   "outputs": [],
   "source": [
    "Txx_expr = (lam + 2*mu)*U.d[1][1] + lam*(V.d[2][1]+W.d[3][1]); Txx.set_dt(Txx_expr)\n",
    "Tyy_expr = (lam + 2*mu)*V.d[2][1] + lam*(U.d[1][1]+W.d[3][1]); Tyy.set_dt(Tyy_expr)\n",
    "Tzz_expr = (lam + 2*mu)*W.d[3][1] + lam*(U.d[1][1]+V.d[2][1]); Tzz.set_dt(Tzz_expr)\n",
    "Txy_expr = mu*(U.d[2][1] + V.d[1][1]); Txy.set_dt(Txy_expr)\n",
    "Tyz_expr = mu*(V.d[3][1] + W.d[2][1]); Tyz.set_dt(Tyz_expr)\n",
    "Txz_expr = mu*(U.d[3][1] + W.d[1][1]); Txz.set_dt(Txz_expr)"
   ]
  },
  {
   "cell_type": "code",
   "execution_count": 100,
   "metadata": {
    "collapsed": false
   },
   "outputs": [],
   "source": [
    "grid.set_free_surface_boundary(dimension=1,side=0);grid.set_free_surface_boundary(dimension=1,side=1)\n",
    "grid.set_free_surface_boundary(dimension=2,side=0);grid.set_free_surface_boundary(dimension=2,side=1)\n",
    "grid.set_free_surface_boundary(dimension=3,side=0);grid.set_free_surface_boundary(dimension=3,side=1)"
   ]
  },
  {
   "cell_type": "markdown",
   "metadata": {},
   "source": [
    "###output using templates"
   ]
  },
  {
   "cell_type": "code",
   "execution_count": 102,
   "metadata": {
    "collapsed": false
   },
   "outputs": [],
   "source": [
    "# write to template file\n",
    "mylookup = TemplateLookup(directories=['templates/staggered','templates/'])\n",
    "mytemplate = mylookup.get_template('staggered3d_tmpl.cpp')\n",
    "buf = StringIO()\n",
    "dict1 = {'io':True,'time_stepping':grid.time_stepping(),'define_constants':grid.define_variables(),'declare_fields':grid.declare_fields(),'initialise':grid.initialise(),'initialise_bc':grid.initialise_boundary(),'stress_loop':grid.stress_loop(),'velocity_loop':grid.velocity_loop(),'stress_bc':grid.stress_bc(),'velocity_bc':grid.velocity_bc(),'output_step':'','output_final':''}\n",
    "ctx = Context(buf, **dict1)\n",
    "mytemplate.render_context(ctx)\n",
    "code = buf.getvalue()\n",
    "# generate compilable C++ source code\n",
    "f= open('src/test.cpp','w')\n",
    "f.write(code)\n",
    "f.close()"
   ]
  },
  {
   "cell_type": "code",
   "execution_count": 76,
   "metadata": {
    "collapsed": false
   },
   "outputs": [
    {
     "data": {
      "text/plain": [
       "u'#pragma omp for\\nfor(int y=1;y<dim2 - 1;++y){\\r\\n#pragma ivdep\\nfor(int z=1;z<dim3 - 1;++z){\\r\\nU[t1][1][y][z] = (dx1*dx2*lambda[x][y][z]*W[t1][2][y][z] - dx1*dx2*lambda[x][y][z]*W[t1][2][y][z - 1] + dx1*dx3*lambda[x][y][z]*V[t1][2][y][z] - dx1*dx3*lambda[x][y][z]*V[t1][2][y - 1][z] + dx2*dx3*lambda[x][y][z]*U[t1][2][y][z] + 2*dx2*dx3*mu[x][y][z]*U[t1][2][y][z])/(dx2*dx3*(lambda[x][y][z] + 2*mu[x][y][z]));\\n}\\r\\n}\\r\\n#pragma omp for\\nfor(int y=1;y<dim2 - 1;++y){\\r\\n#pragma ivdep\\nfor(int z=1;z<dim3 - 1;++z){\\r\\nU[t1][dim1 - 3][y][z] = (-dx1*dx2*lambda[x][y][z]*W[t1][dim1 - 3][y][z] + dx1*dx2*lambda[x][y][z]*W[t1][dim1 - 3][y][z - 1] - dx1*dx3*lambda[x][y][z]*V[t1][dim1 - 3][y][z] + dx1*dx3*lambda[x][y][z]*V[t1][dim1 - 3][y - 1][z] + dx2*dx3*lambda[x][y][z]*U[t1][dim1 - 4][y][z] + 2*dx2*dx3*mu[x][y][z]*U[t1][dim1 - 4][y][z])/(dx2*dx3*(lambda[x][y][z] + 2*mu[x][y][z]));\\n}\\r\\n}\\r\\n#pragma omp for\\nfor(int y=1;y<dim2 - 1;++y){\\r\\n#pragma ivdep\\nfor(int z=1;z<dim3 - 1;++z){\\r\\nV[t1][1][y][z] = (-dx1*U[t1][1][y][z] + dx1*U[t1][1][y + 1][z] + dx1*U[t1][2][y][z] - dx1*U[t1][2][y + 1][z] + dx2*(2*V[t1][2][y][z] - V[t1][3][y][z]))/dx2;\\n}\\r\\n}\\r\\n#pragma omp for\\nfor(int y=1;y<dim2 - 1;++y){\\r\\n#pragma ivdep\\nfor(int z=1;z<dim3 - 1;++z){\\r\\nV[t1][dim1 - 2][y][z] = (-dx1*U[t1][dim1 - 4][y][z] + dx1*U[t1][dim1 - 4][y + 1][z] + dx1*U[t1][dim1 - 3][y][z] - dx1*U[t1][dim1 - 3][y + 1][z] + dx2*(-V[t1][dim1 - 4][y][z] + 2*V[t1][dim1 - 3][y][z]))/dx2;\\n}\\r\\n}\\r\\n#pragma omp for\\nfor(int y=1;y<dim2 - 1;++y){\\r\\n#pragma ivdep\\nfor(int z=1;z<dim3 - 1;++z){\\r\\nW[t1][1][y][z] = (-dx1*U[t1][1][y][z] + dx1*U[t1][1][y][z + 1] + dx1*U[t1][2][y][z] - dx1*U[t1][2][y][z + 1] + dx3*(2*W[t1][2][y][z] - W[t1][3][y][z]))/dx3;\\n}\\r\\n}\\r\\n#pragma omp for\\nfor(int y=1;y<dim2 - 1;++y){\\r\\n#pragma ivdep\\nfor(int z=1;z<dim3 - 1;++z){\\r\\nW[t1][dim1 - 2][y][z] = (-dx1*U[t1][dim1 - 4][y][z] + dx1*U[t1][dim1 - 4][y][z + 1] + dx1*U[t1][dim1 - 3][y][z] - dx1*U[t1][dim1 - 3][y][z + 1] + dx3*(-W[t1][dim1 - 4][y][z] + 2*W[t1][dim1 - 3][y][z]))/dx3;\\n}\\r\\n}\\r\\n#pragma omp for\\nfor(int x=1;x<dim1 - 1;++x){\\r\\n#pragma ivdep\\nfor(int z=1;z<dim3 - 1;++z){\\r\\nV[t1][x][1][z] = (dx1*dx2*lambda[x][y][z]*W[t1][x][2][z] - dx1*dx2*lambda[x][y][z]*W[t1][x][2][z - 1] + dx1*dx3*lambda[x][y][z]*V[t1][x][2][z] + 2*dx1*dx3*mu[x][y][z]*V[t1][x][2][z] + dx2*dx3*lambda[x][y][z]*U[t1][x][2][z] - dx2*dx3*lambda[x][y][z]*U[t1][x - 1][2][z])/(dx1*dx3*(lambda[x][y][z] + 2*mu[x][y][z]));\\n}\\r\\n}\\r\\n#pragma omp for\\nfor(int x=1;x<dim1 - 1;++x){\\r\\n#pragma ivdep\\nfor(int z=1;z<dim3 - 1;++z){\\r\\nV[t1][x][dim2 - 3][z] = (-dx1*dx2*lambda[x][y][z]*W[t1][x][dim2 - 3][z] + dx1*dx2*lambda[x][y][z]*W[t1][x][dim2 - 3][z - 1] + dx1*dx3*lambda[x][y][z]*V[t1][x][dim2 - 4][z] + 2*dx1*dx3*mu[x][y][z]*V[t1][x][dim2 - 4][z] - dx2*dx3*lambda[x][y][z]*U[t1][x][dim2 - 3][z] + dx2*dx3*lambda[x][y][z]*U[t1][x - 1][dim2 - 3][z])/(dx1*dx3*(lambda[x][y][z] + 2*mu[x][y][z]));\\n}\\r\\n}\\r\\n#pragma omp for\\nfor(int x=1;x<dim1 - 1;++x){\\r\\n#pragma ivdep\\nfor(int z=1;z<dim3 - 1;++z){\\r\\nU[t1][x][1][z] = (dx1*(2*U[t1][x][2][z] - U[t1][x][3][z]) - dx2*V[t1][x][1][z] + dx2*V[t1][x][2][z] + dx2*V[t1][x + 1][1][z] - dx2*V[t1][x + 1][2][z])/dx1;\\n}\\r\\n}\\r\\n#pragma omp for\\nfor(int x=1;x<dim1 - 1;++x){\\r\\n#pragma ivdep\\nfor(int z=1;z<dim3 - 1;++z){\\r\\nU[t1][x][dim2 - 2][z] = (dx1*(-U[t1][x][dim2 - 4][z] + 2*U[t1][x][dim2 - 3][z]) - dx2*V[t1][x][dim2 - 4][z] + dx2*V[t1][x][dim2 - 3][z] + dx2*V[t1][x + 1][dim2 - 4][z] - dx2*V[t1][x + 1][dim2 - 3][z])/dx1;\\n}\\r\\n}\\r\\n#pragma omp for\\nfor(int x=1;x<dim1 - 1;++x){\\r\\n#pragma ivdep\\nfor(int z=1;z<dim3 - 1;++z){\\r\\nW[t1][x][1][z] = (-dx2*V[t1][x][1][z] + dx2*V[t1][x][1][z + 1] + dx2*V[t1][x][2][z] - dx2*V[t1][x][2][z + 1] + dx3*(2*W[t1][x][2][z] - W[t1][x][3][z]))/dx3;\\n}\\r\\n}\\r\\n#pragma omp for\\nfor(int x=1;x<dim1 - 1;++x){\\r\\n#pragma ivdep\\nfor(int z=1;z<dim3 - 1;++z){\\r\\nW[t1][x][dim2 - 2][z] = (-dx2*V[t1][x][dim2 - 4][z] + dx2*V[t1][x][dim2 - 4][z + 1] + dx2*V[t1][x][dim2 - 3][z] - dx2*V[t1][x][dim2 - 3][z + 1] + dx3*(-W[t1][x][dim2 - 4][z] + 2*W[t1][x][dim2 - 3][z]))/dx3;\\n}\\r\\n}\\r\\n#pragma omp for\\nfor(int x=1;x<dim1 - 1;++x){\\r\\n#pragma ivdep\\nfor(int y=1;y<dim2 - 1;++y){\\r\\nW[t1][x][y][1] = (dx1*dx2*lambda[x][y][z]*W[t1][x][y][2] + 2*dx1*dx2*mu[x][y][z]*W[t1][x][y][2] + dx1*dx3*lambda[x][y][z]*V[t1][x][y][2] - dx1*dx3*lambda[x][y][z]*V[t1][x][y - 1][2] + dx2*dx3*lambda[x][y][z]*U[t1][x][y][2] - dx2*dx3*lambda[x][y][z]*U[t1][x - 1][y][2])/(dx1*dx2*(lambda[x][y][z] + 2*mu[x][y][z]));\\n}\\r\\n}\\r\\n#pragma omp for\\nfor(int x=1;x<dim1 - 1;++x){\\r\\n#pragma ivdep\\nfor(int y=1;y<dim2 - 1;++y){\\r\\nW[t1][x][y][dim3 - 3] = (dx1*dx2*lambda[x][y][z]*W[t1][x][y][dim3 - 4] + 2*dx1*dx2*mu[x][y][z]*W[t1][x][y][dim3 - 4] - dx1*dx3*lambda[x][y][z]*V[t1][x][y][dim3 - 3] + dx1*dx3*lambda[x][y][z]*V[t1][x][y - 1][dim3 - 3] - dx2*dx3*lambda[x][y][z]*U[t1][x][y][dim3 - 3] + dx2*dx3*lambda[x][y][z]*U[t1][x - 1][y][dim3 - 3])/(dx1*dx2*(lambda[x][y][z] + 2*mu[x][y][z]));\\n}\\r\\n}\\r\\n#pragma omp for\\nfor(int x=1;x<dim1 - 1;++x){\\r\\n#pragma ivdep\\nfor(int y=1;y<dim2 - 1;++y){\\r\\nU[t1][x][y][1] = (dx1*(2*U[t1][x][y][2] - U[t1][x][y][3]) - dx3*W[t1][x][y][1] + dx3*W[t1][x][y][2] + dx3*W[t1][x + 1][y][1] - dx3*W[t1][x + 1][y][2])/dx1;\\n}\\r\\n}\\r\\n#pragma omp for\\nfor(int x=1;x<dim1 - 1;++x){\\r\\n#pragma ivdep\\nfor(int y=1;y<dim2 - 1;++y){\\r\\nU[t1][x][y][dim3 - 2] = (dx1*(-U[t1][x][y][dim3 - 4] + 2*U[t1][x][y][dim3 - 3]) - dx3*W[t1][x][y][dim3 - 4] + dx3*W[t1][x][y][dim3 - 3] + dx3*W[t1][x + 1][y][dim3 - 4] - dx3*W[t1][x + 1][y][dim3 - 3])/dx1;\\n}\\r\\n}\\r\\n#pragma omp for\\nfor(int x=1;x<dim1 - 1;++x){\\r\\n#pragma ivdep\\nfor(int y=1;y<dim2 - 1;++y){\\r\\nV[t1][x][y][1] = (dx2*(2*V[t1][x][y][2] - V[t1][x][y][3]) - dx3*W[t1][x][y][1] + dx3*W[t1][x][y][2] + dx3*W[t1][x][y + 1][1] - dx3*W[t1][x][y + 1][2])/dx2;\\n}\\r\\n}\\r\\n#pragma omp for\\nfor(int x=1;x<dim1 - 1;++x){\\r\\n#pragma ivdep\\nfor(int y=1;y<dim2 - 1;++y){\\r\\nV[t1][x][y][dim3 - 2] = (dx2*(-V[t1][x][y][dim3 - 4] + 2*V[t1][x][y][dim3 - 3]) - dx3*W[t1][x][y][dim3 - 4] + dx3*W[t1][x][y][dim3 - 3] + dx3*W[t1][x][y + 1][dim3 - 4] - dx3*W[t1][x][y + 1][dim3 - 3])/dx2;\\n}\\r\\n}\\r\\n'"
      ]
     },
     "execution_count": 76,
     "metadata": {},
     "output_type": "execute_result"
    }
   ],
   "source": [
    "grid.velocity_bc()"
   ]
  },
  {
   "cell_type": "code",
   "execution_count": 101,
   "metadata": {
    "collapsed": false
   },
   "outputs": [
    {
     "data": {
      "text/plain": [
       "[[None, None],\n",
       " ['U[t][1][y][z] = (dx1*dx2*lambda[2][y][z]*W[t][2][y][z] - dx1*dx2*lambda[2][y][z]*W[t][2][y][z - 1] + dx1*dx3*lambda[2][y][z]*V[t][2][y][z] - dx1*dx3*lambda[2][y][z]*V[t][2][y - 1][z] + dx2*dx3*lambda[2][y][z]*U[t][2][y][z] + 2*dx2*dx3*mu[2][y][z]*U[t][2][y][z])/(dx2*dx3*(lambda[2][y][z] + 2*mu[2][y][z]));\\n',\n",
       "  'U[t][dim1 - 3][y][z] = (-dx1*dx2*lambda[dim1 - 3][y][z]*W[t][dim1 - 3][y][z] + dx1*dx2*lambda[dim1 - 3][y][z]*W[t][dim1 - 3][y][z - 1] - dx1*dx3*lambda[dim1 - 3][y][z]*V[t][dim1 - 3][y][z] + dx1*dx3*lambda[dim1 - 3][y][z]*V[t][dim1 - 3][y - 1][z] + dx2*dx3*lambda[dim1 - 3][y][z]*U[t][dim1 - 4][y][z] + 2*dx2*dx3*mu[dim1 - 3][y][z]*U[t][dim1 - 4][y][z])/(dx2*dx3*(lambda[dim1 - 3][y][z] + 2*mu[dim1 - 3][y][z]));\\n'],\n",
       " ['U[t][x][1][z] = (dx1*(2*U[t][x][2][z] - U[t][x][3][z]) - dx2*V[t][x][1][z] + dx2*V[t][x][2][z] + dx2*V[t][x + 1][1][z] - dx2*V[t][x + 1][2][z])/dx1;\\n',\n",
       "  'U[t][x][dim2 - 2][z] = (dx1*(-U[t][x][dim2 - 4][z] + 2*U[t][x][dim2 - 3][z]) - dx2*V[t][x][dim2 - 4][z] + dx2*V[t][x][dim2 - 3][z] + dx2*V[t][x + 1][dim2 - 4][z] - dx2*V[t][x + 1][dim2 - 3][z])/dx1;\\n'],\n",
       " ['U[t][x][y][1] = (dx1*(2*U[t][x][y][2] - U[t][x][y][3]) - dx3*W[t][x][y][1] + dx3*W[t][x][y][2] + dx3*W[t][x + 1][y][1] - dx3*W[t][x + 1][y][2])/dx1;\\n',\n",
       "  'U[t][x][y][dim3 - 2] = (dx1*(-U[t][x][y][dim3 - 4] + 2*U[t][x][y][dim3 - 3]) - dx3*W[t][x][y][dim3 - 4] + dx3*W[t][x][y][dim3 - 3] + dx3*W[t][x + 1][y][dim3 - 4] - dx3*W[t][x + 1][y][dim3 - 3])/dx1;\\n']]"
      ]
     },
     "execution_count": 101,
     "metadata": {},
     "output_type": "execute_result"
    }
   ],
   "source": [
    "U.bc"
   ]
  },
  {
   "cell_type": "code",
   "execution_count": null,
   "metadata": {
    "collapsed": true
   },
   "outputs": [],
   "source": []
  }
 ],
 "metadata": {
  "kernelspec": {
   "display_name": "Python 2",
   "language": "python",
   "name": "python2"
  },
  "language_info": {
   "codemirror_mode": {
    "name": "ipython",
    "version": 2
   },
   "file_extension": ".py",
   "mimetype": "text/x-python",
   "name": "python",
   "nbconvert_exporter": "python",
   "pygments_lexer": "ipython2",
   "version": "2.7.9"
  }
 },
 "nbformat": 4,
 "nbformat_minor": 0
}
