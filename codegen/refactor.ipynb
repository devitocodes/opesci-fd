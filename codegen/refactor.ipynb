{
 "cells": [
  {
   "cell_type": "markdown",
   "metadata": {},
   "source": [
    "##FD schemes convergece investigation using 2D wave equation"
   ]
  },
  {
   "cell_type": "code",
   "execution_count": 581,
   "metadata": {
    "collapsed": false
   },
   "outputs": [
    {
     "name": "stdout",
     "output_type": "stream",
     "text": [
      "The autoreload extension is already loaded. To reload it, use:\n",
      "  %reload_ext autoreload\n"
     ]
    }
   ],
   "source": [
    "%load_ext autoreload\n",
    "%autoreload 2\n",
    "from sympy import symbols, init_printing, simplify, solve, srepr, Add, Symbol, Integer, Float, pi, cos, sin, Rational\n",
    "from sympy import IndexedBase, Eq\n",
    "from mako.template import Template\n",
    "from mako.lookup import TemplateLookup\n",
    "from mako.runtime import Context\n",
    "from StringIO import StringIO\n",
    "from grid import *\n",
    "init_printing()"
   ]
  },
  {
   "cell_type": "code",
   "execution_count": 582,
   "metadata": {
    "collapsed": false
   },
   "outputs": [],
   "source": [
    "x, y, t, lam, mu, beta, a, b, h, dt, dimx, dimy, Vs = symbols('x y t lambda mu beta a b h dt dimx dimy Vs')\n",
    "Txx = IndexedBase('Txx')\n",
    "Tyy = IndexedBase('Tyy')\n",
    "Txy = IndexedBase('Txy')\n",
    "U = IndexedBase('U')\n",
    "V = IndexedBase('V')"
   ]
  },
  {
   "cell_type": "code",
   "execution_count": 583,
   "metadata": {
    "collapsed": false
   },
   "outputs": [],
   "source": [
    "grid = StaggeredGrid2D()\n",
    "grid.assign_grid_size([h,h],dt)\n",
    "grid.assign_stress_fields(Txx,Tyy,Txy)\n",
    "grid.assign_velocity_fields(U,V)\n",
    "grid.assign_dimensions([dimx, dimy])"
   ]
  },
  {
   "cell_type": "markdown",
   "metadata": {},
   "source": [
    "###Eigenmode functions (as initial condition and analytical solution)\n",
    "\n",
    "$U = acos(\\pi x)sin(\\pi y)cos(at)$<br>\n",
    "$V = -asin(\\pi x)cos(\\pi y)cos(at)$<br>\n",
    "$T_{xx} = -bsin(\\pi x)sin(\\pi y)sin(at)$<br>\n",
    "$T_{yy} = bsin(\\pi x)sin(\\pi y)sin(at)$<br>\n",
    "$T_{xy} = T_{yx} = 0$<br>\n",
    "where $a=\\sqrt 2 \\pi V_s\\space \\space b=2\\pi\\mu$"
   ]
  },
  {
   "cell_type": "code",
   "execution_count": 584,
   "metadata": {
    "collapsed": false
   },
   "outputs": [],
   "source": [
    "a = 2**(0.5)*pi*Vs\n",
    "b = 2*pi*mu\n",
    "U_func = a*cos(pi*x)*sin(pi*y)*cos(a*t)\n",
    "V_func = -a*sin(pi*x)*cos(pi*y)*cos(a*t)\n",
    "Txx_func = -b*sin(pi*x)*sin(pi*y)*sin(a*t)\n",
    "Tyy_func = b*sin(pi*x)*sin(pi*y)*sin(a*t)\n",
    "Txy_func = Float(0)"
   ]
  },
  {
   "cell_type": "code",
   "execution_count": 585,
   "metadata": {
    "collapsed": false
   },
   "outputs": [],
   "source": [
    "grid.assign_function(U, U_func)\n",
    "grid.assign_function(V, V_func)\n",
    "grid.assign_function(Txx, Txx_func)\n",
    "grid.assign_function(Tyy, Tyy_func)\n",
    "grid.assign_function(Txy, Txy_func)"
   ]
  },
  {
   "cell_type": "markdown",
   "metadata": {},
   "source": [
    "###Calculate FD approximation of derivatives"
   ]
  },
  {
   "cell_type": "code",
   "execution_count": 586,
   "metadata": {
    "collapsed": false
   },
   "outputs": [],
   "source": [
    "grid.calc_derivatives()"
   ]
  },
  {
   "cell_type": "code",
   "execution_count": 587,
   "metadata": {
    "collapsed": false
   },
   "outputs": [
    {
     "data": {
      "image/png": "[encoded data removed]",
      "text/latex": [
       "$$- \\frac{1}{dt} Txx_{t - \\frac{1}{2},x,y} + \\frac{1}{dt} Txx_{t + \\frac{1}{2},x,y}$$"
      ],
      "text/plain": [
       "  Txx[t - 1/2, x, y]   Txx[t + 1/2, x, y]\n",
       "- ────────────────── + ──────────────────\n",
       "          dt                   dt        "
      ]
     },
     "execution_count": 587,
     "metadata": {},
     "output_type": "execute_result"
    }
   ],
   "source": [
    "grid.Dt[Txx]"
   ]
  },
  {
   "cell_type": "markdown",
   "metadata": {},
   "source": [
    "###PDEs\n",
    "#####momentum equations\n",
    "$\\partial_tU = b(\\partial_xT_{xx}+\\partial_yT_{xy})$<br>\n",
    "$\\partial_tV = b(\\partial_xT_{xy}+\\partial_yT_{yy})$<br>\n",
    "#####stress-strain equations\n",
    "$\\partial_tT_{xx} = (\\lambda+2\\mu)\\partial_xU + \\lambda\\partial_yV $<br>\n",
    "$\\partial_tT_{yy} = (\\lambda+2\\mu)\\partial_yV + \\lambda\\partial_xU $<br>\n",
    "$\\partial_tT_{xy} = \\mu(\\partial_yU + \\partial_xV)$<br>"
   ]
  },
  {
   "cell_type": "code",
   "execution_count": 588,
   "metadata": {
    "collapsed": false
   },
   "outputs": [],
   "source": [
    "# momentum equations\n",
    "eq1 = Eq(grid.Dt[U], beta*(grid.Dx[Txx] + grid.Dy[Txy]))\n",
    "eq2 = Eq(grid.Dt[V], beta*(grid.Dx[Txy] + grid.Dy[Tyy]))\n",
    "# stress-strain equations\n",
    "eq3 = Eq(grid.Dt[Txx], (lam + 2*mu)*grid.Dx[U] + lam*grid.Dy[V])\n",
    "eq4 = Eq(grid.Dt[Tyy], (lam + 2*mu)*grid.Dy[V] + lam*grid.Dx[U])\n",
    "eq5 = Eq(grid.Dt[Txy], mu*(grid.Dy[U]+grid.Dx[V]))"
   ]
  },
  {
   "cell_type": "code",
   "execution_count": 589,
   "metadata": {
    "collapsed": false
   },
   "outputs": [],
   "source": [
    "grid.assign_fd(U, solve(eq1,U[t+hf,x,y])[0].subs(t,t+hf))\n",
    "grid.assign_fd(V, solve(eq2,V[t+hf,x,y])[0].subs(t,t+hf))\n",
    "grid.assign_fd(Txx, solve(eq3,Txx[t+hf,x,y])[0].subs(t,t+hf))\n",
    "grid.assign_fd(Tyy, solve(eq4,Tyy[t+hf,x,y])[0].subs(t,t+hf))\n",
    "grid.assign_fd(Txy, solve(eq5,Txy[t+hf,x,y])[0].subs(t,t+hf))"
   ]
  },
  {
   "cell_type": "code",
   "execution_count": 590,
   "metadata": {
    "collapsed": false
   },
   "outputs": [
    {
     "data": {
      "image/png": "[encoded data removed]",
      "text/latex": [
       "$$\\frac{1}{24 h} \\left(\\beta dt Txx_{t + \\frac{1}{2},x - \\frac{3}{2},y} - 27 \\beta dt Txx_{t + \\frac{1}{2},x - \\frac{1}{2},y} + 27 \\beta dt Txx_{t + \\frac{1}{2},x + \\frac{1}{2},y} - \\beta dt Txx_{t + \\frac{1}{2},x + \\frac{3}{2},y} + \\beta dt Txy_{t + \\frac{1}{2},x,y - \\frac{3}{2}} - 27 \\beta dt Txy_{t + \\frac{1}{2},x,y - \\frac{1}{2}} + 27 \\beta dt Txy_{t + \\frac{1}{2},x,y + \\frac{1}{2}} - \\beta dt Txy_{t + \\frac{1}{2},x,y + \\frac{3}{2}} + 24 h U_{t,x,y}\\right)$$"
      ],
      "text/plain": [
       "β⋅dt⋅Txx[t + 1/2, x - 3/2, y] - 27⋅β⋅dt⋅Txx[t + 1/2, x - 1/2, y] + 27⋅β⋅dt⋅Txx\n",
       "──────────────────────────────────────────────────────────────────────────────\n",
       "                                                                              \n",
       "\n",
       "[t + 1/2, x + 1/2, y] - β⋅dt⋅Txx[t + 1/2, x + 3/2, y] + β⋅dt⋅Txy[t + 1/2, x, y\n",
       "──────────────────────────────────────────────────────────────────────────────\n",
       "                                                              24⋅h            \n",
       "\n",
       " - 3/2] - 27⋅β⋅dt⋅Txy[t + 1/2, x, y - 1/2] + 27⋅β⋅dt⋅Txy[t + 1/2, x, y + 1/2] \n",
       "──────────────────────────────────────────────────────────────────────────────\n",
       "                                                                              \n",
       "\n",
       "- β⋅dt⋅Txy[t + 1/2, x, y + 3/2] + 24⋅h⋅U[t, x, y]\n",
       "─────────────────────────────────────────────────\n",
       "                                                 "
      ]
     },
     "execution_count": 590,
     "metadata": {},
     "output_type": "execute_result"
    }
   ],
   "source": [
    "grid.fd[U]"
   ]
  },
  {
   "cell_type": "code",
   "execution_count": 591,
   "metadata": {
    "collapsed": false
   },
   "outputs": [
    {
     "data": {
      "image/png": "[encoded data removed]",
      "text/latex": [
       "$$\\frac{1}{24 h} \\left(27 \\beta dt Txx_{t,x,y} + \\beta dt Txx_{t,x - 2,y} - 27 \\beta dt Txx_{t,x - 1,y} - \\beta dt Txx_{t,x + 1,y} + 27 \\beta dt Txy_{t,x,y} + \\beta dt Txy_{t,x,y - 2} - 27 \\beta dt Txy_{t,x,y - 1} - \\beta dt Txy_{t,x,y + 1} + 24 h U_{t,x,y}\\right)$$"
      ],
      "text/plain": [
       "27⋅β⋅dt⋅Txx[t, x, y] + β⋅dt⋅Txx[t, x - 2, y] - 27⋅β⋅dt⋅Txx[t, x - 1, y] - β⋅dt\n",
       "──────────────────────────────────────────────────────────────────────────────\n",
       "                                                                              \n",
       "\n",
       "⋅Txx[t, x + 1, y] + 27⋅β⋅dt⋅Txy[t, x, y] + β⋅dt⋅Txy[t, x, y - 2] - 27⋅β⋅dt⋅Txy\n",
       "──────────────────────────────────────────────────────────────────────────────\n",
       "                          24⋅h                                                \n",
       "\n",
       "[t, x, y - 1] - β⋅dt⋅Txy[t, x, y + 1] + 24⋅h⋅U[t, x, y]\n",
       "───────────────────────────────────────────────────────\n",
       "                                                       "
      ]
     },
     "execution_count": 591,
     "metadata": {},
     "output_type": "execute_result"
    }
   ],
   "source": [
    "grid.fd_shifted[U]"
   ]
  },
  {
   "cell_type": "code",
   "execution_count": 592,
   "metadata": {
    "collapsed": false
   },
   "outputs": [
    {
     "data": {
      "text/plain": [
       "u'#pragma omp for\\nfor(int x=2;x<dimx - 2;++x){\\n    for(int y=2;y<dimy - 2;++y){\\n    \\tTxx[t1][x][y]=(1.0F/24.0F)*(27*dt*lambda*U[t][x][y] + dt*lambda*U[t][x - 2][y] - 27*dt*lambda*U[t][x - 1][y] - dt*lambda*U[t][x + 1][y] + 27*dt*lambda*V[t][x][y] + dt*lambda*V[t][x][y - 2] - 27*dt*lambda*V[t][x][y - 1] - dt*lambda*V[t][x][y + 1] + 54*dt*mu*U[t][x][y] + 2*dt*mu*U[t][x - 2][y] - 54*dt*mu*U[t][x - 1][y] - 2*dt*mu*U[t][x + 1][y] + 24*h*Txx[t][x][y])/h;\\n\\t\\tTyy[t1][x][y]=(1.0F/24.0F)*(27*dt*lambda*U[t][x][y] + dt*lambda*U[t][x - 2][y] - 27*dt*lambda*U[t][x - 1][y] - dt*lambda*U[t][x + 1][y] + 27*dt*lambda*V[t][x][y] + dt*lambda*V[t][x][y - 2] - 27*dt*lambda*V[t][x][y - 1] - dt*lambda*V[t][x][y + 1] + 54*dt*mu*V[t][x][y] + 2*dt*mu*V[t][x][y - 2] - 54*dt*mu*V[t][x][y - 1] - 2*dt*mu*V[t][x][y + 1] + 24*h*Tyy[t][x][y])/h;\\n\\t\\tTxy[t1][x][y]=(1.0F/24.0F)*(27*dt*mu*U[t][x][y] + dt*mu*U[t][x][y - 2] - 27*dt*mu*U[t][x][y - 1] - dt*mu*U[t][x][y + 1] + 27*dt*mu*V[t][x][y] + dt*mu*V[t][x - 2][y] - 27*dt*mu*V[t][x - 1][y] - dt*mu*V[t][x + 1][y] + 24*h*Txy[t][x][y])/h;\\n    }\\n}\\n'"
      ]
     },
     "execution_count": 592,
     "metadata": {},
     "output_type": "execute_result"
    }
   ],
   "source": [
    "grid.stress_loop()"
   ]
  },
  {
   "cell_type": "code",
   "execution_count": 593,
   "metadata": {
    "collapsed": false
   },
   "outputs": [
    {
     "data": {
      "text/plain": [
       "u'#pragma omp for\\nfor(int x=2;x<dimx - 2;++x){\\n    for(int y=2;y<dimy - 2;++y){\\n    \\tU[t1][x][y]=(1.0F/24.0F)*(27*beta*dt*Txx[t1][x][y] + beta*dt*Txx[t1][x - 2][y] - 27*beta*dt*Txx[t1][x - 1][y] - beta*dt*Txx[t1][x + 1][y] + 27*beta*dt*Txy[t1][x][y] + beta*dt*Txy[t1][x][y - 2] - 27*beta*dt*Txy[t1][x][y - 1] - beta*dt*Txy[t1][x][y + 1] + 24*h*U[t1][x][y])/h;\\n\\t\\tV[t1][x][y]=(1.0F/24.0F)*(27*beta*dt*Txy[t1][x][y] + beta*dt*Txy[t1][x - 2][y] - 27*beta*dt*Txy[t1][x - 1][y] - beta*dt*Txy[t1][x + 1][y] + 27*beta*dt*Tyy[t1][x][y] + beta*dt*Tyy[t1][x][y - 2] - 27*beta*dt*Tyy[t1][x][y - 1] - beta*dt*Tyy[t1][x][y + 1] + 24*h*V[t1][x][y])/h;\\n    }\\n}\\n'"
      ]
     },
     "execution_count": 593,
     "metadata": {},
     "output_type": "execute_result"
    }
   ],
   "source": [
    "grid.velocity_loop()"
   ]
  },
  {
   "cell_type": "markdown",
   "metadata": {},
   "source": [
    "##boundary conditions\n",
    "\n",
    "###get the second order FD approximation in space"
   ]
  },
  {
   "cell_type": "code",
   "execution_count": 594,
   "metadata": {
    "collapsed": false
   },
   "outputs": [
    {
     "data": {
      "text/plain": [
       "u'    // update ghost cells for boundary conditions\\n    #pragma omp for\\n    for(int x=0;x<dimx;x++){\\n      // boundary y=2\\n      Txx[t1][x][1] = -Txx[t1][x][3];\\n      Txx[t1][x][2] = 0.0;\\n      Tyy[t1][x][1] = -Tyy[t1][x][3];\\n      Tyy[t1][x][2] = 0.0;\\n      Txy[t1][x][0] = -Txy[t1][x][3];\\n      Txy[t1][x][1] = -Txy[t1][x][2];\\n      // boundary y=dimy+2\\n      Txx[t1][x][dimy-2] = -Txx[t1][x][dimy-4];\\n      Txx[t1][x][dimy-3] = 0.0;\\n      Tyy[t1][x][dimy-2] = -Tyy[t1][x][dimy-4];\\n      Tyy[t1][x][dimy-3] = 0.0;\\n      Txy[t1][x][dimy-2] = -Txy[t1][x][dimy-5];\\n      Txy[t1][x][dimy-3] = -Txy[t1][x][dimy-4];\\n    }\\n    // update ghost cells for boundary conditions\\n    #pragma omp for\\n    for(int y=0;y<dimy;y++){\\n      // boundary x=2\\n      Txx[t1][1][y] = -Txx[t1][3][y];\\n      Txx[t1][2][y] = 0.0;\\n      Tyy[t1][1][y] = -Tyy[t1][3][y];\\n      Tyy[t1][2][y] = 0.0;\\n      Txy[t1][0][y] = -Txy[t1][3][y];\\n      Txy[t1][1][y] = -Txy[t1][2][y];\\n      // boundary x=dimx+2\\n      Txx[t1][dimx-2][y] = -Txx[t1][dimx-4][y];\\n      Txx[t1][dimx-3][y] = 0.0;\\n      Tyy[t1][dimx-2][y] = -Tyy[t1][dimx-4][y];\\n      Tyy[t1][dimx-3][y] = 0.0;\\n      Txy[t1][dimx-2][y] = -Txy[t1][dimx-5][y];\\n      Txy[t1][dimx-3][y] = -Txy[t1][dimx-4][y];\\n    }'"
      ]
     },
     "execution_count": 594,
     "metadata": {},
     "output_type": "execute_result"
    }
   ],
   "source": [
    "grid.stress_bc()"
   ]
  },
  {
   "cell_type": "code",
   "execution_count": 595,
   "metadata": {
    "collapsed": false
   },
   "outputs": [],
   "source": [
    "# these are used to calculate U and V beyond boundary\n",
    "Txx_expr = (lam + 2*mu)*grid.Dx_2[U] + lam*grid.Dy_2[V]\n",
    "Tyy_expr = (lam + 2*mu)*grid.Dy_2[V] + lam*grid.Dx_2[U]\n",
    "Txy_expr = mu*(grid.Dy_2[U] + grid.Dx_2[V])"
   ]
  },
  {
   "cell_type": "code",
   "execution_count": 596,
   "metadata": {
    "collapsed": true
   },
   "outputs": [],
   "source": [
    "grid.assign_bc(V,1,0,solve(Tyy_expr, V[t,x,y-hf])[0].subs(y,y+hf))\n",
    "grid.assign_bc(U,1,0,solve(Eq(Txy_expr.subs(y,y-hf),Txy_expr.subs(y,y+hf)), U[t,x,y-1])[0].subs(y,y+1))"
   ]
  },
  {
   "cell_type": "code",
   "execution_count": 597,
   "metadata": {
    "collapsed": true
   },
   "outputs": [],
   "source": [
    "grid.assign_bc(V,1,1,solve(Tyy_expr, V[t,x,y+hf])[0].subs(y,y-hf))\n",
    "grid.assign_bc(U,1,1,solve(Eq(Txy_expr.subs(y,y-hf),Txy_expr.subs(y,y+hf)), U[t,x,y+1])[0].subs(y,y-1))"
   ]
  },
  {
   "cell_type": "code",
   "execution_count": 598,
   "metadata": {
    "collapsed": true
   },
   "outputs": [],
   "source": [
    "grid.assign_bc(U,0,0,solve(Txx_expr, U[t,x-hf,y])[0].subs(x,x+hf))\n",
    "grid.assign_bc(V,0,0,solve(Eq(Txy_expr.subs(x,x-hf),Txy_expr.subs(x,x+hf)), V[t,x-1,y])[0].subs(x,x+1))"
   ]
  },
  {
   "cell_type": "code",
   "execution_count": 599,
   "metadata": {
    "collapsed": false
   },
   "outputs": [],
   "source": [
    "grid.assign_bc(U,0,1,solve(Txx_expr, U[t,x+hf,y])[0].subs(x,x-hf))\n",
    "grid.assign_bc(V,0,1,solve(Eq(Txy_expr.subs(x,x-hf),Txy_expr.subs(x,x+hf)), V[t,x+1,y])[0].subs(x,x-1))"
   ]
  },
  {
   "cell_type": "markdown",
   "metadata": {},
   "source": [
    "###output using templates"
   ]
  },
  {
   "cell_type": "code",
   "execution_count": 600,
   "metadata": {
    "collapsed": false
   },
   "outputs": [],
   "source": [
    "# write to template file\n",
    "mylookup = TemplateLookup(directories=['templates/staggered','templates/'])\n",
    "mytemplate = mylookup.get_template('staggered2d_tmpl.cpp')\n",
    "buf = StringIO()\n",
    "dict1 = {'time_period':2,'initialise':grid.initialise(),'stress_loop':grid.stress_loop(),'velocity_loop':grid.velocity_loop(),'stress_bc':grid.stress_bc(),'velocity_bc':grid.velocity_bc()}\n",
    "ctx = Context(buf, **dict1)\n",
    "mytemplate.render_context(ctx)\n",
    "code = buf.getvalue()"
   ]
  },
  {
   "cell_type": "code",
   "execution_count": 601,
   "metadata": {
    "collapsed": false
   },
   "outputs": [],
   "source": [
    "# generate compilable C++ source code\n",
    "f= open('test.cpp','w')\n",
    "f.write(code)\n",
    "f.close()"
   ]
  },
  {
   "cell_type": "code",
   "execution_count": 602,
   "metadata": {
    "collapsed": false
   },
   "outputs": [
    {
     "data": {
      "text/plain": [
       "u'    // update ghost cells for boundary conditions\\n    #pragma omp for\\n    for(int y=0;y<dimx;y++){\\n      U[t1][1][y]=(lambda*U[t1][2][y] + lambda*V[t1][2][y] - lambda*V[t1][2][y - 1] + 2*mu*U[t1][2][y])/(lambda + 2*mu);\\n      V[t1][1][y]=U[t1][1][y] - U[t1][1][y - 1] - U[t1][2][y] + U[t1][2][y - 1] + 2*V[t1][2][y] - V[t1][3][y];\\n    }\\n    // update ghost cells for boundary conditions\\n    #pragma omp for\\n    for(int y=0;y<dimx;y++){\\n      test\\n      test\\n    }\\n'"
      ]
     },
     "execution_count": 602,
     "metadata": {},
     "output_type": "execute_result"
    }
   ],
   "source": [
    "grid.velocity_bc()"
   ]
  },
  {
   "cell_type": "code",
   "execution_count": 604,
   "metadata": {
    "collapsed": false
   },
   "outputs": [
    {
     "data": {
      "image/png": "[encoded data removed]",
      "text/latex": [
       "$$- U_{t,\\frac{3}{2},y - \\frac{1}{2}} + U_{t,\\frac{3}{2},y + \\frac{1}{2}} + U_{t,\\frac{5}{2},y - \\frac{1}{2}} - U_{t,\\frac{5}{2},y + \\frac{1}{2}} + 2 V_{t,2,y} - V_{t,3,y}$$"
      ],
      "text/plain": [
       "-U[t, 3/2, y - 1/2] + U[t, 3/2, y + 1/2] + U[t, 5/2, y - 1/2] - U[t, 5/2, y + \n",
       "1/2] + 2⋅V[t, 2, y] - V[t, 3, y]"
      ]
     },
     "execution_count": 604,
     "metadata": {},
     "output_type": "execute_result"
    }
   ],
   "source": [
    "grid.bc[0][0][V].subs(x,1)"
   ]
  },
  {
   "cell_type": "code",
   "execution_count": null,
   "metadata": {
    "collapsed": true
   },
   "outputs": [],
   "source": []
  }
 ],
 "metadata": {
  "kernelspec": {
   "display_name": "Python 2",
   "language": "python",
   "name": "python2"
  },
  "language_info": {
   "codemirror_mode": {
    "name": "ipython",
    "version": 2
   },
   "file_extension": ".py",
   "mimetype": "text/x-python",
   "name": "python",
   "nbconvert_exporter": "python",
   "pygments_lexer": "ipython2",
   "version": "2.7.10"
  }
 },
 "nbformat": 4,
 "nbformat_minor": 0
}
