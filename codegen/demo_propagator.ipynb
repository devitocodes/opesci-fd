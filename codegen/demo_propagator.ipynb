{
 "cells": [
  {
   "cell_type": "code",
   "execution_count": 1,
   "metadata": {
    "collapsed": false
   },
   "outputs": [],
   "source": [
    "%load_ext autoreload\n",
    "%autoreload 2\n",
    "from sympy import symbols, init_printing, simplify, solve, factor, srepr, Add, Symbol, Integer\n",
    "from mako.template import Template\n",
    "from mako.lookup import TemplateLookup\n",
    "from mako.runtime import Context\n",
    "from StringIO import StringIO\n",
    "from fdlib import *\n",
    "init_printing()"
   ]
  },
  {
   "cell_type": "code",
   "execution_count": 2,
   "metadata": {
    "collapsed": true
   },
   "outputs": [],
   "source": [
    "U,V,W,Txx,Tyy,Tzz,Txy,Tyz,Txz = IndexedBases('U V W Txx Tyy Tzz Txy Tyz Txz')\n",
    "b, lam, mu = IndexedBases('beta lambda mu')\n",
    "x,y,z,t,h,dt = symbols('x y z t h dt')"
   ]
  },
  {
   "cell_type": "code",
   "execution_count": 3,
   "metadata": {
    "collapsed": true
   },
   "outputs": [],
   "source": [
    "accuracy_time = 1 # O(dt^2) accuracy in time domain\n",
    "accuracy_space = 2 # O(h^4) accuracy in space domain"
   ]
  },
  {
   "cell_type": "code",
   "execution_count": 12,
   "metadata": {
    "collapsed": true
   },
   "outputs": [],
   "source": [
    "l = [x,y,z,t]\n",
    "\n",
    "# first-order time derivatives in velocities and stresses\n",
    "# O(dt^2) accuracy\n",
    "DtU = Deriv_half(U,l,3,dt,accuracy_time)[1]\n",
    "DtV = Deriv_half(V,l,3,dt,accuracy_time)[1]\n",
    "DtW = Deriv_half(W,l,3,dt,accuracy_time)[1]\n",
    "\n",
    "DtTxx = Deriv_half(Txx,l,3,dt,accuracy_time)[1]\n",
    "DtTxy = Deriv_half(Txy,l,3,dt,accuracy_time)[1]\n",
    "DtTxz = Deriv_half(Txz,l,3,dt,accuracy_time)[1]\n",
    "DtTyy = Deriv_half(Tyy,l,3,dt,accuracy_time)[1]\n",
    "DtTyz = Deriv_half(Tyz,l,3,dt,accuracy_time)[1]\n",
    "DtTzz = Deriv_half(Tzz,l,3,dt,accuracy_time)[1]\n",
    "\n",
    "# first-order spacial derivatives of velocities and stresses\n",
    "# O(h^4) accuracy\n",
    "\n",
    "DxU = Deriv_half(U,l,0,h,accuracy_space,shift_forward=False)[1]\n",
    "DyV = Deriv_half(V,l,1,h,accuracy_space,shift_forward=False)[1]\n",
    "DzW = Deriv_half(W,l,2,h,accuracy_space,shift_forward=False)[1]\n",
    "\n",
    "DyU = Deriv_half(U,l,1,h,accuracy_space)[1]\n",
    "DzU = Deriv_half(U,l,2,h,accuracy_space)[1]\n",
    "DxV = Deriv_half(V,l,0,h,accuracy_space)[1]\n",
    "DzV = Deriv_half(V,l,2,h,accuracy_space)[1]\n",
    "DxW = Deriv_half(W,l,0,h,accuracy_space)[1]\n",
    "DyW = Deriv_half(W,l,1,h,accuracy_space)[1]\n",
    "\n",
    "DxTxx = Deriv_half(Txx,l,0,h,accuracy_space)[1]\n",
    "DyTyy = Deriv_half(Tyy,l,1,h,accuracy_space)[1]\n",
    "DzTzz = Deriv_half(Tzz,l,2,h,accuracy_space)[1]\n",
    "\n",
    "DxTxy = Deriv_half(Txy,l,0,h,accuracy_space,shift_forward=False)[1]\n",
    "DyTxy = Deriv_half(Txy,l,1,h,accuracy_space,shift_forward=False)[1]\n",
    "DyTyz = Deriv_half(Tyz,l,1,h,accuracy_space,shift_forward=False)[1]\n",
    "DzTyz = Deriv_half(Tyz,l,2,h,accuracy_space,shift_forward=False)[1]\n",
    "DxTxz = Deriv_half(Txz,l,0,h,accuracy_space,shift_forward=False)[1]\n",
    "DzTxz = Deriv_half(Txz,l,2,h,accuracy_space,shift_forward=False)[1]"
   ]
  },
  {
   "cell_type": "code",
   "execution_count": 13,
   "metadata": {
    "collapsed": false
   },
   "outputs": [
    {
     "data": {
      "image/png": "[encoded data removed]",
      "text/latex": [
       "$$\\frac{9 Txz_{x,y,z,t}}{8 h} + \\frac{Txz_{x - 2,y,z,t}}{24 h} - \\frac{9 Txz_{x - 1,y,z,t}}{8 h} - \\frac{Txz_{x + 1,y,z,t}}{24 h}$$"
      ],
      "text/plain": [
       "9⋅Txz[x, y, z, t]   Txz[x - 2, y, z, t]   9⋅Txz[x - 1, y, z, t]   Txz[x + 1, y\n",
       "───────────────── + ─────────────────── - ───────────────────── - ────────────\n",
       "       8⋅h                  24⋅h                   8⋅h                    24⋅h\n",
       "\n",
       ", z, t]\n",
       "───────\n",
       "       "
      ]
     },
     "execution_count": 13,
     "metadata": {},
     "output_type": "execute_result"
    }
   ],
   "source": [
    "DxTxz"
   ]
  },
  {
   "cell_type": "code",
   "execution_count": 14,
   "metadata": {
    "collapsed": false
   },
   "outputs": [
    {
     "data": {
      "image/png": "[encoded data removed]",
      "text/latex": [
       "$$- \\frac{Txx_{x,y,z,t}}{dt} + \\frac{1}{dt} Txx_{x,y,z,t + 1}$$"
      ],
      "text/plain": [
       "  Txx[x, y, z, t]   Txx[x, y, z, t + 1]\n",
       "- ─────────────── + ───────────────────\n",
       "         dt                  dt        "
      ]
     },
     "execution_count": 14,
     "metadata": {},
     "output_type": "execute_result"
    }
   ],
   "source": [
    "DtTxx"
   ]
  },
  {
   "cell_type": "code",
   "execution_count": 15,
   "metadata": {
    "collapsed": false
   },
   "outputs": [],
   "source": [
    "t_2, t_1, t0, t1 = symbols('t_2 t_1 t0 t1')\n",
    "replace_t = {t-2:t_2, t-1:t_1, t+1:t1}"
   ]
  },
  {
   "cell_type": "code",
   "execution_count": 16,
   "metadata": {
    "collapsed": false
   },
   "outputs": [],
   "source": [
    "# momentum equations\n",
    "# replace t index with symbols (static for loop implementation)\n",
    "eq1 = Eq(DtU, b[x,y,z]*(DxTxx + DyTxy + DzTxz)).xreplace(replace_t)\n",
    "eq2 = Eq(DtV, b[x,y,z]*(DxTxy + DyTyy + DzTyz)).xreplace(replace_t)\n",
    "eq3 = Eq(DtW, b[x,y,z]*(DxTxz + DyTyz + DzTzz)).xreplace(replace_t)\n",
    "\n",
    "# stress-strain equations\n",
    "eq4 = Eq(DtTxx, (lam[x,y,z] + 2*mu[x,y,z])*DxU + lam[x,y,z]*(DyV+DzW)).xreplace(replace_t)\n",
    "eq5 = Eq(DtTyy, (lam[x,y,z] + 2*mu[x,y,z])*DyV + lam[x,y,z]*(DxU+DzW)).xreplace(replace_t)\n",
    "eq6 = Eq(DtTzz, (lam[x,y,z] + 2*mu[x,y,z])*DzW + lam[x,y,z]*(DxU+DyV)).xreplace(replace_t)\n",
    "eq7 = Eq(DtTxy, mu[x,y,z]*(DyU+DxV)).xreplace(replace_t)\n",
    "eq8 = Eq(DtTxz, mu[x,y,z]*(DzU+DxW)).xreplace(replace_t)\n",
    "eq9 = Eq(DtTyz, mu[x,y,z]*(DzV+DyW)).xreplace(replace_t)"
   ]
  },
  {
   "cell_type": "code",
   "execution_count": 17,
   "metadata": {
    "collapsed": true
   },
   "outputs": [],
   "source": [
    "eq1 = Eq(eq1.lhs, eq1.rhs.xreplace({t:t1}))\n",
    "eq2 = Eq(eq2.lhs, eq2.rhs.xreplace({t:t1}))\n",
    "eq3 = Eq(eq3.lhs, eq3.rhs.xreplace({t:t1}))"
   ]
  },
  {
   "cell_type": "code",
   "execution_count": 18,
   "metadata": {
    "collapsed": false
   },
   "outputs": [
    {
     "data": {
      "image/png": "[encoded data removed]",
      "text/latex": [
       "$$\\frac{dt \\beta_{x,y,z}}{24 h} \\left(- 27 Txx_{x,y,z,t_{1}} + Txx_{x - 1,y,z,t_{1}} + 27 Txx_{x + 1,y,z,t_{1}} - Txx_{x + 2,y,z,t_{1}} + 27 Txy_{x,y,z,t_{1}} + Txy_{x,y - 2,z,t_{1}} - 27 Txy_{x,y - 1,z,t_{1}} - Txy_{x,y + 1,z,t_{1}} + 27 Txz_{x,y,z,t_{1}} + Txz_{x,y,z - 2,t_{1}} - 27 Txz_{x,y,z - 1,t_{1}} - Txz_{x,y,z + 1,t_{1}}\\right) + U_{x,y,z,t}$$"
      ],
      "text/plain": [
       "dt⋅(-27⋅Txx[x, y, z, t1] + Txx[x - 1, y, z, t1] + 27⋅Txx[x + 1, y, z, t1] - Tx\n",
       "──────────────────────────────────────────────────────────────────────────────\n",
       "                                                                              \n",
       "\n",
       "x[x + 2, y, z, t1] + 27⋅Txy[x, y, z, t1] + Txy[x, y - 2, z, t1] - 27⋅Txy[x, y \n",
       "──────────────────────────────────────────────────────────────────────────────\n",
       "                                                                      24⋅h    \n",
       "\n",
       "- 1, z, t1] - Txy[x, y + 1, z, t1] + 27⋅Txz[x, y, z, t1] + Txz[x, y, z - 2, t1\n",
       "──────────────────────────────────────────────────────────────────────────────\n",
       "                                                                              \n",
       "\n",
       "] - 27⋅Txz[x, y, z - 1, t1] - Txz[x, y, z + 1, t1])⋅beta[x, y, z]             \n",
       "───────────────────────────────────────────────────────────────── + U[x, y, z,\n",
       "                                                                              \n",
       "\n",
       "   \n",
       " t]\n",
       "   "
      ]
     },
     "execution_count": 18,
     "metadata": {},
     "output_type": "execute_result"
    }
   ],
   "source": [
    "simplify(solve(eq1,U[x,y,z,t1])[0]-U[x,y,z,t])+U[x,y,z,t]"
   ]
  },
  {
   "cell_type": "code",
   "execution_count": 19,
   "metadata": {
    "collapsed": false
   },
   "outputs": [
    {
     "data": {
      "image/png": "[encoded data removed]",
      "text/latex": [
       "$$\\frac{dt}{24 h} \\left(27 \\lambda_{x,y,z} U_{x,y,z,t} + \\lambda_{x,y,z} U_{x - 2,y,z,t} - 27 \\lambda_{x,y,z} U_{x - 1,y,z,t} - \\lambda_{x,y,z} U_{x + 1,y,z,t} + 27 \\lambda_{x,y,z} V_{x,y,z,t} + \\lambda_{x,y,z} V_{x,y - 2,z,t} - 27 \\lambda_{x,y,z} V_{x,y - 1,z,t} - \\lambda_{x,y,z} V_{x,y + 1,z,t} + 27 \\lambda_{x,y,z} W_{x,y,z,t} + \\lambda_{x,y,z} W_{x,y,z - 2,t} - 27 \\lambda_{x,y,z} W_{x,y,z - 1,t} - \\lambda_{x,y,z} W_{x,y,z + 1,t} + 54 \\mu_{x,y,z} U_{x,y,z,t} + 2 \\mu_{x,y,z} U_{x - 2,y,z,t} - 54 \\mu_{x,y,z} U_{x - 1,y,z,t} - 2 \\mu_{x,y,z} U_{x + 1,y,z,t}\\right) + Txx_{x,y,z}$$"
      ],
      "text/plain": [
       "dt⋅(27⋅lambda[x, y, z]⋅U[x, y, z, t] + lambda[x, y, z]⋅U[x - 2, y, z, t] - 27⋅\n",
       "──────────────────────────────────────────────────────────────────────────────\n",
       "                                                                              \n",
       "\n",
       "lambda[x, y, z]⋅U[x - 1, y, z, t] - lambda[x, y, z]⋅U[x + 1, y, z, t] + 27⋅lam\n",
       "──────────────────────────────────────────────────────────────────────────────\n",
       "                                                                              \n",
       "\n",
       "bda[x, y, z]⋅V[x, y, z, t] + lambda[x, y, z]⋅V[x, y - 2, z, t] - 27⋅lambda[x, \n",
       "──────────────────────────────────────────────────────────────────────────────\n",
       "                                                                              \n",
       "\n",
       "y, z]⋅V[x, y - 1, z, t] - lambda[x, y, z]⋅V[x, y + 1, z, t] + 27⋅lambda[x, y, \n",
       "──────────────────────────────────────────────────────────────────────────────\n",
       "                                                   24⋅h                       \n",
       "\n",
       "z]⋅W[x, y, z, t] + lambda[x, y, z]⋅W[x, y, z - 2, t] - 27⋅lambda[x, y, z]⋅W[x,\n",
       "──────────────────────────────────────────────────────────────────────────────\n",
       "                                                                              \n",
       "\n",
       " y, z - 1, t] - lambda[x, y, z]⋅W[x, y, z + 1, t] + 54⋅mu[x, y, z]⋅U[x, y, z, \n",
       "──────────────────────────────────────────────────────────────────────────────\n",
       "                                                                              \n",
       "\n",
       "t] + 2⋅mu[x, y, z]⋅U[x - 2, y, z, t] - 54⋅mu[x, y, z]⋅U[x - 1, y, z, t] - 2⋅mu\n",
       "──────────────────────────────────────────────────────────────────────────────\n",
       "                                                                              \n",
       "\n",
       "[x, y, z]⋅U[x + 1, y, z, t])               \n",
       "──────────────────────────── + Txx[x, y, z]\n",
       "                                           "
      ]
     },
     "execution_count": 19,
     "metadata": {},
     "output_type": "execute_result"
    }
   ],
   "source": [
    "simplify(solve(eq4,Txx[x,y,z,t1])[0]-Txx[x,y,z,t])+Txx[x,y,z]"
   ]
  },
  {
   "cell_type": "code",
   "execution_count": 21,
   "metadata": {
    "collapsed": false
   },
   "outputs": [
    {
     "data": {
      "image/png": "[encoded data removed]",
      "text/latex": [
       "$$\\frac{dt \\mu_{x,y,z}}{24 h} \\left(- 27 U_{x,y,z,t} + U_{x,y - 1,z,t} + 27 U_{x,y + 1,z,t} - U_{x,y + 2,z,t} - 27 V_{x,y,z,t} + V_{x - 1,y,z,t} + 27 V_{x + 1,y,z,t} - V_{x + 2,y,z,t}\\right) + Txy_{x,y,z}$$"
      ],
      "text/plain": [
       "dt⋅(-27⋅U[x, y, z, t] + U[x, y - 1, z, t] + 27⋅U[x, y + 1, z, t] - U[x, y + 2,\n",
       "──────────────────────────────────────────────────────────────────────────────\n",
       "                                                                              \n",
       "\n",
       " z, t] - 27⋅V[x, y, z, t] + V[x - 1, y, z, t] + 27⋅V[x + 1, y, z, t] - V[x + 2\n",
       "──────────────────────────────────────────────────────────────────────────────\n",
       "          24⋅h                                                                \n",
       "\n",
       ", y, z, t])⋅mu[x, y, z]               \n",
       "─────────────────────── + Txy[x, y, z]\n",
       "                                      "
      ]
     },
     "execution_count": 21,
     "metadata": {},
     "output_type": "execute_result"
    }
   ],
   "source": [
    "simplify(solve(eq7,Txy[x,y,z,t1])[0]-Txy[x,y,z,t])+Txy[x,y,z]"
   ]
  },
  {
   "cell_type": "code",
   "execution_count": 22,
   "metadata": {
    "collapsed": false
   },
   "outputs": [],
   "source": [
    "U_t = print_assignment(eq1, U[x,y,z,t1], U[x,y,z,t])\n",
    "V_t = print_assignment(eq2, V[x,y,z,t1], V[x,y,z,t])\n",
    "W_t = print_assignment(eq3, W[x,y,z,t1], W[x,y,z,t])\n",
    "Txx_t = print_assignment(eq4, Txx[x,y,z,t1], Txx[x,y,z,t])\n",
    "Tyy_t = print_assignment(eq5, Tyy[x,y,z,t1], Tyy[x,y,z,t])\n",
    "Tzz_t = print_assignment(eq6, Tzz[x,y,z,t1], Tzz[x,y,z,t])\n",
    "Txy_t = print_assignment(eq7, Txy[x,y,z,t1], Txy[x,y,z,t])\n",
    "Txz_t = print_assignment(eq8, Txz[x,y,z,t1], Txz[x,y,z,t])\n",
    "Tyz_t = print_assignment(eq9, Tyz[x,y,z,t1], Tyz[x,y,z,t])"
   ]
  },
  {
   "cell_type": "code",
   "execution_count": 23,
   "metadata": {
    "collapsed": false
   },
   "outputs": [
    {
     "data": {
      "text/plain": [
       "'Txx[x][y][z][t1]=(1.0F/24.0F)*dt*(27*lambda[x][y][z]*U[x][y][z][t] + lambda[x][y][z]*U[x - 2][y][z][t] - 27*lambda[x][y][z]*U[x - 1][y][z][t] - lambda[x][y][z]*U[x + 1][y][z][t] + 27*lambda[x][y][z]*V[x][y][z][t] + lambda[x][y][z]*V[x][y - 2][z][t] - 27*lambda[x][y][z]*V[x][y - 1][z][t] - lambda[x][y][z]*V[x][y + 1][z][t] + 27*lambda[x][y][z]*W[x][y][z][t] + lambda[x][y][z]*W[x][y][z - 2][t] - 27*lambda[x][y][z]*W[x][y][z - 1][t] - lambda[x][y][z]*W[x][y][z + 1][t] + 54*mu[x][y][z]*U[x][y][z][t] + 2*mu[x][y][z]*U[x - 2][y][z][t] - 54*mu[x][y][z]*U[x - 1][y][z][t] - 2*mu[x][y][z]*U[x + 1][y][z][t])/h + Txx[x][y][z][t]'"
      ]
     },
     "execution_count": 23,
     "metadata": {},
     "output_type": "execute_result"
    }
   ],
   "source": [
    "Txx_t"
   ]
  },
  {
   "cell_type": "code",
   "execution_count": 24,
   "metadata": {
    "collapsed": false
   },
   "outputs": [
    {
     "data": {
      "text/plain": [
       "'U[x][y][z][t1]=(1.0F/24.0F)*dt*(-27*Txx[x][y][z][t1] + Txx[x - 1][y][z][t1] + 27*Txx[x + 1][y][z][t1] - Txx[x + 2][y][z][t1] + 27*Txy[x][y][z][t1] + Txy[x][y - 2][z][t1] - 27*Txy[x][y - 1][z][t1] - Txy[x][y + 1][z][t1] + 27*Txz[x][y][z][t1] + Txz[x][y][z - 2][t1] - 27*Txz[x][y][z - 1][t1] - Txz[x][y][z + 1][t1])*beta[x][y][z]/h + U[x][y][z][t]'"
      ]
     },
     "execution_count": 24,
     "metadata": {},
     "output_type": "execute_result"
    }
   ],
   "source": [
    "U_t"
   ]
  },
  {
   "cell_type": "code",
   "execution_count": 25,
   "metadata": {
    "collapsed": false
   },
   "outputs": [],
   "source": [
    "mylookup = TemplateLookup(directories=['templates/'])\n",
    "mytemplate = mylookup.get_template('test_ref_iso_elastic_tmpl.cpp')\n",
    "buf = StringIO()\n",
    "dict1 = {'time_period':2,'Txx':Txx_t,'Tyy':Tyy_t,'Tzz':Tzz_t,'Txy':Txy_t,'Txz':Txz_t,'Tyz':Tyz_t,'U':U_t,'V':V_t,'W':W_t}\n",
    "ctx = Context(buf, **dict1)\n",
    "mytemplate.render_context(ctx)\n",
    "code = buf.getvalue()"
   ]
  },
  {
   "cell_type": "code",
   "execution_count": 26,
   "metadata": {
    "collapsed": false
   },
   "outputs": [],
   "source": [
    "f= open('../tests/src/mytest1.cpp','w')\n",
    "f.write(code)\n",
    "f.close()"
   ]
  },
  {
   "cell_type": "code",
   "execution_count": null,
   "metadata": {
    "collapsed": true
   },
   "outputs": [],
   "source": []
  }
 ],
 "metadata": {
  "kernelspec": {
   "display_name": "Python 2",
   "language": "python",
   "name": "python2"
  },
  "language_info": {
   "codemirror_mode": {
    "name": "ipython",
    "version": 2
   },
   "file_extension": ".py",
   "mimetype": "text/x-python",
   "name": "python",
   "nbconvert_exporter": "python",
   "pygments_lexer": "ipython2",
   "version": "2.7.10"
  }
 },
 "nbformat": 4,
 "nbformat_minor": 0
}
