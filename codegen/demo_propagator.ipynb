{
 "cells": [
  {
   "cell_type": "code",
   "execution_count": 38,
   "metadata": {
    "collapsed": false
   },
   "outputs": [
    {
     "name": "stdout",
     "output_type": "stream",
     "text": [
      "The autoreload extension is already loaded. To reload it, use:\n",
      "  %reload_ext autoreload\n"
     ]
    }
   ],
   "source": [
    "%load_ext autoreload\n",
    "%autoreload 2\n",
    "from sympy import symbols, init_printing, simplify, solve, factor\n",
    "from mako.template import Template\n",
    "from mako.lookup import TemplateLookup\n",
    "from mako.runtime import Context\n",
    "from StringIO import StringIO\n",
    "from fdlib import *\n",
    "init_printing()"
   ]
  },
  {
   "cell_type": "code",
   "execution_count": 2,
   "metadata": {
    "collapsed": true
   },
   "outputs": [],
   "source": [
    "U,V,W,Txx,Tyy,Tzz,Txy,Tyz,Txz = IndexedBases('U V W Txx Tyy Tzz Txy Tyz Txz')\n",
    "Buoyancy, Lambda, Miu = IndexedBases('Buoyancy Lambda Miu')\n",
    "x,y,z,t,h,dt = symbols('x y z t h dt')"
   ]
  },
  {
   "cell_type": "code",
   "execution_count": 5,
   "metadata": {
    "collapsed": true
   },
   "outputs": [],
   "source": [
    "accuracy_time = 1 # O(dt^2) accuracy in time domain\n",
    "accuracy_space = 2 # O(h^4) accuracy in space domain"
   ]
  },
  {
   "cell_type": "code",
   "execution_count": 6,
   "metadata": {
    "collapsed": true
   },
   "outputs": [],
   "source": [
    "l = [x,y,z,t]\n",
    "\n",
    "# first-order time derivatives in velocities and stresses\n",
    "# O(dt^2) accuracy\n",
    "DtU = Deriv_half(U,l,3,dt,accuracy_time)[1]\n",
    "DtV = Deriv_half(V,l,3,dt,accuracy_time)[1]\n",
    "DtW = Deriv_half(W,l,3,dt,accuracy_time)[1]\n",
    "\n",
    "DtTxx = Deriv_half(Txx,l,3,dt,accuracy_time)[1]\n",
    "DtTxy = Deriv_half(Txy,l,3,dt,accuracy_time)[1]\n",
    "DtTxz = Deriv_half(Txz,l,3,dt,accuracy_time)[1]\n",
    "DtTyy = Deriv_half(Tyy,l,3,dt,accuracy_time)[1]\n",
    "DtTyz = Deriv_half(Tyz,l,3,dt,accuracy_time)[1]\n",
    "DtTzz = Deriv_half(Tzz,l,3,dt,accuracy_time)[1]\n",
    "\n",
    "# first-order spacial derivatives of velocities and stresses\n",
    "# O(h^4) accuracy\n",
    "\n",
    "DxU = Deriv_half(U,l,0,h,accuracy_space)[1]\n",
    "DyU = Deriv_half(U,l,1,h,accuracy_space)[1]\n",
    "DzU = Deriv_half(U,l,2,h,accuracy_space)[1]\n",
    "\n",
    "DxV = Deriv_half(V,l,0,h,accuracy_space)[1]\n",
    "DyV = Deriv_half(V,l,1,h,accuracy_space)[1]\n",
    "DzV = Deriv_half(V,l,2,h,accuracy_space)[1]\n",
    "\n",
    "DxW = Deriv_half(W,l,0,h,accuracy_space)[1]\n",
    "DyW = Deriv_half(W,l,1,h,accuracy_space)[1]\n",
    "DzW = Deriv_half(W,l,2,h,accuracy_space)[1]\n",
    "\n",
    "DxTxx = Deriv_half(Txx,l,0,h,accuracy_space)[1]\n",
    "DyTyy = Deriv_half(Tyy,l,1,h,accuracy_space)[1]\n",
    "DzTzz = Deriv_half(Tzz,l,2,h,accuracy_space)[1]\n",
    "\n",
    "DxTxy = Deriv_half(Txy,l,0,h,accuracy_space)[1]\n",
    "DyTxy = Deriv_half(Txy,l,1,h,accuracy_space)[1]\n",
    "DyTyz = Deriv_half(Tyz,l,1,h,accuracy_space)[1]\n",
    "DzTyz = Deriv_half(Tyz,l,2,h,accuracy_space)[1]\n",
    "DxTxz = Deriv_half(Txz,l,0,h,accuracy_space)[1]\n",
    "DzTxz = Deriv_half(Txz,l,2,h,accuracy_space)[1]"
   ]
  },
  {
   "cell_type": "code",
   "execution_count": 10,
   "metadata": {
    "collapsed": false
   },
   "outputs": [
    {
     "data": {
      "image/png": "[encoded data removed]",
      "text/latex": [
       "$$- \\frac{9 Txx_{x,y,z,t}}{8 h} + \\frac{Txx_{x - 1,y,z,t}}{24 h} + \\frac{9 Txx_{x + 1,y,z,t}}{8 h} - \\frac{Txx_{x + 2,y,z,t}}{24 h}$$"
      ],
      "text/plain": [
       "  9⋅Txx[x, y, z, t]   Txx[x - 1, y, z, t]   9⋅Txx[x + 1, y, z, t]   Txx[x + 2,\n",
       "- ───────────────── + ─────────────────── + ───────────────────── - ──────────\n",
       "         8⋅h                  24⋅h                   8⋅h                    24\n",
       "\n",
       " y, z, t]\n",
       "─────────\n",
       "⋅h       "
      ]
     },
     "execution_count": 10,
     "metadata": {},
     "output_type": "execute_result"
    }
   ],
   "source": [
    "DxTxx"
   ]
  },
  {
   "cell_type": "code",
   "execution_count": 11,
   "metadata": {
    "collapsed": false
   },
   "outputs": [
    {
     "data": {
      "image/png": "[encoded data removed]",
      "text/latex": [
       "$$- \\frac{Txx_{x,y,z,t}}{dt} + \\frac{1}{dt} Txx_{x,y,z,t + 1}$$"
      ],
      "text/plain": [
       "  Txx[x, y, z, t]   Txx[x, y, z, t + 1]\n",
       "- ─────────────── + ───────────────────\n",
       "         dt                  dt        "
      ]
     },
     "execution_count": 11,
     "metadata": {},
     "output_type": "execute_result"
    }
   ],
   "source": [
    "DtTxx"
   ]
  },
  {
   "cell_type": "code",
   "execution_count": 20,
   "metadata": {
    "collapsed": false
   },
   "outputs": [],
   "source": [
    "# momentum equations\n",
    "eq1 = Eq(DtU, Buoyancy[x,y,z]*(DxTxx + DyTxy + DzTxz))\n",
    "eq2 = Eq(DtV, Buoyancy[x,y,z]*(DxTxy + DyTyy + DzTyz))\n",
    "eq3 = Eq(DtW, Buoyancy[x,y,z]*(DxTxz + DyTyz + DzTzz))"
   ]
  },
  {
   "cell_type": "code",
   "execution_count": 21,
   "metadata": {
    "collapsed": false
   },
   "outputs": [],
   "source": [
    "# stress-strain equations\n",
    "eq4 = Eq(DtTxx, (Lambda[x,y,z] + 2*Miu[x,y,z])*DxU + Lambda[x,y,z]*(DyV+DzW))\n",
    "eq5 = Eq(DtTyy, (Lambda[x,y,z] + 2*Miu[x,y,z])*DyV + Lambda[x,y,z]*(DxU+DzW))\n",
    "eq6 = Eq(DtTzz, (Lambda[x,y,z] + 2*Miu[x,y,z])*DzW + Lambda[x,y,z]*(DxU+DyV))\n",
    "eq7 = Eq(DtTxy, Miu[x,y,z]*(DyU+DxV))\n",
    "eq8 = Eq(DtTxz, Miu[x,y,z]*(DzU+DxW))\n",
    "eq9 = Eq(DtTyz, Miu[x,y,z]*(DzV+DyW))"
   ]
  },
  {
   "cell_type": "code",
   "execution_count": 36,
   "metadata": {
    "collapsed": false
   },
   "outputs": [
    {
     "data": {
      "image/png": "[encoded data removed]",
      "text/latex": [
       "$$\\frac{dt Buoyancy_{x,y,z}}{24 h} \\left(- 27 Txx_{x,y,z,t} + Txx_{x - 1,y,z,t} + 27 Txx_{x + 1,y,z,t} - Txx_{x + 2,y,z,t} - 27 Txy_{x,y,z,t} + Txy_{x,y - 1,z,t} + 27 Txy_{x,y + 1,z,t} - Txy_{x,y + 2,z,t} - 27 Txz_{x,y,z,t} + Txz_{x,y,z - 1,t} + 27 Txz_{x,y,z + 1,t} - Txz_{x,y,z + 2,t}\\right) + U_{x,y,z,t}$$"
      ],
      "text/plain": [
       "dt⋅(-27⋅Txx[x, y, z, t] + Txx[x - 1, y, z, t] + 27⋅Txx[x + 1, y, z, t] - Txx[x\n",
       "──────────────────────────────────────────────────────────────────────────────\n",
       "                                                                              \n",
       "\n",
       " + 2, y, z, t] - 27⋅Txy[x, y, z, t] + Txy[x, y - 1, z, t] + 27⋅Txy[x, y + 1, z\n",
       "──────────────────────────────────────────────────────────────────────────────\n",
       "                                                                  24⋅h        \n",
       "\n",
       ", t] - Txy[x, y + 2, z, t] - 27⋅Txz[x, y, z, t] + Txz[x, y, z - 1, t] + 27⋅Txz\n",
       "──────────────────────────────────────────────────────────────────────────────\n",
       "                                                                              \n",
       "\n",
       "[x, y, z + 1, t] - Txz[x, y, z + 2, t])⋅Buoyancy[x, y, z]                \n",
       "───────────────────────────────────────────────────────── + U[x, y, z, t]\n",
       "                                                                         "
      ]
     },
     "execution_count": 36,
     "metadata": {},
     "output_type": "execute_result"
    }
   ],
   "source": [
    "simplify(solve(eq1,U[x,y,z,t+1])[0]-U[x,y,z,t])+U[x,y,z,t]"
   ]
  },
  {
   "cell_type": "code",
   "execution_count": 42,
   "metadata": {
    "collapsed": false
   },
   "outputs": [],
   "source": [
    "U_t = print_assignment(eq1, U[x,y,z,t+1], U[x,y,z,t])\n",
    "V_t = print_assignment(eq2, V[x,y,z,t+1], V[x,y,z,t])\n",
    "W_t = print_assignment(eq3, W[x,y,z,t+1], W[x,y,z,t])\n",
    "Txx_t = print_assignment(eq4, Txx[x,y,z,t+1], Txx[x,y,z,t])\n",
    "Tyy_t = print_assignment(eq5, Tyy[x,y,z,t+1], Tyy[x,y,z,t])\n",
    "Tzz_t = print_assignment(eq6, Tzz[x,y,z,t+1], Tzz[x,y,z,t])\n",
    "Txy_t = print_assignment(eq7, Txy[x,y,z,t+1], Txy[x,y,z,t])\n",
    "Txz_t = print_assignment(eq8, Txz[x,y,z,t+1], Txz[x,y,z,t])\n",
    "Tyz_t = print_assignment(eq9, Tyz[x,y,z,t+1], Tyz[x,y,z,t])"
   ]
  },
  {
   "cell_type": "code",
   "execution_count": 43,
   "metadata": {
    "collapsed": false
   },
   "outputs": [
    {
     "data": {
      "text/plain": [
       "'Txx[x][y][z][t + 1]=(1.0L/24.0L)*dt*(-27*Lambda[x][y][z]*U[x][y][z][t] + Lambda[x][y][z]*U[x - 1][y][z][t] + 27*Lambda[x][y][z]*U[x + 1][y][z][t] - Lambda[x][y][z]*U[x + 2][y][z][t] - 27*Lambda[x][y][z]*V[x][y][z][t] + Lambda[x][y][z]*V[x][y - 1][z][t] + 27*Lambda[x][y][z]*V[x][y + 1][z][t] - Lambda[x][y][z]*V[x][y + 2][z][t] - 27*Lambda[x][y][z]*W[x][y][z][t] + Lambda[x][y][z]*W[x][y][z - 1][t] + 27*Lambda[x][y][z]*W[x][y][z + 1][t] - Lambda[x][y][z]*W[x][y][z + 2][t] - 54*Miu[x][y][z]*U[x][y][z][t] + 2*Miu[x][y][z]*U[x - 1][y][z][t] + 54*Miu[x][y][z]*U[x + 1][y][z][t] - 2*Miu[x][y][z]*U[x + 2][y][z][t])/h + Txx[x][y][z][t]'"
      ]
     },
     "execution_count": 43,
     "metadata": {},
     "output_type": "execute_result"
    }
   ],
   "source": [
    "Txx_t"
   ]
  }
 ],
 "metadata": {
  "kernelspec": {
   "display_name": "Python 2",
   "language": "python",
   "name": "python2"
  },
  "language_info": {
   "codemirror_mode": {
    "name": "ipython",
    "version": 2
   },
   "file_extension": ".py",
   "mimetype": "text/x-python",
   "name": "python",
   "nbconvert_exporter": "python",
   "pygments_lexer": "ipython2",
   "version": "2.7.10"
  }
 },
 "nbformat": 4,
 "nbformat_minor": 0
}
