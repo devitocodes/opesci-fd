{
 "cells": [
  {
   "cell_type": "code",
   "execution_count": 14,
   "metadata": {
    "collapsed": false
   },
   "outputs": [
    {
     "name": "stdout",
     "output_type": "stream",
     "text": [
      "The autoreload extension is already loaded. To reload it, use:\n",
      "  %reload_ext autoreload\n"
     ]
    }
   ],
   "source": [
    "%load_ext autoreload\n",
    "%autoreload 2\n",
    "from sympy import symbols, init_printing, simplify, solve, srepr, Add, Symbol, Integer, Float, pi, cos, sin, Rational\n",
    "from sympy import IndexedBase, Eq, simplify,sqrt\n",
    "from grid import *\n",
    "init_printing()"
   ]
  },
  {
   "cell_type": "code",
   "execution_count": 15,
   "metadata": {
    "collapsed": true
   },
   "outputs": [],
   "source": [
    "Txx = Field('Txx', (False,False,False))\n",
    "Tyy = Field('Tyy', (False,False,False))\n",
    "Tzz = Field('Tzz', (False,False,False))\n",
    "Txy = Field('Txy', (True,True,False))\n",
    "Tyz = Field('Tyz', (False,True,True))\n",
    "Txz = Field('Txz', (True,False,True))\n",
    "U = Field('U', (True,False,False))\n",
    "V = Field('V', (False,True,False))\n",
    "W = Field('W', (False,False,True))"
   ]
  },
  {
   "cell_type": "code",
   "execution_count": 16,
   "metadata": {
    "collapsed": false
   },
   "outputs": [],
   "source": [
    "grid = StaggeredGrid3D('h h h','dt','dimx dimy dimz')\n",
    "grid.set_stress_fields([Txx,Tyy,Tzz,Txy,Tyz,Txz])\n",
    "grid.set_velocity_fields([U,V,W])"
   ]
  },
  {
   "cell_type": "markdown",
   "metadata": {},
   "source": [
    "####Analytical solutions\n",
    "$U = cos(\\pi x)(sin(\\pi y)-sin(\\pi z))cos(\\Omega t)$<br>\n",
    "$V = cos(\\pi y)(sin(\\pi z)-sin(\\pi x))cos(\\Omega t)$<br>\n",
    "$W = cos(\\pi z)(sin(\\pi x)-sin(\\pi y))cos(\\Omega t)$<br>\n",
    "$T_{xx} = -Asin(\\pi x)(sin(\\pi y)-sin(\\pi z))sin(\\Omega t)$<br>\n",
    "$T_{yy} = -Asin(\\pi y)(sin(\\pi z)-sin(\\pi x))sin(\\Omega t)$<br>\n",
    "$T_{zz} = -Asin(\\pi z)(sin(\\pi x)-sin(\\pi y))sin(\\Omega t)$<br>\n",
    "$T_{xy} = T_{yz} = T_{xz} = 0$<br>\n",
    "where $A=\\sqrt{2\\rho \\mu} \\space \\space b=\\pi\\sqrt{\\frac{2\\mu}{\\rho}}$"
   ]
  },
  {
   "cell_type": "code",
   "execution_count": 17,
   "metadata": {
    "collapsed": false
   },
   "outputs": [],
   "source": [
    "rho, beta, lam, mu, h, dt= symbols('rho beta lam mu h dt')\n",
    "x,y,z,t = symbols('x y z t')\n",
    "Omega = pi*sqrt(2*mu/rho)\n",
    "A = sqrt(2*rho*mu)\n",
    "U_func = cos(pi*x)*(sin(pi*y)-sin(pi*z))*cos(Omega*t)\n",
    "V_func = cos(pi*y)*(sin(pi*z)-sin(pi*x))*cos(Omega*t)\n",
    "W_func = cos(pi*z)*(sin(pi*x)-sin(pi*y))*cos(Omega*t)\n",
    "Txx_func = -A*sin(pi*x)*(sin(pi*y)-sin(pi*z))*sin(Omega*t)\n",
    "Tyy_func = -A*sin(pi*y)*(sin(pi*z)-sin(pi*x))*sin(Omega*t)\n",
    "Tzz_func = -A*sin(pi*z)*(sin(pi*x)-sin(pi*y))*sin(Omega*t)\n",
    "Txy_func = Float(0)\n",
    "Tyz_func = Float(0)\n",
    "Txz_func = Float(0)"
   ]
  },
  {
   "cell_type": "code",
   "execution_count": 18,
   "metadata": {
    "collapsed": false
   },
   "outputs": [],
   "source": [
    "U.set_analytic_func(U_func)\n",
    "V.set_analytic_func(V_func)\n",
    "W.set_analytic_func(W_func)\n",
    "Txx.set_analytic_func(Txx_func)\n",
    "Tyy.set_analytic_func(Tyy_func)\n",
    "Tzz.set_analytic_func(Tzz_func)\n",
    "Txy.set_analytic_func(Txy_func)\n",
    "Tyz.set_analytic_func(Tyz_func)\n",
    "Txz.set_analytic_func(Txz_func)"
   ]
  },
  {
   "cell_type": "code",
   "execution_count": 19,
   "metadata": {
    "collapsed": false
   },
   "outputs": [],
   "source": [
    "grid.calc_derivatives()"
   ]
  },
  {
   "cell_type": "markdown",
   "metadata": {},
   "source": [
    "###PDEs\n",
    "#####momentum equations\n",
    "$\\partial_tU = b(\\partial_xT_{xx}+\\partial_yT_{xy}+\\partial_zT_{xz})$<br>\n",
    "$\\partial_tV = b(\\partial_xT_{xy}+\\partial_yT_{yy}+\\partial_zT_{yz})$<br>\n",
    "$\\partial_tW = b(\\partial_xT_{xz}+\\partial_yT_{yz}+\\partial_zT_{zz})$<br>\n",
    "#####stress-strain equations\n",
    "$\\partial_tT_{xx} = (\\lambda+2\\mu)\\partial_xU + \\lambda(\\partial_yV+\\partial_zW)$<br>\n",
    "$\\partial_tT_{yy} = (\\lambda+2\\mu)\\partial_yV + \\lambda(\\partial_xU+\\partial_zW)$<br>\n",
    "$\\partial_tT_{zz} = (\\lambda+2\\mu)\\partial_zW + \\lambda(\\partial_xU+\\partial_yV)$<br>\n",
    "$\\partial_tT_{xy} = \\mu(\\partial_yU + \\partial_xV)$<br>\n",
    "$\\partial_tT_{xz} = \\mu(\\partial_zU + \\partial_xW)$<br>\n",
    "$\\partial_tT_{yz} = \\mu(\\partial_zV + \\partial_yW)$<br>"
   ]
  },
  {
   "cell_type": "code",
   "execution_count": 20,
   "metadata": {
    "collapsed": false
   },
   "outputs": [],
   "source": [
    "# momentum equations\n",
    "eq1 = Eq(U.d[0][1], beta*(Txx.d[1][2] + Txy.d[2][2] + Txz.d[3][2]))\n",
    "eq2 = Eq(V.d[0][1], beta*(Txy.d[1][2] + Tyy.d[2][2] + Tyz.d[3][2]))\n",
    "eq3 = Eq(W.d[0][1], beta*(Txz.d[1][2] + Tyz.d[2][2] + Tzz.d[3][2]))\n",
    "# stress-strain equations\n",
    "eq4 = Eq(Txx.d[0][1], (lam + 2*mu)*U.d[1][2] + lam*(V.d[2][2]+W.d[3][2]))\n",
    "eq5 = Eq(Tyy.d[0][1], (lam + 2*mu)*V.d[2][2] + lam*(U.d[1][2]+W.d[3][2]))\n",
    "eq6 = Eq(Tzz.d[0][1], (lam + 2*mu)*W.d[3][2] + lam*(U.d[1][2]+V.d[2][2]))\n",
    "eq7 = Eq(Txy.d[0][1], mu*(U.d[2][2] + V.d[1][2]))\n",
    "eq8 = Eq(Tyz.d[0][1], mu*(V.d[3][2] + W.d[2][2]))\n",
    "eq9 = Eq(Txz.d[0][1], mu*(U.d[3][2] + W.d[1][2]))"
   ]
  },
  {
   "cell_type": "code",
   "execution_count": 22,
   "metadata": {
    "collapsed": false
   },
   "outputs": [],
   "source": [
    "grid.solve_fd([eq1,eq2,eq3,eq4,eq5,eq6,eq7,eq8,eq9])"
   ]
  },
  {
   "cell_type": "code",
   "execution_count": 26,
   "metadata": {
    "collapsed": false
   },
   "outputs": [
    {
     "data": {
      "image/png": "[encoded data removed]",
      "text/latex": [
       "$$\\frac{1}{24 h} \\left(dt \\mu U_{t + \\frac{1}{2},x,y,z - \\frac{3}{2}} - 27 dt \\mu U_{t + \\frac{1}{2},x,y,z - \\frac{1}{2}} + 27 dt \\mu U_{t + \\frac{1}{2},x,y,z + \\frac{1}{2}} - dt \\mu U_{t + \\frac{1}{2},x,y,z + \\frac{3}{2}} + dt \\mu W_{t + \\frac{1}{2},x - \\frac{3}{2},y,z} - 27 dt \\mu W_{t + \\frac{1}{2},x - \\frac{1}{2},y,z} + 27 dt \\mu W_{t + \\frac{1}{2},x + \\frac{1}{2},y,z} - dt \\mu W_{t + \\frac{1}{2},x + \\frac{3}{2},y,z} + 24 h Txz_{t,x,y,z}\\right)$$"
      ],
      "text/plain": [
       "dt⋅μ⋅U[t + 1/2, x, y, z - 3/2] - 27⋅dt⋅μ⋅U[t + 1/2, x, y, z - 1/2] + 27⋅dt⋅μ⋅U\n",
       "──────────────────────────────────────────────────────────────────────────────\n",
       "                                                                              \n",
       "\n",
       "[t + 1/2, x, y, z + 1/2] - dt⋅μ⋅U[t + 1/2, x, y, z + 3/2] + dt⋅μ⋅W[t + 1/2, x \n",
       "──────────────────────────────────────────────────────────────────────────────\n",
       "                                                                    24⋅h      \n",
       "\n",
       "- 3/2, y, z] - 27⋅dt⋅μ⋅W[t + 1/2, x - 1/2, y, z] + 27⋅dt⋅μ⋅W[t + 1/2, x + 1/2,\n",
       "──────────────────────────────────────────────────────────────────────────────\n",
       "                                                                              \n",
       "\n",
       " y, z] - dt⋅μ⋅W[t + 1/2, x + 3/2, y, z] + 24⋅h⋅Txz[t, x, y, z]\n",
       "──────────────────────────────────────────────────────────────\n",
       "                                                              "
      ]
     },
     "execution_count": 26,
     "metadata": {},
     "output_type": "execute_result"
    }
   ],
   "source": [
    "Txz.fd"
   ]
  },
  {
   "cell_type": "code",
   "execution_count": 9,
   "metadata": {
    "collapsed": false
   },
   "outputs": [
    {
     "data": {
      "text/plain": [
       "[[None,\n",
       "  -Txx[t - 1/2, x, y, z]/dt + Txx[t + 1/2, x, y, z]/dt,\n",
       "  Txx[t - 3/2, x, y, z]/(24*dt) - 9*Txx[t - 1/2, x, y, z]/(8*dt) + 9*Txx[t + 1/2, x, y, z]/(8*dt) - Txx[t + 3/2, x, y, z]/(24*dt),\n",
       "  None],\n",
       " [None,\n",
       "  -Txx[t, x - 1/2, y, z]/h + Txx[t, x + 1/2, y, z]/h,\n",
       "  Txx[t, x - 3/2, y, z]/(24*h) - 9*Txx[t, x - 1/2, y, z]/(8*h) + 9*Txx[t, x + 1/2, y, z]/(8*h) - Txx[t, x + 3/2, y, z]/(24*h),\n",
       "  None],\n",
       " [None,\n",
       "  -Txx[t, x, y - 1/2, z]/h + Txx[t, x, y + 1/2, z]/h,\n",
       "  Txx[t, x, y - 3/2, z]/(24*h) - 9*Txx[t, x, y - 1/2, z]/(8*h) + 9*Txx[t, x, y + 1/2, z]/(8*h) - Txx[t, x, y + 3/2, z]/(24*h),\n",
       "  None],\n",
       " [None,\n",
       "  -Txx[t, x, y, z - 1/2]/h + Txx[t, x, y, z + 1/2]/h,\n",
       "  Txx[t, x, y, z - 3/2]/(24*h) - 9*Txx[t, x, y, z - 1/2]/(8*h) + 9*Txx[t, x, y, z + 1/2]/(8*h) - Txx[t, x, y, z + 3/2]/(24*h),\n",
       "  None]]"
      ]
     },
     "execution_count": 9,
     "metadata": {},
     "output_type": "execute_result"
    }
   ],
   "source": [
    "Txx.d"
   ]
  },
  {
   "cell_type": "code",
   "execution_count": null,
   "metadata": {
    "collapsed": true
   },
   "outputs": [],
   "source": []
  }
 ],
 "metadata": {
  "kernelspec": {
   "display_name": "Python 2",
   "language": "python",
   "name": "python2"
  },
  "language_info": {
   "codemirror_mode": {
    "name": "ipython",
    "version": 2
   },
   "file_extension": ".py",
   "mimetype": "text/x-python",
   "name": "python",
   "nbconvert_exporter": "python",
   "pygments_lexer": "ipython2",
   "version": "2.7.10"
  }
 },
 "nbformat": 4,
 "nbformat_minor": 0
}
