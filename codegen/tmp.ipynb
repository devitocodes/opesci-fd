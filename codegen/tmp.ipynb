{
 "cells": [
  {
   "cell_type": "code",
   "execution_count": 105,
   "metadata": {
    "collapsed": false
   },
   "outputs": [
    {
     "name": "stdout",
     "output_type": "stream",
     "text": [
      "The autoreload extension is already loaded. To reload it, use:\n",
      "  %reload_ext autoreload\n"
     ]
    }
   ],
   "source": [
    "from sympy import symbols, init_printing, simplify, solve, Eq, IndexedBase, Idx, Rational\n",
    "init_printing()\n",
    "%load_ext autoreload\n",
    "%autoreload 2"
   ]
  },
  {
   "cell_type": "code",
   "execution_count": 8,
   "metadata": {
    "collapsed": true
   },
   "outputs": [],
   "source": [
    "a,b,c = symbols('a b c')"
   ]
  },
  {
   "cell_type": "code",
   "execution_count": 11,
   "metadata": {
    "collapsed": false
   },
   "outputs": [
    {
     "data": {
      "image/png": "[encoded data removed]",
      "text/latex": [
       "$$a = b + c$$"
      ],
      "text/plain": [
       "a = b + c"
      ]
     },
     "execution_count": 11,
     "metadata": {},
     "output_type": "execute_result"
    }
   ],
   "source": [
    "eq1 = Eq(a,b+c) ;eq1"
   ]
  },
  {
   "cell_type": "code",
   "execution_count": 12,
   "metadata": {
    "collapsed": false
   },
   "outputs": [
    {
     "data": {
      "image/png": "[encoded data removed]",
      "text/latex": [
       "$$c = b + 1$$"
      ],
      "text/plain": [
       "c = b + 1"
      ]
     },
     "execution_count": 12,
     "metadata": {},
     "output_type": "execute_result"
    }
   ],
   "source": [
    "eq2 = Eq(c,b+1) ;eq2"
   ]
  },
  {
   "cell_type": "code",
   "execution_count": 26,
   "metadata": {
    "collapsed": false
   },
   "outputs": [
    {
     "data": {
      "image/png": "[encoded data removed]",
      "text/latex": [
       "$$\\left \\{ a : 2 c - 1, \\quad b : c - 1\\right \\}$$"
      ],
      "text/plain": [
       "{a: 2⋅c - 1, b: c - 1}"
      ]
     },
     "execution_count": 26,
     "metadata": {},
     "output_type": "execute_result"
    }
   ],
   "source": [
    "solve([eq1,eq2])"
   ]
  },
  {
   "cell_type": "code",
   "execution_count": 24,
   "metadata": {
    "collapsed": false
   },
   "outputs": [
    {
     "data": {
      "image/png": "[encoded data removed]",
      "text/latex": [
       "$$\\left \\{ a : b + c\\right \\}$$"
      ],
      "text/plain": [
       "{a: b + c}"
      ]
     },
     "execution_count": 24,
     "metadata": {},
     "output_type": "execute_result"
    }
   ],
   "source": [
    "l"
   ]
  },
  {
   "cell_type": "code",
   "execution_count": 102,
   "metadata": {
    "collapsed": false
   },
   "outputs": [],
   "source": [
    "x,y,z,dt,h=symbols('x y z dt h')\n",
    "eq1 = Eq(x+5*y-2,0)\n",
    "eq2 = Eq(-3*x+6*y-z,0)"
   ]
  },
  {
   "cell_type": "code",
   "execution_count": 40,
   "metadata": {
    "collapsed": false
   },
   "outputs": [
    {
     "data": {
      "image/png": "[encoded data removed]",
      "text/latex": [
       "$$\\left \\{ z : - 3 x + 6 y\\right \\}$$"
      ],
      "text/plain": [
       "{z: -3⋅x + 6⋅y}"
      ]
     },
     "execution_count": 40,
     "metadata": {},
     "output_type": "execute_result"
    }
   ],
   "source": [
    "solve([eq1,eq2], z)"
   ]
  },
  {
   "cell_type": "code",
   "execution_count": 101,
   "metadata": {
    "collapsed": false
   },
   "outputs": [],
   "source": [
    "U = IndexedBase('U')"
   ]
  },
  {
   "cell_type": "code",
   "execution_count": 74,
   "metadata": {
    "collapsed": false
   },
   "outputs": [],
   "source": [
    "eq1 = Eq(U[x,y]+5*U[x,y-1]-2,0)\n",
    "eq2 = Eq(-4*U[x,y-1]+5*U[x-1,y],0)"
   ]
  },
  {
   "cell_type": "code",
   "execution_count": 75,
   "metadata": {
    "collapsed": false
   },
   "outputs": [
    {
     "data": {
      "image/png": "[encoded data removed]",
      "text/latex": [
       "$$\\left [ - 5 U_{x,y - 1} + 2\\right ]$$"
      ],
      "text/plain": [
       "[-5⋅U[x, y - 1] + 2]"
      ]
     },
     "execution_count": 75,
     "metadata": {},
     "output_type": "execute_result"
    }
   ],
   "source": [
    "solve(eq1,U[x,y]) "
   ]
  },
  {
   "cell_type": "code",
   "execution_count": 115,
   "metadata": {
    "collapsed": false
   },
   "outputs": [],
   "source": [
    "from fdlib import *"
   ]
  },
  {
   "cell_type": "code",
   "execution_count": 110,
   "metadata": {
    "collapsed": false
   },
   "outputs": [
    {
     "data": {
      "image/png": "[encoded data removed]",
      "text/latex": [
       "$$\\left[\\begin{matrix}1 & - x & \\frac{x^{2}}{2}\\\\1 & 0 & 0\\\\1 & x & \\frac{x^{2}}{2}\\end{matrix}\\right]$$"
      ],
      "text/plain": [
       "⎡        2⎤\n",
       "⎢       x ⎥\n",
       "⎢1  -x  ──⎥\n",
       "⎢       2 ⎥\n",
       "⎢         ⎥\n",
       "⎢1  0   0 ⎥\n",
       "⎢         ⎥\n",
       "⎢        2⎥\n",
       "⎢       x ⎥\n",
       "⎢1  x   ──⎥\n",
       "⎣       2 ⎦"
      ]
     },
     "execution_count": 110,
     "metadata": {},
     "output_type": "execute_result"
    }
   ],
   "source": [
    "Taylor(x,2)"
   ]
  },
  {
   "cell_type": "code",
   "execution_count": 111,
   "metadata": {
    "collapsed": false
   },
   "outputs": [],
   "source": [
    "n = 2"
   ]
  },
  {
   "cell_type": "code",
   "execution_count": 112,
   "metadata": {
    "collapsed": false
   },
   "outputs": [
    {
     "data": {
      "image/png": "[encoded data removed]",
      "text/latex": [
       "$$\\left[\\begin{matrix}1 & - \\frac{3 x}{2} & \\frac{9 x^{2}}{8} & - \\frac{9 x^{3}}{16}\\\\1 & - \\frac{x}{2} & \\frac{x^{2}}{8} & - \\frac{x^{3}}{48}\\\\1 & \\frac{x}{2} & \\frac{x^{2}}{8} & \\frac{x^{3}}{48}\\\\1 & \\frac{3 x}{2} & \\frac{9 x^{2}}{8} & \\frac{9 x^{3}}{16}\\end{matrix}\\right]$$"
      ],
      "text/plain": [
       "⎡             2      3 ⎤\n",
       "⎢   -3⋅x   9⋅x   -9⋅x  ⎥\n",
       "⎢1  ─────  ────  ──────⎥\n",
       "⎢     2     8      16  ⎥\n",
       "⎢                      ⎥\n",
       "⎢            2      3  ⎥\n",
       "⎢    -x     x     -x   ⎥\n",
       "⎢1   ───    ──    ──── ⎥\n",
       "⎢     2     8      48  ⎥\n",
       "⎢                      ⎥\n",
       "⎢            2      3  ⎥\n",
       "⎢     x     x      x   ⎥\n",
       "⎢1    ─     ──     ──  ⎥\n",
       "⎢     2     8      48  ⎥\n",
       "⎢                      ⎥\n",
       "⎢             2      3 ⎥\n",
       "⎢    3⋅x   9⋅x    9⋅x  ⎥\n",
       "⎢1   ───   ────   ──── ⎥\n",
       "⎣     2     8      16  ⎦"
      ]
     },
     "execution_count": 112,
     "metadata": {},
     "output_type": "execute_result"
    }
   ],
   "source": [
    "Taylor_half(x,2)"
   ]
  },
  {
   "cell_type": "code",
   "execution_count": 116,
   "metadata": {
    "collapsed": false
   },
   "outputs": [
    {
     "data": {
      "image/png": "[encoded data removed]",
      "text/latex": [
       "$$\\left[\\begin{matrix}- \\frac{1}{16} U_{x - \\frac{3}{2}} + \\frac{9}{16} U_{x - \\frac{1}{2}} + \\frac{9}{16} U_{x + \\frac{1}{2}} - \\frac{1}{16} U_{x + \\frac{3}{2}}\\\\\\frac{U_{x - \\frac{3}{2}}}{24 h} - \\frac{9 U_{x - \\frac{1}{2}}}{8 h} + \\frac{9 U_{x + \\frac{1}{2}}}{8 h} - \\frac{U_{x + \\frac{3}{2}}}{24 h}\\\\\\frac{U_{x - \\frac{3}{2}}}{2 h^{2}} - \\frac{U_{x - \\frac{1}{2}}}{2 h^{2}} - \\frac{U_{x + \\frac{1}{2}}}{2 h^{2}} + \\frac{U_{x + \\frac{3}{2}}}{2 h^{2}}\\\\- \\frac{1}{h^{3}} U_{x - \\frac{3}{2}} + \\frac{3}{h^{3}} U_{x - \\frac{1}{2}} - \\frac{3}{h^{3}} U_{x + \\frac{1}{2}} + \\frac{1}{h^{3}} U_{x + \\frac{3}{2}}\\end{matrix}\\right]$$"
      ],
      "text/plain": [
       "⎡  U[x - 3/2]   9⋅U[x - 1/2]   9⋅U[x + 1/2]   U[x + 3/2]⎤\n",
       "⎢- ────────── + ──────────── + ──────────── - ──────────⎥\n",
       "⎢      16            16             16            16    ⎥\n",
       "⎢                                                       ⎥\n",
       "⎢ U[x - 3/2]   9⋅U[x - 1/2]   9⋅U[x + 1/2]   U[x + 3/2] ⎥\n",
       "⎢ ────────── - ──────────── + ──────────── - ────────── ⎥\n",
       "⎢    24⋅h          8⋅h            8⋅h           24⋅h    ⎥\n",
       "⎢                                                       ⎥\n",
       "⎢   U[x - 3/2]   U[x - 1/2]   U[x + 1/2]   U[x + 3/2]   ⎥\n",
       "⎢   ────────── - ────────── - ────────── + ──────────   ⎥\n",
       "⎢         2            2            2            2      ⎥\n",
       "⎢      2⋅h          2⋅h          2⋅h          2⋅h       ⎥\n",
       "⎢                                                       ⎥\n",
       "⎢  U[x - 3/2]   3⋅U[x - 1/2]   3⋅U[x + 1/2]   U[x + 3/2]⎥\n",
       "⎢- ────────── + ──────────── - ──────────── + ──────────⎥\n",
       "⎢       3             3              3             3    ⎥\n",
       "⎣      h             h              h             h     ⎦"
      ]
     },
     "execution_count": 116,
     "metadata": {},
     "output_type": "execute_result"
    }
   ],
   "source": [
    "Deriv_half(U,[x],0,h,2)"
   ]
  },
  {
   "cell_type": "code",
   "execution_count": 108,
   "metadata": {
    "collapsed": false
   },
   "outputs": [
    {
     "data": {
      "image/png": "[encoded data removed]",
      "text/latex": [
       "$$U_{\\frac{3}{2}}$$"
      ],
      "text/plain": [
       "U[3/2]"
      ]
     },
     "execution_count": 108,
     "metadata": {},
     "output_type": "execute_result"
    }
   ],
   "source": [
    "U[Rational(1,2)*3]"
   ]
  },
  {
   "cell_type": "code",
   "execution_count": null,
   "metadata": {
    "collapsed": true
   },
   "outputs": [],
   "source": []
  }
 ],
 "metadata": {
  "kernelspec": {
   "display_name": "Python 2",
   "language": "python",
   "name": "python2"
  },
  "language_info": {
   "codemirror_mode": {
    "name": "ipython",
    "version": 2
   },
   "file_extension": ".py",
   "mimetype": "text/x-python",
   "name": "python",
   "nbconvert_exporter": "python",
   "pygments_lexer": "ipython2",
   "version": "2.7.10"
  }
 },
 "nbformat": 4,
 "nbformat_minor": 0
}
