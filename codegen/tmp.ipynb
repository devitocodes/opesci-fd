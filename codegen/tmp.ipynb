{
 "cells": [
  {
   "cell_type": "code",
   "execution_count": 1,
   "metadata": {
    "collapsed": false
   },
   "outputs": [],
   "source": [
    "%load_ext autoreload\n",
    "%autoreload 2\n",
    "from sympy import symbols, init_printing, simplify, solve, srepr, Add, Symbol, Integer, Float, pi, cos, sin, Rational\n",
    "from sympy import IndexedBase, Eq, simplify\n",
    "from grid import *\n",
    "init_printing()"
   ]
  },
  {
   "cell_type": "code",
   "execution_count": 2,
   "metadata": {
    "collapsed": false
   },
   "outputs": [],
   "source": [
    "x,y,z,dt,h=symbols('x y z dt h')\n",
    "U = IndexedBase('U')"
   ]
  },
  {
   "cell_type": "code",
   "execution_count": 53,
   "metadata": {
    "collapsed": false
   },
   "outputs": [],
   "source": [
    "from fdlib import *"
   ]
  },
  {
   "cell_type": "code",
   "execution_count": 5,
   "metadata": {
    "collapsed": false
   },
   "outputs": [
    {
     "data": {
      "image/png": "[encoded data removed]",
      "text/latex": [
       "$$\\left[\\begin{matrix}1 & - h & \\frac{h^{2}}{2}\\\\1 & 0 & 0\\\\1 & h & \\frac{h^{2}}{2}\\end{matrix}\\right]$$"
      ],
      "text/plain": [
       "⎡        2⎤\n",
       "⎢       h ⎥\n",
       "⎢1  -h  ──⎥\n",
       "⎢       2 ⎥\n",
       "⎢         ⎥\n",
       "⎢1  0   0 ⎥\n",
       "⎢         ⎥\n",
       "⎢        2⎥\n",
       "⎢       h ⎥\n",
       "⎢1  h   ──⎥\n",
       "⎣       2 ⎦"
      ]
     },
     "execution_count": 5,
     "metadata": {},
     "output_type": "execute_result"
    }
   ],
   "source": [
    "Taylor(h,2)"
   ]
  },
  {
   "cell_type": "code",
   "execution_count": 8,
   "metadata": {
    "collapsed": false
   },
   "outputs": [
    {
     "data": {
      "image/png": "[encoded data removed]",
      "text/latex": [
       "$$\\left[\\begin{matrix}1 & - \\frac{3 x}{2} & \\frac{9 x^{2}}{8} & - \\frac{9 x^{3}}{16}\\\\1 & - \\frac{x}{2} & \\frac{x^{2}}{8} & - \\frac{x^{3}}{48}\\\\1 & \\frac{x}{2} & \\frac{x^{2}}{8} & \\frac{x^{3}}{48}\\\\1 & \\frac{3 x}{2} & \\frac{9 x^{2}}{8} & \\frac{9 x^{3}}{16}\\end{matrix}\\right]$$"
      ],
      "text/plain": [
       "⎡             2      3 ⎤\n",
       "⎢   -3⋅x   9⋅x   -9⋅x  ⎥\n",
       "⎢1  ─────  ────  ──────⎥\n",
       "⎢     2     8      16  ⎥\n",
       "⎢                      ⎥\n",
       "⎢            2      3  ⎥\n",
       "⎢    -x     x     -x   ⎥\n",
       "⎢1   ───    ──    ──── ⎥\n",
       "⎢     2     8      48  ⎥\n",
       "⎢                      ⎥\n",
       "⎢            2      3  ⎥\n",
       "⎢     x     x      x   ⎥\n",
       "⎢1    ─     ──     ──  ⎥\n",
       "⎢     2     8      48  ⎥\n",
       "⎢                      ⎥\n",
       "⎢             2      3 ⎥\n",
       "⎢    3⋅x   9⋅x    9⋅x  ⎥\n",
       "⎢1   ───   ────   ──── ⎥\n",
       "⎣     2     8      16  ⎦"
      ]
     },
     "execution_count": 8,
     "metadata": {},
     "output_type": "execute_result"
    }
   ],
   "source": [
    "Taylor_half(x,2)"
   ]
  },
  {
   "cell_type": "code",
   "execution_count": 9,
   "metadata": {
    "collapsed": false
   },
   "outputs": [
    {
     "data": {
      "image/png": "[encoded data removed]",
      "text/latex": [
       "$$\\left[\\begin{matrix}\\frac{1}{2} U_{x - \\frac{1}{2}} + \\frac{1}{2} U_{x + \\frac{1}{2}}\\\\- \\frac{1}{h} U_{x - \\frac{1}{2}} + \\frac{1}{h} U_{x + \\frac{1}{2}}\\end{matrix}\\right]$$"
      ],
      "text/plain": [
       "⎡ U[x - 1/2]   U[x + 1/2] ⎤\n",
       "⎢ ────────── + ────────── ⎥\n",
       "⎢     2            2      ⎥\n",
       "⎢                         ⎥\n",
       "⎢  U[x - 1/2]   U[x + 1/2]⎥\n",
       "⎢- ────────── + ──────────⎥\n",
       "⎣      h            h     ⎦"
      ]
     },
     "execution_count": 9,
     "metadata": {},
     "output_type": "execute_result"
    }
   ],
   "source": [
    "Deriv_half(U,[x],0,h,1)"
   ]
  },
  {
   "cell_type": "code",
   "execution_count": 116,
   "metadata": {
    "collapsed": false
   },
   "outputs": [
    {
     "data": {
      "image/png": "[encoded data removed]",
      "text/latex": [
       "$$\\left[\\begin{matrix}- \\frac{1}{16} U_{x - \\frac{3}{2}} + \\frac{9}{16} U_{x - \\frac{1}{2}} + \\frac{9}{16} U_{x + \\frac{1}{2}} - \\frac{1}{16} U_{x + \\frac{3}{2}}\\\\\\frac{U_{x - \\frac{3}{2}}}{24 h} - \\frac{9 U_{x - \\frac{1}{2}}}{8 h} + \\frac{9 U_{x + \\frac{1}{2}}}{8 h} - \\frac{U_{x + \\frac{3}{2}}}{24 h}\\\\\\frac{U_{x - \\frac{3}{2}}}{2 h^{2}} - \\frac{U_{x - \\frac{1}{2}}}{2 h^{2}} - \\frac{U_{x + \\frac{1}{2}}}{2 h^{2}} + \\frac{U_{x + \\frac{3}{2}}}{2 h^{2}}\\\\- \\frac{1}{h^{3}} U_{x - \\frac{3}{2}} + \\frac{3}{h^{3}} U_{x - \\frac{1}{2}} - \\frac{3}{h^{3}} U_{x + \\frac{1}{2}} + \\frac{1}{h^{3}} U_{x + \\frac{3}{2}}\\end{matrix}\\right]$$"
      ],
      "text/plain": [
       "⎡  U[x - 3/2]   9⋅U[x - 1/2]   9⋅U[x + 1/2]   U[x + 3/2]⎤\n",
       "⎢- ────────── + ──────────── + ──────────── - ──────────⎥\n",
       "⎢      16            16             16            16    ⎥\n",
       "⎢                                                       ⎥\n",
       "⎢ U[x - 3/2]   9⋅U[x - 1/2]   9⋅U[x + 1/2]   U[x + 3/2] ⎥\n",
       "⎢ ────────── - ──────────── + ──────────── - ────────── ⎥\n",
       "⎢    24⋅h          8⋅h            8⋅h           24⋅h    ⎥\n",
       "⎢                                                       ⎥\n",
       "⎢   U[x - 3/2]   U[x - 1/2]   U[x + 1/2]   U[x + 3/2]   ⎥\n",
       "⎢   ────────── - ────────── - ────────── + ──────────   ⎥\n",
       "⎢         2            2            2            2      ⎥\n",
       "⎢      2⋅h          2⋅h          2⋅h          2⋅h       ⎥\n",
       "⎢                                                       ⎥\n",
       "⎢  U[x - 3/2]   3⋅U[x - 1/2]   3⋅U[x + 1/2]   U[x + 3/2]⎥\n",
       "⎢- ────────── + ──────────── - ──────────── + ──────────⎥\n",
       "⎢       3             3              3             3    ⎥\n",
       "⎣      h             h              h             h     ⎦"
      ]
     },
     "execution_count": 116,
     "metadata": {},
     "output_type": "execute_result"
    }
   ],
   "source": [
    "Deriv_half(U,[x],0,h,2)"
   ]
  },
  {
   "cell_type": "code",
   "execution_count": 108,
   "metadata": {
    "collapsed": false
   },
   "outputs": [
    {
     "data": {
      "image/png": "[encoded data removed]",
      "text/latex": [
       "$$U_{\\frac{3}{2}}$$"
      ],
      "text/plain": [
       "U[3/2]"
      ]
     },
     "execution_count": 108,
     "metadata": {},
     "output_type": "execute_result"
    }
   ],
   "source": [
    "U[Rational(1,2)*3]"
   ]
  },
  {
   "cell_type": "code",
   "execution_count": 13,
   "metadata": {
    "collapsed": false
   },
   "outputs": [],
   "source": [
    "m = Matrix([[x,x],[y,y]])"
   ]
  },
  {
   "cell_type": "code",
   "execution_count": 14,
   "metadata": {
    "collapsed": false
   },
   "outputs": [
    {
     "data": {
      "image/png": "[encoded data removed]",
      "text/latex": [
       "$$\\left[\\begin{matrix}y & y\\\\y & y\\end{matrix}\\right]$$"
      ],
      "text/plain": [
       "⎡y  y⎤\n",
       "⎢    ⎥\n",
       "⎣y  y⎦"
      ]
     },
     "execution_count": 14,
     "metadata": {},
     "output_type": "execute_result"
    }
   ],
   "source": [
    "m.subs(x,y)"
   ]
  },
  {
   "cell_type": "code",
   "execution_count": 6,
   "metadata": {
    "collapsed": true
   },
   "outputs": [],
   "source": [
    "from mako.template import Template\n",
    "from mako.lookup import TemplateLookup\n",
    "from mako.runtime import Context\n",
    "from StringIO import StringIO"
   ]
  },
  {
   "cell_type": "code",
   "execution_count": 16,
   "metadata": {
    "collapsed": false
   },
   "outputs": [
    {
     "name": "stdout",
     "output_type": "stream",
     "text": [
      "// initialisation\n",
      "for(int i=0; i<=Nx; i++)\n",
      "    u[i][0] = I(x[i])\n",
      "// separate calculation for first time step\n",
      "for(int i=1; i<Nx; i++)\n",
      "    u[i][1] = u[i][0]\n",
      "        -0.5*pow(C,2)*(u[i+1][0] - 2*u[i][0] + u[i-1][0])\n",
      "// main loop\n",
      "for(int n=1; n<Nt; n++){\n",
      "    // boundary conditions\n",
      "    u[n+1][0] = 0; u[n+1][Nx] = 0;\n",
      "    for(int i=1; i<Nx; i++)\n",
      "    // update mesh points at time = n+1\n",
      "        coooode\n",
      "}\n",
      "\n",
      "coooooooode\n"
     ]
    }
   ],
   "source": [
    "# mylookup = TemplateLookup(directories=['templates/'])\n",
    "mytemplate = Template(filename='templates/test_tmpl.cpp')\n",
    "buf = StringIO()\n",
    "d = {'sub1':'coooode','sub2':'coooooooode'}\n",
    "ctx = Context(buf, **d)\n",
    "mytemplate.render_context(ctx)\n",
    "print(buf.getvalue())"
   ]
  },
  {
   "cell_type": "code",
   "execution_count": 3,
   "metadata": {
    "collapsed": false
   },
   "outputs": [],
   "source": [
    "from sympy import *"
   ]
  },
  {
   "cell_type": "code",
   "execution_count": 4,
   "metadata": {
    "collapsed": false
   },
   "outputs": [],
   "source": [
    "ex = U[x,y+1]**2+2*y"
   ]
  },
  {
   "cell_type": "code",
   "execution_count": 5,
   "metadata": {
    "collapsed": false
   },
   "outputs": [
    {
     "data": {
      "text/plain": [
       "\"Add(Mul(Integer(2), Symbol('y')), Pow(Indexed(IndexedBase(Symbol('U')), Symbol('x'), Add(Symbol('y'), Integer(1))), Integer(2)))\""
      ]
     },
     "execution_count": 5,
     "metadata": {},
     "output_type": "execute_result"
    }
   ],
   "source": [
    "srepr(ex)"
   ]
  },
  {
   "cell_type": "code",
   "execution_count": 50,
   "metadata": {
    "collapsed": false
   },
   "outputs": [
    {
     "data": {
      "image/png": "[encoded data removed]",
      "text/latex": [
       "$$2 y + \\left(U_{x}\\right)^{2}$$"
      ],
      "text/plain": [
       "          2\n",
       "2⋅y + U[x] "
      ]
     },
     "execution_count": 50,
     "metadata": {},
     "output_type": "execute_result"
    }
   ],
   "source": [
    "eval(\"Add(Mul(Integer(2), Symbol('y')), Pow(Indexed(IndexedBase(Symbol('U')), Symbol('x')), Integer(2)))\")"
   ]
  },
  {
   "cell_type": "code",
   "execution_count": 51,
   "metadata": {
    "collapsed": false
   },
   "outputs": [
    {
     "data": {
      "image/png": "[encoded data removed]",
      "text/latex": [
       "$$\\left(U_{x,y}\\right)^{2}$$"
      ],
      "text/plain": [
       "       2\n",
       "U[x, y] "
      ]
     },
     "execution_count": 51,
     "metadata": {},
     "output_type": "execute_result"
    }
   ],
   "source": [
    "expr.args[0]"
   ]
  },
  {
   "cell_type": "code",
   "execution_count": 52,
   "metadata": {
    "collapsed": false
   },
   "outputs": [
    {
     "data": {
      "image/png": "[encoded data removed]",
      "text/latex": [
       "$$\\left ( x, \\quad y\\right )$$"
      ],
      "text/plain": [
       "(x, y)"
      ]
     },
     "execution_count": 52,
     "metadata": {},
     "output_type": "execute_result"
    }
   ],
   "source": [
    "expr.args[0].args[0].indices"
   ]
  },
  {
   "cell_type": "code",
   "execution_count": 58,
   "metadata": {
    "collapsed": false
   },
   "outputs": [
    {
     "data": {
      "image/png": "[encoded data removed]",
      "text/latex": [
       "$$2 y + \\left(U_{x,y}\\right)^{2}$$"
      ],
      "text/plain": [
       "             2\n",
       "2⋅y + U[x, y] "
      ]
     },
     "execution_count": 58,
     "metadata": {},
     "output_type": "execute_result"
    }
   ],
   "source": [
    "drop_time(ex)"
   ]
  },
  {
   "cell_type": "code",
   "execution_count": null,
   "metadata": {
    "collapsed": true
   },
   "outputs": [],
   "source": []
  }
 ],
 "metadata": {
  "kernelspec": {
   "display_name": "Python 2",
   "language": "python",
   "name": "python2"
  },
  "language_info": {
   "codemirror_mode": {
    "name": "ipython",
    "version": 2
   },
   "file_extension": ".py",
   "mimetype": "text/x-python",
   "name": "python",
   "nbconvert_exporter": "python",
   "pygments_lexer": "ipython2",
   "version": "2.7.10"
  }
 },
 "nbformat": 4,
 "nbformat_minor": 0
}
