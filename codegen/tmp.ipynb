{
 "cells": [
  {
   "cell_type": "code",
   "execution_count": 305,
   "metadata": {
    "collapsed": false
   },
   "outputs": [
    {
     "name": "stdout",
     "output_type": "stream",
     "text": [
      "The autoreload extension is already loaded. To reload it, use:\n",
      "  %reload_ext autoreload\n"
     ]
    }
   ],
   "source": [
    "%load_ext autoreload\n",
    "%autoreload 2\n",
    "from sympy import symbols, init_printing, simplify, solve, srepr, Add, Symbol, Integer, Float, pi, cos, sin, Rational\n",
    "from sympy import IndexedBase, Eq, simplify,sqrt\n",
    "from grid import *\n",
    "init_printing()"
   ]
  },
  {
   "cell_type": "code",
   "execution_count": 306,
   "metadata": {
    "collapsed": true
   },
   "outputs": [],
   "source": [
    "Txx = Field('Txx', (False,False,False,False))\n",
    "Tyy = Field('Tyy', (False,False,False,False))\n",
    "Tzz = Field('Tzz', (False,False,False,False))\n",
    "Txy = Field('Txy', (False,True,True,False))\n",
    "Tyz = Field('Tyz', (False,False,True,True))\n",
    "Txz = Field('Txz', (False,True,False,True))\n",
    "U = Field('U', (True,True,False,False))\n",
    "V = Field('V', (True,False,True,False))\n",
    "W = Field('W', (True,False,False,True))"
   ]
  },
  {
   "cell_type": "code",
   "execution_count": 307,
   "metadata": {
    "collapsed": false
   },
   "outputs": [],
   "source": [
    "grid = StaggeredGrid3D('h h h','dt','dimx dimy dimz')\n",
    "grid.set_stress_fields([Txx,Tyy,Tzz,Txy,Tyz,Txz])\n",
    "grid.set_velocity_fields([U,V,W])\n",
    "U.associate_stress_fields((Txx,Txy,Txz))\n",
    "V.associate_stress_fields((Txy,Tyy,Tyz))\n",
    "W.associate_stress_fields((Txz,Tyz,Tzz))"
   ]
  },
  {
   "cell_type": "markdown",
   "metadata": {},
   "source": [
    "####Analytical solutions\n",
    "$U = cos(\\pi x)(sin(\\pi y)-sin(\\pi z))cos(\\Omega t)$<br>\n",
    "$V = cos(\\pi y)(sin(\\pi z)-sin(\\pi x))cos(\\Omega t)$<br>\n",
    "$W = cos(\\pi z)(sin(\\pi x)-sin(\\pi y))cos(\\Omega t)$<br>\n",
    "$T_{xx} = -Asin(\\pi x)(sin(\\pi y)-sin(\\pi z))sin(\\Omega t)$<br>\n",
    "$T_{yy} = -Asin(\\pi y)(sin(\\pi z)-sin(\\pi x))sin(\\Omega t)$<br>\n",
    "$T_{zz} = -Asin(\\pi z)(sin(\\pi x)-sin(\\pi y))sin(\\Omega t)$<br>\n",
    "$T_{xy} = T_{yz} = T_{xz} = 0$<br>\n",
    "where $A=\\sqrt{2\\rho \\mu} \\space \\space b=\\pi\\sqrt{\\frac{2\\mu}{\\rho}}$"
   ]
  },
  {
   "cell_type": "code",
   "execution_count": 308,
   "metadata": {
    "collapsed": false
   },
   "outputs": [],
   "source": [
    "rho, beta, lam, mu, h, dt= symbols('rho beta lambda mu h dt')\n",
    "x,y,z,t = symbols('x y z t')\n",
    "Omega = pi*sqrt(2*mu/rho)\n",
    "A = sqrt(2*rho*mu)\n",
    "U_func = cos(pi*x)*(sin(pi*y)-sin(pi*z))*cos(Omega*t)\n",
    "V_func = cos(pi*y)*(sin(pi*z)-sin(pi*x))*cos(Omega*t)\n",
    "W_func = cos(pi*z)*(sin(pi*x)-sin(pi*y))*cos(Omega*t)\n",
    "Txx_func = -A*sin(pi*x)*(sin(pi*y)-sin(pi*z))*sin(Omega*t)\n",
    "Tyy_func = -A*sin(pi*y)*(sin(pi*z)-sin(pi*x))*sin(Omega*t)\n",
    "Tzz_func = -A*sin(pi*z)*(sin(pi*x)-sin(pi*y))*sin(Omega*t)\n",
    "Txy_func = Float(0)\n",
    "Tyz_func = Float(0)\n",
    "Txz_func = Float(0)"
   ]
  },
  {
   "cell_type": "code",
   "execution_count": 309,
   "metadata": {
    "collapsed": false
   },
   "outputs": [],
   "source": [
    "U.set_analytic_func(U_func)\n",
    "V.set_analytic_func(V_func)\n",
    "W.set_analytic_func(W_func)\n",
    "Txx.set_analytic_func(Txx_func)\n",
    "Tyy.set_analytic_func(Tyy_func)\n",
    "Tzz.set_analytic_func(Tzz_func)\n",
    "Txy.set_analytic_func(Txy_func)\n",
    "Tyz.set_analytic_func(Tyz_func)\n",
    "Txz.set_analytic_func(Txz_func)"
   ]
  },
  {
   "cell_type": "code",
   "execution_count": 310,
   "metadata": {
    "collapsed": false
   },
   "outputs": [],
   "source": [
    "grid.calc_derivatives()"
   ]
  },
  {
   "cell_type": "markdown",
   "metadata": {},
   "source": [
    "###PDEs\n",
    "#####momentum equations\n",
    "$\\partial_tU = b(\\partial_xT_{xx}+\\partial_yT_{xy}+\\partial_zT_{xz})$<br>\n",
    "$\\partial_tV = b(\\partial_xT_{xy}+\\partial_yT_{yy}+\\partial_zT_{yz})$<br>\n",
    "$\\partial_tW = b(\\partial_xT_{xz}+\\partial_yT_{yz}+\\partial_zT_{zz})$<br>\n",
    "#####stress-strain equations\n",
    "$\\partial_tT_{xx} = (\\lambda+2\\mu)\\partial_xU + \\lambda(\\partial_yV+\\partial_zW)$<br>\n",
    "$\\partial_tT_{yy} = (\\lambda+2\\mu)\\partial_yV + \\lambda(\\partial_xU+\\partial_zW)$<br>\n",
    "$\\partial_tT_{zz} = (\\lambda+2\\mu)\\partial_zW + \\lambda(\\partial_xU+\\partial_yV)$<br>\n",
    "$\\partial_tT_{xy} = \\mu(\\partial_yU + \\partial_xV)$<br>\n",
    "$\\partial_tT_{xz} = \\mu(\\partial_zU + \\partial_xW)$<br>\n",
    "$\\partial_tT_{yz} = \\mu(\\partial_zV + \\partial_yW)$<br>"
   ]
  },
  {
   "cell_type": "code",
   "execution_count": 311,
   "metadata": {
    "collapsed": false
   },
   "outputs": [],
   "source": [
    "# momentum equations\n",
    "eq1 = Eq(U.d[0][1], beta*(Txx.d[1][2] + Txy.d[2][2] + Txz.d[3][2]))\n",
    "eq2 = Eq(V.d[0][1], beta*(Txy.d[1][2] + Tyy.d[2][2] + Tyz.d[3][2]))\n",
    "eq3 = Eq(W.d[0][1], beta*(Txz.d[1][2] + Tyz.d[2][2] + Tzz.d[3][2]))\n",
    "# stress-strain equations\n",
    "eq4 = Eq(Txx.d[0][1], (lam + 2*mu)*U.d[1][2] + lam*(V.d[2][2]+W.d[3][2]))\n",
    "eq5 = Eq(Tyy.d[0][1], (lam + 2*mu)*V.d[2][2] + lam*(U.d[1][2]+W.d[3][2]))\n",
    "eq6 = Eq(Tzz.d[0][1], (lam + 2*mu)*W.d[3][2] + lam*(U.d[1][2]+V.d[2][2]))\n",
    "eq7 = Eq(Txy.d[0][1], mu*(U.d[2][2] + V.d[1][2]))\n",
    "eq8 = Eq(Tyz.d[0][1], mu*(V.d[3][2] + W.d[2][2]))\n",
    "eq9 = Eq(Txz.d[0][1], mu*(U.d[3][2] + W.d[1][2]))"
   ]
  },
  {
   "cell_type": "code",
   "execution_count": 312,
   "metadata": {
    "collapsed": false
   },
   "outputs": [],
   "source": [
    "grid.solve_fd([eq1,eq2,eq3,eq4,eq5,eq6,eq7,eq8,eq9])"
   ]
  },
  {
   "cell_type": "code",
   "execution_count": 313,
   "metadata": {
    "collapsed": false
   },
   "outputs": [
    {
     "data": {
      "text/plain": [
       "u'#pragma omp for\\r\\nfor(int x=2;x<h - 2;++x){\\r\\n    for(int y=2;y<h - 2;++y){\\r\\n    \\tfor(int z=2;y<h - 2;++z){\\r\\n    \\t\\tU[t1][x][y][z]=(1.0F/24.0F)*(-27*beta*dt*Txx[t1][x][y][z] + beta*dt*Txx[t1][x - 1][y][z] + 27*beta*dt*Txx[t1][x + 1][y][z] - beta*dt*Txx[t1][x + 2][y][z] + 27*beta*dt*Txy[t1][x][y][z] + beta*dt*Txy[t1][x][y - 2][z] - 27*beta*dt*Txy[t1][x][y - 1][z] - beta*dt*Txy[t1][x][y + 1][z] + 27*beta*dt*Txz[t1][x][y][z] + beta*dt*Txz[t1][x][y][z - 2] - 27*beta*dt*Txz[t1][x][y][z - 1] - beta*dt*Txz[t1][x][y][z + 1] + 24*h*U[t][x][y][z])/h;\\n\\t\\t\\tV[t1][x][y][z]=(1.0F/24.0F)*(27*beta*dt*Txy[t1][x][y][z] + beta*dt*Txy[t1][x - 2][y][z] - 27*beta*dt*Txy[t1][x - 1][y][z] - beta*dt*Txy[t1][x + 1][y][z] - 27*beta*dt*Tyy[t1][x][y][z] + beta*dt*Tyy[t1][x][y - 1][z] + 27*beta*dt*Tyy[t1][x][y + 1][z] - beta*dt*Tyy[t1][x][y + 2][z] + 27*beta*dt*Tyz[t1][x][y][z] + beta*dt*Tyz[t1][x][y][z - 2] - 27*beta*dt*Tyz[t1][x][y][z - 1] - beta*dt*Tyz[t1][x][y][z + 1] + 24*h*V[t][x][y][z])/h;\\n\\t\\t\\tW[t1][x][y][z]=(1.0F/24.0F)*(27*beta*dt*Txz[t1][x][y][z] + beta*dt*Txz[t1][x - 2][y][z] - 27*beta*dt*Txz[t1][x - 1][y][z] - beta*dt*Txz[t1][x + 1][y][z] + 27*beta*dt*Tyz[t1][x][y][z] + beta*dt*Tyz[t1][x][y - 2][z] - 27*beta*dt*Tyz[t1][x][y - 1][z] - beta*dt*Tyz[t1][x][y + 1][z] - 27*beta*dt*Tzz[t1][x][y][z] + beta*dt*Tzz[t1][x][y][z - 1] + 27*beta*dt*Tzz[t1][x][y][z + 1] - beta*dt*Tzz[t1][x][y][z + 2] + 24*h*W[t][x][y][z])/h;\\n\\t\\t\\t\\r\\n    \\t}    \\t\\r\\n    }\\r\\n}\\r\\n'"
      ]
     },
     "execution_count": 313,
     "metadata": {},
     "output_type": "execute_result"
    }
   ],
   "source": [
    "grid.velocity_loop()"
   ]
  },
  {
   "cell_type": "code",
   "execution_count": 314,
   "metadata": {
    "collapsed": false
   },
   "outputs": [],
   "source": [
    "Txx_expr = (lam + 2*mu)*U.d[1][1] + lam*(V.d[2][1]+W.d[3][1]); Txx.set_dt(Txx_expr)\n",
    "Tyy_expr = (lam + 2*mu)*V.d[2][1] + lam*(U.d[1][1]+W.d[3][1]); Tyy.set_dt(Tyy_expr)\n",
    "Tzz_expr = (lam + 2*mu)*W.d[3][2] + lam*(U.d[1][2]+V.d[2][2]); Tzz.set_dt(Tzz_expr)\n",
    "Txy_expr = mu*(U.d[2][1] + V.d[1][1]); Txy.set_dt(Txy_expr)\n",
    "Tyz_expr = mu*(V.d[3][1] + W.d[2][1]); Tyz.set_dt(Tyz_expr)\n",
    "Txz_expr = mu*(U.d[3][1] + W.d[1][1]); Txz.set_dt(Txz_expr)"
   ]
  },
  {
   "cell_type": "code",
   "execution_count": 315,
   "metadata": {
    "collapsed": false
   },
   "outputs": [
    {
     "data": {
      "image/png": "[encoded data removed]",
      "text/latex": [
       "$$\\mu \\left(- \\frac{1}{h} U_{t,\\frac{3}{2},y - \\frac{1}{2},z} + \\frac{1}{h} U_{t,\\frac{3}{2},y + \\frac{1}{2},z} - \\frac{V_{t,1,y,z}}{h} + \\frac{V_{t,2,y,z}}{h}\\right) = \\mu \\left(- \\frac{1}{h} U_{t,\\frac{5}{2},y - \\frac{1}{2},z} + \\frac{1}{h} U_{t,\\frac{5}{2},y + \\frac{1}{2},z} - \\frac{V_{t,2,y,z}}{h} + \\frac{V_{t,3,y,z}}{h}\\right)$$"
      ],
      "text/plain": [
       "  ⎛  U[t, 3/2, y - 1/2, z]   U[t, 3/2, y + 1/2, z]   V[t, 1, y, z]   V[t, 2, y\n",
       "μ⋅⎜- ───────────────────── + ───────────────────── - ───────────── + ─────────\n",
       "  ⎝            h                       h                   h               h  \n",
       "\n",
       ", z]⎞     ⎛  U[t, 5/2, y - 1/2, z]   U[t, 5/2, y + 1/2, z]   V[t, 2, y, z]   V\n",
       "────⎟ = μ⋅⎜- ───────────────────── + ───────────────────── - ───────────── + ─\n",
       "    ⎠     ⎝            h                       h                   h          \n",
       "\n",
       "[t, 3, y, z]⎞\n",
       "────────────⎟\n",
       "     h      ⎠"
      ]
     },
     "execution_count": 315,
     "metadata": {},
     "output_type": "execute_result"
    }
   ],
   "source": [
    "Eq(Txy_expr.subs(x,1+hf),Txy_expr.subs(x,2+hf))"
   ]
  },
  {
   "cell_type": "code",
   "execution_count": 316,
   "metadata": {
    "collapsed": false
   },
   "outputs": [],
   "source": [
    "grid.set_free_surface_boundary(1,0);grid.set_free_surface_boundary(1,1)\n",
    "grid.set_free_surface_boundary(2,0);grid.set_free_surface_boundary(2,1)\n",
    "grid.set_free_surface_boundary(3,0);grid.set_free_surface_boundary(3,1)"
   ]
  },
  {
   "cell_type": "code",
   "execution_count": 318,
   "metadata": {
    "collapsed": false
   },
   "outputs": [],
   "source": [
    "f= open('test00.cpp','w')\n",
    "f.write(grid.velocity_bc())\n",
    "f.close()"
   ]
  },
  {
   "cell_type": "code",
   "execution_count": null,
   "metadata": {
    "collapsed": false
   },
   "outputs": [],
   "source": [
    "Txy.bc"
   ]
  },
  {
   "cell_type": "code",
   "execution_count": null,
   "metadata": {
    "collapsed": false
   },
   "outputs": [],
   "source": [
    "d = 1\n",
    "[f for f in grid.vfields if not f.offset[d]] + [f for f in grid.vfields if f.offset[d]]"
   ]
  },
  {
   "cell_type": "code",
   "execution_count": null,
   "metadata": {
    "collapsed": false
   },
   "outputs": [],
   "source": [
    "U.name[l]"
   ]
  },
  {
   "cell_type": "code",
   "execution_count": null,
   "metadata": {
    "collapsed": false
   },
   "outputs": [],
   "source": [
    "grid.stress_bc()"
   ]
  },
  {
   "cell_type": "code",
   "execution_count": null,
   "metadata": {
    "collapsed": true
   },
   "outputs": [],
   "source": []
  }
 ],
 "metadata": {
  "kernelspec": {
   "display_name": "Python 2",
   "language": "python",
   "name": "python2"
  },
  "language_info": {
   "codemirror_mode": {
    "name": "ipython",
    "version": 2
   },
   "file_extension": ".py",
   "mimetype": "text/x-python",
   "name": "python",
   "nbconvert_exporter": "python",
   "pygments_lexer": "ipython2",
   "version": "2.7.10"
  }
 },
 "nbformat": 4,
 "nbformat_minor": 0
}
