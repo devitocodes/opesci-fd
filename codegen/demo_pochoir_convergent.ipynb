{
 "cells": [
  {
   "cell_type": "markdown",
   "metadata": {},
   "source": [
    "##FD schemes convergece investigation using 2D wave equation"
   ]
  },
  {
   "cell_type": "code",
   "execution_count": 1,
   "metadata": {
    "collapsed": false
   },
   "outputs": [],
   "source": [
    "%load_ext autoreload\n",
    "%autoreload 2\n",
    "from sympy import symbols, init_printing, simplify, solve, srepr, Add, Symbol, Integer, Float, pi, cos, sin\n",
    "from mako.template import Template\n",
    "from mako.lookup import TemplateLookup\n",
    "from mako.runtime import Context\n",
    "from StringIO import StringIO\n",
    "from fdlib import *\n",
    "init_printing()"
   ]
  },
  {
   "cell_type": "code",
   "execution_count": 2,
   "metadata": {
    "collapsed": false
   },
   "outputs": [],
   "source": [
    "U,V,Txx,Tyy,Txy = IndexedBases('U V Txx Tyy Txy')\n",
    "b, lam, mu = symbols('beta lambda mu')\n",
    "x,y,t,h,dt,a,b, Vs = symbols('x y t h dt a b Vs')"
   ]
  },
  {
   "cell_type": "code",
   "execution_count": 3,
   "metadata": {
    "collapsed": true
   },
   "outputs": [],
   "source": [
    "accuracy_time = 1 # O(dt^2) accuracy in time domain\n",
    "accuracy_space = 2 # O(h^4) accuracy in space domain"
   ]
  },
  {
   "cell_type": "markdown",
   "metadata": {},
   "source": [
    "###Eigenmode functions (as initial condition and analytical solution)"
   ]
  },
  {
   "cell_type": "markdown",
   "metadata": {},
   "source": [
    "$U = acos(\\pi x)sin(\\pi y)cos(at)$<br>\n",
    "$V = -asin(\\pi x)cos(\\pi y)cos(at)$<br>\n",
    "$T_{xx} = -bsin(\\pi x)sin(\\pi y)sin(at)$<br>\n",
    "$T_{yy} = bsin(\\pi x)sin(\\pi y)sin(at)$<br>\n",
    "$T_{xy} = T_{yx} = 0$<br>\n",
    "where $a=\\sqrt 2 \\pi V_s\\space \\space b=2\\pi\\mu$"
   ]
  },
  {
   "cell_type": "code",
   "execution_count": 4,
   "metadata": {
    "collapsed": false
   },
   "outputs": [],
   "source": [
    "a = 2**(0.5)*pi*Vs\n",
    "b = 2*pi*mu\n",
    "U_sol = a*cos(pi*x)*sin(pi*y)*cos(a*t)\n",
    "V_sol = -a*sin(pi*x)*cos(pi*y)*cos(a*t)\n",
    "Txx_sol = -b*sin(pi*x)*sin(pi*y)*sin(a*t)\n",
    "Tyy_sol = b*sin(pi*x)*sin(pi*y)*sin(a*t)\n",
    "Txy_sol = Float(0)"
   ]
  },
  {
   "cell_type": "markdown",
   "metadata": {},
   "source": [
    "###Initial conditions"
   ]
  },
  {
   "cell_type": "code",
   "execution_count": 5,
   "metadata": {
    "collapsed": false
   },
   "outputs": [],
   "source": [
    "# substitution t=0\n",
    "U_init = print_myccode(U_sol.subs(t,0))\n",
    "V_init = print_myccode(V_sol.subs(t,0))\n",
    "Txx_init = print_myccode(Txx_sol.subs(t,0))\n",
    "Tyy_init = print_myccode(Tyy_sol.subs(t,0))\n",
    "Txy_init = print_myccode(Txy_sol.subs(t,0))"
   ]
  },
  {
   "cell_type": "markdown",
   "metadata": {},
   "source": [
    "###Calculate FD approximation of derivatives"
   ]
  },
  {
   "cell_type": "code",
   "execution_count": 6,
   "metadata": {
    "collapsed": false
   },
   "outputs": [],
   "source": [
    "l = [t,x,y]\n",
    "\n",
    "# first-order time derivatives in velocities and stresses\n",
    "# O(dt^2) accuracy\n",
    "DtU = Deriv_half(U,l,0,dt,accuracy_time)[1]\n",
    "DtV = Deriv_half(V,l,0,dt,accuracy_time)[1]\n",
    "\n",
    "DtTxx = Deriv_half(Txx,l,0,dt,accuracy_time)[1]\n",
    "DtTxy = Deriv_half(Txy,l,0,dt,accuracy_time)[1]\n",
    "DtTyy = Deriv_half(Tyy,l,0,dt,accuracy_time)[1]\n",
    "\n",
    "# first-order spacial derivatives of velocities and stresses\n",
    "# O(h^4) accuracy\n",
    "\n",
    "DxU = Deriv_half(U,l,1,h,accuracy_space,shift_forward=False)[1]\n",
    "DyV = Deriv_half(V,l,2,h,accuracy_space,shift_forward=False)[1]\n",
    "\n",
    "DyU = Deriv_half(U,l,2,h,accuracy_space)[1]\n",
    "DxV = Deriv_half(V,l,1,h,accuracy_space)[1]\n",
    "\n",
    "DxTxx = Deriv_half(Txx,l,1,h,accuracy_space)[1]\n",
    "DyTyy = Deriv_half(Tyy,l,2,h,accuracy_space)[1]\n",
    "\n",
    "DxTxy = Deriv_half(Txy,l,1,h,accuracy_space,shift_forward=False)[1]\n",
    "DyTxy = Deriv_half(Txy,l,2,h,accuracy_space,shift_forward=False)[1]"
   ]
  },
  {
   "cell_type": "code",
   "execution_count": 7,
   "metadata": {
    "collapsed": false
   },
   "outputs": [
    {
     "data": {
      "image/png": "[encoded data removed]",
      "text/latex": [
       "$$- \\frac{9 Txx_{t,x,y}}{8 h} + \\frac{Txx_{t,x - 1,y}}{24 h} + \\frac{9 Txx_{t,x + 1,y}}{8 h} - \\frac{Txx_{t,x + 2,y}}{24 h}$$"
      ],
      "text/plain": [
       "  9⋅Txx[t, x, y]   Txx[t, x - 1, y]   9⋅Txx[t, x + 1, y]   Txx[t, x + 2, y]\n",
       "- ────────────── + ──────────────── + ────────────────── - ────────────────\n",
       "       8⋅h               24⋅h                8⋅h                 24⋅h      "
      ]
     },
     "execution_count": 7,
     "metadata": {},
     "output_type": "execute_result"
    }
   ],
   "source": [
    "DxTxx"
   ]
  },
  {
   "cell_type": "code",
   "execution_count": 8,
   "metadata": {
    "collapsed": false
   },
   "outputs": [
    {
     "data": {
      "image/png": "[encoded data removed]",
      "text/latex": [
       "$$\\frac{9 Txy_{t,x,y}}{8 h} + \\frac{Txy_{t,x - 2,y}}{24 h} - \\frac{9 Txy_{t,x - 1,y}}{8 h} - \\frac{Txy_{t,x + 1,y}}{24 h}$$"
      ],
      "text/plain": [
       "9⋅Txy[t, x, y]   Txy[t, x - 2, y]   9⋅Txy[t, x - 1, y]   Txy[t, x + 1, y]\n",
       "────────────── + ──────────────── - ────────────────── - ────────────────\n",
       "     8⋅h               24⋅h                8⋅h                 24⋅h      "
      ]
     },
     "execution_count": 8,
     "metadata": {},
     "output_type": "execute_result"
    }
   ],
   "source": [
    "# note difference between shift_forward True/False\n",
    "DxTxy"
   ]
  },
  {
   "cell_type": "code",
   "execution_count": 21,
   "metadata": {
    "collapsed": false
   },
   "outputs": [
    {
     "data": {
      "image/png": "[encoded data removed]",
      "text/latex": [
       "$$\\frac{9 Txy_{t,x,y}}{8 h} + \\frac{Txy_{t,x,y - 2}}{24 h} - \\frac{9 Txy_{t,x,y - 1}}{8 h} - \\frac{Txy_{t,x,y + 1}}{24 h}$$"
      ],
      "text/plain": [
       "9⋅Txy[t, x, y]   Txy[t, x, y - 2]   9⋅Txy[t, x, y - 1]   Txy[t, x, y + 1]\n",
       "────────────── + ──────────────── - ────────────────── - ────────────────\n",
       "     8⋅h               24⋅h                8⋅h                 24⋅h      "
      ]
     },
     "execution_count": 21,
     "metadata": {},
     "output_type": "execute_result"
    }
   ],
   "source": [
    "DyTxy"
   ]
  },
  {
   "cell_type": "markdown",
   "metadata": {},
   "source": [
    "###PDEs\n",
    "\n",
    "#####momentum equations\n",
    "$\\partial_tU = b(\\partial_xT_{xx}+\\partial_yT_{xy})$<br>\n",
    "$\\partial_tV = b(\\partial_xT_{xy}+\\partial_yT_{yy})$<br>\n",
    "#####stress-strain equations\n",
    "$\\partial_tT_{xx} = (\\lambda+2\\mu)\\partial_xU + \\lambda\\partial_yV $<br>\n",
    "$\\partial_tT_{yy} = (\\lambda+2\\mu)\\partial_yV + \\lambda\\partial_xU $<br>\n",
    "$\\partial_tT_{xy} = \\mu(\\partial_yU + \\partial_xV)$<br>"
   ]
  },
  {
   "cell_type": "code",
   "execution_count": 10,
   "metadata": {
    "collapsed": false
   },
   "outputs": [],
   "source": [
    "# momentum equations\n",
    "eq1 = Eq(DtU, b*(DxTxx + DyTxy))\n",
    "eq2 = Eq(DtV, b*(DxTxy + DyTyy))\n",
    "\n",
    "# stress-strain equations\n",
    "eq3 = Eq(DtTxx, (lam + 2*mu)*DxU + lam*DyV)\n",
    "eq4 = Eq(DtTyy, (lam + 2*mu)*DyV + lam*DxU)\n",
    "eq5 = Eq(DtTxy, mu*(DyU+DxV))"
   ]
  },
  {
   "cell_type": "code",
   "execution_count": 11,
   "metadata": {
    "collapsed": false
   },
   "outputs": [
    {
     "data": {
      "image/png": "[encoded data removed]",
      "text/latex": [
       "$$- \\frac{U_{t,x,y}}{dt} + \\frac{1}{dt} U_{t + 1,x,y} = 2 \\pi \\mu \\left(- \\frac{9 Txx_{t,x,y}}{8 h} + \\frac{Txx_{t,x - 1,y}}{24 h} + \\frac{9 Txx_{t,x + 1,y}}{8 h} - \\frac{Txx_{t,x + 2,y}}{24 h} + \\frac{9 Txy_{t,x,y}}{8 h} + \\frac{Txy_{t,x,y - 2}}{24 h} - \\frac{9 Txy_{t,x,y - 1}}{8 h} - \\frac{Txy_{t,x,y + 1}}{24 h}\\right)$$"
      ],
      "text/plain": [
       "  U[t, x, y]   U[t + 1, x, y]         ⎛  9⋅Txx[t, x, y]   Txx[t, x - 1, y]   9\n",
       "- ────────── + ────────────── = 2⋅π⋅μ⋅⎜- ────────────── + ──────────────── + ─\n",
       "      dt             dt               ⎝       8⋅h               24⋅h          \n",
       "\n",
       "⋅Txx[t, x + 1, y]   Txx[t, x + 2, y]   9⋅Txy[t, x, y]   Txy[t, x, y - 2]   9⋅T\n",
       "───────────────── - ──────────────── + ────────────── + ──────────────── - ───\n",
       "      8⋅h                 24⋅h              8⋅h               24⋅h            \n",
       "\n",
       "xy[t, x, y - 1]   Txy[t, x, y + 1]⎞\n",
       "─────────────── - ────────────────⎟\n",
       "    8⋅h                 24⋅h      ⎠"
      ]
     },
     "execution_count": 11,
     "metadata": {},
     "output_type": "execute_result"
    }
   ],
   "source": [
    "eq1"
   ]
  },
  {
   "cell_type": "markdown",
   "metadata": {},
   "source": [
    "###solve for FD stencil"
   ]
  },
  {
   "cell_type": "code",
   "execution_count": 43,
   "metadata": {
    "collapsed": false
   },
   "outputs": [],
   "source": [
    "# for demo only\n",
    "U_t = simplify(solve(eq1,U[t+1,x,y])[0]-U[t,x,y])+U[t,x,y]\n",
    "V_t = simplify(solve(eq2,V[t+1,x,y])[0]-V[t,x,y])+V[t,x,y]\n",
    "Txx_t = simplify(solve(eq3,Txx[t+1,x,y])[0]-Txx[t,x,y])+Txx[t,x,y]\n",
    "Tyy_t = simplify(solve(eq4,Tyy[t+1,x,y])[0]-Tyy[t,x,y])+Tyy[t,x,y]\n",
    "# note difference between Txx and Txy indices\n",
    "Txy_t = simplify(solve(eq5,Txy[t+1,x,y])[0]-Txy[t,x,y])+Txy[t,x,y]"
   ]
  },
  {
   "cell_type": "code",
   "execution_count": 47,
   "metadata": {
    "collapsed": false
   },
   "outputs": [],
   "source": [
    "# generate computation code segments\n",
    "U_t_code = print_myccode(U[t+1,x,y],pochoir=True) + \"=\" + print_myccode(U_t,pochoir=True)\n",
    "V_t_code = print_myccode(V[t+1,x,y],pochoir=True) + \"=\" + print_myccode(V_t,pochoir=True)\n",
    "Txx_t_code = print_myccode(Txx[t+1,x,y],pochoir=True) + \"=\" + print_myccode(Txx_t,pochoir=True)\n",
    "Tyy_t_code = print_myccode(Tyy[t+1,x,y],pochoir=True) + \"=\" + print_myccode(Tyy_t,pochoir=True)\n",
    "Txy_t_code = print_myccode(Txy[t+1,x,y],pochoir=True) + \"=\" + print_myccode(Txy_t,pochoir=True)"
   ]
  },
  {
   "cell_type": "code",
   "execution_count": 48,
   "metadata": {
    "collapsed": false
   },
   "outputs": [
    {
     "data": {
      "text/plain": [
       "'U(t + 1,x,y)=(1.0/12.0)*M_PI*dt*mu*(-27*Txx(t,x,y) + Txx(t,x - 1,y) + 27*Txx(t,x + 1,y) - Txx(t,x + 2,y) + 27*Txy(t,x,y) + Txy(t,x,y - 2) - 27*Txy(t,x,y - 1) - Txy(t,x,y + 1))/h + U(t,x,y)'"
      ]
     },
     "execution_count": 48,
     "metadata": {},
     "output_type": "execute_result"
    }
   ],
   "source": [
    "# they look like this\n",
    "U_t_code"
   ]
  },
  {
   "cell_type": "code",
   "execution_count": 49,
   "metadata": {
    "collapsed": false
   },
   "outputs": [
    {
     "data": {
      "image/png": "[encoded data removed]",
      "text/latex": [
       "$$\\frac{\\pi dt \\mu}{12 h} \\left(- 27 Txx_{t,x,y} + Txx_{t,x - 1,y} + 27 Txx_{t,x + 1,y} - Txx_{t,x + 2,y} + 27 Txy_{t,x,y} + Txy_{t,x,y - 2} - 27 Txy_{t,x,y - 1} - Txy_{t,x,y + 1}\\right) + U_{t,x,y}$$"
      ],
      "text/plain": [
       "π⋅dt⋅μ⋅(-27⋅Txx[t, x, y] + Txx[t, x - 1, y] + 27⋅Txx[t, x + 1, y] - Txx[t, x +\n",
       "──────────────────────────────────────────────────────────────────────────────\n",
       "                                                                              \n",
       "\n",
       " 2, y] + 27⋅Txy[t, x, y] + Txy[t, x, y - 2] - 27⋅Txy[t, x, y - 1] - Txy[t, x, \n",
       "──────────────────────────────────────────────────────────────────────────────\n",
       "  12⋅h                                                                        \n",
       "\n",
       "y + 1])             \n",
       "─────── + U[t, x, y]\n",
       "                    "
      ]
     },
     "execution_count": 49,
     "metadata": {},
     "output_type": "execute_result"
    }
   ],
   "source": [
    "# and this\n",
    "U_t"
   ]
  },
  {
   "cell_type": "markdown",
   "metadata": {},
   "source": [
    "##boundary conditions"
   ]
  },
  {
   "cell_type": "markdown",
   "metadata": {},
   "source": [
    "###get the second order FD approximation in space"
   ]
  },
  {
   "cell_type": "code",
   "execution_count": 58,
   "metadata": {
    "collapsed": true
   },
   "outputs": [],
   "source": [
    "l = [t,x,y]\n",
    "\n",
    "# first-order spacial derivatives of velocities\n",
    "# O(h^2) accuracy\n",
    "\n",
    "DxU2 = Deriv_half(U,l,1,h,1,shift_forward=False)[1]\n",
    "DyV2 = Deriv_half(V,l,2,h,1,shift_forward=False)[1]\n",
    "DyU2 = Deriv_half(U,l,2,h,1)[1]\n",
    "DxV2 = Deriv_half(V,l,1,h,1)[1]"
   ]
  },
  {
   "cell_type": "markdown",
   "metadata": {},
   "source": [
    "###rewrite equations in second order approxation, i.e. (2,2) scheme"
   ]
  },
  {
   "cell_type": "code",
   "execution_count": 66,
   "metadata": {
    "collapsed": false
   },
   "outputs": [],
   "source": [
    "# stress-strain equations\n",
    "DtTxx_expr = (lam + 2*mu)*DxU2 + lam*DyV2\n",
    "DtTyy_expr = (lam + 2*mu)*DyV2 + lam*DxU2\n",
    "DtTxy_expr = mu*(DyU2+DxV2)"
   ]
  },
  {
   "cell_type": "markdown",
   "metadata": {},
   "source": [
    "###at boundary $x=0$\n",
    "$T_{xx}[0,y]=0$<br>\n",
    "$T_{xx}[-1,y]=-T_{xx}[1,y]=0$<br>\n",
    "$T_{xy}[-1,y]=-T_{xy}[0,y]=0$<br>\n",
    "$T_{xy}[-2,y]=-T_{xy}[1,y]=0$<br>"
   ]
  },
  {
   "cell_type": "code",
   "execution_count": 84,
   "metadata": {
    "collapsed": false
   },
   "outputs": [],
   "source": [
    "U_2,U_1,U0,U1,U2,V_2,V_1,V0,V1,V2 = symbols('U_2 U_1 U0 U1 U2 V_2 V_1 V0 V1 V2')\n",
    "sublist = {U[t,-2,y]:U_2,U[t,-1,y]:U_1,U[t,0,y]:U0,U[t,1,y]:U1,U[t,2,y]:U2}\n",
    "sublist.update({V[t,-2,y]:V_2,V[t,-1,y]:V_1,V[t,0,y]:V0,V[t,1,y]:V1,V[t,2,y]:V2})\n",
    "eq8 = Eq(DtTxx_expr.subs(x,0),0).subs(sublist)\n",
    "eq9 = Eq(DtTxx_expr.subs(x,-1),DtTxx_expr.subs(x,1)).subs(sublist)\n",
    "eq10 = Eq(DtTxy_expr.subs(x,-1),DtTxx_expr.subs(x,0)).subs(sublist)\n",
    "eq11 = Eq(DtTxy_expr.subs(x,-2),DtTxx_expr.subs(x,1)).subs(sublist)"
   ]
  },
  {
   "cell_type": "code",
   "execution_count": 90,
   "metadata": {
    "collapsed": false
   },
   "outputs": [
    {
     "data": {
      "image/png": "[encoded data removed]",
      "text/latex": [
       "$$\\mu \\left(- \\frac{U_{2}}{h} + \\frac{V_{1}}{h} - \\frac{V_{2}}{h} + \\frac{1}{h} U_{t,-2,y + 1}\\right) = \\lambda \\left(\\frac{V_{1}}{h} - \\frac{1}{h} V_{t,1,y - 1}\\right) + \\left(\\lambda + 2 \\mu\\right) \\left(- \\frac{U_{0}}{h} + \\frac{U_{1}}{h}\\right)$$"
      ],
      "text/plain": [
       "  ⎛  U₂   V₁   V₂   U[t, -2, y + 1]⎞     ⎛V₁   V[t, 1, y - 1]⎞             ⎛  \n",
       "μ⋅⎜- ── + ── - ── + ───────────────⎟ = λ⋅⎜── - ──────────────⎟ + (λ + 2⋅μ)⋅⎜- \n",
       "  ⎝  h    h    h           h       ⎠     ⎝h          h       ⎠             ⎝  \n",
       "\n",
       "U₀   U₁⎞\n",
       "── + ──⎟\n",
       "h    h ⎠"
      ]
     },
     "execution_count": 90,
     "metadata": {},
     "output_type": "execute_result"
    }
   ],
   "source": [
    "eq11"
   ]
  },
  {
   "cell_type": "code",
   "execution_count": null,
   "metadata": {
    "collapsed": true
   },
   "outputs": [],
   "source": []
  },
  {
   "cell_type": "code",
   "execution_count": 18,
   "metadata": {
    "collapsed": false
   },
   "outputs": [],
   "source": [
    "# constant boundary condition\n",
    "bc_const = Float(0)\n",
    "# Dirichlet boundary condition\n",
    "bc_dirichlet = 100 + 0.2*t\n",
    "# Neumann boundary condition (expression evaluates to zero)\n",
    "bc_neumann = Deriv(U,l,1,h,2)[1] - 1"
   ]
  },
  {
   "cell_type": "code",
   "execution_count": 19,
   "metadata": {
    "collapsed": false
   },
   "outputs": [
    {
     "ename": "NameError",
     "evalue": "name 'z' is not defined",
     "output_type": "error",
     "traceback": [
      "\u001b[1;31m---------------------------------------------------------------------------\u001b[0m",
      "\u001b[1;31mNameError\u001b[0m                                 Traceback (most recent call last)",
      "\u001b[1;32m<ipython-input-19-d6c183ab5f0b>\u001b[0m in \u001b[0;36m<module>\u001b[1;34m()\u001b[0m\n\u001b[1;32m----> 1\u001b[1;33m \u001b[0mbc_neuman1\u001b[0m \u001b[1;33m=\u001b[0m \u001b[0msolve\u001b[0m\u001b[1;33m(\u001b[0m\u001b[0mbc_neumann\u001b[0m\u001b[1;33m,\u001b[0m\u001b[0mU\u001b[0m\u001b[1;33m[\u001b[0m\u001b[0mt\u001b[0m\u001b[1;33m,\u001b[0m\u001b[0mx\u001b[0m\u001b[1;33m+\u001b[0m\u001b[1;36m1\u001b[0m\u001b[1;33m,\u001b[0m\u001b[0my\u001b[0m\u001b[1;33m,\u001b[0m\u001b[0mz\u001b[0m\u001b[1;33m]\u001b[0m\u001b[1;33m)\u001b[0m\u001b[1;33m[\u001b[0m\u001b[1;36m0\u001b[0m\u001b[1;33m]\u001b[0m\u001b[1;33m.\u001b[0m\u001b[0msubs\u001b[0m\u001b[1;33m(\u001b[0m\u001b[0mx\u001b[0m\u001b[1;33m+\u001b[0m\u001b[1;36m1\u001b[0m\u001b[1;33m,\u001b[0m\u001b[0mx\u001b[0m\u001b[1;33m)\u001b[0m\u001b[1;33m;\u001b[0m \u001b[0massign_pochoir_bc\u001b[0m\u001b[1;33m(\u001b[0m\u001b[0mbc_neuman1\u001b[0m\u001b[1;33m)\u001b[0m\u001b[1;33m\u001b[0m\u001b[0m\n\u001b[0m",
      "\u001b[1;31mNameError\u001b[0m: name 'z' is not defined"
     ]
    }
   ],
   "source": [
    "bc_neuman1 = solve(bc_neumann,U[t,x+1,y,z])[0].subs(x+1,x); assign_pochoir_bc(bc_neuman1)"
   ]
  },
  {
   "cell_type": "code",
   "execution_count": null,
   "metadata": {
    "collapsed": true
   },
   "outputs": [],
   "source": [
    "bc_U_x0 = assign_pochoir_bc(bc_const); bc_U_x1 = assign_pochoir_bc(bc_const)\n",
    "bc_U_y0 = assign_pochoir_bc(bc_const); bc_U_y1 = assign_pochoir_bc(bc_const)"
   ]
  },
  {
   "cell_type": "code",
   "execution_count": null,
   "metadata": {
    "collapsed": false
   },
   "outputs": [],
   "source": [
    "bc_V_x0 = assign_pochoir_bc(bc_const); bc_V_x1 = assign_pochoir_bc(bc_const)\n",
    "bc_V_y0 = assign_pochoir_bc(bc_const); bc_V_y1 = assign_pochoir_bc(bc_const)"
   ]
  },
  {
   "cell_type": "code",
   "execution_count": null,
   "metadata": {
    "collapsed": true
   },
   "outputs": [],
   "source": [
    "bc_Txx_x0 = assign_pochoir_bc(bc_const); bc_Txx_x1 = assign_pochoir_bc(bc_const)\n",
    "bc_Txx_y0 = assign_pochoir_bc(bc_const); bc_Txx_y1 = assign_pochoir_bc(bc_const)"
   ]
  },
  {
   "cell_type": "code",
   "execution_count": null,
   "metadata": {
    "collapsed": true
   },
   "outputs": [],
   "source": [
    "bc_Tyy_x0 = assign_pochoir_bc(bc_const); bc_Tyy_x1 = assign_pochoir_bc(bc_const)\n",
    "bc_Tyy_y0 = assign_pochoir_bc(bc_const); bc_Tyy_y1 = assign_pochoir_bc(bc_const)"
   ]
  },
  {
   "cell_type": "code",
   "execution_count": null,
   "metadata": {
    "collapsed": true
   },
   "outputs": [],
   "source": [
    "bc_Txy_x0 = assign_pochoir_bc(bc_const); bc_Txy_x1 = assign_pochoir_bc(bc_const)\n",
    "bc_Txy_y0 = assign_pochoir_bc(bc_const); bc_Txy_y1 = assign_pochoir_bc(bc_const)"
   ]
  },
  {
   "cell_type": "markdown",
   "metadata": {},
   "source": [
    "###output using templates"
   ]
  },
  {
   "cell_type": "code",
   "execution_count": null,
   "metadata": {
    "collapsed": false
   },
   "outputs": [],
   "source": [
    "# write to template file\n",
    "mylookup = TemplateLookup(directories=['templates/'])\n",
    "mytemplate = mylookup.get_template('test_pochoir_iso_elastic_tmpl.cpp')\n",
    "buf = StringIO()\n",
    "dict1 = {'time_period':2,'Txx':Txx_t,'Tyy':Tyy_t,'Tzz':Tzz_t,'Txy':Txy_t,'Txz':Txz_t,'Tyz':Tyz_t,'U':U_t,'V':V_t,'W':W_t}\n",
    "dict1.update({'bc_U_x0':bc_U_x0,'bc_U_x1':bc_U_x1,'bc_U_y0':bc_U_y0,'bc_U_y1':bc_U_y1,'bc_U_z0':bc_U_z0,'bc_U_z1':bc_U_z1})\n",
    "dict1.update({'bc_V_x0':bc_V_x0,'bc_V_x1':bc_V_x1,'bc_V_y0':bc_V_y0,'bc_V_y1':bc_V_y1,'bc_V_z0':bc_V_z0,'bc_V_z1':bc_V_z1})\n",
    "dict1.update({'bc_W_x0':bc_W_x0,'bc_W_x1':bc_W_x1,'bc_W_y0':bc_W_y0,'bc_W_y1':bc_U_y1,'bc_W_z0':bc_W_z0,'bc_W_z1':bc_W_z1})\n",
    "dict1.update({'bc_Txx_x0':bc_Txx_x0,'bc_Txx_x1':bc_Txx_x1,'bc_Txx_y0':bc_Txx_y0,'bc_Txx_y1':bc_Txx_y1,'bc_Txx_z0':bc_Txx_z0,'bc_Txx_z1':bc_Txx_z1})\n",
    "dict1.update({'bc_Tyy_x0':bc_Tyy_x0,'bc_Tyy_x1':bc_Tyy_x1,'bc_Tyy_y0':bc_Tyy_y0,'bc_Tyy_y1':bc_Tyy_y1,'bc_Tyy_z0':bc_Tyy_z0,'bc_Tyy_z1':bc_U_z1})\n",
    "dict1.update({'bc_Tzz_x0':bc_Tzz_x0,'bc_Tzz_x1':bc_Tzz_x1,'bc_Tzz_y0':bc_Tzz_y0,'bc_Tzz_y1':bc_Tzz_y1,'bc_Tzz_z0':bc_Tzz_z0,'bc_Tzz_z1':bc_Tzz_z1})\n",
    "dict1.update({'bc_Txy_x0':bc_Txy_x0,'bc_Txy_x1':bc_Txy_x1,'bc_Txy_y0':bc_Txy_y0,'bc_Txy_y1':bc_Txy_y1,'bc_Txy_z0':bc_Txy_z0,'bc_Txy_z1':bc_Txy_z1})\n",
    "dict1.update({'bc_Txz_x0':bc_Txz_x0,'bc_Txz_x1':bc_Txz_x1,'bc_Txz_y0':bc_Txz_y0,'bc_Txz_y1':bc_Txz_y1,'bc_Txz_z0':bc_Txz_z0,'bc_Txz_z1':bc_Txz_z1})\n",
    "dict1.update({'bc_Tyz_x0':bc_Tyz_x0,'bc_Tyz_x1':bc_Tyz_x1,'bc_Tyz_y0':bc_Tyz_y0,'bc_Tyz_y1':bc_Tyz_y1,'bc_Tyz_z0':bc_Tyz_z0,'bc_Tyz_z1':bc_Tyz_z1})\n",
    "ctx = Context(buf, **dict1)\n",
    "mytemplate.render_context(ctx)\n",
    "code = buf.getvalue()"
   ]
  },
  {
   "cell_type": "code",
   "execution_count": null,
   "metadata": {
    "collapsed": false
   },
   "outputs": [],
   "source": [
    "# generate compilable C++ source code\n",
    "f= open('../tests/src/mytest_pochoir.cpp','w')\n",
    "f.write(code)\n",
    "f.close()"
   ]
  },
  {
   "cell_type": "code",
   "execution_count": null,
   "metadata": {
    "collapsed": true
   },
   "outputs": [],
   "source": []
  }
 ],
 "metadata": {
  "kernelspec": {
   "display_name": "Python 2",
   "language": "python",
   "name": "python2"
  },
  "language_info": {
   "codemirror_mode": {
    "name": "ipython",
    "version": 2
   },
   "file_extension": ".py",
   "mimetype": "text/x-python",
   "name": "python",
   "nbconvert_exporter": "python",
   "pygments_lexer": "ipython2",
   "version": "2.7.10"
  }
 },
 "nbformat": 4,
 "nbformat_minor": 0
}
