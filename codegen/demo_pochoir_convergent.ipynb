{
 "cells": [
  {
   "cell_type": "markdown",
   "metadata": {},
   "source": [
    "##FD schemes convergece investigation using 2D wave equation"
   ]
  },
  {
   "cell_type": "code",
   "execution_count": 19,
   "metadata": {
    "collapsed": false
   },
   "outputs": [
    {
     "name": "stdout",
     "output_type": "stream",
     "text": [
      "The autoreload extension is already loaded. To reload it, use:\n",
      "  %reload_ext autoreload\n"
     ]
    }
   ],
   "source": [
    "%load_ext autoreload\n",
    "%autoreload 2\n",
    "from sympy import symbols, init_printing, simplify, solve, srepr, Add, Symbol, Integer, Float, pi, cos, sin, Rational\n",
    "from mako.template import Template\n",
    "from mako.lookup import TemplateLookup\n",
    "from mako.runtime import Context\n",
    "from StringIO import StringIO\n",
    "from fdlib import *\n",
    "init_printing()"
   ]
  },
  {
   "cell_type": "code",
   "execution_count": 20,
   "metadata": {
    "collapsed": false
   },
   "outputs": [],
   "source": [
    "U,V,Txx,Tyy,Txy = IndexedBases('U V Txx Tyy Txy')\n",
    "b, lam, mu = symbols('beta lambda mu')\n",
    "x,y,t,h,dt,a,b, Vs = symbols('x y t h dt a b Vs')"
   ]
  },
  {
   "cell_type": "code",
   "execution_count": 21,
   "metadata": {
    "collapsed": true
   },
   "outputs": [],
   "source": [
    "accuracy_time = 1 # O(dt^2) accuracy in time domain\n",
    "accuracy_space = 2 # O(h^4) accuracy in space domain\n",
    "half = Rational(1,2)"
   ]
  },
  {
   "cell_type": "markdown",
   "metadata": {},
   "source": [
    "###Eigenmode functions (as initial condition and analytical solution)"
   ]
  },
  {
   "cell_type": "markdown",
   "metadata": {},
   "source": [
    "$U = acos(\\pi x)sin(\\pi y)cos(at)$<br>\n",
    "$V = -asin(\\pi x)cos(\\pi y)cos(at)$<br>\n",
    "$T_{xx} = -bsin(\\pi x)sin(\\pi y)sin(at)$<br>\n",
    "$T_{yy} = bsin(\\pi x)sin(\\pi y)sin(at)$<br>\n",
    "$T_{xy} = T_{yx} = 0$<br>\n",
    "where $a=\\sqrt 2 \\pi V_s\\space \\space b=2\\pi\\mu$"
   ]
  },
  {
   "cell_type": "code",
   "execution_count": 6,
   "metadata": {
    "collapsed": false
   },
   "outputs": [],
   "source": [
    "a = 2**(0.5)*pi*Vs\n",
    "b = 2*pi*mu\n",
    "U_sol = a*cos(pi*x)*sin(pi*y)*cos(a*t)\n",
    "V_sol = -a*sin(pi*x)*cos(pi*y)*cos(a*t)\n",
    "Txx_sol = -b*sin(pi*x)*sin(pi*y)*sin(a*t)\n",
    "Tyy_sol = b*sin(pi*x)*sin(pi*y)*sin(a*t)\n",
    "Txy_sol = Float(0)"
   ]
  },
  {
   "cell_type": "markdown",
   "metadata": {},
   "source": [
    "###Initial conditions"
   ]
  },
  {
   "cell_type": "code",
   "execution_count": 7,
   "metadata": {
    "collapsed": false
   },
   "outputs": [],
   "source": [
    "# substitution t=0\n",
    "U_init = print_myccode(U_sol.subs(t,0))\n",
    "V_init = print_myccode(V_sol.subs(t,0))\n",
    "Txx_init = print_myccode(Txx_sol.subs(t,0))\n",
    "Tyy_init = print_myccode(Tyy_sol.subs(t,0))\n",
    "Txy_init = print_myccode(Txy_sol.subs(t,0))"
   ]
  },
  {
   "cell_type": "markdown",
   "metadata": {},
   "source": [
    "###Calculate FD approximation of derivatives"
   ]
  },
  {
   "cell_type": "code",
   "execution_count": 10,
   "metadata": {
    "collapsed": false
   },
   "outputs": [],
   "source": [
    "l = [t,x,y]\n",
    "\n",
    "# first-order time derivatives in velocities and stresses\n",
    "# O(dt^2) accuracy\n",
    "DtU = Deriv_half_2(U,l,0,dt,accuracy_time)[1]\n",
    "DtV = Deriv_half_2(V,l,0,dt,accuracy_time)[1]\n",
    "\n",
    "DtTxx = Deriv_half_2(Txx,l,0,dt,accuracy_time)[1]\n",
    "DtTxy = Deriv_half_2(Txy,l,0,dt,accuracy_time)[1]\n",
    "DtTyy = Deriv_half_2(Tyy,l,0,dt,accuracy_time)[1]\n",
    "\n",
    "# first-order spacial derivatives of velocities and stresses\n",
    "# O(h^4) accuracy\n",
    "\n",
    "DxU = Deriv_half_2(U,l,1,h,accuracy_space)[1]\n",
    "DyV = Deriv_half_2(V,l,2,h,accuracy_space)[1]\n",
    "\n",
    "DyU = Deriv_half_2(U,l,2,h,accuracy_space)[1]\n",
    "DxV = Deriv_half_2(V,l,1,h,accuracy_space)[1]\n",
    "\n",
    "DxTxx = Deriv_half_2(Txx,l,1,h,accuracy_space)[1]\n",
    "DyTyy = Deriv_half_2(Tyy,l,2,h,accuracy_space)[1]\n",
    "\n",
    "DxTxy = Deriv_half_2(Txy,l,1,h,accuracy_space)[1]\n",
    "DyTxy = Deriv_half_2(Txy,l,2,h,accuracy_space)[1]"
   ]
  },
  {
   "cell_type": "code",
   "execution_count": 11,
   "metadata": {
    "collapsed": false
   },
   "outputs": [
    {
     "data": {
      "image/png": "[encoded data removed]",
      "text/latex": [
       "$$\\frac{Txx_{t,x - \\frac{3}{2},y}}{24 h} - \\frac{9 Txx_{t,x - \\frac{1}{2},y}}{8 h} + \\frac{9 Txx_{t,x + \\frac{1}{2},y}}{8 h} - \\frac{Txx_{t,x + \\frac{3}{2},y}}{24 h}$$"
      ],
      "text/plain": [
       "Txx[t, x - 3/2, y]   9⋅Txx[t, x - 1/2, y]   9⋅Txx[t, x + 1/2, y]   Txx[t, x + \n",
       "────────────────── - ──────────────────── + ──────────────────── - ───────────\n",
       "       24⋅h                  8⋅h                    8⋅h                   24⋅h\n",
       "\n",
       "3/2, y]\n",
       "───────\n",
       "       "
      ]
     },
     "execution_count": 11,
     "metadata": {},
     "output_type": "execute_result"
    }
   ],
   "source": [
    "DxTxx"
   ]
  },
  {
   "cell_type": "code",
   "execution_count": 13,
   "metadata": {
    "collapsed": false
   },
   "outputs": [
    {
     "data": {
      "image/png": "[encoded data removed]",
      "text/latex": [
       "$$- \\frac{1}{dt} Txy_{t - \\frac{1}{2},x,y} + \\frac{1}{dt} Txy_{t + \\frac{1}{2},x,y}$$"
      ],
      "text/plain": [
       "  Txy[t - 1/2, x, y]   Txy[t + 1/2, x, y]\n",
       "- ────────────────── + ──────────────────\n",
       "          dt                   dt        "
      ]
     },
     "execution_count": 13,
     "metadata": {},
     "output_type": "execute_result"
    }
   ],
   "source": [
    "DtTxy"
   ]
  },
  {
   "cell_type": "code",
   "execution_count": 14,
   "metadata": {
    "collapsed": false
   },
   "outputs": [
    {
     "data": {
      "image/png": "[encoded data removed]",
      "text/latex": [
       "$$\\frac{Txy_{t,x,y - \\frac{3}{2}}}{24 h} - \\frac{9 Txy_{t,x,y - \\frac{1}{2}}}{8 h} + \\frac{9 Txy_{t,x,y + \\frac{1}{2}}}{8 h} - \\frac{Txy_{t,x,y + \\frac{3}{2}}}{24 h}$$"
      ],
      "text/plain": [
       "Txy[t, x, y - 3/2]   9⋅Txy[t, x, y - 1/2]   9⋅Txy[t, x, y + 1/2]   Txy[t, x, y\n",
       "────────────────── - ──────────────────── + ──────────────────── - ───────────\n",
       "       24⋅h                  8⋅h                    8⋅h                   24⋅h\n",
       "\n",
       " + 3/2]\n",
       "───────\n",
       "       "
      ]
     },
     "execution_count": 14,
     "metadata": {},
     "output_type": "execute_result"
    }
   ],
   "source": [
    "DyTxy"
   ]
  },
  {
   "cell_type": "markdown",
   "metadata": {},
   "source": [
    "###PDEs\n",
    "\n",
    "#####momentum equations\n",
    "$\\partial_tU = b(\\partial_xT_{xx}+\\partial_yT_{xy})$<br>\n",
    "$\\partial_tV = b(\\partial_xT_{xy}+\\partial_yT_{yy})$<br>\n",
    "#####stress-strain equations\n",
    "$\\partial_tT_{xx} = (\\lambda+2\\mu)\\partial_xU + \\lambda\\partial_yV $<br>\n",
    "$\\partial_tT_{yy} = (\\lambda+2\\mu)\\partial_yV + \\lambda\\partial_xU $<br>\n",
    "$\\partial_tT_{xy} = \\mu(\\partial_yU + \\partial_xV)$<br>"
   ]
  },
  {
   "cell_type": "code",
   "execution_count": 15,
   "metadata": {
    "collapsed": false
   },
   "outputs": [],
   "source": [
    "# momentum equations\n",
    "eq1 = Eq(DtU, b*(DxTxx + DyTxy))\n",
    "eq2 = Eq(DtV, b*(DxTxy + DyTyy))\n",
    "\n",
    "# stress-strain equations\n",
    "eq3 = Eq(DtTxx, (lam + 2*mu)*DxU + lam*DyV)\n",
    "eq4 = Eq(DtTyy, (lam + 2*mu)*DyV + lam*DxU)\n",
    "eq5 = Eq(DtTxy, mu*(DyU+DxV))"
   ]
  },
  {
   "cell_type": "code",
   "execution_count": 16,
   "metadata": {
    "collapsed": false
   },
   "outputs": [
    {
     "data": {
      "image/png": "[encoded data removed]",
      "text/latex": [
       "$$- \\frac{1}{dt} U_{t - \\frac{1}{2},x,y} + \\frac{1}{dt} U_{t + \\frac{1}{2},x,y} = 2 \\pi \\mu \\left(\\frac{Txx_{t,x - \\frac{3}{2},y}}{24 h} - \\frac{9 Txx_{t,x - \\frac{1}{2},y}}{8 h} + \\frac{9 Txx_{t,x + \\frac{1}{2},y}}{8 h} - \\frac{Txx_{t,x + \\frac{3}{2},y}}{24 h} + \\frac{Txy_{t,x,y - \\frac{3}{2}}}{24 h} - \\frac{9 Txy_{t,x,y - \\frac{1}{2}}}{8 h} + \\frac{9 Txy_{t,x,y + \\frac{1}{2}}}{8 h} - \\frac{Txy_{t,x,y + \\frac{3}{2}}}{24 h}\\right)$$"
      ],
      "text/plain": [
       "  U[t - 1/2, x, y]   U[t + 1/2, x, y]         ⎛Txx[t, x - 3/2, y]   9⋅Txx[t, x\n",
       "- ──────────────── + ──────────────── = 2⋅π⋅μ⋅⎜────────────────── - ──────────\n",
       "         dt                 dt                ⎝       24⋅h                  8⋅\n",
       "\n",
       " - 1/2, y]   9⋅Txx[t, x + 1/2, y]   Txx[t, x + 3/2, y]   Txy[t, x, y - 3/2]   \n",
       "────────── + ──────────────────── - ────────────────── + ────────────────── - \n",
       "h                    8⋅h                   24⋅h                 24⋅h          \n",
       "\n",
       "9⋅Txy[t, x, y - 1/2]   9⋅Txy[t, x, y + 1/2]   Txy[t, x, y + 3/2]⎞\n",
       "──────────────────── + ──────────────────── - ──────────────────⎟\n",
       "        8⋅h                    8⋅h                   24⋅h       ⎠"
      ]
     },
     "execution_count": 16,
     "metadata": {},
     "output_type": "execute_result"
    }
   ],
   "source": [
    "eq1"
   ]
  },
  {
   "cell_type": "code",
   "execution_count": 17,
   "metadata": {
    "collapsed": false
   },
   "outputs": [
    {
     "data": {
      "image/png": "[encoded data removed]",
      "text/latex": [
       "$$- \\frac{1}{dt} Txx_{t - \\frac{1}{2},x,y} + \\frac{1}{dt} Txx_{t + \\frac{1}{2},x,y} = \\lambda \\left(\\frac{V_{t,x,y - \\frac{3}{2}}}{24 h} - \\frac{9 V_{t,x,y - \\frac{1}{2}}}{8 h} + \\frac{9 V_{t,x,y + \\frac{1}{2}}}{8 h} - \\frac{V_{t,x,y + \\frac{3}{2}}}{24 h}\\right) + \\left(\\lambda + 2 \\mu\\right) \\left(\\frac{U_{t,x - \\frac{3}{2},y}}{24 h} - \\frac{9 U_{t,x - \\frac{1}{2},y}}{8 h} + \\frac{9 U_{t,x + \\frac{1}{2},y}}{8 h} - \\frac{U_{t,x + \\frac{3}{2},y}}{24 h}\\right)$$"
      ],
      "text/plain": [
       "  Txx[t - 1/2, x, y]   Txx[t + 1/2, x, y]     ⎛V[t, x, y - 3/2]   9⋅V[t, x, y \n",
       "- ────────────────── + ────────────────── = λ⋅⎜──────────────── - ────────────\n",
       "          dt                   dt             ⎝      24⋅h                8⋅h  \n",
       "\n",
       "- 1/2]   9⋅V[t, x, y + 1/2]   V[t, x, y + 3/2]⎞             ⎛U[t, x - 3/2, y] \n",
       "────── + ────────────────── - ────────────────⎟ + (λ + 2⋅μ)⋅⎜──────────────── \n",
       "                8⋅h                 24⋅h      ⎠             ⎝      24⋅h       \n",
       "\n",
       "  9⋅U[t, x - 1/2, y]   9⋅U[t, x + 1/2, y]   U[t, x + 3/2, y]⎞\n",
       "- ────────────────── + ────────────────── - ────────────────⎟\n",
       "         8⋅h                  8⋅h                 24⋅h      ⎠"
      ]
     },
     "execution_count": 17,
     "metadata": {},
     "output_type": "execute_result"
    }
   ],
   "source": [
    "eq3"
   ]
  },
  {
   "cell_type": "markdown",
   "metadata": {},
   "source": [
    "###solve for FD stencil"
   ]
  },
  {
   "cell_type": "code",
   "execution_count": 24,
   "metadata": {
    "collapsed": false
   },
   "outputs": [],
   "source": [
    "# for demo only\n",
    "U_t = simplify(solve(eq1,U[t+half,x,y])[0]-U[t-half,x,y])+U[t-half,x,y]\n",
    "V_t = simplify(solve(eq2,V[t+half,x,y])[0]-V[t-half,x,y])+V[t-half,x,y]\n",
    "Txx_t = simplify(solve(eq3,Txx[t+half,x,y])[0]-Txx[t-half,x,y])+Txx[t-half,x,y]\n",
    "Tyy_t = simplify(solve(eq4,Tyy[t+half,x,y])[0]-Tyy[t-half,x,y])+Tyy[t-half,x,y]\n",
    "# note difference between Txx and Txy indices\n",
    "Txy_t = simplify(solve(eq5,Txy[t+half,x,y])[0]-Txy[t-half,x,y])+Txy[t-half,x,y]"
   ]
  },
  {
   "cell_type": "code",
   "execution_count": 47,
   "metadata": {
    "collapsed": false
   },
   "outputs": [],
   "source": [
    "# generate computation code segments\n",
    "U_t_code = print_myccode(U[t+1,x,y],pochoir=True) + \"=\" + print_myccode(U_t,pochoir=True)\n",
    "V_t_code = print_myccode(V[t+1,x,y],pochoir=True) + \"=\" + print_myccode(V_t,pochoir=True)\n",
    "Txx_t_code = print_myccode(Txx[t+1,x,y],pochoir=True) + \"=\" + print_myccode(Txx_t,pochoir=True)\n",
    "Tyy_t_code = print_myccode(Tyy[t+1,x,y],pochoir=True) + \"=\" + print_myccode(Tyy_t,pochoir=True)\n",
    "Txy_t_code = print_myccode(Txy[t+1,x,y],pochoir=True) + \"=\" + print_myccode(Txy_t,pochoir=True)"
   ]
  },
  {
   "cell_type": "code",
   "execution_count": 48,
   "metadata": {
    "collapsed": false
   },
   "outputs": [
    {
     "data": {
      "text/plain": [
       "'U(t + 1,x,y)=(1.0/12.0)*M_PI*dt*mu*(-27*Txx(t,x,y) + Txx(t,x - 1,y) + 27*Txx(t,x + 1,y) - Txx(t,x + 2,y) + 27*Txy(t,x,y) + Txy(t,x,y - 2) - 27*Txy(t,x,y - 1) - Txy(t,x,y + 1))/h + U(t,x,y)'"
      ]
     },
     "execution_count": 48,
     "metadata": {},
     "output_type": "execute_result"
    }
   ],
   "source": [
    "# they look like this\n",
    "U_t_code"
   ]
  },
  {
   "cell_type": "code",
   "execution_count": 49,
   "metadata": {
    "collapsed": false
   },
   "outputs": [
    {
     "data": {
      "image/png": "[encoded data removed]",
      "text/latex": [
       "$$\\frac{\\pi dt \\mu}{12 h} \\left(- 27 Txx_{t,x,y} + Txx_{t,x - 1,y} + 27 Txx_{t,x + 1,y} - Txx_{t,x + 2,y} + 27 Txy_{t,x,y} + Txy_{t,x,y - 2} - 27 Txy_{t,x,y - 1} - Txy_{t,x,y + 1}\\right) + U_{t,x,y}$$"
      ],
      "text/plain": [
       "π⋅dt⋅μ⋅(-27⋅Txx[t, x, y] + Txx[t, x - 1, y] + 27⋅Txx[t, x + 1, y] - Txx[t, x +\n",
       "──────────────────────────────────────────────────────────────────────────────\n",
       "                                                                              \n",
       "\n",
       " 2, y] + 27⋅Txy[t, x, y] + Txy[t, x, y - 2] - 27⋅Txy[t, x, y - 1] - Txy[t, x, \n",
       "──────────────────────────────────────────────────────────────────────────────\n",
       "  12⋅h                                                                        \n",
       "\n",
       "y + 1])             \n",
       "─────── + U[t, x, y]\n",
       "                    "
      ]
     },
     "execution_count": 49,
     "metadata": {},
     "output_type": "execute_result"
    }
   ],
   "source": [
    "# and this\n",
    "U_t"
   ]
  },
  {
   "cell_type": "markdown",
   "metadata": {},
   "source": [
    "##boundary conditions"
   ]
  },
  {
   "cell_type": "markdown",
   "metadata": {},
   "source": [
    "###get the second order FD approximation in space"
   ]
  },
  {
   "cell_type": "code",
   "execution_count": 40,
   "metadata": {
    "collapsed": true
   },
   "outputs": [],
   "source": [
    "l = [t,x,y]\n",
    "\n",
    "# first-order spacial derivatives of velocities\n",
    "# O(h^2) accuracy\n",
    "\n",
    "DxU2 = Deriv_half_2(U,l,1,h,1)[1]\n",
    "DyV2 = Deriv_half_2(V,l,2,h,1)[1]\n",
    "DyU2 = Deriv_half_2(U,l,2,h,1)[1]\n",
    "DxV2 = Deriv_half_2(V,l,1,h,1)[1]\n",
    "\n",
    "Txx_expr = (lam + 2*mu)*DxU2 + lam*DyV2\n",
    "Tyy_expr = (lam + 2*mu)*DyV2 + lam*DxU2\n",
    "Txy_expr = mu*(DyU2 + DxV2)"
   ]
  },
  {
   "cell_type": "markdown",
   "metadata": {},
   "source": [
    "###at boundary $y=0$\n",
    "$T_{xx}[x,0]=0$<br>\n",
    "$T_{yy}[x,0]=0$<br>\n",
    "Txx not needed beyond the boundary<br>\n",
    "$T_{xx}[-1,y]=-T_{xx}[1,y]=0$<br>\n",
    "$T_{xy}[-1,y]=-T_{xy}[0,y]=0$<br>\n",
    "$T_{xy}[-2,y]=-T_{xy}[1,y]=0$<br>"
   ]
  },
  {
   "cell_type": "code",
   "execution_count": 29,
   "metadata": {
    "collapsed": false
   },
   "outputs": [
    {
     "data": {
      "image/png": "[encoded data removed]",
      "text/latex": [
       "$$\\frac{\\pi dt \\mu}{12 h} \\left(Txx_{t,x - \\frac{3}{2},0} - 27 Txx_{t,x - \\frac{1}{2},0} + 27 Txx_{t,x + \\frac{1}{2},0} - Txx_{t,x + \\frac{3}{2},0} + Txy_{t,x,- \\frac{3}{2}} - 27 Txy_{t,x,- \\frac{1}{2}} + 27 Txy_{t,x,\\frac{1}{2}} - Txy_{t,x,\\frac{3}{2}}\\right) + U_{t - \\frac{1}{2},x,0}$$"
      ],
      "text/plain": [
       "π⋅dt⋅μ⋅(Txx[t, x - 3/2, 0] - 27⋅Txx[t, x - 1/2, 0] + 27⋅Txx[t, x + 1/2, 0] - T\n",
       "──────────────────────────────────────────────────────────────────────────────\n",
       "                                                                              \n",
       "\n",
       "xx[t, x + 3/2, 0] + Txy[t, x, -3/2] - 27⋅Txy[t, x, -1/2] + 27⋅Txy[t, x, 1/2] -\n",
       "──────────────────────────────────────────────────────────────────────────────\n",
       "      12⋅h                                                                    \n",
       "\n",
       " Txy[t, x, 3/2])                   \n",
       "──────────────── + U[t - 1/2, x, 0]\n",
       "                                   "
      ]
     },
     "execution_count": 29,
     "metadata": {},
     "output_type": "execute_result"
    }
   ],
   "source": [
    "U_t.subs(y,0)"
   ]
  },
  {
   "cell_type": "code",
   "execution_count": 28,
   "metadata": {
    "collapsed": false
   },
   "outputs": [
    {
     "data": {
      "image/png": "[encoded data removed]",
      "text/latex": [
       "$$\\frac{\\pi dt \\mu}{12 h} \\left(Txy_{t,x - \\frac{3}{2},\\frac{1}{2}} - 27 Txy_{t,x - \\frac{1}{2},\\frac{1}{2}} + 27 Txy_{t,x + \\frac{1}{2},\\frac{1}{2}} - Txy_{t,x + \\frac{3}{2},\\frac{1}{2}} + Tyy_{t,x,-1} - 27 Tyy_{t,x,0} + 27 Tyy_{t,x,1} - Tyy_{t,x,2}\\right) + V_{t - \\frac{1}{2},x,\\frac{1}{2}}$$"
      ],
      "text/plain": [
       "π⋅dt⋅μ⋅(Txy[t, x - 3/2, 1/2] - 27⋅Txy[t, x - 1/2, 1/2] + 27⋅Txy[t, x + 1/2, 1/\n",
       "──────────────────────────────────────────────────────────────────────────────\n",
       "                                                                              \n",
       "\n",
       "2] - Txy[t, x + 3/2, 1/2] + Tyy[t, x, -1] - 27⋅Tyy[t, x, 0] + 27⋅Tyy[t, x, 1] \n",
       "──────────────────────────────────────────────────────────────────────────────\n",
       "      12⋅h                                                                    \n",
       "\n",
       "- Tyy[t, x, 2])                     \n",
       "─────────────── + V[t - 1/2, x, 1/2]\n",
       "                                    "
      ]
     },
     "execution_count": 28,
     "metadata": {},
     "output_type": "execute_result"
    }
   ],
   "source": [
    "V_t.subs(y,half)"
   ]
  },
  {
   "cell_type": "code",
   "execution_count": 31,
   "metadata": {
    "collapsed": false
   },
   "outputs": [
    {
     "data": {
      "image/png": "[encoded data removed]",
      "text/latex": [
       "$$\\frac{dt}{24 h} \\left(\\lambda U_{t,x - \\frac{3}{2},1} - 27 \\lambda U_{t,x - \\frac{1}{2},1} + 27 \\lambda U_{t,x + \\frac{1}{2},1} - \\lambda U_{t,x + \\frac{3}{2},1} + \\lambda V_{t,x,- \\frac{1}{2}} - 27 \\lambda V_{t,x,\\frac{1}{2}} + 27 \\lambda V_{t,x,\\frac{3}{2}} - \\lambda V_{t,x,\\frac{5}{2}} + 2 \\mu U_{t,x - \\frac{3}{2},1} - 54 \\mu U_{t,x - \\frac{1}{2},1} + 54 \\mu U_{t,x + \\frac{1}{2},1} - 2 \\mu U_{t,x + \\frac{3}{2},1}\\right) + Txx_{t - \\frac{1}{2},x,1}$$"
      ],
      "text/plain": [
       "dt⋅(λ⋅U[t, x - 3/2, 1] - 27⋅λ⋅U[t, x - 1/2, 1] + 27⋅λ⋅U[t, x + 1/2, 1] - λ⋅U[t\n",
       "──────────────────────────────────────────────────────────────────────────────\n",
       "                                                                              \n",
       "\n",
       ", x + 3/2, 1] + λ⋅V[t, x, -1/2] - 27⋅λ⋅V[t, x, 1/2] + 27⋅λ⋅V[t, x, 3/2] - λ⋅V[\n",
       "──────────────────────────────────────────────────────────────────────────────\n",
       "                                                   24⋅h                       \n",
       "\n",
       "t, x, 5/2] + 2⋅μ⋅U[t, x - 3/2, 1] - 54⋅μ⋅U[t, x - 1/2, 1] + 54⋅μ⋅U[t, x + 1/2,\n",
       "──────────────────────────────────────────────────────────────────────────────\n",
       "                                                                              \n",
       "\n",
       " 1] - 2⋅μ⋅U[t, x + 3/2, 1])                     \n",
       "─────────────────────────── + Txx[t - 1/2, x, 1]\n",
       "                                                "
      ]
     },
     "execution_count": 31,
     "metadata": {},
     "output_type": "execute_result"
    }
   ],
   "source": [
    "Txx_t.subs(y,1)"
   ]
  },
  {
   "cell_type": "code",
   "execution_count": 32,
   "metadata": {
    "collapsed": false
   },
   "outputs": [
    {
     "data": {
      "image/png": "[encoded data removed]",
      "text/latex": [
       "$$\\frac{dt}{24 h} \\left(\\lambda U_{t,x - \\frac{3}{2},1} - 27 \\lambda U_{t,x - \\frac{1}{2},1} + 27 \\lambda U_{t,x + \\frac{1}{2},1} - \\lambda U_{t,x + \\frac{3}{2},1} + \\lambda V_{t,x,- \\frac{1}{2}} - 27 \\lambda V_{t,x,\\frac{1}{2}} + 27 \\lambda V_{t,x,\\frac{3}{2}} - \\lambda V_{t,x,\\frac{5}{2}} + 2 \\mu V_{t,x,- \\frac{1}{2}} - 54 \\mu V_{t,x,\\frac{1}{2}} + 54 \\mu V_{t,x,\\frac{3}{2}} - 2 \\mu V_{t,x,\\frac{5}{2}}\\right) + Tyy_{t - \\frac{1}{2},x,1}$$"
      ],
      "text/plain": [
       "dt⋅(λ⋅U[t, x - 3/2, 1] - 27⋅λ⋅U[t, x - 1/2, 1] + 27⋅λ⋅U[t, x + 1/2, 1] - λ⋅U[t\n",
       "──────────────────────────────────────────────────────────────────────────────\n",
       "                                                                              \n",
       "\n",
       ", x + 3/2, 1] + λ⋅V[t, x, -1/2] - 27⋅λ⋅V[t, x, 1/2] + 27⋅λ⋅V[t, x, 3/2] - λ⋅V[\n",
       "──────────────────────────────────────────────────────────────────────────────\n",
       "                                           24⋅h                               \n",
       "\n",
       "t, x, 5/2] + 2⋅μ⋅V[t, x, -1/2] - 54⋅μ⋅V[t, x, 1/2] + 54⋅μ⋅V[t, x, 3/2] - 2⋅μ⋅V\n",
       "──────────────────────────────────────────────────────────────────────────────\n",
       "                                                                              \n",
       "\n",
       "[t, x, 5/2])                     \n",
       "──────────── + Tyy[t - 1/2, x, 1]\n",
       "                                 "
      ]
     },
     "execution_count": 32,
     "metadata": {},
     "output_type": "execute_result"
    }
   ],
   "source": [
    "Tyy_t.subs(y,1)"
   ]
  },
  {
   "cell_type": "code",
   "execution_count": 33,
   "metadata": {
    "collapsed": false
   },
   "outputs": [
    {
     "data": {
      "image/png": "[encoded data removed]",
      "text/latex": [
       "$$\\frac{dt \\mu}{24 h} \\left(U_{t,x,-1} - 27 U_{t,x,0} + 27 U_{t,x,1} - U_{t,x,2} + V_{t,x - \\frac{3}{2},\\frac{1}{2}} - 27 V_{t,x - \\frac{1}{2},\\frac{1}{2}} + 27 V_{t,x + \\frac{1}{2},\\frac{1}{2}} - V_{t,x + \\frac{3}{2},\\frac{1}{2}}\\right) + Txy_{t - \\frac{1}{2},x,\\frac{1}{2}}$$"
      ],
      "text/plain": [
       "dt⋅μ⋅(U[t, x, -1] - 27⋅U[t, x, 0] + 27⋅U[t, x, 1] - U[t, x, 2] + V[t, x - 3/2,\n",
       "──────────────────────────────────────────────────────────────────────────────\n",
       "                                                                           24⋅\n",
       "\n",
       " 1/2] - 27⋅V[t, x - 1/2, 1/2] + 27⋅V[t, x + 1/2, 1/2] - V[t, x + 3/2, 1/2])   \n",
       "─────────────────────────────────────────────────────────────────────────── + \n",
       "h                                                                             \n",
       "\n",
       "                    \n",
       "Txy[t - 1/2, x, 1/2]\n",
       "                    "
      ]
     },
     "execution_count": 33,
     "metadata": {},
     "output_type": "execute_result"
    }
   ],
   "source": [
    "Txy_t.subs(y,half)"
   ]
  },
  {
   "cell_type": "markdown",
   "metadata": {},
   "source": [
    "###### to calculate above, we need these point beyond the boundary\n",
    "$T_{xy}[x,-\\frac{1}{2}]$<br>\n",
    "$T_{xy}[x,-\\frac{3}{2}]$<br>\n",
    "$T_{yy}[x,-1]$<br>\n",
    "$U[x,-1]$<br>\n",
    "$V[x,-\\frac{1}{2}]$<br>"
   ]
  },
  {
   "cell_type": "code",
   "execution_count": 42,
   "metadata": {
    "collapsed": false
   },
   "outputs": [
    {
     "data": {
      "image/png": "[encoded data removed]",
      "text/latex": [
       "$$\\lambda \\left(- \\frac{1}{h} U_{t,x - \\frac{1}{2},0} + \\frac{1}{h} U_{t,x + \\frac{1}{2},0}\\right) + \\left(\\lambda + 2 \\mu\\right) \\left(- \\frac{V_{t,x,- \\frac{1}{2}}}{h} + \\frac{V_{t,x,\\frac{1}{2}}}{h}\\right)$$"
      ],
      "text/plain": [
       "  ⎛  U[t, x - 1/2, 0]   U[t, x + 1/2, 0]⎞             ⎛  V[t, x, -1/2]   V[t, \n",
       "λ⋅⎜- ──────────────── + ────────────────⎟ + (λ + 2⋅μ)⋅⎜- ───────────── + ─────\n",
       "  ⎝         h                  h        ⎠             ⎝        h              \n",
       "\n",
       "x, 1/2]⎞\n",
       "───────⎟\n",
       "h      ⎠"
      ]
     },
     "execution_count": 42,
     "metadata": {},
     "output_type": "execute_result"
    }
   ],
   "source": [
    "Tyy_expr.subs(y,0)"
   ]
  },
  {
   "cell_type": "code",
   "execution_count": 39,
   "metadata": {
    "collapsed": false
   },
   "outputs": [
    {
     "data": {
      "image/png": "[encoded data removed]",
      "text/latex": [
       "$$\\lambda \\left(- \\frac{1}{h} V_{t,x,y - \\frac{1}{2}} + \\frac{1}{h} V_{t,x,y + \\frac{1}{2}}\\right) + \\left(\\lambda + 2 \\mu\\right) \\left(- \\frac{1}{h} U_{t,x - \\frac{1}{2},y} + \\frac{1}{h} U_{t,x + \\frac{1}{2},y}\\right)$$"
      ],
      "text/plain": [
       "  ⎛  V[t, x, y - 1/2]   V[t, x, y + 1/2]⎞             ⎛  U[t, x - 1/2, y]   U[\n",
       "λ⋅⎜- ──────────────── + ────────────────⎟ + (λ + 2⋅μ)⋅⎜- ──────────────── + ──\n",
       "  ⎝         h                  h        ⎠             ⎝         h             \n",
       "\n",
       "t, x + 1/2, y]⎞\n",
       "──────────────⎟\n",
       "     h        ⎠"
      ]
     },
     "execution_count": 39,
     "metadata": {},
     "output_type": "execute_result"
    }
   ],
   "source": [
    "Tyy_expr"
   ]
  },
  {
   "cell_type": "code",
   "execution_count": 84,
   "metadata": {
    "collapsed": false
   },
   "outputs": [],
   "source": [
    "U_2,U_1,U0,U1,U2,V_2,V_1,V0,V1,V2 = symbols('U_2 U_1 U0 U1 U2 V_2 V_1 V0 V1 V2')\n",
    "sublist = {U[t,-2,y]:U_2,U[t,-1,y]:U_1,U[t,0,y]:U0,U[t,1,y]:U1,U[t,2,y]:U2}\n",
    "sublist.update({V[t,-2,y]:V_2,V[t,-1,y]:V_1,V[t,0,y]:V0,V[t,1,y]:V1,V[t,2,y]:V2})\n",
    "eq8 = Eq(DtTxx_expr.subs(x,0),0).subs(sublist)\n",
    "eq9 = Eq(DtTxx_expr.subs(x,-1),DtTxx_expr.subs(x,1)).subs(sublist)\n",
    "eq10 = Eq(DtTxy_expr.subs(x,-1),DtTxx_expr.subs(x,0)).subs(sublist)\n",
    "eq11 = Eq(DtTxy_expr.subs(x,-2),DtTxx_expr.subs(x,1)).subs(sublist)"
   ]
  },
  {
   "cell_type": "code",
   "execution_count": 90,
   "metadata": {
    "collapsed": false
   },
   "outputs": [
    {
     "data": {
      "image/png": "[encoded data removed]",
      "text/latex": [
       "$$\\mu \\left(- \\frac{U_{2}}{h} + \\frac{V_{1}}{h} - \\frac{V_{2}}{h} + \\frac{1}{h} U_{t,-2,y + 1}\\right) = \\lambda \\left(\\frac{V_{1}}{h} - \\frac{1}{h} V_{t,1,y - 1}\\right) + \\left(\\lambda + 2 \\mu\\right) \\left(- \\frac{U_{0}}{h} + \\frac{U_{1}}{h}\\right)$$"
      ],
      "text/plain": [
       "  ⎛  U₂   V₁   V₂   U[t, -2, y + 1]⎞     ⎛V₁   V[t, 1, y - 1]⎞             ⎛  \n",
       "μ⋅⎜- ── + ── - ── + ───────────────⎟ = λ⋅⎜── - ──────────────⎟ + (λ + 2⋅μ)⋅⎜- \n",
       "  ⎝  h    h    h           h       ⎠     ⎝h          h       ⎠             ⎝  \n",
       "\n",
       "U₀   U₁⎞\n",
       "── + ──⎟\n",
       "h    h ⎠"
      ]
     },
     "execution_count": 90,
     "metadata": {},
     "output_type": "execute_result"
    }
   ],
   "source": [
    "eq11"
   ]
  },
  {
   "cell_type": "code",
   "execution_count": null,
   "metadata": {
    "collapsed": true
   },
   "outputs": [],
   "source": []
  },
  {
   "cell_type": "code",
   "execution_count": 18,
   "metadata": {
    "collapsed": false
   },
   "outputs": [],
   "source": [
    "# constant boundary condition\n",
    "bc_const = Float(0)\n",
    "# Dirichlet boundary condition\n",
    "bc_dirichlet = 100 + 0.2*t\n",
    "# Neumann boundary condition (expression evaluates to zero)\n",
    "bc_neumann = Deriv(U,l,1,h,2)[1] - 1"
   ]
  },
  {
   "cell_type": "code",
   "execution_count": 19,
   "metadata": {
    "collapsed": false
   },
   "outputs": [
    {
     "ename": "NameError",
     "evalue": "name 'z' is not defined",
     "output_type": "error",
     "traceback": [
      "\u001b[1;31m---------------------------------------------------------------------------\u001b[0m",
      "\u001b[1;31mNameError\u001b[0m                                 Traceback (most recent call last)",
      "\u001b[1;32m<ipython-input-19-d6c183ab5f0b>\u001b[0m in \u001b[0;36m<module>\u001b[1;34m()\u001b[0m\n\u001b[1;32m----> 1\u001b[1;33m \u001b[0mbc_neuman1\u001b[0m \u001b[1;33m=\u001b[0m \u001b[0msolve\u001b[0m\u001b[1;33m(\u001b[0m\u001b[0mbc_neumann\u001b[0m\u001b[1;33m,\u001b[0m\u001b[0mU\u001b[0m\u001b[1;33m[\u001b[0m\u001b[0mt\u001b[0m\u001b[1;33m,\u001b[0m\u001b[0mx\u001b[0m\u001b[1;33m+\u001b[0m\u001b[1;36m1\u001b[0m\u001b[1;33m,\u001b[0m\u001b[0my\u001b[0m\u001b[1;33m,\u001b[0m\u001b[0mz\u001b[0m\u001b[1;33m]\u001b[0m\u001b[1;33m)\u001b[0m\u001b[1;33m[\u001b[0m\u001b[1;36m0\u001b[0m\u001b[1;33m]\u001b[0m\u001b[1;33m.\u001b[0m\u001b[0msubs\u001b[0m\u001b[1;33m(\u001b[0m\u001b[0mx\u001b[0m\u001b[1;33m+\u001b[0m\u001b[1;36m1\u001b[0m\u001b[1;33m,\u001b[0m\u001b[0mx\u001b[0m\u001b[1;33m)\u001b[0m\u001b[1;33m;\u001b[0m \u001b[0massign_pochoir_bc\u001b[0m\u001b[1;33m(\u001b[0m\u001b[0mbc_neuman1\u001b[0m\u001b[1;33m)\u001b[0m\u001b[1;33m\u001b[0m\u001b[0m\n\u001b[0m",
      "\u001b[1;31mNameError\u001b[0m: name 'z' is not defined"
     ]
    }
   ],
   "source": [
    "bc_neuman1 = solve(bc_neumann,U[t,x+1,y,z])[0].subs(x+1,x); assign_pochoir_bc(bc_neuman1)"
   ]
  },
  {
   "cell_type": "code",
   "execution_count": null,
   "metadata": {
    "collapsed": true
   },
   "outputs": [],
   "source": [
    "bc_U_x0 = assign_pochoir_bc(bc_const); bc_U_x1 = assign_pochoir_bc(bc_const)\n",
    "bc_U_y0 = assign_pochoir_bc(bc_const); bc_U_y1 = assign_pochoir_bc(bc_const)"
   ]
  },
  {
   "cell_type": "code",
   "execution_count": null,
   "metadata": {
    "collapsed": false
   },
   "outputs": [],
   "source": [
    "bc_V_x0 = assign_pochoir_bc(bc_const); bc_V_x1 = assign_pochoir_bc(bc_const)\n",
    "bc_V_y0 = assign_pochoir_bc(bc_const); bc_V_y1 = assign_pochoir_bc(bc_const)"
   ]
  },
  {
   "cell_type": "code",
   "execution_count": null,
   "metadata": {
    "collapsed": true
   },
   "outputs": [],
   "source": [
    "bc_Txx_x0 = assign_pochoir_bc(bc_const); bc_Txx_x1 = assign_pochoir_bc(bc_const)\n",
    "bc_Txx_y0 = assign_pochoir_bc(bc_const); bc_Txx_y1 = assign_pochoir_bc(bc_const)"
   ]
  },
  {
   "cell_type": "code",
   "execution_count": null,
   "metadata": {
    "collapsed": true
   },
   "outputs": [],
   "source": [
    "bc_Tyy_x0 = assign_pochoir_bc(bc_const); bc_Tyy_x1 = assign_pochoir_bc(bc_const)\n",
    "bc_Tyy_y0 = assign_pochoir_bc(bc_const); bc_Tyy_y1 = assign_pochoir_bc(bc_const)"
   ]
  },
  {
   "cell_type": "code",
   "execution_count": null,
   "metadata": {
    "collapsed": true
   },
   "outputs": [],
   "source": [
    "bc_Txy_x0 = assign_pochoir_bc(bc_const); bc_Txy_x1 = assign_pochoir_bc(bc_const)\n",
    "bc_Txy_y0 = assign_pochoir_bc(bc_const); bc_Txy_y1 = assign_pochoir_bc(bc_const)"
   ]
  },
  {
   "cell_type": "markdown",
   "metadata": {},
   "source": [
    "###output using templates"
   ]
  },
  {
   "cell_type": "code",
   "execution_count": null,
   "metadata": {
    "collapsed": false
   },
   "outputs": [],
   "source": [
    "# write to template file\n",
    "mylookup = TemplateLookup(directories=['templates/'])\n",
    "mytemplate = mylookup.get_template('test_pochoir_iso_elastic_tmpl.cpp')\n",
    "buf = StringIO()\n",
    "dict1 = {'time_period':2,'Txx':Txx_t,'Tyy':Tyy_t,'Tzz':Tzz_t,'Txy':Txy_t,'Txz':Txz_t,'Tyz':Tyz_t,'U':U_t,'V':V_t,'W':W_t}\n",
    "dict1.update({'bc_U_x0':bc_U_x0,'bc_U_x1':bc_U_x1,'bc_U_y0':bc_U_y0,'bc_U_y1':bc_U_y1,'bc_U_z0':bc_U_z0,'bc_U_z1':bc_U_z1})\n",
    "dict1.update({'bc_V_x0':bc_V_x0,'bc_V_x1':bc_V_x1,'bc_V_y0':bc_V_y0,'bc_V_y1':bc_V_y1,'bc_V_z0':bc_V_z0,'bc_V_z1':bc_V_z1})\n",
    "dict1.update({'bc_W_x0':bc_W_x0,'bc_W_x1':bc_W_x1,'bc_W_y0':bc_W_y0,'bc_W_y1':bc_U_y1,'bc_W_z0':bc_W_z0,'bc_W_z1':bc_W_z1})\n",
    "dict1.update({'bc_Txx_x0':bc_Txx_x0,'bc_Txx_x1':bc_Txx_x1,'bc_Txx_y0':bc_Txx_y0,'bc_Txx_y1':bc_Txx_y1,'bc_Txx_z0':bc_Txx_z0,'bc_Txx_z1':bc_Txx_z1})\n",
    "dict1.update({'bc_Tyy_x0':bc_Tyy_x0,'bc_Tyy_x1':bc_Tyy_x1,'bc_Tyy_y0':bc_Tyy_y0,'bc_Tyy_y1':bc_Tyy_y1,'bc_Tyy_z0':bc_Tyy_z0,'bc_Tyy_z1':bc_U_z1})\n",
    "dict1.update({'bc_Tzz_x0':bc_Tzz_x0,'bc_Tzz_x1':bc_Tzz_x1,'bc_Tzz_y0':bc_Tzz_y0,'bc_Tzz_y1':bc_Tzz_y1,'bc_Tzz_z0':bc_Tzz_z0,'bc_Tzz_z1':bc_Tzz_z1})\n",
    "dict1.update({'bc_Txy_x0':bc_Txy_x0,'bc_Txy_x1':bc_Txy_x1,'bc_Txy_y0':bc_Txy_y0,'bc_Txy_y1':bc_Txy_y1,'bc_Txy_z0':bc_Txy_z0,'bc_Txy_z1':bc_Txy_z1})\n",
    "dict1.update({'bc_Txz_x0':bc_Txz_x0,'bc_Txz_x1':bc_Txz_x1,'bc_Txz_y0':bc_Txz_y0,'bc_Txz_y1':bc_Txz_y1,'bc_Txz_z0':bc_Txz_z0,'bc_Txz_z1':bc_Txz_z1})\n",
    "dict1.update({'bc_Tyz_x0':bc_Tyz_x0,'bc_Tyz_x1':bc_Tyz_x1,'bc_Tyz_y0':bc_Tyz_y0,'bc_Tyz_y1':bc_Tyz_y1,'bc_Tyz_z0':bc_Tyz_z0,'bc_Tyz_z1':bc_Tyz_z1})\n",
    "ctx = Context(buf, **dict1)\n",
    "mytemplate.render_context(ctx)\n",
    "code = buf.getvalue()"
   ]
  },
  {
   "cell_type": "code",
   "execution_count": null,
   "metadata": {
    "collapsed": false
   },
   "outputs": [],
   "source": [
    "# generate compilable C++ source code\n",
    "f= open('../tests/src/mytest_pochoir.cpp','w')\n",
    "f.write(code)\n",
    "f.close()"
   ]
  },
  {
   "cell_type": "code",
   "execution_count": null,
   "metadata": {
    "collapsed": true
   },
   "outputs": [],
   "source": []
  }
 ],
 "metadata": {
  "kernelspec": {
   "display_name": "Python 2",
   "language": "python",
   "name": "python2"
  },
  "language_info": {
   "codemirror_mode": {
    "name": "ipython",
    "version": 2
   },
   "file_extension": ".py",
   "mimetype": "text/x-python",
   "name": "python",
   "nbconvert_exporter": "python",
   "pygments_lexer": "ipython2",
   "version": "2.7.10"
  }
 },
 "nbformat": 4,
 "nbformat_minor": 0
}
