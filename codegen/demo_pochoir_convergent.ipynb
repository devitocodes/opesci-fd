{
 "cells": [
  {
   "cell_type": "markdown",
   "metadata": {},
   "source": [
    "##FD schemes convergece investigation using 2D wave equation"
   ]
  },
  {
   "cell_type": "code",
   "execution_count": 1,
   "metadata": {
    "collapsed": false
   },
   "outputs": [],
   "source": [
    "%load_ext autoreload\n",
    "%autoreload 2\n",
    "from sympy import symbols, init_printing, simplify, solve, srepr, Add, Symbol, Integer, Float, pi, cos, sin\n",
    "from mako.template import Template\n",
    "from mako.lookup import TemplateLookup\n",
    "from mako.runtime import Context\n",
    "from StringIO import StringIO\n",
    "from fdlib import *\n",
    "init_printing()"
   ]
  },
  {
   "cell_type": "code",
   "execution_count": 2,
   "metadata": {
    "collapsed": false
   },
   "outputs": [],
   "source": [
    "U,V,Txx,Tyy,Txy = IndexedBases('U V Txx Tyy Txy')\n",
    "b, lam, mu = symbols('beta lambda mu')\n",
    "x,y,t,h,dt,a,b, Vs = symbols('x y t h dt a b Vs')"
   ]
  },
  {
   "cell_type": "code",
   "execution_count": 3,
   "metadata": {
    "collapsed": true
   },
   "outputs": [],
   "source": [
    "accuracy_time = 1 # O(dt^2) accuracy in time domain\n",
    "accuracy_space = 2 # O(h^4) accuracy in space domain"
   ]
  },
  {
   "cell_type": "markdown",
   "metadata": {},
   "source": [
    "###Eigenmode functions (as initial condition and analytical solution)"
   ]
  },
  {
   "cell_type": "markdown",
   "metadata": {},
   "source": [
    "$U = acos(\\pi x)sin(\\pi y)cos(at)$<br>\n",
    "$V = -asin(\\pi x)cos(\\pi y)cos(at)$<br>\n",
    "$T_{xx} = -bsin(\\pi x)sin(\\pi y)sin(at)$<br>\n",
    "$T_{yy} = bsin(\\pi x)sin(\\pi y)sin(at)$<br>\n",
    "$T_{xy} = T_{yx} = 0$<br>\n",
    "where $a=\\sqrt 2 \\pi V_s\\space \\space b=2\\pi\\mu$"
   ]
  },
  {
   "cell_type": "code",
   "execution_count": 4,
   "metadata": {
    "collapsed": false
   },
   "outputs": [],
   "source": [
    "a = 2**(0.5)*pi*Vs\n",
    "b = 2*pi*mu\n",
    "U_sol = a*cos(pi*x)*sin(pi*y)*cos(a*t)\n",
    "V_sol = -a*sin(pi*x)*cos(pi*y)*cos(a*t)\n",
    "Txx_sol = -b*sin(pi*x)*sin(pi*y)*sin(a*t)\n",
    "Tyy_sol = b*sin(pi*x)*sin(pi*y)*sin(a*t)\n",
    "Txy_sol = Float(0)"
   ]
  },
  {
   "cell_type": "markdown",
   "metadata": {},
   "source": [
    "###Initial conditions"
   ]
  },
  {
   "cell_type": "code",
   "execution_count": 5,
   "metadata": {
    "collapsed": false
   },
   "outputs": [],
   "source": [
    "# substitution t=0\n",
    "U_init = print_myccode(U_sol.subs(t,0))\n",
    "V_init = print_myccode(V_sol.subs(t,0))\n",
    "Txx_init = print_myccode(Txx_sol.subs(t,0))\n",
    "Tyy_init = print_myccode(Tyy_sol.subs(t,0))\n",
    "Txy_init = print_myccode(Txy_sol.subs(t,0))"
   ]
  },
  {
   "cell_type": "markdown",
   "metadata": {},
   "source": [
    "###Calculate FD approximation of derivatives"
   ]
  },
  {
   "cell_type": "code",
   "execution_count": 6,
   "metadata": {
    "collapsed": false
   },
   "outputs": [],
   "source": [
    "l = [t,x,y]\n",
    "\n",
    "# first-order time derivatives in velocities and stresses\n",
    "# O(dt^2) accuracy\n",
    "DtU = Deriv_half(U,l,0,dt,accuracy_time)[1]\n",
    "DtV = Deriv_half(V,l,0,dt,accuracy_time)[1]\n",
    "\n",
    "DtTxx = Deriv_half(Txx,l,0,dt,accuracy_time)[1]\n",
    "DtTxy = Deriv_half(Txy,l,0,dt,accuracy_time)[1]\n",
    "DtTyy = Deriv_half(Tyy,l,0,dt,accuracy_time)[1]\n",
    "\n",
    "# first-order spacial derivatives of velocities and stresses\n",
    "# O(h^4) accuracy\n",
    "\n",
    "DxU = Deriv_half(U,l,1,h,accuracy_space,shift_forward=False)[1]\n",
    "DyV = Deriv_half(V,l,2,h,accuracy_space,shift_forward=False)[1]\n",
    "\n",
    "DyU = Deriv_half(U,l,2,h,accuracy_space)[1]\n",
    "DxV = Deriv_half(V,l,1,h,accuracy_space)[1]\n",
    "\n",
    "DxTxx = Deriv_half(Txx,l,1,h,accuracy_space)[1]\n",
    "DyTyy = Deriv_half(Tyy,l,2,h,accuracy_space)[1]\n",
    "\n",
    "DxTxy = Deriv_half(Txy,l,1,h,accuracy_space,shift_forward=False)[1]\n",
    "DyTxy = Deriv_half(Txy,l,2,h,accuracy_space,shift_forward=False)[1]"
   ]
  },
  {
   "cell_type": "code",
   "execution_count": 7,
   "metadata": {
    "collapsed": false
   },
   "outputs": [
    {
     "data": {
      "image/png": "[encoded data removed]",
      "text/latex": [
       "$$- \\frac{9 Txx_{t,x,y}}{8 h} + \\frac{Txx_{t,x - 1,y}}{24 h} + \\frac{9 Txx_{t,x + 1,y}}{8 h} - \\frac{Txx_{t,x + 2,y}}{24 h}$$"
      ],
      "text/plain": [
       "  9⋅Txx[t, x, y]   Txx[t, x - 1, y]   9⋅Txx[t, x + 1, y]   Txx[t, x + 2, y]\n",
       "- ────────────── + ──────────────── + ────────────────── - ────────────────\n",
       "       8⋅h               24⋅h                8⋅h                 24⋅h      "
      ]
     },
     "execution_count": 7,
     "metadata": {},
     "output_type": "execute_result"
    }
   ],
   "source": [
    "DxTxx"
   ]
  },
  {
   "cell_type": "code",
   "execution_count": 8,
   "metadata": {
    "collapsed": false
   },
   "outputs": [
    {
     "data": {
      "image/png": "[encoded data removed]",
      "text/latex": [
       "$$\\frac{9 Txy_{t,x,y}}{8 h} + \\frac{Txy_{t,x - 2,y}}{24 h} - \\frac{9 Txy_{t,x - 1,y}}{8 h} - \\frac{Txy_{t,x + 1,y}}{24 h}$$"
      ],
      "text/plain": [
       "9⋅Txy[t, x, y]   Txy[t, x - 2, y]   9⋅Txy[t, x - 1, y]   Txy[t, x + 1, y]\n",
       "────────────── + ──────────────── - ────────────────── - ────────────────\n",
       "     8⋅h               24⋅h                8⋅h                 24⋅h      "
      ]
     },
     "execution_count": 8,
     "metadata": {},
     "output_type": "execute_result"
    }
   ],
   "source": [
    "# note difference between shift_forward True/False\n",
    "DxTxy"
   ]
  },
  {
   "cell_type": "code",
   "execution_count": 9,
   "metadata": {
    "collapsed": false
   },
   "outputs": [
    {
     "data": {
      "image/png": "[encoded data removed]",
      "text/latex": [
       "$$- \\frac{Txx_{t,x,y}}{dt} + \\frac{1}{dt} Txx_{t + 1,x,y}$$"
      ],
      "text/plain": [
       "  Txx[t, x, y]   Txx[t + 1, x, y]\n",
       "- ──────────── + ────────────────\n",
       "       dt               dt       "
      ]
     },
     "execution_count": 9,
     "metadata": {},
     "output_type": "execute_result"
    }
   ],
   "source": [
    "DtTxx"
   ]
  },
  {
   "cell_type": "markdown",
   "metadata": {},
   "source": [
    "###PDEs\n",
    "\n",
    "#####momentum equations\n",
    "$\\partial_tU = b(\\partial_xT_{xx}+\\partial_yT_{xy})$<br>\n",
    "$\\partial_tV = b(\\partial_xT_{xy}+\\partial_yT_{yy})$<br>\n",
    "#####stress-strain equations\n",
    "$\\partial_tT_{xx} = (\\lambda+2\\mu)\\partial_xU + \\lambda\\partial_yV $<br>\n",
    "$\\partial_tT_{yy} = (\\lambda+2\\mu)\\partial_yV + \\lambda\\partial_xU $<br>\n",
    "$\\partial_tT_{xy} = \\mu(\\partial_yU + \\partial_xV)$<br>"
   ]
  },
  {
   "cell_type": "code",
   "execution_count": 10,
   "metadata": {
    "collapsed": false
   },
   "outputs": [],
   "source": [
    "# momentum equations\n",
    "eq1 = Eq(DtU, b*(DxTxx + DyTxy))\n",
    "eq2 = Eq(DtV, b*(DxTxy + DyTyy))\n",
    "\n",
    "# stress-strain equations\n",
    "eq3 = Eq(DtTxx, (lam + 2*mu)*DxU + lam*DyV)\n",
    "eq4 = Eq(DtTyy, (lam + 2*mu)*DyV + lam*DxU)\n",
    "eq5 = Eq(DtTxy, mu*(DyU+DxV))"
   ]
  },
  {
   "cell_type": "code",
   "execution_count": 11,
   "metadata": {
    "collapsed": false
   },
   "outputs": [
    {
     "data": {
      "image/png": "[encoded data removed]",
      "text/latex": [
       "$$- \\frac{U_{t,x,y}}{dt} + \\frac{1}{dt} U_{t + 1,x,y} = 2 \\pi \\mu \\left(- \\frac{9 Txx_{t,x,y}}{8 h} + \\frac{Txx_{t,x - 1,y}}{24 h} + \\frac{9 Txx_{t,x + 1,y}}{8 h} - \\frac{Txx_{t,x + 2,y}}{24 h} + \\frac{9 Txy_{t,x,y}}{8 h} + \\frac{Txy_{t,x,y - 2}}{24 h} - \\frac{9 Txy_{t,x,y - 1}}{8 h} - \\frac{Txy_{t,x,y + 1}}{24 h}\\right)$$"
      ],
      "text/plain": [
       "  U[t, x, y]   U[t + 1, x, y]         ⎛  9⋅Txx[t, x, y]   Txx[t, x - 1, y]   9\n",
       "- ────────── + ────────────── = 2⋅π⋅μ⋅⎜- ────────────── + ──────────────── + ─\n",
       "      dt             dt               ⎝       8⋅h               24⋅h          \n",
       "\n",
       "⋅Txx[t, x + 1, y]   Txx[t, x + 2, y]   9⋅Txy[t, x, y]   Txy[t, x, y - 2]   9⋅T\n",
       "───────────────── - ──────────────── + ────────────── + ──────────────── - ───\n",
       "      8⋅h                 24⋅h              8⋅h               24⋅h            \n",
       "\n",
       "xy[t, x, y - 1]   Txy[t, x, y + 1]⎞\n",
       "─────────────── - ────────────────⎟\n",
       "    8⋅h                 24⋅h      ⎠"
      ]
     },
     "execution_count": 11,
     "metadata": {},
     "output_type": "execute_result"
    }
   ],
   "source": [
    "eq1"
   ]
  },
  {
   "cell_type": "code",
   "execution_count": 15,
   "metadata": {
    "collapsed": false
   },
   "outputs": [
    {
     "data": {
      "image/png": "[encoded data removed]",
      "text/latex": [
       "$$\\frac{\\pi dt \\mu}{12 h} \\left(- 27 Txx_{t,x,y} + Txx_{t,x - 1,y} + 27 Txx_{t,x + 1,y} - Txx_{t,x + 2,y} + 27 Txy_{t,x,y} + Txy_{t,x,y - 2} - 27 Txy_{t,x,y - 1} - Txy_{t,x,y + 1}\\right) + U_{t,x,y}$$"
      ],
      "text/plain": [
       "π⋅dt⋅μ⋅(-27⋅Txx[t, x, y] + Txx[t, x - 1, y] + 27⋅Txx[t, x + 1, y] - Txx[t, x +\n",
       "──────────────────────────────────────────────────────────────────────────────\n",
       "                                                                              \n",
       "\n",
       " 2, y] + 27⋅Txy[t, x, y] + Txy[t, x, y - 2] - 27⋅Txy[t, x, y - 1] - Txy[t, x, \n",
       "──────────────────────────────────────────────────────────────────────────────\n",
       "  12⋅h                                                                        \n",
       "\n",
       "y + 1])             \n",
       "─────── + U[t, x, y]\n",
       "                    "
      ]
     },
     "execution_count": 15,
     "metadata": {},
     "output_type": "execute_result"
    }
   ],
   "source": [
    "# for demo only\n",
    "simplify(solve(eq1,U[t+1,x,y])[0]-U[t,x,y])+U[t,x,y]"
   ]
  },
  {
   "cell_type": "code",
   "execution_count": 16,
   "metadata": {
    "collapsed": false
   },
   "outputs": [
    {
     "data": {
      "image/png": "[encoded data removed]",
      "text/latex": [
       "$$\\frac{dt}{24 h} \\left(27 \\lambda U_{t,x,y} + \\lambda U_{t,x - 2,y} - 27 \\lambda U_{t,x - 1,y} - \\lambda U_{t,x + 1,y} + 27 \\lambda V_{t,x,y} + \\lambda V_{t,x,y - 2} - 27 \\lambda V_{t,x,y - 1} - \\lambda V_{t,x,y + 1} + 54 \\mu U_{t,x,y} + 2 \\mu U_{t,x - 2,y} - 54 \\mu U_{t,x - 1,y} - 2 \\mu U_{t,x + 1,y}\\right) + Txx_{t,x,y}$$"
      ],
      "text/plain": [
       "dt⋅(27⋅λ⋅U[t, x, y] + λ⋅U[t, x - 2, y] - 27⋅λ⋅U[t, x - 1, y] - λ⋅U[t, x + 1, y\n",
       "──────────────────────────────────────────────────────────────────────────────\n",
       "                                                                              \n",
       "\n",
       "] + 27⋅λ⋅V[t, x, y] + λ⋅V[t, x, y - 2] - 27⋅λ⋅V[t, x, y - 1] - λ⋅V[t, x, y + 1\n",
       "──────────────────────────────────────────────────────────────────────────────\n",
       "                                        24⋅h                                  \n",
       "\n",
       "] + 54⋅μ⋅U[t, x, y] + 2⋅μ⋅U[t, x - 2, y] - 54⋅μ⋅U[t, x - 1, y] - 2⋅μ⋅U[t, x + \n",
       "──────────────────────────────────────────────────────────────────────────────\n",
       "                                                                              \n",
       "\n",
       "1, y])               \n",
       "────── + Txx[t, x, y]\n",
       "                     "
      ]
     },
     "execution_count": 16,
     "metadata": {},
     "output_type": "execute_result"
    }
   ],
   "source": [
    "# for demo only\n",
    "simplify(solve(eq3,Txx[t+1,x,y])[0]-Txx[t,x,y])+Txx[t,x,y]"
   ]
  },
  {
   "cell_type": "code",
   "execution_count": 17,
   "metadata": {
    "collapsed": false
   },
   "outputs": [
    {
     "data": {
      "image/png": "[encoded data removed]",
      "text/latex": [
       "$$\\frac{dt \\mu}{24 h} \\left(- 27 U_{t,x,y} + U_{t,x,y - 1} + 27 U_{t,x,y + 1} - U_{t,x,y + 2} - 27 V_{t,x,y} + V_{t,x - 1,y} + 27 V_{t,x + 1,y} - V_{t,x + 2,y}\\right) + Txy_{t,x,y}$$"
      ],
      "text/plain": [
       "dt⋅μ⋅(-27⋅U[t, x, y] + U[t, x, y - 1] + 27⋅U[t, x, y + 1] - U[t, x, y + 2] - 2\n",
       "──────────────────────────────────────────────────────────────────────────────\n",
       "                                                                       24⋅h   \n",
       "\n",
       "7⋅V[t, x, y] + V[t, x - 1, y] + 27⋅V[t, x + 1, y] - V[t, x + 2, y])           \n",
       "─────────────────────────────────────────────────────────────────── + Txy[t, x\n",
       "                                                                              \n",
       "\n",
       "    \n",
       ", y]\n",
       "    "
      ]
     },
     "execution_count": 17,
     "metadata": {},
     "output_type": "execute_result"
    }
   ],
   "source": [
    "# for demo only\n",
    "# note difference between Txx and Txy indices\n",
    "simplify(solve(eq5,Txy[t+1,x,y])[0]-Txy[t,x,y])+Txy[t,x,y]"
   ]
  },
  {
   "cell_type": "markdown",
   "metadata": {},
   "source": [
    "###solve for FD stencil"
   ]
  },
  {
   "cell_type": "code",
   "execution_count": 18,
   "metadata": {
    "collapsed": false
   },
   "outputs": [],
   "source": [
    "# generate computation code segments\n",
    "U_t = print_assignment(eq1, U[t+1,x,y], U[t,x,y], pochoir=True)\n",
    "V_t = print_assignment(eq2, V[t+1,x,y], V[t,x,y], pochoir=True)\n",
    "Txx_t = print_assignment(eq3, Txx[t+1,x,y], Txx[t,x,y], pochoir=True)\n",
    "Tyy_t = print_assignment(eq4, Tyy[t+1,x,y], Tyy[t,x,y], pochoir=True)\n",
    "Txy_t = print_assignment(eq5, Txy[t+1,x,y], Txy[t,x,y], pochoir=True)"
   ]
  },
  {
   "cell_type": "code",
   "execution_count": 19,
   "metadata": {
    "collapsed": false
   },
   "outputs": [
    {
     "data": {
      "text/plain": [
       "'Txx(t + 1,x,y)=(1.0/24.0)*dt*(27*lambda*U(t,x,y) + lambda*U(t,x - 2,y) - 27*lambda*U(t,x - 1,y) - lambda*U(t,x + 1,y) + 27*lambda*V(t,x,y) + lambda*V(t,x,y - 2) - 27*lambda*V(t,x,y - 1) - lambda*V(t,x,y + 1) + 54*mu*U(t,x,y) + 2*mu*U(t,x - 2,y) - 54*mu*U(t,x - 1,y) - 2*mu*U(t,x + 1,y))/h + Txx(t,x,y)'"
      ]
     },
     "execution_count": 19,
     "metadata": {},
     "output_type": "execute_result"
    }
   ],
   "source": [
    "# they look like this\n",
    "Txx_t"
   ]
  },
  {
   "cell_type": "code",
   "execution_count": 20,
   "metadata": {
    "collapsed": false
   },
   "outputs": [
    {
     "data": {
      "text/plain": [
       "'U(t + 1,x,y)=(1.0/12.0)*M_PI*dt*mu*(-27*Txx(t,x,y) + Txx(t,x - 1,y) + 27*Txx(t,x + 1,y) - Txx(t,x + 2,y) + 27*Txy(t,x,y) + Txy(t,x,y - 2) - 27*Txy(t,x,y - 1) - Txy(t,x,y + 1))/h + U(t,x,y)'"
      ]
     },
     "execution_count": 20,
     "metadata": {},
     "output_type": "execute_result"
    }
   ],
   "source": [
    "# and this\n",
    "U_t"
   ]
  },
  {
   "cell_type": "markdown",
   "metadata": {},
   "source": [
    "###boundary conditions"
   ]
  },
  {
   "cell_type": "code",
   "execution_count": null,
   "metadata": {
    "collapsed": false
   },
   "outputs": [],
   "source": [
    "# constant boundary condition\n",
    "bc_const = Float(0)\n",
    "# Dirichlet boundary condition\n",
    "bc_dirichlet = 100 + 0.2*t\n",
    "# Neumann boundary condition (expression evaluates to zero)\n",
    "bc_neumann = Deriv(U,l,1,h,2)[1] - 1"
   ]
  },
  {
   "cell_type": "code",
   "execution_count": null,
   "metadata": {
    "collapsed": false
   },
   "outputs": [],
   "source": [
    "bc_neuman1 = solve(bc_neumann,U[t,x+1,y,z])[0].subs(x+1,x); assign_pochoir_bc(bc_neuman1)"
   ]
  },
  {
   "cell_type": "code",
   "execution_count": null,
   "metadata": {
    "collapsed": true
   },
   "outputs": [],
   "source": [
    "bc_U_x0 = assign_pochoir_bc(bc_const); bc_U_x1 = assign_pochoir_bc(bc_const)\n",
    "bc_U_y0 = assign_pochoir_bc(bc_const); bc_U_y1 = assign_pochoir_bc(bc_const)\n",
    "bc_U_z0 = assign_pochoir_bc(bc_const); bc_U_z1 = assign_pochoir_bc(bc_const)"
   ]
  },
  {
   "cell_type": "code",
   "execution_count": null,
   "metadata": {
    "collapsed": false
   },
   "outputs": [],
   "source": [
    "bc_V_x0 = assign_pochoir_bc(bc_const); bc_V_x1 = assign_pochoir_bc(bc_const)\n",
    "bc_V_y0 = assign_pochoir_bc(bc_const); bc_V_y1 = assign_pochoir_bc(bc_const)\n",
    "bc_V_z0 = assign_pochoir_bc(bc_const); bc_V_z1 = assign_pochoir_bc(bc_const)"
   ]
  },
  {
   "cell_type": "code",
   "execution_count": null,
   "metadata": {
    "collapsed": true
   },
   "outputs": [],
   "source": [
    "bc_W_x0 = assign_pochoir_bc(bc_const); bc_W_x1 = assign_pochoir_bc(bc_const)\n",
    "bc_W_y0 = assign_pochoir_bc(bc_const); bc_W_y1 = assign_pochoir_bc(bc_const)\n",
    "bc_W_z0 = assign_pochoir_bc(bc_const); bc_W_z1 = assign_pochoir_bc(bc_const)"
   ]
  },
  {
   "cell_type": "code",
   "execution_count": null,
   "metadata": {
    "collapsed": true
   },
   "outputs": [],
   "source": [
    "bc_Txx_x0 = assign_pochoir_bc(bc_const); bc_Txx_x1 = assign_pochoir_bc(bc_const)\n",
    "bc_Txx_y0 = assign_pochoir_bc(bc_const); bc_Txx_y1 = assign_pochoir_bc(bc_const)\n",
    "bc_Txx_z0 = assign_pochoir_bc(bc_const); bc_Txx_z1 = assign_pochoir_bc(bc_const)"
   ]
  },
  {
   "cell_type": "code",
   "execution_count": null,
   "metadata": {
    "collapsed": true
   },
   "outputs": [],
   "source": [
    "bc_Tyy_x0 = assign_pochoir_bc(bc_const); bc_Tyy_x1 = assign_pochoir_bc(bc_const)\n",
    "bc_Tyy_y0 = assign_pochoir_bc(bc_const); bc_Tyy_y1 = assign_pochoir_bc(bc_const)\n",
    "bc_Tyy_z0 = assign_pochoir_bc(bc_const); bc_Tyy_z1 = assign_pochoir_bc(bc_const)"
   ]
  },
  {
   "cell_type": "code",
   "execution_count": null,
   "metadata": {
    "collapsed": true
   },
   "outputs": [],
   "source": [
    "bc_Tzz_x0 = assign_pochoir_bc(bc_const); bc_Tzz_x1 = assign_pochoir_bc(bc_const)\n",
    "bc_Tzz_y0 = assign_pochoir_bc(bc_const); bc_Tzz_y1 = assign_pochoir_bc(bc_const)\n",
    "bc_Tzz_z0 = assign_pochoir_bc(bc_const); bc_Tzz_z1 = assign_pochoir_bc(bc_const)"
   ]
  },
  {
   "cell_type": "code",
   "execution_count": null,
   "metadata": {
    "collapsed": true
   },
   "outputs": [],
   "source": [
    "bc_Txy_x0 = assign_pochoir_bc(bc_const); bc_Txy_x1 = assign_pochoir_bc(bc_const)\n",
    "bc_Txy_y0 = assign_pochoir_bc(bc_const); bc_Txy_y1 = assign_pochoir_bc(bc_const)\n",
    "bc_Txy_z0 = assign_pochoir_bc(bc_const); bc_Txy_z1 = assign_pochoir_bc(bc_const)"
   ]
  },
  {
   "cell_type": "code",
   "execution_count": null,
   "metadata": {
    "collapsed": true
   },
   "outputs": [],
   "source": [
    "bc_Tyz_x0 = assign_pochoir_bc(bc_const); bc_Tyz_x1 = assign_pochoir_bc(bc_const)\n",
    "bc_Tyz_y0 = assign_pochoir_bc(bc_const); bc_Tyz_y1 = assign_pochoir_bc(bc_const)\n",
    "bc_Tyz_z0 = assign_pochoir_bc(bc_const); bc_Tyz_z1 = assign_pochoir_bc(bc_const)"
   ]
  },
  {
   "cell_type": "code",
   "execution_count": null,
   "metadata": {
    "collapsed": true
   },
   "outputs": [],
   "source": [
    "bc_Txz_x0 = assign_pochoir_bc(bc_const); bc_Txz_x1 = assign_pochoir_bc(bc_const)\n",
    "bc_Txz_y0 = assign_pochoir_bc(bc_const); bc_Txz_y1 = assign_pochoir_bc(bc_const)\n",
    "bc_Txz_z0 = assign_pochoir_bc(bc_const); bc_Txz_z1 = assign_pochoir_bc(bc_const)"
   ]
  },
  {
   "cell_type": "markdown",
   "metadata": {},
   "source": [
    "###output using templates"
   ]
  },
  {
   "cell_type": "code",
   "execution_count": null,
   "metadata": {
    "collapsed": false
   },
   "outputs": [],
   "source": [
    "# write to template file\n",
    "mylookup = TemplateLookup(directories=['templates/'])\n",
    "mytemplate = mylookup.get_template('test_pochoir_iso_elastic_tmpl.cpp')\n",
    "buf = StringIO()\n",
    "dict1 = {'time_period':2,'Txx':Txx_t,'Tyy':Tyy_t,'Tzz':Tzz_t,'Txy':Txy_t,'Txz':Txz_t,'Tyz':Tyz_t,'U':U_t,'V':V_t,'W':W_t}\n",
    "dict1.update({'bc_U_x0':bc_U_x0,'bc_U_x1':bc_U_x1,'bc_U_y0':bc_U_y0,'bc_U_y1':bc_U_y1,'bc_U_z0':bc_U_z0,'bc_U_z1':bc_U_z1})\n",
    "dict1.update({'bc_V_x0':bc_V_x0,'bc_V_x1':bc_V_x1,'bc_V_y0':bc_V_y0,'bc_V_y1':bc_V_y1,'bc_V_z0':bc_V_z0,'bc_V_z1':bc_V_z1})\n",
    "dict1.update({'bc_W_x0':bc_W_x0,'bc_W_x1':bc_W_x1,'bc_W_y0':bc_W_y0,'bc_W_y1':bc_U_y1,'bc_W_z0':bc_W_z0,'bc_W_z1':bc_W_z1})\n",
    "dict1.update({'bc_Txx_x0':bc_Txx_x0,'bc_Txx_x1':bc_Txx_x1,'bc_Txx_y0':bc_Txx_y0,'bc_Txx_y1':bc_Txx_y1,'bc_Txx_z0':bc_Txx_z0,'bc_Txx_z1':bc_Txx_z1})\n",
    "dict1.update({'bc_Tyy_x0':bc_Tyy_x0,'bc_Tyy_x1':bc_Tyy_x1,'bc_Tyy_y0':bc_Tyy_y0,'bc_Tyy_y1':bc_Tyy_y1,'bc_Tyy_z0':bc_Tyy_z0,'bc_Tyy_z1':bc_U_z1})\n",
    "dict1.update({'bc_Tzz_x0':bc_Tzz_x0,'bc_Tzz_x1':bc_Tzz_x1,'bc_Tzz_y0':bc_Tzz_y0,'bc_Tzz_y1':bc_Tzz_y1,'bc_Tzz_z0':bc_Tzz_z0,'bc_Tzz_z1':bc_Tzz_z1})\n",
    "dict1.update({'bc_Txy_x0':bc_Txy_x0,'bc_Txy_x1':bc_Txy_x1,'bc_Txy_y0':bc_Txy_y0,'bc_Txy_y1':bc_Txy_y1,'bc_Txy_z0':bc_Txy_z0,'bc_Txy_z1':bc_Txy_z1})\n",
    "dict1.update({'bc_Txz_x0':bc_Txz_x0,'bc_Txz_x1':bc_Txz_x1,'bc_Txz_y0':bc_Txz_y0,'bc_Txz_y1':bc_Txz_y1,'bc_Txz_z0':bc_Txz_z0,'bc_Txz_z1':bc_Txz_z1})\n",
    "dict1.update({'bc_Tyz_x0':bc_Tyz_x0,'bc_Tyz_x1':bc_Tyz_x1,'bc_Tyz_y0':bc_Tyz_y0,'bc_Tyz_y1':bc_Tyz_y1,'bc_Tyz_z0':bc_Tyz_z0,'bc_Tyz_z1':bc_Tyz_z1})\n",
    "ctx = Context(buf, **dict1)\n",
    "mytemplate.render_context(ctx)\n",
    "code = buf.getvalue()"
   ]
  },
  {
   "cell_type": "code",
   "execution_count": null,
   "metadata": {
    "collapsed": false
   },
   "outputs": [],
   "source": [
    "# generate compilable C++ source code\n",
    "f= open('../tests/src/mytest_pochoir.cpp','w')\n",
    "f.write(code)\n",
    "f.close()"
   ]
  },
  {
   "cell_type": "code",
   "execution_count": null,
   "metadata": {
    "collapsed": true
   },
   "outputs": [],
   "source": []
  }
 ],
 "metadata": {
  "kernelspec": {
   "display_name": "Python 2",
   "language": "python",
   "name": "python2"
  },
  "language_info": {
   "codemirror_mode": {
    "name": "ipython",
    "version": 2
   },
   "file_extension": ".py",
   "mimetype": "text/x-python",
   "name": "python",
   "nbconvert_exporter": "python",
   "pygments_lexer": "ipython2",
   "version": "2.7.10"
  }
 },
 "nbformat": 4,
 "nbformat_minor": 0
}
