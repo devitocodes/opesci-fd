{
 "cells": [
  {
   "cell_type": "markdown",
   "metadata": {},
   "source": [
    "##FD schemes convergece investigation using 2D wave equation"
   ]
  },
  {
   "cell_type": "code",
   "execution_count": 2,
   "metadata": {
    "collapsed": false
   },
   "outputs": [],
   "source": [
    "%load_ext autoreload\n",
    "%autoreload 2\n",
    "from sympy import symbols, init_printing, simplify, solve, srepr, Add, Symbol, Integer, Float, pi, cos, sin, Rational\n",
    "from sympy import Indexed\n",
    "from mako.template import Template\n",
    "from mako.lookup import TemplateLookup\n",
    "from mako.runtime import Context\n",
    "from StringIO import StringIO\n",
    "from fdlib import *\n",
    "init_printing()"
   ]
  },
  {
   "cell_type": "code",
   "execution_count": 54,
   "metadata": {
    "collapsed": false
   },
   "outputs": [],
   "source": [
    "U,V,Txx,Tyy,Txy = IndexedBases('U V Txx Tyy Txy')\n",
    "beta, lam, mu = symbols('beta lambda mu')\n",
    "x,y,t,h,dt,a,b, Vs, dimx, dimy = symbols('x y t h dt a b Vs dimx dimy')"
   ]
  },
  {
   "cell_type": "code",
   "execution_count": 4,
   "metadata": {
    "collapsed": true
   },
   "outputs": [],
   "source": [
    "accuracy_time = 1 # O(dt^2) accuracy in time domain\n",
    "accuracy_space = 2 # O(h^4) accuracy in space domain\n",
    "hf = Rational(1,2) #1/2"
   ]
  },
  {
   "cell_type": "markdown",
   "metadata": {},
   "source": [
    "###Eigenmode functions (as initial condition and analytical solution)"
   ]
  },
  {
   "cell_type": "markdown",
   "metadata": {},
   "source": [
    "$U = acos(\\pi x)sin(\\pi y)cos(at)$<br>\n",
    "$V = -asin(\\pi x)cos(\\pi y)cos(at)$<br>\n",
    "$T_{xx} = -bsin(\\pi x)sin(\\pi y)sin(at)$<br>\n",
    "$T_{yy} = bsin(\\pi x)sin(\\pi y)sin(at)$<br>\n",
    "$T_{xy} = T_{yx} = 0$<br>\n",
    "where $a=\\sqrt 2 \\pi V_s\\space \\space b=2\\pi\\mu$"
   ]
  },
  {
   "cell_type": "code",
   "execution_count": 55,
   "metadata": {
    "collapsed": false
   },
   "outputs": [],
   "source": [
    "a = 2**(0.5)*pi*Vs\n",
    "b = 2*pi*mu\n",
    "U_sol = a*cos(pi*x)*sin(pi*y)*cos(a*t)\n",
    "V_sol = -a*sin(pi*x)*cos(pi*y)*cos(a*t)\n",
    "Txx_sol = -b*sin(pi*x)*sin(pi*y)*sin(a*t)\n",
    "Tyy_sol = b*sin(pi*x)*sin(pi*y)*sin(a*t)\n",
    "Txy_sol = Float(0)"
   ]
  },
  {
   "cell_type": "markdown",
   "metadata": {},
   "source": [
    "###Initial conditions"
   ]
  },
  {
   "cell_type": "code",
   "execution_count": 56,
   "metadata": {
    "collapsed": false
   },
   "outputs": [],
   "source": [
    "# substitution t=0\n",
    "U_init_code = print_myccode(U_sol.subs(t,0))\n",
    "V_init_code = print_myccode(V_sol.subs(t,0))\n",
    "Txx_init_code = print_myccode(Txx_sol.subs(t,0))\n",
    "Tyy_init_code = print_myccode(Tyy_sol.subs(t,0))\n",
    "Txy_init_code = print_myccode(Txy_sol.subs(t,0))"
   ]
  },
  {
   "cell_type": "markdown",
   "metadata": {},
   "source": [
    "###Calculate FD approximation of derivatives"
   ]
  },
  {
   "cell_type": "code",
   "execution_count": 57,
   "metadata": {
    "collapsed": false
   },
   "outputs": [],
   "source": [
    "l = [t,x,y]\n",
    "\n",
    "# first-order time derivatives in velocities and stresses\n",
    "# O(dt^2) accuracy\n",
    "DtU = Deriv_half_2(U,l,0,dt,accuracy_time)[1]\n",
    "DtV = Deriv_half_2(V,l,0,dt,accuracy_time)[1]\n",
    "\n",
    "DtTxx = Deriv_half_2(Txx,l,0,dt,accuracy_time)[1]\n",
    "DtTxy = Deriv_half_2(Txy,l,0,dt,accuracy_time)[1]\n",
    "DtTyy = Deriv_half_2(Tyy,l,0,dt,accuracy_time)[1]\n",
    "\n",
    "# first-order spacial derivatives of velocities and stresses\n",
    "# O(h^4) accuracy\n",
    "\n",
    "DxU = Deriv_half_2(U,l,1,h,accuracy_space)[1]\n",
    "DyV = Deriv_half_2(V,l,2,h,accuracy_space)[1]\n",
    "\n",
    "DyU = Deriv_half_2(U,l,2,h,accuracy_space)[1]\n",
    "DxV = Deriv_half_2(V,l,1,h,accuracy_space)[1]\n",
    "\n",
    "DxTxx = Deriv_half_2(Txx,l,1,h,accuracy_space)[1]\n",
    "DyTyy = Deriv_half_2(Tyy,l,2,h,accuracy_space)[1]\n",
    "\n",
    "DxTxy = Deriv_half_2(Txy,l,1,h,accuracy_space)[1]\n",
    "DyTxy = Deriv_half_2(Txy,l,2,h,accuracy_space)[1]"
   ]
  },
  {
   "cell_type": "code",
   "execution_count": 8,
   "metadata": {
    "collapsed": false
   },
   "outputs": [
    {
     "data": {
      "image/png": "[encoded data removed]",
      "text/latex": [
       "$$\\frac{Txx_{t,x - \\frac{3}{2},y}}{24 h} - \\frac{9 Txx_{t,x - \\frac{1}{2},y}}{8 h} + \\frac{9 Txx_{t,x + \\frac{1}{2},y}}{8 h} - \\frac{Txx_{t,x + \\frac{3}{2},y}}{24 h}$$"
      ],
      "text/plain": [
       "Txx[t, x - 3/2, y]   9⋅Txx[t, x - 1/2, y]   9⋅Txx[t, x + 1/2, y]   Txx[t, x + \n",
       "────────────────── - ──────────────────── + ──────────────────── - ───────────\n",
       "       24⋅h                  8⋅h                    8⋅h                   24⋅h\n",
       "\n",
       "3/2, y]\n",
       "───────\n",
       "       "
      ]
     },
     "execution_count": 8,
     "metadata": {},
     "output_type": "execute_result"
    }
   ],
   "source": [
    "DxTxx"
   ]
  },
  {
   "cell_type": "code",
   "execution_count": 9,
   "metadata": {
    "collapsed": false
   },
   "outputs": [
    {
     "data": {
      "image/png": "[encoded data removed]",
      "text/latex": [
       "$$- \\frac{1}{dt} Txy_{t - \\frac{1}{2},x,y} + \\frac{1}{dt} Txy_{t + \\frac{1}{2},x,y}$$"
      ],
      "text/plain": [
       "  Txy[t - 1/2, x, y]   Txy[t + 1/2, x, y]\n",
       "- ────────────────── + ──────────────────\n",
       "          dt                   dt        "
      ]
     },
     "execution_count": 9,
     "metadata": {},
     "output_type": "execute_result"
    }
   ],
   "source": [
    "DtTxy"
   ]
  },
  {
   "cell_type": "code",
   "execution_count": 10,
   "metadata": {
    "collapsed": false
   },
   "outputs": [
    {
     "data": {
      "image/png": "[encoded data removed]",
      "text/latex": [
       "$$\\frac{Txy_{t,x,y - \\frac{3}{2}}}{24 h} - \\frac{9 Txy_{t,x,y - \\frac{1}{2}}}{8 h} + \\frac{9 Txy_{t,x,y + \\frac{1}{2}}}{8 h} - \\frac{Txy_{t,x,y + \\frac{3}{2}}}{24 h}$$"
      ],
      "text/plain": [
       "Txy[t, x, y - 3/2]   9⋅Txy[t, x, y - 1/2]   9⋅Txy[t, x, y + 1/2]   Txy[t, x, y\n",
       "────────────────── - ──────────────────── + ──────────────────── - ───────────\n",
       "       24⋅h                  8⋅h                    8⋅h                   24⋅h\n",
       "\n",
       " + 3/2]\n",
       "───────\n",
       "       "
      ]
     },
     "execution_count": 10,
     "metadata": {},
     "output_type": "execute_result"
    }
   ],
   "source": [
    "DyTxy"
   ]
  },
  {
   "cell_type": "markdown",
   "metadata": {},
   "source": [
    "###PDEs\n",
    "\n",
    "#####momentum equations\n",
    "$\\partial_tU = b(\\partial_xT_{xx}+\\partial_yT_{xy})$<br>\n",
    "$\\partial_tV = b(\\partial_xT_{xy}+\\partial_yT_{yy})$<br>\n",
    "#####stress-strain equations\n",
    "$\\partial_tT_{xx} = (\\lambda+2\\mu)\\partial_xU + \\lambda\\partial_yV $<br>\n",
    "$\\partial_tT_{yy} = (\\lambda+2\\mu)\\partial_yV + \\lambda\\partial_xU $<br>\n",
    "$\\partial_tT_{xy} = \\mu(\\partial_yU + \\partial_xV)$<br>"
   ]
  },
  {
   "cell_type": "code",
   "execution_count": 58,
   "metadata": {
    "collapsed": false
   },
   "outputs": [],
   "source": [
    "# momentum equations\n",
    "eq1 = Eq(DtU, beta*(DxTxx + DyTxy))\n",
    "eq2 = Eq(DtV, beta*(DxTxy + DyTyy))\n",
    "\n",
    "# stress-strain equations\n",
    "eq3 = Eq(DtTxx, (lam + 2*mu)*DxU + lam*DyV)\n",
    "eq4 = Eq(DtTyy, (lam + 2*mu)*DyV + lam*DxU)\n",
    "eq5 = Eq(DtTxy, mu*(DyU+DxV))"
   ]
  },
  {
   "cell_type": "code",
   "execution_count": 59,
   "metadata": {
    "collapsed": false
   },
   "outputs": [
    {
     "data": {
      "image/png": "[encoded data removed]",
      "text/latex": [
       "$$- \\frac{1}{dt} U_{t - \\frac{1}{2},x,y} + \\frac{1}{dt} U_{t + \\frac{1}{2},x,y} = \\beta \\left(\\frac{Txx_{t,x - \\frac{3}{2},y}}{24 h} - \\frac{9 Txx_{t,x - \\frac{1}{2},y}}{8 h} + \\frac{9 Txx_{t,x + \\frac{1}{2},y}}{8 h} - \\frac{Txx_{t,x + \\frac{3}{2},y}}{24 h} + \\frac{Txy_{t,x,y - \\frac{3}{2}}}{24 h} - \\frac{9 Txy_{t,x,y - \\frac{1}{2}}}{8 h} + \\frac{9 Txy_{t,x,y + \\frac{1}{2}}}{8 h} - \\frac{Txy_{t,x,y + \\frac{3}{2}}}{24 h}\\right)$$"
      ],
      "text/plain": [
       "  U[t - 1/2, x, y]   U[t + 1/2, x, y]     ⎛Txx[t, x - 3/2, y]   9⋅Txx[t, x - 1\n",
       "- ──────────────── + ──────────────── = β⋅⎜────────────────── - ──────────────\n",
       "         dt                 dt            ⎝       24⋅h                  8⋅h   \n",
       "\n",
       "/2, y]   9⋅Txx[t, x + 1/2, y]   Txx[t, x + 3/2, y]   Txy[t, x, y - 3/2]   9⋅Tx\n",
       "────── + ──────────────────── - ────────────────── + ────────────────── - ────\n",
       "                 8⋅h                   24⋅h                 24⋅h              \n",
       "\n",
       "y[t, x, y - 1/2]   9⋅Txy[t, x, y + 1/2]   Txy[t, x, y + 3/2]⎞\n",
       "──────────────── + ──────────────────── - ──────────────────⎟\n",
       "    8⋅h                    8⋅h                   24⋅h       ⎠"
      ]
     },
     "execution_count": 59,
     "metadata": {},
     "output_type": "execute_result"
    }
   ],
   "source": [
    "eq1"
   ]
  },
  {
   "cell_type": "code",
   "execution_count": 60,
   "metadata": {
    "collapsed": false
   },
   "outputs": [
    {
     "data": {
      "image/png": "[encoded data removed]",
      "text/latex": [
       "$$- \\frac{1}{dt} Txx_{t - \\frac{1}{2},x,y} + \\frac{1}{dt} Txx_{t + \\frac{1}{2},x,y} = \\lambda \\left(\\frac{V_{t,x,y - \\frac{3}{2}}}{24 h} - \\frac{9 V_{t,x,y - \\frac{1}{2}}}{8 h} + \\frac{9 V_{t,x,y + \\frac{1}{2}}}{8 h} - \\frac{V_{t,x,y + \\frac{3}{2}}}{24 h}\\right) + \\left(\\lambda + 2 \\mu\\right) \\left(\\frac{U_{t,x - \\frac{3}{2},y}}{24 h} - \\frac{9 U_{t,x - \\frac{1}{2},y}}{8 h} + \\frac{9 U_{t,x + \\frac{1}{2},y}}{8 h} - \\frac{U_{t,x + \\frac{3}{2},y}}{24 h}\\right)$$"
      ],
      "text/plain": [
       "  Txx[t - 1/2, x, y]   Txx[t + 1/2, x, y]     ⎛V[t, x, y - 3/2]   9⋅V[t, x, y \n",
       "- ────────────────── + ────────────────── = λ⋅⎜──────────────── - ────────────\n",
       "          dt                   dt             ⎝      24⋅h                8⋅h  \n",
       "\n",
       "- 1/2]   9⋅V[t, x, y + 1/2]   V[t, x, y + 3/2]⎞             ⎛U[t, x - 3/2, y] \n",
       "────── + ────────────────── - ────────────────⎟ + (λ + 2⋅μ)⋅⎜──────────────── \n",
       "                8⋅h                 24⋅h      ⎠             ⎝      24⋅h       \n",
       "\n",
       "  9⋅U[t, x - 1/2, y]   9⋅U[t, x + 1/2, y]   U[t, x + 3/2, y]⎞\n",
       "- ────────────────── + ────────────────── - ────────────────⎟\n",
       "         8⋅h                  8⋅h                 24⋅h      ⎠"
      ]
     },
     "execution_count": 60,
     "metadata": {},
     "output_type": "execute_result"
    }
   ],
   "source": [
    "eq3"
   ]
  },
  {
   "cell_type": "markdown",
   "metadata": {},
   "source": [
    "###solve for FD stencil"
   ]
  },
  {
   "cell_type": "code",
   "execution_count": 61,
   "metadata": {
    "collapsed": false
   },
   "outputs": [],
   "source": [
    "# for demo only\n",
    "# note replacing t-half whith t\n",
    "U_t = simplify(solve(eq1,U[t+hf,x,y])[0]-U[t-hf,x,y])+U[t,x,y]\n",
    "V_t = simplify(solve(eq2,V[t+hf,x,y])[0]-V[t-hf,x,y])+V[t-hf,x,y]\n",
    "Txx_t = simplify(solve(eq3,Txx[t+hf,x,y])[0]-Txx[t-hf,x,y])+Txx[t-hf,x,y]\n",
    "Tyy_t = simplify(solve(eq4,Tyy[t+hf,x,y])[0]-Tyy[t-hf,x,y])+Tyy[t-hf,x,y]\n",
    "# note difference between Txx and Txy indices\n",
    "Txy_t = simplify(solve(eq5,Txy[t+hf,x,y])[0]-Txy[t-hf,x,y])+Txy[t-hf,x,y]"
   ]
  },
  {
   "cell_type": "code",
   "execution_count": 62,
   "metadata": {
    "collapsed": false
   },
   "outputs": [
    {
     "data": {
      "image/png": "[encoded data removed]",
      "text/latex": [
       "$$\\frac{\\beta dt}{24 h} \\left(Txx_{t,x - \\frac{3}{2},y} - 27 Txx_{t,x - \\frac{1}{2},y} + 27 Txx_{t,x + \\frac{1}{2},y} - Txx_{t,x + \\frac{3}{2},y} + Txy_{t,x,y - \\frac{3}{2}} - 27 Txy_{t,x,y - \\frac{1}{2}} + 27 Txy_{t,x,y + \\frac{1}{2}} - Txy_{t,x,y + \\frac{3}{2}}\\right) + U_{t,x,y}$$"
      ],
      "text/plain": [
       "β⋅dt⋅(Txx[t, x - 3/2, y] - 27⋅Txx[t, x - 1/2, y] + 27⋅Txx[t, x + 1/2, y] - Txx\n",
       "──────────────────────────────────────────────────────────────────────────────\n",
       "                                                                              \n",
       "\n",
       "[t, x + 3/2, y] + Txy[t, x, y - 3/2] - 27⋅Txy[t, x, y - 1/2] + 27⋅Txy[t, x, y \n",
       "──────────────────────────────────────────────────────────────────────────────\n",
       "            24⋅h                                                              \n",
       "\n",
       "+ 1/2] - Txy[t, x, y + 3/2])             \n",
       "──────────────────────────── + U[t, x, y]\n",
       "                                         "
      ]
     },
     "execution_count": 62,
     "metadata": {},
     "output_type": "execute_result"
    }
   ],
   "source": [
    "U_t"
   ]
  },
  {
   "cell_type": "code",
   "execution_count": 63,
   "metadata": {
    "collapsed": false
   },
   "outputs": [],
   "source": [
    "# generate computation code segments\n",
    "U_t_code = print_myccode(U[t+1,x,y]) + \"=\" + print_myccode(shift_grid(U_t))\n",
    "V_t_code = print_myccode(V[t+1,x,y]) + \"=\" + print_myccode(shift_grid(V_t))\n",
    "Txx_t_code = print_myccode(Txx[t+1,x,y]) + \"=\" + print_myccode(shift_grid(Txx_t))\n",
    "Tyy_t_code = print_myccode(Tyy[t+1,x,y]) + \"=\" + print_myccode(shift_grid(Tyy_t))\n",
    "Txy_t_code = print_myccode(Txy[t+1,x,y]) + \"=\" + print_myccode(shift_grid(Txy_t))"
   ]
  },
  {
   "cell_type": "code",
   "execution_count": 64,
   "metadata": {
    "collapsed": false
   },
   "outputs": [
    {
     "data": {
      "text/plain": [
       "'U[t + 1][x][y]=(1.0F/24.0F)*beta*dt*(Txx[t][x - 3.0F/2.0F][y] - 27*Txx[t][x - 1.0F/2.0F][y] + 27*Txx[t][x + 1.0F/2.0F][y] - Txx[t][x + 3.0F/2.0F][y] + 27*Txy[t][x - 1.0F/2.0F][y] + Txy[t][x - 1.0F/2.0F][y - 2] - 27*Txy[t][x - 1.0F/2.0F][y - 1] - Txy[t][x - 1.0F/2.0F][y + 1])/h + U[t][x - 1.0F/2.0F][y]'"
      ]
     },
     "execution_count": 64,
     "metadata": {},
     "output_type": "execute_result"
    }
   ],
   "source": [
    "# they look like this\n",
    "U_t_code"
   ]
  },
  {
   "cell_type": "code",
   "execution_count": 65,
   "metadata": {
    "collapsed": false
   },
   "outputs": [
    {
     "data": {
      "image/png": "[encoded data removed]",
      "text/latex": [
       "$$\\frac{\\beta dt}{24 h} \\left(Txx_{t,x - \\frac{3}{2},y} - 27 Txx_{t,x - \\frac{1}{2},y} + 27 Txx_{t,x + \\frac{1}{2},y} - Txx_{t,x + \\frac{3}{2},y} + Txy_{t,x,y - \\frac{3}{2}} - 27 Txy_{t,x,y - \\frac{1}{2}} + 27 Txy_{t,x,y + \\frac{1}{2}} - Txy_{t,x,y + \\frac{3}{2}}\\right) + U_{t,x,y}$$"
      ],
      "text/plain": [
       "β⋅dt⋅(Txx[t, x - 3/2, y] - 27⋅Txx[t, x - 1/2, y] + 27⋅Txx[t, x + 1/2, y] - Txx\n",
       "──────────────────────────────────────────────────────────────────────────────\n",
       "                                                                              \n",
       "\n",
       "[t, x + 3/2, y] + Txy[t, x, y - 3/2] - 27⋅Txy[t, x, y - 1/2] + 27⋅Txy[t, x, y \n",
       "──────────────────────────────────────────────────────────────────────────────\n",
       "            24⋅h                                                              \n",
       "\n",
       "+ 1/2] - Txy[t, x, y + 3/2])             \n",
       "──────────────────────────── + U[t, x, y]\n",
       "                                         "
      ]
     },
     "execution_count": 65,
     "metadata": {},
     "output_type": "execute_result"
    }
   ],
   "source": [
    "# and this\n",
    "U_t"
   ]
  },
  {
   "cell_type": "markdown",
   "metadata": {},
   "source": [
    "##boundary conditions"
   ]
  },
  {
   "cell_type": "markdown",
   "metadata": {},
   "source": [
    "###get the second order FD approximation in space"
   ]
  },
  {
   "cell_type": "code",
   "execution_count": 16,
   "metadata": {
    "collapsed": true
   },
   "outputs": [],
   "source": [
    "l = [t+1,x,y]\n",
    "\n",
    "# first-order spacial derivatives of velocities\n",
    "# O(h^2) accuracy\n",
    "DxU2 = Deriv_half_2(U,l,1,h,1)[1]\n",
    "DyV2 = Deriv_half_2(V,l,2,h,1)[1]\n",
    "DyU2 = Deriv_half_2(U,l,2,h,1)[1]\n",
    "DxV2 = Deriv_half_2(V,l,1,h,1)[1]\n",
    "\n",
    "# these are used to calculate U and V beyond boundary\n",
    "Txx_expr = (lam + 2*mu)*DxU2 + lam*DyV2\n",
    "Tyy_expr = (lam + 2*mu)*DyV2 + lam*DxU2\n",
    "Txy_expr = mu*(DyU2 + DxV2)"
   ]
  },
  {
   "cell_type": "markdown",
   "metadata": {},
   "source": [
    "###at boundary $y=2$\n",
    "$T_{xx}[x,2]=0$<br>\n",
    "$T_{yy}[x,2]=0$<br>\n",
    "Txx not needed beyond the boundary<br>\n",
    "$T_{xx}[x,1]=-T_{xx}[x,3]$<br>\n",
    "$T_{yy}[x,1]=-T_{yy}[x,3]$<br>\n",
    "$T_{xy}[x,3/2]=-T_{xy}[x,5/2]$<br>\n",
    "$T_{xy}[x,1/2]=-T_{xy}[x,7/2]$<br>"
   ]
  },
  {
   "cell_type": "code",
   "execution_count": 17,
   "metadata": {
    "collapsed": false
   },
   "outputs": [
    {
     "data": {
      "image/png": "[encoded data removed]",
      "text/latex": [
       "$$\\frac{\\pi dt \\mu}{12 h} \\left(Txx_{t,x - \\frac{3}{2},2} - 27 Txx_{t,x - \\frac{1}{2},2} + 27 Txx_{t,x + \\frac{1}{2},2} - Txx_{t,x + \\frac{3}{2},2} + Txy_{t,x,\\frac{1}{2}} - 27 Txy_{t,x,\\frac{3}{2}} + 27 Txy_{t,x,\\frac{5}{2}} - Txy_{t,x,\\frac{7}{2}}\\right) + U_{t,x,2}$$"
      ],
      "text/plain": [
       "π⋅dt⋅μ⋅(Txx[t, x - 3/2, 2] - 27⋅Txx[t, x - 1/2, 2] + 27⋅Txx[t, x + 1/2, 2] - T\n",
       "──────────────────────────────────────────────────────────────────────────────\n",
       "                                                                              \n",
       "\n",
       "xx[t, x + 3/2, 2] + Txy[t, x, 1/2] - 27⋅Txy[t, x, 3/2] + 27⋅Txy[t, x, 5/2] - T\n",
       "──────────────────────────────────────────────────────────────────────────────\n",
       "     12⋅h                                                                     \n",
       "\n",
       "xy[t, x, 7/2])             \n",
       "────────────── + U[t, x, 2]\n",
       "                           "
      ]
     },
     "execution_count": 17,
     "metadata": {},
     "output_type": "execute_result"
    }
   ],
   "source": [
    "U_t.subs(y,2)"
   ]
  },
  {
   "cell_type": "code",
   "execution_count": 18,
   "metadata": {
    "collapsed": false
   },
   "outputs": [
    {
     "data": {
      "image/png": "[encoded data removed]",
      "text/latex": [
       "$$\\frac{\\pi dt \\mu}{12 h} \\left(Txy_{t,x - \\frac{3}{2},\\frac{5}{2}} - 27 Txy_{t,x - \\frac{1}{2},\\frac{5}{2}} + 27 Txy_{t,x + \\frac{1}{2},\\frac{5}{2}} - Txy_{t,x + \\frac{3}{2},\\frac{5}{2}} + Tyy_{t,x,1} - 27 Tyy_{t,x,2} + 27 Tyy_{t,x,3} - Tyy_{t,x,4}\\right) + V_{t - \\frac{1}{2},x,\\frac{5}{2}}$$"
      ],
      "text/plain": [
       "π⋅dt⋅μ⋅(Txy[t, x - 3/2, 5/2] - 27⋅Txy[t, x - 1/2, 5/2] + 27⋅Txy[t, x + 1/2, 5/\n",
       "──────────────────────────────────────────────────────────────────────────────\n",
       "                                                                              \n",
       "\n",
       "2] - Txy[t, x + 3/2, 5/2] + Tyy[t, x, 1] - 27⋅Tyy[t, x, 2] + 27⋅Tyy[t, x, 3] -\n",
       "──────────────────────────────────────────────────────────────────────────────\n",
       "     12⋅h                                                                     \n",
       "\n",
       " Tyy[t, x, 4])                     \n",
       "────────────── + V[t - 1/2, x, 5/2]\n",
       "                                   "
      ]
     },
     "execution_count": 18,
     "metadata": {},
     "output_type": "execute_result"
    }
   ],
   "source": [
    "V_t.subs(y,2+hf)"
   ]
  },
  {
   "cell_type": "code",
   "execution_count": 19,
   "metadata": {
    "collapsed": false
   },
   "outputs": [
    {
     "data": {
      "image/png": "[encoded data removed]",
      "text/latex": [
       "$$\\frac{dt}{24 h} \\left(\\lambda U_{t,x - \\frac{3}{2},3} - 27 \\lambda U_{t,x - \\frac{1}{2},3} + 27 \\lambda U_{t,x + \\frac{1}{2},3} - \\lambda U_{t,x + \\frac{3}{2},3} + \\lambda V_{t,x,\\frac{3}{2}} - 27 \\lambda V_{t,x,\\frac{5}{2}} + 27 \\lambda V_{t,x,\\frac{7}{2}} - \\lambda V_{t,x,\\frac{9}{2}} + 2 \\mu U_{t,x - \\frac{3}{2},3} - 54 \\mu U_{t,x - \\frac{1}{2},3} + 54 \\mu U_{t,x + \\frac{1}{2},3} - 2 \\mu U_{t,x + \\frac{3}{2},3}\\right) + Txx_{t - \\frac{1}{2},x,3}$$"
      ],
      "text/plain": [
       "dt⋅(λ⋅U[t, x - 3/2, 3] - 27⋅λ⋅U[t, x - 1/2, 3] + 27⋅λ⋅U[t, x + 1/2, 3] - λ⋅U[t\n",
       "──────────────────────────────────────────────────────────────────────────────\n",
       "                                                                              \n",
       "\n",
       ", x + 3/2, 3] + λ⋅V[t, x, 3/2] - 27⋅λ⋅V[t, x, 5/2] + 27⋅λ⋅V[t, x, 7/2] - λ⋅V[t\n",
       "──────────────────────────────────────────────────────────────────────────────\n",
       "                                                  24⋅h                        \n",
       "\n",
       ", x, 9/2] + 2⋅μ⋅U[t, x - 3/2, 3] - 54⋅μ⋅U[t, x - 1/2, 3] + 54⋅μ⋅U[t, x + 1/2, \n",
       "──────────────────────────────────────────────────────────────────────────────\n",
       "                                                                              \n",
       "\n",
       "3] - 2⋅μ⋅U[t, x + 3/2, 3])                     \n",
       "────────────────────────── + Txx[t - 1/2, x, 3]\n",
       "                                               "
      ]
     },
     "execution_count": 19,
     "metadata": {},
     "output_type": "execute_result"
    }
   ],
   "source": [
    "Txx_t.subs(y,3)"
   ]
  },
  {
   "cell_type": "code",
   "execution_count": 20,
   "metadata": {
    "collapsed": false
   },
   "outputs": [
    {
     "data": {
      "image/png": "[encoded data removed]",
      "text/latex": [
       "$$\\frac{dt}{24 h} \\left(\\lambda U_{t,x - \\frac{3}{2},3} - 27 \\lambda U_{t,x - \\frac{1}{2},3} + 27 \\lambda U_{t,x + \\frac{1}{2},3} - \\lambda U_{t,x + \\frac{3}{2},3} + \\lambda V_{t,x,\\frac{3}{2}} - 27 \\lambda V_{t,x,\\frac{5}{2}} + 27 \\lambda V_{t,x,\\frac{7}{2}} - \\lambda V_{t,x,\\frac{9}{2}} + 2 \\mu V_{t,x,\\frac{3}{2}} - 54 \\mu V_{t,x,\\frac{5}{2}} + 54 \\mu V_{t,x,\\frac{7}{2}} - 2 \\mu V_{t,x,\\frac{9}{2}}\\right) + Tyy_{t - \\frac{1}{2},x,3}$$"
      ],
      "text/plain": [
       "dt⋅(λ⋅U[t, x - 3/2, 3] - 27⋅λ⋅U[t, x - 1/2, 3] + 27⋅λ⋅U[t, x + 1/2, 3] - λ⋅U[t\n",
       "──────────────────────────────────────────────────────────────────────────────\n",
       "                                                                              \n",
       "\n",
       ", x + 3/2, 3] + λ⋅V[t, x, 3/2] - 27⋅λ⋅V[t, x, 5/2] + 27⋅λ⋅V[t, x, 7/2] - λ⋅V[t\n",
       "──────────────────────────────────────────────────────────────────────────────\n",
       "                                          24⋅h                                \n",
       "\n",
       ", x, 9/2] + 2⋅μ⋅V[t, x, 3/2] - 54⋅μ⋅V[t, x, 5/2] + 54⋅μ⋅V[t, x, 7/2] - 2⋅μ⋅V[t\n",
       "──────────────────────────────────────────────────────────────────────────────\n",
       "                                                                              \n",
       "\n",
       ", x, 9/2])                     \n",
       "────────── + Tyy[t - 1/2, x, 3]\n",
       "                               "
      ]
     },
     "execution_count": 20,
     "metadata": {},
     "output_type": "execute_result"
    }
   ],
   "source": [
    "Tyy_t.subs(y,3)"
   ]
  },
  {
   "cell_type": "code",
   "execution_count": 21,
   "metadata": {
    "collapsed": false
   },
   "outputs": [
    {
     "data": {
      "image/png": "[encoded data removed]",
      "text/latex": [
       "$$\\frac{dt \\mu}{24 h} \\left(U_{t,x,1} - 27 U_{t,x,2} + 27 U_{t,x,3} - U_{t,x,4} + V_{t,x - \\frac{3}{2},\\frac{5}{2}} - 27 V_{t,x - \\frac{1}{2},\\frac{5}{2}} + 27 V_{t,x + \\frac{1}{2},\\frac{5}{2}} - V_{t,x + \\frac{3}{2},\\frac{5}{2}}\\right) + Txy_{t - \\frac{1}{2},x,\\frac{5}{2}}$$"
      ],
      "text/plain": [
       "dt⋅μ⋅(U[t, x, 1] - 27⋅U[t, x, 2] + 27⋅U[t, x, 3] - U[t, x, 4] + V[t, x - 3/2, \n",
       "──────────────────────────────────────────────────────────────────────────────\n",
       "                                                                          24⋅h\n",
       "\n",
       "5/2] - 27⋅V[t, x - 1/2, 5/2] + 27⋅V[t, x + 1/2, 5/2] - V[t, x + 3/2, 5/2])    \n",
       "────────────────────────────────────────────────────────────────────────── + T\n",
       "                                                                              \n",
       "\n",
       "                   \n",
       "xy[t - 1/2, x, 5/2]\n",
       "                   "
      ]
     },
     "execution_count": 21,
     "metadata": {},
     "output_type": "execute_result"
    }
   ],
   "source": [
    "Txy_t.subs(y,2+hf)"
   ]
  },
  {
   "cell_type": "markdown",
   "metadata": {},
   "source": [
    "###### to calculate above, we need these point beyond the boundary\n",
    "$T_{xy}[x,\\frac{1}{2}] = -T_{xy}[x,\\frac{7}{2}]$<br>\n",
    "$T_{xy}[x,\\frac{3}{2}] = -T_{xy}[x,\\frac{5}{2}]$<br>\n",
    "$T_{yy}[x,1] = -T_{yy}[x,3]$<br>\n",
    "$U[x,1]$<br>\n",
    "$V[x,\\frac{3}{2}]$<br>"
   ]
  },
  {
   "cell_type": "markdown",
   "metadata": {
    "collapsed": false
   },
   "source": [
    "####calculate $V[x,\\frac{3}{2}]$"
   ]
  },
  {
   "cell_type": "code",
   "execution_count": 23,
   "metadata": {
    "collapsed": false
   },
   "outputs": [
    {
     "data": {
      "image/png": "[encoded data removed]",
      "text/latex": [
       "$$\\frac{1}{\\lambda + 2 \\mu} \\left(- \\lambda U_{t + 1,x - \\frac{1}{2},2} + \\lambda U_{t + 1,x + \\frac{1}{2},2} + \\lambda V_{t + 1,x,\\frac{5}{2}} + 2 \\mu V_{t + 1,x,\\frac{5}{2}}\\right)$$"
      ],
      "text/plain": [
       "-λ⋅U[t + 1, x - 1/2, 2] + λ⋅U[t + 1, x + 1/2, 2] + λ⋅V[t + 1, x, 5/2] + 2⋅μ⋅V[\n",
       "──────────────────────────────────────────────────────────────────────────────\n",
       "                                          λ + 2⋅μ                             \n",
       "\n",
       "t + 1, x, 5/2]\n",
       "──────────────\n",
       "              "
      ]
     },
     "execution_count": 23,
     "metadata": {},
     "output_type": "execute_result"
    }
   ],
   "source": [
    "bc_V_y0 = solve(Tyy_expr.subs(y,2), V[t+1,x,1+hf])[0]; bc_V_y0"
   ]
  },
  {
   "cell_type": "markdown",
   "metadata": {
    "collapsed": false
   },
   "source": [
    "####calculate $U[x,1]$"
   ]
  },
  {
   "cell_type": "code",
   "execution_count": 24,
   "metadata": {
    "collapsed": false
   },
   "outputs": [
    {
     "data": {
      "image/png": "[encoded data removed]",
      "text/latex": [
       "$$U_{t + 1,x + \\frac{1}{2},3} - V_{t + 1,x,\\frac{3}{2}} - V_{t + 1,x,\\frac{5}{2}} + V_{t + 1,x + 1,\\frac{3}{2}} + V_{t + 1,x + 1,\\frac{5}{2}}$$"
      ],
      "text/plain": [
       "U[t + 1, x + 1/2, 3] - V[t + 1, x, 3/2] - V[t + 1, x, 5/2] + V[t + 1, x + 1, 3\n",
       "/2] + V[t + 1, x + 1, 5/2]"
      ]
     },
     "execution_count": 24,
     "metadata": {},
     "output_type": "execute_result"
    }
   ],
   "source": [
    "bc_U_y0 = solve(Eq(Txy_expr.subs({x:x+hf,y:1+hf}), -Txy_expr.subs({x:x+hf,y:2+hf})),U[t+1,x+hf,1])[0]; bc_U_y0"
   ]
  },
  {
   "cell_type": "code",
   "execution_count": 25,
   "metadata": {
    "collapsed": false
   },
   "outputs": [],
   "source": [
    "bc_V_y0_code = print_myccode(shift_grid(bc_V_y0))\n",
    "bc_U_y0_code = print_myccode(shift_grid(bc_U_y0))"
   ]
  },
  {
   "cell_type": "markdown",
   "metadata": {},
   "source": [
    "###at boundary $y=dimy+2$\n",
    "$T_{xx}[x,dimy+2]=0$<br>\n",
    "$T_{yy}[x,dimy+2]=0$<br>\n",
    "Txx not needed beyond the boundary<br>\n",
    "$T_{xx}[x,dimy+1]=-T_{xx}[x,dimy+3]$<br>\n",
    "$T_{yy}[x,dimy+1]=-T_{yy}[x,dimy+3]$<br>\n",
    "$T_{xy}[x,dimy+3/2]=-T_{xy}[x,dimy+5/2]$<br>\n",
    "$T_{xy}[x,dimy+1/2]=-T_{xy}[x,dimy+7/2]$<br>"
   ]
  },
  {
   "cell_type": "code",
   "execution_count": 26,
   "metadata": {
    "collapsed": false
   },
   "outputs": [
    {
     "data": {
      "image/png": "[encoded data removed]",
      "text/latex": [
       "$$\\frac{\\pi dt \\mu}{12 h} \\left(Txx_{t,x - \\frac{3}{2},dimy + 2} - 27 Txx_{t,x - \\frac{1}{2},dimy + 2} + 27 Txx_{t,x + \\frac{1}{2},dimy + 2} - Txx_{t,x + \\frac{3}{2},dimy + 2} + Txy_{t,x,dimy + \\frac{1}{2}} - 27 Txy_{t,x,dimy + \\frac{3}{2}} + 27 Txy_{t,x,dimy + \\frac{5}{2}} - Txy_{t,x,dimy + \\frac{7}{2}}\\right) + U_{t,x,dimy + 2}$$"
      ],
      "text/plain": [
       "π⋅dt⋅μ⋅(Txx[t, x - 3/2, dimy + 2] - 27⋅Txx[t, x - 1/2, dimy + 2] + 27⋅Txx[t, x\n",
       "──────────────────────────────────────────────────────────────────────────────\n",
       "                                                                              \n",
       "\n",
       " + 1/2, dimy + 2] - Txx[t, x + 3/2, dimy + 2] + Txy[t, x, dimy + 1/2] - 27⋅Txy\n",
       "──────────────────────────────────────────────────────────────────────────────\n",
       "                                 12⋅h                                         \n",
       "\n",
       "[t, x, dimy + 3/2] + 27⋅Txy[t, x, dimy + 5/2] - Txy[t, x, dimy + 7/2])        \n",
       "────────────────────────────────────────────────────────────────────── + U[t, \n",
       "                                                                              \n",
       "\n",
       "            \n",
       "x, dimy + 2]\n",
       "            "
      ]
     },
     "execution_count": 26,
     "metadata": {},
     "output_type": "execute_result"
    }
   ],
   "source": [
    "U_t.subs(y,dimy+2)"
   ]
  },
  {
   "cell_type": "code",
   "execution_count": 27,
   "metadata": {
    "collapsed": false
   },
   "outputs": [
    {
     "data": {
      "image/png": "[encoded data removed]",
      "text/latex": [
       "$$\\frac{\\pi dt \\mu}{12 h} \\left(Txy_{t,x - \\frac{3}{2},dimy + \\frac{3}{2}} - 27 Txy_{t,x - \\frac{1}{2},dimy + \\frac{3}{2}} + 27 Txy_{t,x + \\frac{1}{2},dimy + \\frac{3}{2}} - Txy_{t,x + \\frac{3}{2},dimy + \\frac{3}{2}} + Tyy_{t,x,dimy} - 27 Tyy_{t,x,dimy + 1} + 27 Tyy_{t,x,dimy + 2} - Tyy_{t,x,dimy + 3}\\right) + V_{t - \\frac{1}{2},x,dimy + \\frac{3}{2}}$$"
      ],
      "text/plain": [
       "π⋅dt⋅μ⋅(Txy[t, x - 3/2, dimy + 3/2] - 27⋅Txy[t, x - 1/2, dimy + 3/2] + 27⋅Txy[\n",
       "──────────────────────────────────────────────────────────────────────────────\n",
       "                                                                              \n",
       "\n",
       "t, x + 1/2, dimy + 3/2] - Txy[t, x + 3/2, dimy + 3/2] + Tyy[t, x, dimy] - 27⋅T\n",
       "──────────────────────────────────────────────────────────────────────────────\n",
       "                               12⋅h                                           \n",
       "\n",
       "yy[t, x, dimy + 1] + 27⋅Tyy[t, x, dimy + 2] - Tyy[t, x, dimy + 3])            \n",
       "────────────────────────────────────────────────────────────────── + V[t - 1/2\n",
       "                                                                              \n",
       "\n",
       "                \n",
       ", x, dimy + 3/2]\n",
       "                "
      ]
     },
     "execution_count": 27,
     "metadata": {},
     "output_type": "execute_result"
    }
   ],
   "source": [
    "V_t.subs(y,dimy+1+hf)"
   ]
  },
  {
   "cell_type": "code",
   "execution_count": 28,
   "metadata": {
    "collapsed": false
   },
   "outputs": [
    {
     "data": {
      "image/png": "[encoded data removed]",
      "text/latex": [
       "$$\\frac{dt}{24 h} \\left(\\lambda U_{t,x - \\frac{3}{2},dimy + 1} - 27 \\lambda U_{t,x - \\frac{1}{2},dimy + 1} + 27 \\lambda U_{t,x + \\frac{1}{2},dimy + 1} - \\lambda U_{t,x + \\frac{3}{2},dimy + 1} + \\lambda V_{t,x,dimy - \\frac{1}{2}} - 27 \\lambda V_{t,x,dimy + \\frac{1}{2}} + 27 \\lambda V_{t,x,dimy + \\frac{3}{2}} - \\lambda V_{t,x,dimy + \\frac{5}{2}} + 2 \\mu U_{t,x - \\frac{3}{2},dimy + 1} - 54 \\mu U_{t,x - \\frac{1}{2},dimy + 1} + 54 \\mu U_{t,x + \\frac{1}{2},dimy + 1} - 2 \\mu U_{t,x + \\frac{3}{2},dimy + 1}\\right) + Txx_{t - \\frac{1}{2},x,dimy + 1}$$"
      ],
      "text/plain": [
       "dt⋅(λ⋅U[t, x - 3/2, dimy + 1] - 27⋅λ⋅U[t, x - 1/2, dimy + 1] + 27⋅λ⋅U[t, x + 1\n",
       "──────────────────────────────────────────────────────────────────────────────\n",
       "                                                                              \n",
       "\n",
       "/2, dimy + 1] - λ⋅U[t, x + 3/2, dimy + 1] + λ⋅V[t, x, dimy - 1/2] - 27⋅λ⋅V[t, \n",
       "──────────────────────────────────────────────────────────────────────────────\n",
       "                                                                              \n",
       "\n",
       "x, dimy + 1/2] + 27⋅λ⋅V[t, x, dimy + 3/2] - λ⋅V[t, x, dimy + 5/2] + 2⋅μ⋅U[t, x\n",
       "──────────────────────────────────────────────────────────────────────────────\n",
       "              24⋅h                                                            \n",
       "\n",
       " - 3/2, dimy + 1] - 54⋅μ⋅U[t, x - 1/2, dimy + 1] + 54⋅μ⋅U[t, x + 1/2, dimy + 1\n",
       "──────────────────────────────────────────────────────────────────────────────\n",
       "                                                                              \n",
       "\n",
       "] - 2⋅μ⋅U[t, x + 3/2, dimy + 1])                            \n",
       "──────────────────────────────── + Txx[t - 1/2, x, dimy + 1]\n",
       "                                                            "
      ]
     },
     "execution_count": 28,
     "metadata": {},
     "output_type": "execute_result"
    }
   ],
   "source": [
    "Txx_t.subs(y,dimy+1)"
   ]
  },
  {
   "cell_type": "code",
   "execution_count": 29,
   "metadata": {
    "collapsed": false
   },
   "outputs": [
    {
     "data": {
      "image/png": "[encoded data removed]",
      "text/latex": [
       "$$\\frac{dt}{24 h} \\left(\\lambda U_{t,x - \\frac{3}{2},dimy + 1} - 27 \\lambda U_{t,x - \\frac{1}{2},dimy + 1} + 27 \\lambda U_{t,x + \\frac{1}{2},dimy + 1} - \\lambda U_{t,x + \\frac{3}{2},dimy + 1} + \\lambda V_{t,x,dimy - \\frac{1}{2}} - 27 \\lambda V_{t,x,dimy + \\frac{1}{2}} + 27 \\lambda V_{t,x,dimy + \\frac{3}{2}} - \\lambda V_{t,x,dimy + \\frac{5}{2}} + 2 \\mu V_{t,x,dimy - \\frac{1}{2}} - 54 \\mu V_{t,x,dimy + \\frac{1}{2}} + 54 \\mu V_{t,x,dimy + \\frac{3}{2}} - 2 \\mu V_{t,x,dimy + \\frac{5}{2}}\\right) + Tyy_{t - \\frac{1}{2},x,dimy + 1}$$"
      ],
      "text/plain": [
       "dt⋅(λ⋅U[t, x - 3/2, dimy + 1] - 27⋅λ⋅U[t, x - 1/2, dimy + 1] + 27⋅λ⋅U[t, x + 1\n",
       "──────────────────────────────────────────────────────────────────────────────\n",
       "                                                                              \n",
       "\n",
       "/2, dimy + 1] - λ⋅U[t, x + 3/2, dimy + 1] + λ⋅V[t, x, dimy - 1/2] - 27⋅λ⋅V[t, \n",
       "──────────────────────────────────────────────────────────────────────────────\n",
       "                                                                              \n",
       "\n",
       "x, dimy + 1/2] + 27⋅λ⋅V[t, x, dimy + 3/2] - λ⋅V[t, x, dimy + 5/2] + 2⋅μ⋅V[t, x\n",
       "──────────────────────────────────────────────────────────────────────────────\n",
       "      24⋅h                                                                    \n",
       "\n",
       ", dimy - 1/2] - 54⋅μ⋅V[t, x, dimy + 1/2] + 54⋅μ⋅V[t, x, dimy + 3/2] - 2⋅μ⋅V[t,\n",
       "──────────────────────────────────────────────────────────────────────────────\n",
       "                                                                              \n",
       "\n",
       " x, dimy + 5/2])                            \n",
       "──────────────── + Tyy[t - 1/2, x, dimy + 1]\n",
       "                                            "
      ]
     },
     "execution_count": 29,
     "metadata": {},
     "output_type": "execute_result"
    }
   ],
   "source": [
    "Tyy_t.subs(y,dimy+1)"
   ]
  },
  {
   "cell_type": "code",
   "execution_count": 31,
   "metadata": {
    "collapsed": false
   },
   "outputs": [
    {
     "data": {
      "image/png": "[encoded data removed]",
      "text/latex": [
       "$$\\frac{dt \\mu}{24 h} \\left(U_{t,x,dimy} - 27 U_{t,x,dimy + 1} + 27 U_{t,x,dimy + 2} - U_{t,x,dimy + 3} + V_{t,x - \\frac{3}{2},dimy + \\frac{3}{2}} - 27 V_{t,x - \\frac{1}{2},dimy + \\frac{3}{2}} + 27 V_{t,x + \\frac{1}{2},dimy + \\frac{3}{2}} - V_{t,x + \\frac{3}{2},dimy + \\frac{3}{2}}\\right) + Txy_{t - \\frac{1}{2},x,dimy + \\frac{3}{2}}$$"
      ],
      "text/plain": [
       "dt⋅μ⋅(U[t, x, dimy] - 27⋅U[t, x, dimy + 1] + 27⋅U[t, x, dimy + 2] - U[t, x, di\n",
       "──────────────────────────────────────────────────────────────────────────────\n",
       "                                                                              \n",
       "\n",
       "my + 3] + V[t, x - 3/2, dimy + 3/2] - 27⋅V[t, x - 1/2, dimy + 3/2] + 27⋅V[t, x\n",
       "──────────────────────────────────────────────────────────────────────────────\n",
       "                      24⋅h                                                    \n",
       "\n",
       " + 1/2, dimy + 3/2] - V[t, x + 3/2, dimy + 3/2])                              \n",
       "──────────────────────────────────────────────── + Txy[t - 1/2, x, dimy + 3/2]\n",
       "                                                                              "
      ]
     },
     "execution_count": 31,
     "metadata": {},
     "output_type": "execute_result"
    }
   ],
   "source": [
    "Txy_t.subs(y,dimy+1+hf)"
   ]
  },
  {
   "cell_type": "markdown",
   "metadata": {},
   "source": [
    "###### to calculate above, we need these point beyond the boundary\n",
    "$T_{xy}[x,dimy+\\frac{7}{2}] = -T_{xy}[x,dimy+\\frac{1}{2}]$<br>\n",
    "$T_{xy}[x,\\frac{5}{2}] = -T_{xy}[x,\\frac{3}{2}]$<br>\n",
    "$T_{yy}[x,dimy+3] = -T_{yy}[x,dimy+1]$<br>\n",
    "$U[x,dimy+3]$<br>\n",
    "$V[x,dimy+\\frac{5}{2}]$<br>"
   ]
  },
  {
   "cell_type": "markdown",
   "metadata": {
    "collapsed": false
   },
   "source": [
    "####calculate $V[x,dimy+\\frac{5}{2}]$"
   ]
  },
  {
   "cell_type": "code",
   "execution_count": 36,
   "metadata": {
    "collapsed": false
   },
   "outputs": [
    {
     "data": {
      "image/png": "[encoded data removed]",
      "text/latex": [
       "$$\\frac{1}{\\lambda + 2 \\mu} \\left(\\lambda U_{t + 1,x - \\frac{1}{2},dimy + 2} - \\lambda U_{t + 1,x + \\frac{1}{2},dimy + 2} + \\lambda V_{t + 1,x,dimy + \\frac{3}{2}} + 2 \\mu V_{t + 1,x,dimy + \\frac{3}{2}}\\right)$$"
      ],
      "text/plain": [
       "λ⋅U[t + 1, x - 1/2, dimy + 2] - λ⋅U[t + 1, x + 1/2, dimy + 2] + λ⋅V[t + 1, x, \n",
       "──────────────────────────────────────────────────────────────────────────────\n",
       "                                                        λ + 2⋅μ               \n",
       "\n",
       "dimy + 3/2] + 2⋅μ⋅V[t + 1, x, dimy + 3/2]\n",
       "─────────────────────────────────────────\n",
       "                                         "
      ]
     },
     "execution_count": 36,
     "metadata": {},
     "output_type": "execute_result"
    }
   ],
   "source": [
    "bc_V_y1 = solve(Tyy_expr.subs(y,dimy+2), V[t+1,x,dimy+2+hf])[0]; bc_V_y1"
   ]
  },
  {
   "cell_type": "markdown",
   "metadata": {
    "collapsed": false
   },
   "source": [
    "####calculate $U[x+\\frac{1}{2},dimy+3]$"
   ]
  },
  {
   "cell_type": "code",
   "execution_count": 37,
   "metadata": {
    "collapsed": false
   },
   "outputs": [
    {
     "data": {
      "image/png": "[encoded data removed]",
      "text/latex": [
       "$$U_{t + 1,x + \\frac{1}{2},dimy + 1} + V_{t + 1,x,dimy + \\frac{3}{2}} + V_{t + 1,x,dimy + \\frac{5}{2}} - V_{t + 1,x + 1,dimy + \\frac{3}{2}} - V_{t + 1,x + 1,dimy + \\frac{5}{2}}$$"
      ],
      "text/plain": [
       "U[t + 1, x + 1/2, dimy + 1] + V[t + 1, x, dimy + 3/2] + V[t + 1, x, dimy + 5/2\n",
       "] - V[t + 1, x + 1, dimy + 3/2] - V[t + 1, x + 1, dimy + 5/2]"
      ]
     },
     "execution_count": 37,
     "metadata": {},
     "output_type": "execute_result"
    }
   ],
   "source": [
    "bc_U_y1 = solve(Eq(Txy_expr.subs({x:x+hf,y:dimy+2-hf}), -Txy_expr.subs({x:x+hf,y:dimy+2+hf})),U[t+1,x+hf,dimy+3])[0]; bc_U_y1"
   ]
  },
  {
   "cell_type": "code",
   "execution_count": 38,
   "metadata": {
    "collapsed": false
   },
   "outputs": [],
   "source": [
    "bc_V_y1_code = print_myccode(shift_grid(bc_V_y1))\n",
    "bc_U_y1_code = print_myccode(shift_grid(bc_U_y1))"
   ]
  },
  {
   "cell_type": "code",
   "execution_count": 46,
   "metadata": {
    "collapsed": false
   },
   "outputs": [],
   "source": [
    "bc_U_x0 = solve(Tyy_expr.subs(x,2), U[t+1,1+hf,y])[0]\n",
    "bc_V_x0 = solve(Eq(Txy_expr.subs({x:1+hf,y:y+hf}), -Txy_expr.subs({x:2+hf,y:y+hf})),V[t+1,1,y+hf])[0]"
   ]
  },
  {
   "cell_type": "code",
   "execution_count": 47,
   "metadata": {
    "collapsed": false
   },
   "outputs": [],
   "source": [
    "bc_V_x0_code = print_myccode(shift_grid(bc_V_x0))\n",
    "bc_U_x0_code = print_myccode(shift_grid(bc_U_x0))"
   ]
  },
  {
   "cell_type": "code",
   "execution_count": 49,
   "metadata": {
    "collapsed": false
   },
   "outputs": [],
   "source": [
    "bc_U_x1 = solve(Tyy_expr.subs(x,dimx+2), U[t+1,dimx+2+hf,y])[0]\n",
    "bc_V_x1 = solve(Eq(Txy_expr.subs({x:dimx+2+hf,y:y+hf}), -Txy_expr.subs({x:dimx+2-hf,y:y+hf})),V[t+1,dimx+3,y+hf])[0]"
   ]
  },
  {
   "cell_type": "code",
   "execution_count": 50,
   "metadata": {
    "collapsed": false
   },
   "outputs": [],
   "source": [
    "bc_V_x1_code = print_myccode(shift_grid(bc_V_x1))\n",
    "bc_U_x1_code = print_myccode(shift_grid(bc_U_x1))"
   ]
  },
  {
   "cell_type": "markdown",
   "metadata": {},
   "source": [
    "###output using templates"
   ]
  },
  {
   "cell_type": "code",
   "execution_count": null,
   "metadata": {
    "collapsed": false
   },
   "outputs": [],
   "source": [
    "# write to template file\n",
    "mylookup = TemplateLookup(directories=['templates/'])\n",
    "mytemplate = mylookup.get_template('test_pochoir_iso_elastic_tmpl.cpp')\n",
    "buf = StringIO()\n",
    "dict1 = {'time_period':2,'Txx':Txx_t,'Tyy':Tyy_t,'Tzz':Tzz_t,'Txy':Txy_t,'Txz':Txz_t,'Tyz':Tyz_t,'U':U_t,'V':V_t,'W':W_t}\n",
    "dict1.update({'bc_U_x0':bc_U_x0,'bc_U_x1':bc_U_x1,'bc_U_y0':bc_U_y0,'bc_U_y1':bc_U_y1,'bc_U_z0':bc_U_z0,'bc_U_z1':bc_U_z1})\n",
    "dict1.update({'bc_V_x0':bc_V_x0,'bc_V_x1':bc_V_x1,'bc_V_y0':bc_V_y0,'bc_V_y1':bc_V_y1,'bc_V_z0':bc_V_z0,'bc_V_z1':bc_V_z1})\n",
    "dict1.update({'bc_W_x0':bc_W_x0,'bc_W_x1':bc_W_x1,'bc_W_y0':bc_W_y0,'bc_W_y1':bc_U_y1,'bc_W_z0':bc_W_z0,'bc_W_z1':bc_W_z1})\n",
    "dict1.update({'bc_Txx_x0':bc_Txx_x0,'bc_Txx_x1':bc_Txx_x1,'bc_Txx_y0':bc_Txx_y0,'bc_Txx_y1':bc_Txx_y1,'bc_Txx_z0':bc_Txx_z0,'bc_Txx_z1':bc_Txx_z1})\n",
    "dict1.update({'bc_Tyy_x0':bc_Tyy_x0,'bc_Tyy_x1':bc_Tyy_x1,'bc_Tyy_y0':bc_Tyy_y0,'bc_Tyy_y1':bc_Tyy_y1,'bc_Tyy_z0':bc_Tyy_z0,'bc_Tyy_z1':bc_U_z1})\n",
    "dict1.update({'bc_Tzz_x0':bc_Tzz_x0,'bc_Tzz_x1':bc_Tzz_x1,'bc_Tzz_y0':bc_Tzz_y0,'bc_Tzz_y1':bc_Tzz_y1,'bc_Tzz_z0':bc_Tzz_z0,'bc_Tzz_z1':bc_Tzz_z1})\n",
    "dict1.update({'bc_Txy_x0':bc_Txy_x0,'bc_Txy_x1':bc_Txy_x1,'bc_Txy_y0':bc_Txy_y0,'bc_Txy_y1':bc_Txy_y1,'bc_Txy_z0':bc_Txy_z0,'bc_Txy_z1':bc_Txy_z1})\n",
    "dict1.update({'bc_Txz_x0':bc_Txz_x0,'bc_Txz_x1':bc_Txz_x1,'bc_Txz_y0':bc_Txz_y0,'bc_Txz_y1':bc_Txz_y1,'bc_Txz_z0':bc_Txz_z0,'bc_Txz_z1':bc_Txz_z1})\n",
    "dict1.update({'bc_Tyz_x0':bc_Tyz_x0,'bc_Tyz_x1':bc_Tyz_x1,'bc_Tyz_y0':bc_Tyz_y0,'bc_Tyz_y1':bc_Tyz_y1,'bc_Tyz_z0':bc_Tyz_z0,'bc_Tyz_z1':bc_Tyz_z1})\n",
    "ctx = Context(buf, **dict1)\n",
    "mytemplate.render_context(ctx)\n",
    "code = buf.getvalue()"
   ]
  },
  {
   "cell_type": "code",
   "execution_count": null,
   "metadata": {
    "collapsed": false
   },
   "outputs": [],
   "source": [
    "# generate compilable C++ source code\n",
    "f= open('../tests/src/mytest_pochoir.cpp','w')\n",
    "f.write(code)\n",
    "f.close()"
   ]
  },
  {
   "cell_type": "code",
   "execution_count": null,
   "metadata": {
    "collapsed": true
   },
   "outputs": [],
   "source": []
  }
 ],
 "metadata": {
  "kernelspec": {
   "display_name": "Python 2",
   "language": "python",
   "name": "python2"
  },
  "language_info": {
   "codemirror_mode": {
    "name": "ipython",
    "version": 2
   },
   "file_extension": ".py",
   "mimetype": "text/x-python",
   "name": "python",
   "nbconvert_exporter": "python",
   "pygments_lexer": "ipython2",
   "version": "2.7.10"
  }
 },
 "nbformat": 4,
 "nbformat_minor": 0
}
