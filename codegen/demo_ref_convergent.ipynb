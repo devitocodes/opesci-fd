{
 "cells": [
  {
   "cell_type": "markdown",
   "metadata": {},
   "source": [
    "##FD schemes convergece investigation using 2D wave equation"
   ]
  },
  {
   "cell_type": "code",
   "execution_count": 1,
   "metadata": {
    "collapsed": false
   },
   "outputs": [],
   "source": [
    "%load_ext autoreload\n",
    "%autoreload 2\n",
    "from sympy import symbols, init_printing, simplify, solve, srepr, Add, Symbol, Integer, Float, pi, cos, sin, Rational\n",
    "from sympy import Indexed\n",
    "from mako.template import Template\n",
    "from mako.lookup import TemplateLookup\n",
    "from mako.runtime import Context\n",
    "from StringIO import StringIO\n",
    "from fdlib import *\n",
    "init_printing()"
   ]
  },
  {
   "cell_type": "code",
   "execution_count": 2,
   "metadata": {
    "collapsed": false
   },
   "outputs": [],
   "source": [
    "U,V,Txx,Tyy,Txy = IndexedBases('U V Txx Tyy Txy')\n",
    "beta, lam, mu = symbols('beta lambda mu')\n",
    "x,y,t,t1,h,dt,a,b, Vs, dimx, dimy, xx, yy = symbols('x y t t1 h dt a b Vs dimx dimy xx yy')"
   ]
  },
  {
   "cell_type": "code",
   "execution_count": 3,
   "metadata": {
    "collapsed": true
   },
   "outputs": [],
   "source": [
    "accuracy_time = 1 # O(dt^2) accuracy in time domain\n",
    "accuracy_space = 2 # O(h^4) accuracy in space domain\n",
    "hf = Rational(1,2) #1/2"
   ]
  },
  {
   "cell_type": "markdown",
   "metadata": {},
   "source": [
    "###Eigenmode functions (as initial condition and analytical solution)"
   ]
  },
  {
   "cell_type": "markdown",
   "metadata": {},
   "source": [
    "$U = acos(\\pi x)sin(\\pi y)cos(at)$<br>\n",
    "$V = -asin(\\pi x)cos(\\pi y)cos(at)$<br>\n",
    "$T_{xx} = -bsin(\\pi x)sin(\\pi y)sin(at)$<br>\n",
    "$T_{yy} = bsin(\\pi x)sin(\\pi y)sin(at)$<br>\n",
    "$T_{xy} = T_{yx} = 0$<br>\n",
    "where $a=\\sqrt 2 \\pi V_s\\space \\space b=2\\pi\\mu$"
   ]
  },
  {
   "cell_type": "code",
   "execution_count": 4,
   "metadata": {
    "collapsed": false
   },
   "outputs": [],
   "source": [
    "a = 2**(0.5)*pi*Vs\n",
    "b = 2*pi*mu\n",
    "U_sol = a*cos(pi*xx)*sin(pi*yy)*cos(a*t)\n",
    "V_sol = -a*sin(pi*xx)*cos(pi*yy)*cos(a*t)\n",
    "Txx_sol = -b*sin(pi*xx)*sin(pi*yy)*sin(a*t)\n",
    "Tyy_sol = b*sin(pi*xx)*sin(pi*yy)*sin(a*t)\n",
    "Txy_sol = Float(0)"
   ]
  },
  {
   "cell_type": "markdown",
   "metadata": {},
   "source": [
    "###Initial conditions"
   ]
  },
  {
   "cell_type": "code",
   "execution_count": 5,
   "metadata": {
    "collapsed": false
   },
   "outputs": [],
   "source": [
    "# substitution t=0\n",
    "U_init_code = print_myccode(U[0,x,y])+'='+print_myccode(U_sol.subs(t,dt/2))\n",
    "V_init_code = print_myccode(V[0,x,y])+'='+print_myccode(V_sol.subs(t,dt/2))\n",
    "Txx_init_code = print_myccode(Txx[0,x,y])+'='+print_myccode(Txx_sol.subs(t,0))\n",
    "Tyy_init_code = print_myccode(Tyy[0,x,y])+'='+print_myccode(Tyy_sol.subs(t,0))\n",
    "Txy_init_code = print_myccode(Txy[0,x,y])+'='+print_myccode(Txy_sol.subs(t,0))"
   ]
  },
  {
   "cell_type": "markdown",
   "metadata": {},
   "source": [
    "###Calculate FD approximation of derivatives"
   ]
  },
  {
   "cell_type": "code",
   "execution_count": 6,
   "metadata": {
    "collapsed": false
   },
   "outputs": [],
   "source": [
    "l = [t,x,y]\n",
    "\n",
    "# first-order time derivatives in velocities and stresses\n",
    "# O(dt^2) accuracy\n",
    "DtU = Deriv_half_2(U,l,0,dt,accuracy_time)[1]\n",
    "DtV = Deriv_half_2(V,l,0,dt,accuracy_time)[1]\n",
    "\n",
    "DtTxx = Deriv_half_2(Txx,l,0,dt,accuracy_time)[1]\n",
    "DtTxy = Deriv_half_2(Txy,l,0,dt,accuracy_time)[1]\n",
    "DtTyy = Deriv_half_2(Tyy,l,0,dt,accuracy_time)[1]\n",
    "\n",
    "# first-order spacial derivatives of velocities and stresses\n",
    "# O(h^4) accuracy\n",
    "\n",
    "DxU = Deriv_half_2(U,l,1,h,accuracy_space)[1]\n",
    "DyV = Deriv_half_2(V,l,2,h,accuracy_space)[1]\n",
    "\n",
    "DyU = Deriv_half_2(U,l,2,h,accuracy_space)[1]\n",
    "DxV = Deriv_half_2(V,l,1,h,accuracy_space)[1]\n",
    "\n",
    "DxTxx = Deriv_half_2(Txx,l,1,h,accuracy_space)[1]\n",
    "DyTyy = Deriv_half_2(Tyy,l,2,h,accuracy_space)[1]\n",
    "\n",
    "DxTxy = Deriv_half_2(Txy,l,1,h,accuracy_space)[1]\n",
    "DyTxy = Deriv_half_2(Txy,l,2,h,accuracy_space)[1]"
   ]
  },
  {
   "cell_type": "code",
   "execution_count": 7,
   "metadata": {
    "collapsed": false
   },
   "outputs": [
    {
     "data": {
      "image/png": "[encoded data removed]",
      "text/latex": [
       "$$\\frac{Txx_{t,x - \\frac{3}{2},y}}{24 h} - \\frac{9 Txx_{t,x - \\frac{1}{2},y}}{8 h} + \\frac{9 Txx_{t,x + \\frac{1}{2},y}}{8 h} - \\frac{Txx_{t,x + \\frac{3}{2},y}}{24 h}$$"
      ],
      "text/plain": [
       "Txx[t, x - 3/2, y]   9⋅Txx[t, x - 1/2, y]   9⋅Txx[t, x + 1/2, y]   Txx[t, x + \n",
       "────────────────── - ──────────────────── + ──────────────────── - ───────────\n",
       "       24⋅h                  8⋅h                    8⋅h                   24⋅h\n",
       "\n",
       "3/2, y]\n",
       "───────\n",
       "       "
      ]
     },
     "execution_count": 7,
     "metadata": {},
     "output_type": "execute_result"
    }
   ],
   "source": [
    "DxTxx"
   ]
  },
  {
   "cell_type": "code",
   "execution_count": 8,
   "metadata": {
    "collapsed": false
   },
   "outputs": [
    {
     "data": {
      "image/png": "[encoded data removed]",
      "text/latex": [
       "$$- \\frac{1}{dt} Txy_{t - \\frac{1}{2},x,y} + \\frac{1}{dt} Txy_{t + \\frac{1}{2},x,y}$$"
      ],
      "text/plain": [
       "  Txy[t - 1/2, x, y]   Txy[t + 1/2, x, y]\n",
       "- ────────────────── + ──────────────────\n",
       "          dt                   dt        "
      ]
     },
     "execution_count": 8,
     "metadata": {},
     "output_type": "execute_result"
    }
   ],
   "source": [
    "DtTxy"
   ]
  },
  {
   "cell_type": "code",
   "execution_count": 9,
   "metadata": {
    "collapsed": false
   },
   "outputs": [
    {
     "data": {
      "image/png": "[encoded data removed]",
      "text/latex": [
       "$$\\frac{Txy_{t,x,y - \\frac{3}{2}}}{24 h} - \\frac{9 Txy_{t,x,y - \\frac{1}{2}}}{8 h} + \\frac{9 Txy_{t,x,y + \\frac{1}{2}}}{8 h} - \\frac{Txy_{t,x,y + \\frac{3}{2}}}{24 h}$$"
      ],
      "text/plain": [
       "Txy[t, x, y - 3/2]   9⋅Txy[t, x, y - 1/2]   9⋅Txy[t, x, y + 1/2]   Txy[t, x, y\n",
       "────────────────── - ──────────────────── + ──────────────────── - ───────────\n",
       "       24⋅h                  8⋅h                    8⋅h                   24⋅h\n",
       "\n",
       " + 3/2]\n",
       "───────\n",
       "       "
      ]
     },
     "execution_count": 9,
     "metadata": {},
     "output_type": "execute_result"
    }
   ],
   "source": [
    "DyTxy"
   ]
  },
  {
   "cell_type": "markdown",
   "metadata": {},
   "source": [
    "###PDEs\n",
    "\n",
    "#####momentum equations\n",
    "$\\partial_tU = b(\\partial_xT_{xx}+\\partial_yT_{xy})$<br>\n",
    "$\\partial_tV = b(\\partial_xT_{xy}+\\partial_yT_{yy})$<br>\n",
    "#####stress-strain equations\n",
    "$\\partial_tT_{xx} = (\\lambda+2\\mu)\\partial_xU + \\lambda\\partial_yV $<br>\n",
    "$\\partial_tT_{yy} = (\\lambda+2\\mu)\\partial_yV + \\lambda\\partial_xU $<br>\n",
    "$\\partial_tT_{xy} = \\mu(\\partial_yU + \\partial_xV)$<br>"
   ]
  },
  {
   "cell_type": "code",
   "execution_count": 10,
   "metadata": {
    "collapsed": false
   },
   "outputs": [],
   "source": [
    "# momentum equations\n",
    "eq1 = Eq(DtU, beta*(DxTxx + DyTxy)).subs(x,x+hf)\n",
    "eq2 = Eq(DtV, beta*(DxTxy + DyTyy)).subs(y,y+hf)\n",
    "\n",
    "# stress-strain equations\n",
    "eq3 = Eq(DtTxx, (lam + 2*mu)*DxU + lam*DyV)\n",
    "eq4 = Eq(DtTyy, (lam + 2*mu)*DyV + lam*DxU)\n",
    "eq5 = Eq(DtTxy, mu*(DyU+DxV)).subs({x:x+hf,y:y+hf})"
   ]
  },
  {
   "cell_type": "code",
   "execution_count": 11,
   "metadata": {
    "collapsed": false
   },
   "outputs": [
    {
     "data": {
      "image/png": "[encoded data removed]",
      "text/latex": [
       "$$- \\frac{1}{dt} Txy_{t - \\frac{1}{2},x + \\frac{1}{2},y + \\frac{1}{2}} + \\frac{1}{dt} Txy_{t + \\frac{1}{2},x + \\frac{1}{2},y + \\frac{1}{2}} = \\mu \\left(- \\frac{9 U_{t,x + \\frac{1}{2},y}}{8 h} + \\frac{1}{24 h} U_{t,x + \\frac{1}{2},y - 1} + \\frac{9}{8 h} U_{t,x + \\frac{1}{2},y + 1} - \\frac{1}{24 h} U_{t,x + \\frac{1}{2},y + 2} - \\frac{9 V_{t,x,y + \\frac{1}{2}}}{8 h} + \\frac{1}{24 h} V_{t,x - 1,y + \\frac{1}{2}} + \\frac{9}{8 h} V_{t,x + 1,y + \\frac{1}{2}} - \\frac{1}{24 h} V_{t,x + 2,y + \\frac{1}{2}}\\right)$$"
      ],
      "text/plain": [
       "  Txy[t - 1/2, x + 1/2, y + 1/2]   Txy[t + 1/2, x + 1/2, y + 1/2]     ⎛  9⋅U[t\n",
       "- ────────────────────────────── + ────────────────────────────── = μ⋅⎜- ─────\n",
       "                dt                               dt                   ⎝       \n",
       "\n",
       ", x + 1/2, y]   U[t, x + 1/2, y - 1]   9⋅U[t, x + 1/2, y + 1]   U[t, x + 1/2, \n",
       "───────────── + ──────────────────── + ────────────────────── - ──────────────\n",
       "  8⋅h                   24⋅h                    8⋅h                     24⋅h  \n",
       "\n",
       "y + 2]   9⋅V[t, x, y + 1/2]   V[t, x - 1, y + 1/2]   9⋅V[t, x + 1, y + 1/2]   \n",
       "────── - ────────────────── + ──────────────────── + ────────────────────── - \n",
       "                8⋅h                   24⋅h                    8⋅h             \n",
       "\n",
       "V[t, x + 2, y + 1/2]⎞\n",
       "────────────────────⎟\n",
       "        24⋅h        ⎠"
      ]
     },
     "execution_count": 11,
     "metadata": {},
     "output_type": "execute_result"
    }
   ],
   "source": [
    "eq5"
   ]
  },
  {
   "cell_type": "code",
   "execution_count": 12,
   "metadata": {
    "collapsed": false
   },
   "outputs": [
    {
     "data": {
      "image/png": "[encoded data removed]",
      "text/latex": [
       "$$- \\frac{1}{dt} Txx_{t - \\frac{1}{2},x,y} + \\frac{1}{dt} Txx_{t + \\frac{1}{2},x,y} = \\lambda \\left(\\frac{V_{t,x,y - \\frac{3}{2}}}{24 h} - \\frac{9 V_{t,x,y - \\frac{1}{2}}}{8 h} + \\frac{9 V_{t,x,y + \\frac{1}{2}}}{8 h} - \\frac{V_{t,x,y + \\frac{3}{2}}}{24 h}\\right) + \\left(\\lambda + 2 \\mu\\right) \\left(\\frac{U_{t,x - \\frac{3}{2},y}}{24 h} - \\frac{9 U_{t,x - \\frac{1}{2},y}}{8 h} + \\frac{9 U_{t,x + \\frac{1}{2},y}}{8 h} - \\frac{U_{t,x + \\frac{3}{2},y}}{24 h}\\right)$$"
      ],
      "text/plain": [
       "  Txx[t - 1/2, x, y]   Txx[t + 1/2, x, y]     ⎛V[t, x, y - 3/2]   9⋅V[t, x, y \n",
       "- ────────────────── + ────────────────── = λ⋅⎜──────────────── - ────────────\n",
       "          dt                   dt             ⎝      24⋅h                8⋅h  \n",
       "\n",
       "- 1/2]   9⋅V[t, x, y + 1/2]   V[t, x, y + 3/2]⎞             ⎛U[t, x - 3/2, y] \n",
       "────── + ────────────────── - ────────────────⎟ + (λ + 2⋅μ)⋅⎜──────────────── \n",
       "                8⋅h                 24⋅h      ⎠             ⎝      24⋅h       \n",
       "\n",
       "  9⋅U[t, x - 1/2, y]   9⋅U[t, x + 1/2, y]   U[t, x + 3/2, y]⎞\n",
       "- ────────────────── + ────────────────── - ────────────────⎟\n",
       "         8⋅h                  8⋅h                 24⋅h      ⎠"
      ]
     },
     "execution_count": 12,
     "metadata": {},
     "output_type": "execute_result"
    }
   ],
   "source": [
    "eq3"
   ]
  },
  {
   "cell_type": "markdown",
   "metadata": {},
   "source": [
    "###solve for FD stencil"
   ]
  },
  {
   "cell_type": "code",
   "execution_count": 13,
   "metadata": {
    "collapsed": false
   },
   "outputs": [],
   "source": [
    "# for demo only\n",
    "# note replacing t-half whith t\n",
    "U_t = simplify(solve(eq1,U[t+hf,x+hf,y])[0]-U[t-hf,x+hf,y]).subs(t,t1)+U[t,x+hf,y]\n",
    "V_t = simplify(solve(eq2,V[t+hf,x,y+hf])[0]-V[t-hf,x,y+hf]).subs(t,t1)+V[t,x,y+hf]\n",
    "Txx_t = simplify(solve(eq3,Txx[t+hf,x,y])[0]-Txx[t-hf,x,y])+Txx[t,x,y]\n",
    "Tyy_t = simplify(solve(eq4,Tyy[t+hf,x,y])[0]-Tyy[t-hf,x,y])+Tyy[t,x,y]\n",
    "# note difference between Txx and Txy indices\n",
    "Txy_t = simplify(solve(eq5,Txy[t+hf,x+hf,y+hf])[0]-Txy[t-hf,x+hf,y+hf])+Txy[t,x+hf,y+hf]"
   ]
  },
  {
   "cell_type": "code",
   "execution_count": 14,
   "metadata": {
    "collapsed": false
   },
   "outputs": [
    {
     "data": {
      "image/png": "[encoded data removed]",
      "text/latex": [
       "$$\\frac{dt \\mu}{24 h} \\left(- 27 U_{t,x + \\frac{1}{2},y} + U_{t,x + \\frac{1}{2},y - 1} + 27 U_{t,x + \\frac{1}{2},y + 1} - U_{t,x + \\frac{1}{2},y + 2} - 27 V_{t,x,y + \\frac{1}{2}} + V_{t,x - 1,y + \\frac{1}{2}} + 27 V_{t,x + 1,y + \\frac{1}{2}} - V_{t,x + 2,y + \\frac{1}{2}}\\right) + Txy_{t,x + \\frac{1}{2},y + \\frac{1}{2}}$$"
      ],
      "text/plain": [
       "dt⋅μ⋅(-27⋅U[t, x + 1/2, y] + U[t, x + 1/2, y - 1] + 27⋅U[t, x + 1/2, y + 1] - \n",
       "──────────────────────────────────────────────────────────────────────────────\n",
       "                                                                              \n",
       "\n",
       "U[t, x + 1/2, y + 2] - 27⋅V[t, x, y + 1/2] + V[t, x - 1, y + 1/2] + 27⋅V[t, x \n",
       "──────────────────────────────────────────────────────────────────────────────\n",
       "                 24⋅h                                                         \n",
       "\n",
       "+ 1, y + 1/2] - V[t, x + 2, y + 1/2])                           \n",
       "───────────────────────────────────── + Txy[t, x + 1/2, y + 1/2]\n",
       "                                                                "
      ]
     },
     "execution_count": 14,
     "metadata": {},
     "output_type": "execute_result"
    }
   ],
   "source": [
    "Txy_t"
   ]
  },
  {
   "cell_type": "code",
   "execution_count": 15,
   "metadata": {
    "collapsed": false
   },
   "outputs": [],
   "source": [
    "# generate computation code segments\n",
    "U_t_code = print_myccode(U[t1,x,y]) + \"=\" + print_myccode(shift_grid(U_t))\n",
    "V_t_code = print_myccode(V[t1,x,y]) + \"=\" + print_myccode(shift_grid(V_t))\n",
    "Txx_t_code = print_myccode(Txx[t1,x,y]) + \"=\" + print_myccode(shift_grid(Txx_t))\n",
    "Tyy_t_code = print_myccode(Tyy[t1,x,y]) + \"=\" + print_myccode(shift_grid(Tyy_t))\n",
    "Txy_t_code = print_myccode(Txy[t1,x,y]) + \"=\" + print_myccode(shift_grid(Txy_t))"
   ]
  },
  {
   "cell_type": "code",
   "execution_count": 16,
   "metadata": {
    "collapsed": false
   },
   "outputs": [
    {
     "data": {
      "text/plain": [
       "'U[t1][x][y]=(1.0F/24.0F)*beta*dt*(-27*Txx[t1][x][y] + Txx[t1][x - 1][y] + 27*Txx[t1][x + 1][y] - Txx[t1][x + 2][y] + 27*Txy[t1][x][y] + Txy[t1][x][y - 2] - 27*Txy[t1][x][y - 1] - Txy[t1][x][y + 1])/h + U[t][x][y]'"
      ]
     },
     "execution_count": 16,
     "metadata": {},
     "output_type": "execute_result"
    }
   ],
   "source": [
    "# they look like this\n",
    "U_t_code"
   ]
  },
  {
   "cell_type": "code",
   "execution_count": 17,
   "metadata": {
    "collapsed": false
   },
   "outputs": [
    {
     "data": {
      "text/plain": [
       "'Txy[t1][x][y]=(1.0F/24.0F)*dt*mu*(-27*U[t][x][y] + U[t][x][y - 1] + 27*U[t][x][y + 1] - U[t][x][y + 2] - 27*V[t][x][y] + V[t][x - 1][y] + 27*V[t][x + 1][y] - V[t][x + 2][y])/h + Txy[t][x][y]'"
      ]
     },
     "execution_count": 17,
     "metadata": {},
     "output_type": "execute_result"
    }
   ],
   "source": [
    "# and this\n",
    "Txy_t_code"
   ]
  },
  {
   "cell_type": "markdown",
   "metadata": {},
   "source": [
    "##boundary conditions"
   ]
  },
  {
   "cell_type": "markdown",
   "metadata": {},
   "source": [
    "###get the second order FD approximation in space"
   ]
  },
  {
   "cell_type": "code",
   "execution_count": 18,
   "metadata": {
    "collapsed": true
   },
   "outputs": [],
   "source": [
    "l = [t1,x,y]\n",
    "\n",
    "# first-order spacial derivatives of velocities\n",
    "# O(h^2) accuracy\n",
    "DxU2 = Deriv_half_2(U,l,1,h,1)[1]\n",
    "DyV2 = Deriv_half_2(V,l,2,h,1)[1]\n",
    "DyU2 = Deriv_half_2(U,l,2,h,1)[1]\n",
    "DxV2 = Deriv_half_2(V,l,1,h,1)[1]\n",
    "\n",
    "# these are used to calculate U and V beyond boundary\n",
    "Txx_expr = (lam + 2*mu)*DxU2 + lam*DyV2\n",
    "Tyy_expr = (lam + 2*mu)*DyV2 + lam*DxU2\n",
    "Txy_expr = mu*(DyU2 + DxV2)"
   ]
  },
  {
   "cell_type": "markdown",
   "metadata": {},
   "source": [
    "###at boundary $y=2$\n",
    "$T_{xx}[x,2]=0$<br>\n",
    "$T_{yy}[x,2]=0$<br>\n",
    "Txx not needed beyond the boundary<br>\n",
    "$T_{xx}[x,1]=-T_{xx}[x,3]$<br>\n",
    "$T_{yy}[x,1]=-T_{yy}[x,3]$<br>\n",
    "$T_{xy}[x,3/2]=-T_{xy}[x,5/2]$<br>\n",
    "$T_{xy}[x,1/2]=-T_{xy}[x,7/2]$<br>"
   ]
  },
  {
   "cell_type": "code",
   "execution_count": 19,
   "metadata": {
    "collapsed": false
   },
   "outputs": [
    {
     "data": {
      "image/png": "[encoded data removed]",
      "text/latex": [
       "$$\\frac{\\beta dt}{24 h} \\left(- 27 Txx_{t_{1},x,2} + Txx_{t_{1},x - 1,2} + 27 Txx_{t_{1},x + 1,2} - Txx_{t_{1},x + 2,2} + Txy_{t_{1},x + \\frac{1}{2},\\frac{1}{2}} - 27 Txy_{t_{1},x + \\frac{1}{2},\\frac{3}{2}} + 27 Txy_{t_{1},x + \\frac{1}{2},\\frac{5}{2}} - Txy_{t_{1},x + \\frac{1}{2},\\frac{7}{2}}\\right) + U_{t,x + \\frac{1}{2},2}$$"
      ],
      "text/plain": [
       "β⋅dt⋅(-27⋅Txx[t1, x, 2] + Txx[t1, x - 1, 2] + 27⋅Txx[t1, x + 1, 2] - Txx[t1, x\n",
       "──────────────────────────────────────────────────────────────────────────────\n",
       "                                                                              \n",
       "\n",
       " + 2, 2] + Txy[t1, x + 1/2, 1/2] - 27⋅Txy[t1, x + 1/2, 3/2] + 27⋅Txy[t1, x + 1\n",
       "──────────────────────────────────────────────────────────────────────────────\n",
       "               24⋅h                                                           \n",
       "\n",
       "/2, 5/2] - Txy[t1, x + 1/2, 7/2])                   \n",
       "───────────────────────────────── + U[t, x + 1/2, 2]\n",
       "                                                    "
      ]
     },
     "execution_count": 19,
     "metadata": {},
     "output_type": "execute_result"
    }
   ],
   "source": [
    "U_t.subs(y,2)"
   ]
  },
  {
   "cell_type": "code",
   "execution_count": 20,
   "metadata": {
    "collapsed": false
   },
   "outputs": [
    {
     "data": {
      "image/png": "[encoded data removed]",
      "text/latex": [
       "$$\\frac{\\beta dt}{24 h} \\left(Txy_{t_{1},x - \\frac{3}{2},3} - 27 Txy_{t_{1},x - \\frac{1}{2},3} + 27 Txy_{t_{1},x + \\frac{1}{2},3} - Txy_{t_{1},x + \\frac{3}{2},3} + Tyy_{t_{1},x,\\frac{3}{2}} - 27 Tyy_{t_{1},x,\\frac{5}{2}} + 27 Tyy_{t_{1},x,\\frac{7}{2}} - Tyy_{t_{1},x,\\frac{9}{2}}\\right) + V_{t,x,3}$$"
      ],
      "text/plain": [
       "β⋅dt⋅(Txy[t1, x - 3/2, 3] - 27⋅Txy[t1, x - 1/2, 3] + 27⋅Txy[t1, x + 1/2, 3] - \n",
       "──────────────────────────────────────────────────────────────────────────────\n",
       "                                                                              \n",
       "\n",
       "Txy[t1, x + 3/2, 3] + Tyy[t1, x, 3/2] - 27⋅Tyy[t1, x, 5/2] + 27⋅Tyy[t1, x, 7/2\n",
       "──────────────────────────────────────────────────────────────────────────────\n",
       "        24⋅h                                                                  \n",
       "\n",
       "] - Tyy[t1, x, 9/2])             \n",
       "──────────────────── + V[t, x, 3]\n",
       "                                 "
      ]
     },
     "execution_count": 20,
     "metadata": {},
     "output_type": "execute_result"
    }
   ],
   "source": [
    "V_t.subs(y,2+hf)"
   ]
  },
  {
   "cell_type": "code",
   "execution_count": 21,
   "metadata": {
    "collapsed": false
   },
   "outputs": [
    {
     "data": {
      "image/png": "[encoded data removed]",
      "text/latex": [
       "$$\\frac{dt}{24 h} \\left(\\lambda U_{t,x - \\frac{3}{2},3} - 27 \\lambda U_{t,x - \\frac{1}{2},3} + 27 \\lambda U_{t,x + \\frac{1}{2},3} - \\lambda U_{t,x + \\frac{3}{2},3} + \\lambda V_{t,x,\\frac{3}{2}} - 27 \\lambda V_{t,x,\\frac{5}{2}} + 27 \\lambda V_{t,x,\\frac{7}{2}} - \\lambda V_{t,x,\\frac{9}{2}} + 2 \\mu U_{t,x - \\frac{3}{2},3} - 54 \\mu U_{t,x - \\frac{1}{2},3} + 54 \\mu U_{t,x + \\frac{1}{2},3} - 2 \\mu U_{t,x + \\frac{3}{2},3}\\right) + Txx_{t,x,3}$$"
      ],
      "text/plain": [
       "dt⋅(λ⋅U[t, x - 3/2, 3] - 27⋅λ⋅U[t, x - 1/2, 3] + 27⋅λ⋅U[t, x + 1/2, 3] - λ⋅U[t\n",
       "──────────────────────────────────────────────────────────────────────────────\n",
       "                                                                              \n",
       "\n",
       ", x + 3/2, 3] + λ⋅V[t, x, 3/2] - 27⋅λ⋅V[t, x, 5/2] + 27⋅λ⋅V[t, x, 7/2] - λ⋅V[t\n",
       "──────────────────────────────────────────────────────────────────────────────\n",
       "                                                  24⋅h                        \n",
       "\n",
       ", x, 9/2] + 2⋅μ⋅U[t, x - 3/2, 3] - 54⋅μ⋅U[t, x - 1/2, 3] + 54⋅μ⋅U[t, x + 1/2, \n",
       "──────────────────────────────────────────────────────────────────────────────\n",
       "                                                                              \n",
       "\n",
       "3] - 2⋅μ⋅U[t, x + 3/2, 3])               \n",
       "────────────────────────── + Txx[t, x, 3]\n",
       "                                         "
      ]
     },
     "execution_count": 21,
     "metadata": {},
     "output_type": "execute_result"
    }
   ],
   "source": [
    "Txx_t.subs(y,3)"
   ]
  },
  {
   "cell_type": "code",
   "execution_count": 22,
   "metadata": {
    "collapsed": false
   },
   "outputs": [
    {
     "data": {
      "image/png": "[encoded data removed]",
      "text/latex": [
       "$$\\frac{dt}{24 h} \\left(\\lambda U_{t,x - \\frac{3}{2},3} - 27 \\lambda U_{t,x - \\frac{1}{2},3} + 27 \\lambda U_{t,x + \\frac{1}{2},3} - \\lambda U_{t,x + \\frac{3}{2},3} + \\lambda V_{t,x,\\frac{3}{2}} - 27 \\lambda V_{t,x,\\frac{5}{2}} + 27 \\lambda V_{t,x,\\frac{7}{2}} - \\lambda V_{t,x,\\frac{9}{2}} + 2 \\mu V_{t,x,\\frac{3}{2}} - 54 \\mu V_{t,x,\\frac{5}{2}} + 54 \\mu V_{t,x,\\frac{7}{2}} - 2 \\mu V_{t,x,\\frac{9}{2}}\\right) + Tyy_{t,x,3}$$"
      ],
      "text/plain": [
       "dt⋅(λ⋅U[t, x - 3/2, 3] - 27⋅λ⋅U[t, x - 1/2, 3] + 27⋅λ⋅U[t, x + 1/2, 3] - λ⋅U[t\n",
       "──────────────────────────────────────────────────────────────────────────────\n",
       "                                                                              \n",
       "\n",
       ", x + 3/2, 3] + λ⋅V[t, x, 3/2] - 27⋅λ⋅V[t, x, 5/2] + 27⋅λ⋅V[t, x, 7/2] - λ⋅V[t\n",
       "──────────────────────────────────────────────────────────────────────────────\n",
       "                                          24⋅h                                \n",
       "\n",
       ", x, 9/2] + 2⋅μ⋅V[t, x, 3/2] - 54⋅μ⋅V[t, x, 5/2] + 54⋅μ⋅V[t, x, 7/2] - 2⋅μ⋅V[t\n",
       "──────────────────────────────────────────────────────────────────────────────\n",
       "                                                                              \n",
       "\n",
       ", x, 9/2])               \n",
       "────────── + Tyy[t, x, 3]\n",
       "                         "
      ]
     },
     "execution_count": 22,
     "metadata": {},
     "output_type": "execute_result"
    }
   ],
   "source": [
    "Tyy_t.subs(y,3)"
   ]
  },
  {
   "cell_type": "code",
   "execution_count": 23,
   "metadata": {
    "collapsed": false
   },
   "outputs": [
    {
     "data": {
      "image/png": "[encoded data removed]",
      "text/latex": [
       "$$\\frac{dt \\mu}{24 h} \\left(U_{t,x + \\frac{1}{2},\\frac{3}{2}} - 27 U_{t,x + \\frac{1}{2},\\frac{5}{2}} + 27 U_{t,x + \\frac{1}{2},\\frac{7}{2}} - U_{t,x + \\frac{1}{2},\\frac{9}{2}} - 27 V_{t,x,3} + V_{t,x - 1,3} + 27 V_{t,x + 1,3} - V_{t,x + 2,3}\\right) + Txy_{t,x + \\frac{1}{2},3}$$"
      ],
      "text/plain": [
       "dt⋅μ⋅(U[t, x + 1/2, 3/2] - 27⋅U[t, x + 1/2, 5/2] + 27⋅U[t, x + 1/2, 7/2] - U[t\n",
       "──────────────────────────────────────────────────────────────────────────────\n",
       "                                                                              \n",
       "\n",
       ", x + 1/2, 9/2] - 27⋅V[t, x, 3] + V[t, x - 1, 3] + 27⋅V[t, x + 1, 3] - V[t, x \n",
       "──────────────────────────────────────────────────────────────────────────────\n",
       "  24⋅h                                                                        \n",
       "\n",
       "+ 2, 3])                     \n",
       "──────── + Txy[t, x + 1/2, 3]\n",
       "                             "
      ]
     },
     "execution_count": 23,
     "metadata": {},
     "output_type": "execute_result"
    }
   ],
   "source": [
    "Txy_t.subs(y,2+hf)"
   ]
  },
  {
   "cell_type": "markdown",
   "metadata": {},
   "source": [
    "###### to calculate above, we need these point beyond the boundary\n",
    "$T_{xy}[x,\\frac{1}{2}] = -T_{xy}[x,\\frac{7}{2}]$<br>\n",
    "$T_{xy}[x,\\frac{3}{2}] = -T_{xy}[x,\\frac{5}{2}]$<br>\n",
    "$T_{yy}[x,1] = -T_{yy}[x,3]$<br>\n",
    "$U[x,1]$<br>\n",
    "$V[x,\\frac{3}{2}]$<br>"
   ]
  },
  {
   "cell_type": "markdown",
   "metadata": {
    "collapsed": false
   },
   "source": [
    "####calculate $V[x,\\frac{3}{2}]$"
   ]
  },
  {
   "cell_type": "code",
   "execution_count": 24,
   "metadata": {
    "collapsed": false
   },
   "outputs": [
    {
     "data": {
      "image/png": "[encoded data removed]",
      "text/latex": [
       "$$\\frac{1}{\\lambda + 2 \\mu} \\left(- \\lambda U_{t_{1},x - \\frac{1}{2},2} + \\lambda U_{t_{1},x + \\frac{1}{2},2} + \\lambda V_{t_{1},x,\\frac{5}{2}} + 2 \\mu V_{t_{1},x,\\frac{5}{2}}\\right)$$"
      ],
      "text/plain": [
       "-λ⋅U[t1, x - 1/2, 2] + λ⋅U[t1, x + 1/2, 2] + λ⋅V[t1, x, 5/2] + 2⋅μ⋅V[t1, x, 5/\n",
       "──────────────────────────────────────────────────────────────────────────────\n",
       "                                    λ + 2⋅μ                                   \n",
       "\n",
       "2]\n",
       "──\n",
       "  "
      ]
     },
     "execution_count": 24,
     "metadata": {},
     "output_type": "execute_result"
    }
   ],
   "source": [
    "bc_V_y0 = solve(Tyy_expr.subs(y,2), V[t1,x,1+hf])[0]; bc_V_y0"
   ]
  },
  {
   "cell_type": "markdown",
   "metadata": {
    "collapsed": false
   },
   "source": [
    "####calculate $U[x,1]$"
   ]
  },
  {
   "cell_type": "code",
   "execution_count": 25,
   "metadata": {
    "collapsed": false
   },
   "outputs": [
    {
     "data": {
      "image/png": "[encoded data removed]",
      "text/latex": [
       "$$U_{t_{1},x + \\frac{1}{2},3} - V_{t_{1},x,\\frac{3}{2}} - V_{t_{1},x,\\frac{5}{2}} + V_{t_{1},x + 1,\\frac{3}{2}} + V_{t_{1},x + 1,\\frac{5}{2}}$$"
      ],
      "text/plain": [
       "U[t1, x + 1/2, 3] - V[t1, x, 3/2] - V[t1, x, 5/2] + V[t1, x + 1, 3/2] + V[t1, \n",
       "x + 1, 5/2]"
      ]
     },
     "execution_count": 25,
     "metadata": {},
     "output_type": "execute_result"
    }
   ],
   "source": [
    "bc_U_y0 = solve(Eq(Txy_expr.subs({x:x+hf,y:1+hf}), -Txy_expr.subs({x:x+hf,y:2+hf})),U[t1,x+hf,1])[0]; bc_U_y0"
   ]
  },
  {
   "cell_type": "code",
   "execution_count": 26,
   "metadata": {
    "collapsed": false
   },
   "outputs": [],
   "source": [
    "U_y0 = U[t1,x+hf,1]\n",
    "V_y0 = V[t1,x,1+hf]\n",
    "bc_V_y0_code = print_myccode(shift_grid(V_y0))+'='+print_myccode(shift_grid(bc_V_y0))\n",
    "bc_U_y0_code = print_myccode(shift_grid(U_y0))+'='+print_myccode(shift_grid(bc_U_y0))"
   ]
  },
  {
   "cell_type": "markdown",
   "metadata": {},
   "source": [
    "###at boundary $y=dimy-3$\n",
    "$T_{xx}[x,dimy-3]=0$<br>\n",
    "$T_{yy}[x,dimy-3]=0$<br>\n",
    "Txx not needed beyond the boundary<br>\n",
    "$T_{xx}[x,dimy-2]=-T_{xx}[x,dimy-4]$<br>\n",
    "$T_{yy}[x,dimy-2]=-T_{yy}[x,dimy-4]$<br>\n",
    "$T_{xy}[x,dimy-5/2]=-T_{xy}[x,dimy-7/2]$<br>\n",
    "$T_{xy}[x,dimy-3/2]=-T_{xy}[x,dimy-9/2]$<br>"
   ]
  },
  {
   "cell_type": "code",
   "execution_count": 27,
   "metadata": {
    "collapsed": false
   },
   "outputs": [
    {
     "data": {
      "image/png": "[encoded data removed]",
      "text/latex": [
       "$$\\frac{\\beta dt}{24 h} \\left(- 27 Txx_{t_{1},x,dimy - 3} + Txx_{t_{1},x - 1,dimy - 3} + 27 Txx_{t_{1},x + 1,dimy - 3} - Txx_{t_{1},x + 2,dimy - 3} + Txy_{t_{1},x + \\frac{1}{2},dimy - \\frac{9}{2}} - 27 Txy_{t_{1},x + \\frac{1}{2},dimy - \\frac{7}{2}} + 27 Txy_{t_{1},x + \\frac{1}{2},dimy - \\frac{5}{2}} - Txy_{t_{1},x + \\frac{1}{2},dimy - \\frac{3}{2}}\\right) + U_{t,x + \\frac{1}{2},dimy - 3}$$"
      ],
      "text/plain": [
       "β⋅dt⋅(-27⋅Txx[t1, x, dimy - 3] + Txx[t1, x - 1, dimy - 3] + 27⋅Txx[t1, x + 1, \n",
       "──────────────────────────────────────────────────────────────────────────────\n",
       "                                                                              \n",
       "\n",
       "dimy - 3] - Txx[t1, x + 2, dimy - 3] + Txy[t1, x + 1/2, dimy - 9/2] - 27⋅Txy[t\n",
       "──────────────────────────────────────────────────────────────────────────────\n",
       "                                           24⋅h                               \n",
       "\n",
       "1, x + 1/2, dimy - 7/2] + 27⋅Txy[t1, x + 1/2, dimy - 5/2] - Txy[t1, x + 1/2, d\n",
       "──────────────────────────────────────────────────────────────────────────────\n",
       "                                                                              \n",
       "\n",
       "imy - 3/2])                          \n",
       "─────────── + U[t, x + 1/2, dimy - 3]\n",
       "                                     "
      ]
     },
     "execution_count": 27,
     "metadata": {},
     "output_type": "execute_result"
    }
   ],
   "source": [
    "U_t.subs(y,dimy-3)"
   ]
  },
  {
   "cell_type": "code",
   "execution_count": 28,
   "metadata": {
    "collapsed": false
   },
   "outputs": [
    {
     "data": {
      "image/png": "[encoded data removed]",
      "text/latex": [
       "$$\\frac{\\beta dt}{24 h} \\left(Txy_{t_{1},x - \\frac{3}{2},dimy - 3} - 27 Txy_{t_{1},x - \\frac{1}{2},dimy - 3} + 27 Txy_{t_{1},x + \\frac{1}{2},dimy - 3} - Txy_{t_{1},x + \\frac{3}{2},dimy - 3} + Tyy_{t_{1},x,dimy - \\frac{9}{2}} - 27 Tyy_{t_{1},x,dimy - \\frac{7}{2}} + 27 Tyy_{t_{1},x,dimy - \\frac{5}{2}} - Tyy_{t_{1},x,dimy - \\frac{3}{2}}\\right) + V_{t,x,dimy - 3}$$"
      ],
      "text/plain": [
       "β⋅dt⋅(Txy[t1, x - 3/2, dimy - 3] - 27⋅Txy[t1, x - 1/2, dimy - 3] + 27⋅Txy[t1, \n",
       "──────────────────────────────────────────────────────────────────────────────\n",
       "                                                                              \n",
       "\n",
       "x + 1/2, dimy - 3] - Txy[t1, x + 3/2, dimy - 3] + Tyy[t1, x, dimy - 9/2] - 27⋅\n",
       "──────────────────────────────────────────────────────────────────────────────\n",
       "                                    24⋅h                                      \n",
       "\n",
       "Tyy[t1, x, dimy - 7/2] + 27⋅Tyy[t1, x, dimy - 5/2] - Tyy[t1, x, dimy - 3/2])  \n",
       "──────────────────────────────────────────────────────────────────────────── +\n",
       "                                                                              \n",
       "\n",
       "                  \n",
       " V[t, x, dimy - 3]\n",
       "                  "
      ]
     },
     "execution_count": 28,
     "metadata": {},
     "output_type": "execute_result"
    }
   ],
   "source": [
    "V_t.subs(y,dimy-3-hf)"
   ]
  },
  {
   "cell_type": "code",
   "execution_count": 29,
   "metadata": {
    "collapsed": false
   },
   "outputs": [
    {
     "data": {
      "image/png": "[encoded data removed]",
      "text/latex": [
       "$$\\frac{dt}{24 h} \\left(\\lambda U_{t,x - \\frac{3}{2},dimy - 4} - 27 \\lambda U_{t,x - \\frac{1}{2},dimy - 4} + 27 \\lambda U_{t,x + \\frac{1}{2},dimy - 4} - \\lambda U_{t,x + \\frac{3}{2},dimy - 4} + \\lambda V_{t,x,dimy - \\frac{11}{2}} - 27 \\lambda V_{t,x,dimy - \\frac{9}{2}} + 27 \\lambda V_{t,x,dimy - \\frac{7}{2}} - \\lambda V_{t,x,dimy - \\frac{5}{2}} + 2 \\mu U_{t,x - \\frac{3}{2},dimy - 4} - 54 \\mu U_{t,x - \\frac{1}{2},dimy - 4} + 54 \\mu U_{t,x + \\frac{1}{2},dimy - 4} - 2 \\mu U_{t,x + \\frac{3}{2},dimy - 4}\\right) + Txx_{t,x,dimy - 4}$$"
      ],
      "text/plain": [
       "dt⋅(λ⋅U[t, x - 3/2, dimy - 4] - 27⋅λ⋅U[t, x - 1/2, dimy - 4] + 27⋅λ⋅U[t, x + 1\n",
       "──────────────────────────────────────────────────────────────────────────────\n",
       "                                                                              \n",
       "\n",
       "/2, dimy - 4] - λ⋅U[t, x + 3/2, dimy - 4] + λ⋅V[t, x, dimy - 11/2] - 27⋅λ⋅V[t,\n",
       "──────────────────────────────────────────────────────────────────────────────\n",
       "                                                                              \n",
       "\n",
       " x, dimy - 9/2] + 27⋅λ⋅V[t, x, dimy - 7/2] - λ⋅V[t, x, dimy - 5/2] + 2⋅μ⋅U[t, \n",
       "──────────────────────────────────────────────────────────────────────────────\n",
       "               24⋅h                                                           \n",
       "\n",
       "x - 3/2, dimy - 4] - 54⋅μ⋅U[t, x - 1/2, dimy - 4] + 54⋅μ⋅U[t, x + 1/2, dimy - \n",
       "──────────────────────────────────────────────────────────────────────────────\n",
       "                                                                              \n",
       "\n",
       "4] - 2⋅μ⋅U[t, x + 3/2, dimy - 4])                      \n",
       "───────────────────────────────── + Txx[t, x, dimy - 4]\n",
       "                                                       "
      ]
     },
     "execution_count": 29,
     "metadata": {},
     "output_type": "execute_result"
    }
   ],
   "source": [
    "Txx_t.subs(y,dimy-4)"
   ]
  },
  {
   "cell_type": "code",
   "execution_count": 30,
   "metadata": {
    "collapsed": false
   },
   "outputs": [
    {
     "data": {
      "image/png": "[encoded data removed]",
      "text/latex": [
       "$$\\frac{dt}{24 h} \\left(\\lambda U_{t,x - \\frac{3}{2},dimy - 4} - 27 \\lambda U_{t,x - \\frac{1}{2},dimy - 4} + 27 \\lambda U_{t,x + \\frac{1}{2},dimy - 4} - \\lambda U_{t,x + \\frac{3}{2},dimy - 4} + \\lambda V_{t,x,dimy - \\frac{11}{2}} - 27 \\lambda V_{t,x,dimy - \\frac{9}{2}} + 27 \\lambda V_{t,x,dimy - \\frac{7}{2}} - \\lambda V_{t,x,dimy - \\frac{5}{2}} + 2 \\mu V_{t,x,dimy - \\frac{11}{2}} - 54 \\mu V_{t,x,dimy - \\frac{9}{2}} + 54 \\mu V_{t,x,dimy - \\frac{7}{2}} - 2 \\mu V_{t,x,dimy - \\frac{5}{2}}\\right) + Tyy_{t,x,dimy - 4}$$"
      ],
      "text/plain": [
       "dt⋅(λ⋅U[t, x - 3/2, dimy - 4] - 27⋅λ⋅U[t, x - 1/2, dimy - 4] + 27⋅λ⋅U[t, x + 1\n",
       "──────────────────────────────────────────────────────────────────────────────\n",
       "                                                                              \n",
       "\n",
       "/2, dimy - 4] - λ⋅U[t, x + 3/2, dimy - 4] + λ⋅V[t, x, dimy - 11/2] - 27⋅λ⋅V[t,\n",
       "──────────────────────────────────────────────────────────────────────────────\n",
       "                                                                              \n",
       "\n",
       " x, dimy - 9/2] + 27⋅λ⋅V[t, x, dimy - 7/2] - λ⋅V[t, x, dimy - 5/2] + 2⋅μ⋅V[t, \n",
       "──────────────────────────────────────────────────────────────────────────────\n",
       "       24⋅h                                                                   \n",
       "\n",
       "x, dimy - 11/2] - 54⋅μ⋅V[t, x, dimy - 9/2] + 54⋅μ⋅V[t, x, dimy - 7/2] - 2⋅μ⋅V[\n",
       "──────────────────────────────────────────────────────────────────────────────\n",
       "                                                                              \n",
       "\n",
       "t, x, dimy - 5/2])                      \n",
       "────────────────── + Tyy[t, x, dimy - 4]\n",
       "                                        "
      ]
     },
     "execution_count": 30,
     "metadata": {},
     "output_type": "execute_result"
    }
   ],
   "source": [
    "Tyy_t.subs(y,dimy-4)"
   ]
  },
  {
   "cell_type": "code",
   "execution_count": 31,
   "metadata": {
    "collapsed": false
   },
   "outputs": [
    {
     "data": {
      "image/png": "[encoded data removed]",
      "text/latex": [
       "$$\\frac{dt \\mu}{24 h} \\left(U_{t,x + \\frac{1}{2},dimy - \\frac{9}{2}} - 27 U_{t,x + \\frac{1}{2},dimy - \\frac{7}{2}} + 27 U_{t,x + \\frac{1}{2},dimy - \\frac{5}{2}} - U_{t,x + \\frac{1}{2},dimy - \\frac{3}{2}} - 27 V_{t,x,dimy - 3} + V_{t,x - 1,dimy - 3} + 27 V_{t,x + 1,dimy - 3} - V_{t,x + 2,dimy - 3}\\right) + Txy_{t,x + \\frac{1}{2},dimy - 3}$$"
      ],
      "text/plain": [
       "dt⋅μ⋅(U[t, x + 1/2, dimy - 9/2] - 27⋅U[t, x + 1/2, dimy - 7/2] + 27⋅U[t, x + 1\n",
       "──────────────────────────────────────────────────────────────────────────────\n",
       "                                                                              \n",
       "\n",
       "/2, dimy - 5/2] - U[t, x + 1/2, dimy - 3/2] - 27⋅V[t, x, dimy - 3] + V[t, x - \n",
       "──────────────────────────────────────────────────────────────────────────────\n",
       "                              24⋅h                                            \n",
       "\n",
       "1, dimy - 3] + 27⋅V[t, x + 1, dimy - 3] - V[t, x + 2, dimy - 3])              \n",
       "──────────────────────────────────────────────────────────────── + Txy[t, x + \n",
       "                                                                              \n",
       "\n",
       "              \n",
       "1/2, dimy - 3]\n",
       "              "
      ]
     },
     "execution_count": 31,
     "metadata": {},
     "output_type": "execute_result"
    }
   ],
   "source": [
    "Txy_t.subs(y,dimy-3-hf)"
   ]
  },
  {
   "cell_type": "markdown",
   "metadata": {},
   "source": [
    "###### to calculate above, we need these point beyond the boundary\n",
    "$T_{xy}[x,dimy-\\frac{5}{2}] = -T_{xy}[x,dimy-\\frac{7}{2}]$<br>\n",
    "$T_{xy}[x,dimy-\\frac{3}{2}] = -T_{xy}[x,dimy-\\frac{9}{2}]$<br>\n",
    "$T_{yy}[x,dimy-2] = -T_{yy}[x,dimy-4]$<br>\n",
    "$U[x,dimy-2]$<br>\n",
    "$V[x,dimy-\\frac{5}{2}]$<br>"
   ]
  },
  {
   "cell_type": "markdown",
   "metadata": {
    "collapsed": false
   },
   "source": [
    "####calculate $V[x,dimy-\\frac{5}{2}]$"
   ]
  },
  {
   "cell_type": "code",
   "execution_count": 32,
   "metadata": {
    "collapsed": false
   },
   "outputs": [
    {
     "data": {
      "image/png": "[encoded data removed]",
      "text/latex": [
       "$$\\frac{1}{\\lambda + 2 \\mu} \\left(\\lambda U_{t_{1},x - \\frac{1}{2},dimy - 3} - \\lambda U_{t_{1},x + \\frac{1}{2},dimy - 3} + \\lambda V_{t_{1},x,dimy - \\frac{7}{2}} + 2 \\mu V_{t_{1},x,dimy - \\frac{7}{2}}\\right)$$"
      ],
      "text/plain": [
       "λ⋅U[t1, x - 1/2, dimy - 3] - λ⋅U[t1, x + 1/2, dimy - 3] + λ⋅V[t1, x, dimy - 7/\n",
       "──────────────────────────────────────────────────────────────────────────────\n",
       "                                                  λ + 2⋅μ                     \n",
       "\n",
       "2] + 2⋅μ⋅V[t1, x, dimy - 7/2]\n",
       "─────────────────────────────\n",
       "                             "
      ]
     },
     "execution_count": 32,
     "metadata": {},
     "output_type": "execute_result"
    }
   ],
   "source": [
    "V_y1 = V[t1,x,dimy-2-hf]\n",
    "bc_V_y1 = solve(Tyy_expr.subs(y,dimy-3), V_y1)[0]; bc_V_y1"
   ]
  },
  {
   "cell_type": "markdown",
   "metadata": {
    "collapsed": false
   },
   "source": [
    "####calculate $U[x+\\frac{1}{2},dimy-2]$"
   ]
  },
  {
   "cell_type": "code",
   "execution_count": 33,
   "metadata": {
    "collapsed": false
   },
   "outputs": [
    {
     "data": {
      "image/png": "[encoded data removed]",
      "text/latex": [
       "$$U_{t_{1},x + \\frac{1}{2},dimy - 4} + V_{t_{1},x,dimy - \\frac{7}{2}} + V_{t_{1},x,dimy - \\frac{5}{2}} - V_{t_{1},x + 1,dimy - \\frac{7}{2}} - V_{t_{1},x + 1,dimy - \\frac{5}{2}}$$"
      ],
      "text/plain": [
       "U[t1, x + 1/2, dimy - 4] + V[t1, x, dimy - 7/2] + V[t1, x, dimy - 5/2] - V[t1,\n",
       " x + 1, dimy - 7/2] - V[t1, x + 1, dimy - 5/2]"
      ]
     },
     "execution_count": 33,
     "metadata": {},
     "output_type": "execute_result"
    }
   ],
   "source": [
    "U_y1 = U[t1,x+hf,dimy-2]\n",
    "bc_U_y1 = solve(Eq(Txy_expr.subs({x:x+hf,y:dimy-2-hf}), -Txy_expr.subs({x:x+hf,y:dimy-3-hf})),U_y1)[0]; bc_U_y1"
   ]
  },
  {
   "cell_type": "code",
   "execution_count": 34,
   "metadata": {
    "collapsed": false
   },
   "outputs": [],
   "source": [
    "bc_V_y1_code = print_myccode(shift_grid(V_y1))+'='+print_myccode(shift_grid(bc_V_y1))\n",
    "bc_U_y1_code = print_myccode(shift_grid(U_y1))+'='+print_myccode(shift_grid(bc_U_y1))"
   ]
  },
  {
   "cell_type": "code",
   "execution_count": 35,
   "metadata": {
    "collapsed": false
   },
   "outputs": [],
   "source": [
    "U_x0 = U[t1,1+hf,y]\n",
    "V_x0 = V[t1,1,y+hf]\n",
    "bc_U_x0 = solve(Tyy_expr.subs(x,2), U_x0)[0]\n",
    "bc_V_x0 = solve(Eq(Txy_expr.subs({x:1+hf,y:y+hf}), -Txy_expr.subs({x:2+hf,y:y+hf})),V_x0)[0]"
   ]
  },
  {
   "cell_type": "code",
   "execution_count": 36,
   "metadata": {
    "collapsed": false
   },
   "outputs": [],
   "source": [
    "bc_V_x0_code = print_myccode(shift_grid(V_x0))+'='+print_myccode(shift_grid(bc_V_x0))\n",
    "bc_U_x0_code = print_myccode(shift_grid(U_x0))+'='+print_myccode(shift_grid(bc_U_x0))"
   ]
  },
  {
   "cell_type": "code",
   "execution_count": 37,
   "metadata": {
    "collapsed": false
   },
   "outputs": [],
   "source": [
    "U_x1 = U[t1,dimx-2-hf,y]\n",
    "V_x1 = V[t1,dimx-2,y+hf]\n",
    "bc_U_x1 = solve(Tyy_expr.subs(x,dimx-3), U_x1)[0]\n",
    "bc_V_x1 = solve(Eq(Txy_expr.subs({x:dimx-2-hf,y:y+hf}), -Txy_expr.subs({x:dimx-3-hf,y:y+hf})),V_x1)[0]"
   ]
  },
  {
   "cell_type": "code",
   "execution_count": 38,
   "metadata": {
    "collapsed": false
   },
   "outputs": [],
   "source": [
    "bc_V_x1_code = print_myccode(shift_grid(V_x1))+'='+print_myccode(shift_grid(bc_V_x1))\n",
    "bc_U_x1_code = print_myccode(shift_grid(U_x1))+'='+print_myccode(shift_grid(bc_U_x1))"
   ]
  },
  {
   "cell_type": "code",
   "execution_count": 39,
   "metadata": {
    "collapsed": false
   },
   "outputs": [],
   "source": [
    "bc_init_V_x0_code = print_myccode(shift_grid(V_x0).subs(t1,0))+'='+print_myccode(shift_grid(bc_V_x0).subs(t1,0))\n",
    "bc_init_U_x0_code = print_myccode(shift_grid(U_x0).subs(t1,0))+'='+print_myccode(shift_grid(bc_U_x0).subs(t1,0))\n",
    "bc_init_V_x1_code = print_myccode(shift_grid(V_x1).subs(t1,0))+'='+print_myccode(shift_grid(bc_V_x1).subs(t1,0))\n",
    "bc_init_U_x1_code = print_myccode(shift_grid(U_x1).subs(t1,0))+'='+print_myccode(shift_grid(bc_U_x1).subs(t1,0))\n",
    "bc_init_V_y0_code = print_myccode(shift_grid(V_y0).subs(t1,0))+'='+print_myccode(shift_grid(bc_V_y0).subs(t1,0))\n",
    "bc_init_U_y0_code = print_myccode(shift_grid(U_y0).subs(t1,0))+'='+print_myccode(shift_grid(bc_U_y0).subs(t1,0))\n",
    "bc_init_V_y1_code = print_myccode(shift_grid(V_y1).subs(t1,0))+'='+print_myccode(shift_grid(bc_V_y1).subs(t1,0))\n",
    "bc_init_U_y1_code = print_myccode(shift_grid(U_y1).subs(t1,0))+'='+print_myccode(shift_grid(bc_U_y1).subs(t1,0))"
   ]
  },
  {
   "cell_type": "markdown",
   "metadata": {},
   "source": [
    "###output using templates"
   ]
  },
  {
   "cell_type": "code",
   "execution_count": 40,
   "metadata": {
    "collapsed": false
   },
   "outputs": [],
   "source": [
    "# write to template file\n",
    "mylookup = TemplateLookup(directories=['templates/'])\n",
    "mytemplate = mylookup.get_template('ref_converge_tmpl.cpp')\n",
    "buf = StringIO()\n",
    "dict1 = {'time_period':2,'Txx':Txx_t_code,'Tyy':Tyy_t_code,'Txy':Txy_t_code,'U':U_t_code,'V':V_t_code}\n",
    "dict1.update({'bc_U_x0':bc_U_x0_code,'bc_U_x1':bc_U_x1_code,'bc_U_y0':bc_U_y0_code,'bc_U_y1':bc_U_y1_code})\n",
    "dict1.update({'bc_V_x0':bc_V_x0_code,'bc_V_x1':bc_V_x1_code,'bc_V_y0':bc_V_y0_code,'bc_V_y1':bc_V_y1_code})\n",
    "dict1.update({'U_init':U_init_code,'V_init':V_init_code})\n",
    "dict1.update({'Txx_init':Txx_init_code,'Tyy_init':Tyy_init_code,'Txy_init':Txy_init_code})\n",
    "dict1.update({'bc_init_U_x0':bc_init_U_x0_code,'bc_init_U_x1':bc_init_U_x1_code,'bc_init_U_y0':bc_init_U_y0_code,'bc_init_U_y1':bc_init_U_y1_code})\n",
    "dict1.update({'bc_init_V_x0':bc_init_V_x0_code,'bc_init_V_x1':bc_init_V_x1_code,'bc_init_V_y0':bc_init_V_y0_code,'bc_init_V_y1':bc_init_V_y1_code})\n",
    "#dict1.update({'bc_Txx_x0':bc_Txx_x0_code,'bc_Txx_x1':bc_Txx_x1_code,'bc_Txx_y0':bc_Txx_y0_code,'bc_Txx_y1':bc_Txx_y1_code})\n",
    "#dict1.update({'bc_Tyy_x0':bc_Tyy_x0_code,'bc_Tyy_x1':bc_Tyy_x1_code,'bc_Tyy_y0':bc_Tyy_y0_code,'bc_Tyy_y1':bc_Tyy_y1_code})\n",
    "#dict1.update({'bc_Txy_x0':bc_Txy_x0_code,'bc_Txy_x1':bc_Txy_x1_code,'bc_Txy_y0':bc_Txy_y0_code,'bc_Txy_y1':bc_Txy_y1_code})\n",
    "ctx = Context(buf, **dict1)\n",
    "mytemplate.render_context(ctx)\n",
    "code = buf.getvalue()"
   ]
  },
  {
   "cell_type": "code",
   "execution_count": 41,
   "metadata": {
    "collapsed": false
   },
   "outputs": [],
   "source": [
    "# generate compilable C++ source code\n",
    "f= open('../tests/src/ref_converge.cpp','w')\n",
    "f.write(code)\n",
    "f.close()"
   ]
  },
  {
   "cell_type": "code",
   "execution_count": null,
   "metadata": {
    "collapsed": true
   },
   "outputs": [],
   "source": []
  }
 ],
 "metadata": {
  "kernelspec": {
   "display_name": "Python 2",
   "language": "python",
   "name": "python2"
  },
  "language_info": {
   "codemirror_mode": {
    "name": "ipython",
    "version": 2
   },
   "file_extension": ".py",
   "mimetype": "text/x-python",
   "name": "python",
   "nbconvert_exporter": "python",
   "pygments_lexer": "ipython2",
   "version": "2.7.10"
  }
 },
 "nbformat": 4,
 "nbformat_minor": 0
}
