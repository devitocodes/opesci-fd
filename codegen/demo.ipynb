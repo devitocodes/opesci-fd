{
 "cells": [
  {
   "cell_type": "code",
   "execution_count": 1,
   "metadata": {
    "collapsed": true
   },
   "outputs": [],
   "source": [
    "from sympy import symbols, init_printing, simplify, solve\n",
    "from mako.template import Template\n",
    "from mako.runtime import Context\n",
    "from StringIO import StringIO\n",
    "from fdlib import *\n",
    "init_printing()"
   ]
  },
  {
   "cell_type": "code",
   "execution_count": 2,
   "metadata": {
    "collapsed": false
   },
   "outputs": [],
   "source": [
    "dx, dt, x, y, z, t, c, h = symbols('dx dt x y z t c h')\n",
    "U = IndexedBase('U')\n",
    "# 2nd order approximation\n",
    "n = 2\n",
    "# list of variables\n",
    "l = [x,y,z,t]"
   ]
  },
  {
   "cell_type": "code",
   "execution_count": 4,
   "metadata": {
    "collapsed": false
   },
   "outputs": [
    {
     "data": {
      "image/png": "[encoded data removed]",
      "text/latex": [
       "$$- \\frac{2 U_{x,y,z,t}}{h^{2}} + \\frac{1}{h^{2}} U_{x - 1,y,z,t} + \\frac{1}{h^{2}} U_{x + 1,y,z,t}$$"
      ],
      "text/plain": [
       "  2⋅U[x, y, z, t]   U[x - 1, y, z, t]   U[x + 1, y, z, t]\n",
       "- ─────────────── + ───────────────── + ─────────────────\n",
       "          2                  2                   2       \n",
       "         h                  h                   h        "
      ]
     },
     "execution_count": 4,
     "metadata": {},
     "output_type": "execute_result"
    }
   ],
   "source": [
    "# get the derivative expressions\n",
    "# using dx = dy = h\n",
    "Uxx = Deriv(U,l,0,h,n)[2]\n",
    "Uyy = Deriv(U,l,1,h,n)[2]\n",
    "Uzz = Deriv(U,l,2,h,n)[2]\n",
    "Utt = Deriv(U,l,3,dt,n)[2]\n",
    "Uxx"
   ]
  },
  {
   "cell_type": "code",
   "execution_count": 5,
   "metadata": {
    "collapsed": false
   },
   "outputs": [
    {
     "data": {
      "image/png": "[encoded data removed]",
      "text/latex": [
       "$$- \\frac{2 U_{x,y,z,t}}{dt^{2}} + \\frac{1}{dt^{2}} U_{x,y,z,t - 1} + \\frac{1}{dt^{2}} U_{x,y,z,t + 1} = - \\frac{6 U_{x,y,z,t}}{h^{2}} + \\frac{1}{h^{2}} U_{x,y,z - 1,t} + \\frac{1}{h^{2}} U_{x,y,z + 1,t} + \\frac{1}{h^{2}} U_{x,y - 1,z,t} + \\frac{1}{h^{2}} U_{x,y + 1,z,t} + \\frac{1}{h^{2}} U_{x - 1,y,z,t} + \\frac{1}{h^{2}} U_{x + 1,y,z,t}$$"
      ],
      "text/plain": [
       "  2⋅U[x, y, z, t]   U[x, y, z, t - 1]   U[x, y, z, t + 1]     6⋅U[x, y, z, t] \n",
       "- ─────────────── + ───────────────── + ───────────────── = - ─────────────── \n",
       "          2                  2                   2                    2       \n",
       "        dt                 dt                  dt                    h        \n",
       "\n",
       "  U[x, y, z - 1, t]   U[x, y, z + 1, t]   U[x, y - 1, z, t]   U[x, y + 1, z, t\n",
       "+ ───────────────── + ───────────────── + ───────────────── + ────────────────\n",
       "           2                   2                   2                   2      \n",
       "          h                   h                   h                   h       \n",
       "\n",
       "]   U[x - 1, y, z, t]   U[x + 1, y, z, t]\n",
       "─ + ───────────────── + ─────────────────\n",
       "             2                   2       \n",
       "            h                   h        "
      ]
     },
     "execution_count": 5,
     "metadata": {},
     "output_type": "execute_result"
    }
   ],
   "source": [
    "# 2d wave equation\n",
    "eq = Eq(Utt, (Uxx+Uyy+Uzz))\n",
    "eq"
   ]
  },
  {
   "cell_type": "code",
   "execution_count": 6,
   "metadata": {
    "collapsed": false
   },
   "outputs": [
    {
     "data": {
      "text/plain": [
       "'U[x][y][z][t + 1]=(-6*pow(dt, 2)*U[x][y][z][t] + pow(dt, 2)*U[x][y][z - 1][t] + pow(dt, 2)*U[x][y][z + 1][t] + pow(dt, 2)*U[x][y - 1][z][t] + pow(dt, 2)*U[x][y + 1][z][t] + pow(dt, 2)*U[x - 1][y][z][t] + pow(dt, 2)*U[x + 1][y][z][t] + pow(h, 2)*(2*U[x][y][z][t] - U[x][y][z][t - 1]))/pow(h, 2)'"
      ]
     },
     "execution_count": 6,
     "metadata": {},
     "output_type": "execute_result"
    }
   ],
   "source": [
    "# generate C code for the body of the loop\n",
    "code = print_myccode(U[x,y,z,t+1]) + \"=\" + print_myccode(simplify(solve(eq, U[x,y,z,t+1])[0]))\n",
    "code"
   ]
  },
  {
   "cell_type": "code",
   "execution_count": 7,
   "metadata": {
    "collapsed": true
   },
   "outputs": [],
   "source": [
    "l = [x,t]\n",
    "Uxx = Deriv(U,l,0,h,n)[2]\n",
    "Utt = Deriv(U,l,1,dt,n)[2]"
   ]
  },
  {
   "cell_type": "code",
   "execution_count": 8,
   "metadata": {
    "collapsed": false
   },
   "outputs": [
    {
     "data": {
      "text/plain": [
       "'U[x][t + 1]=(-2*pow(dt, 2)*U[x][t] + pow(dt, 2)*U[x - 1][t] + pow(dt, 2)*U[x + 1][t] + pow(h, 2)*(2*U[x][t] - U[x][t - 1]))/pow(h, 2)'"
      ]
     },
     "execution_count": 8,
     "metadata": {},
     "output_type": "execute_result"
    }
   ],
   "source": [
    "eq = Eq(Utt, Uxx)\n",
    "code = print_myccode(U[x,t+1]) + \"=\" + print_myccode(simplify(solve(eq, U[x,t+1])[0]))\n",
    "code"
   ]
  },
  {
   "cell_type": "code",
   "execution_count": 9,
   "metadata": {
    "collapsed": false
   },
   "outputs": [],
   "source": [
    "mytemplate = Template(filename='templates/tmpl1.c')\n",
    "buf = StringIO()\n",
    "ctx = Context(buf, loopbody=code)\n",
    "mytemplate.render_context(ctx)"
   ]
  },
  {
   "cell_type": "code",
   "execution_count": 10,
   "metadata": {
    "collapsed": false
   },
   "outputs": [
    {
     "name": "stdout",
     "output_type": "stream",
     "text": [
      "// initialisation\n",
      "for(int i=0; i<=Nx; i++)\n",
      "    u[i][0] = I(x[i])\n",
      "// separate calculation for first time step\n",
      "for(int i=1; i<Nx; i++)\n",
      "    u[i][1] = u[i][0]\n",
      "        -0.5*C**2(u[i+1][0] - 2*u[i][0] + u[i-1][0])\n",
      "// main loop\n",
      "for(int n=1; n<Nt; n++){\n",
      "    // boundary conditions\n",
      "    u[n+1][0] = 0; u[n+1][Nx] = 0;\n",
      "    for(int i=1; i<Nx; i++)\n",
      "    // update mesh points at time = n+1\n",
      "        U[x][t + 1]=(-2*pow(dt, 2)*U[x][t] + pow(dt, 2)*U[x - 1][t] + pow(dt, 2)*U[x + 1][t] + pow(h, 2)*(2*U[x][t] - U[x][t - 1]))/pow(h, 2)\n",
      "}\n",
      "\n"
     ]
    }
   ],
   "source": [
    "print(buf.getvalue())"
   ]
  },
  {
   "cell_type": "code",
   "execution_count": null,
   "metadata": {
    "collapsed": true
   },
   "outputs": [],
   "source": []
  }
 ],
 "metadata": {
  "kernelspec": {
   "display_name": "Python 2",
   "language": "python",
   "name": "python2"
  },
  "language_info": {
   "codemirror_mode": {
    "name": "ipython",
    "version": 2
   },
   "file_extension": ".py",
   "mimetype": "text/x-python",
   "name": "python",
   "nbconvert_exporter": "python",
   "pygments_lexer": "ipython2",
   "version": "2.7.10"
  }
 },
 "nbformat": 4,
 "nbformat_minor": 0
}
