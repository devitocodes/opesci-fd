{
 "cells": [
  {
   "cell_type": "code",
   "execution_count": 92,
   "metadata": {
    "collapsed": false
   },
   "outputs": [
    {
     "name": "stdout",
     "output_type": "stream",
     "text": [
      "The autoreload extension is already loaded. To reload it, use:\n",
      "  %reload_ext autoreload\n"
     ]
    }
   ],
   "source": [
    "%load_ext autoreload\n",
    "%autoreload 2\n",
    "from sympy import symbols, init_printing, simplify, solve\n",
    "from mako.template import Template\n",
    "from mako.runtime import Context\n",
    "from StringIO import StringIO\n",
    "from fdlib import *\n",
    "init_printing()"
   ]
  },
  {
   "cell_type": "markdown",
   "metadata": {},
   "source": [
    "###Wave equation in 3D"
   ]
  },
  {
   "cell_type": "code",
   "execution_count": 2,
   "metadata": {
    "collapsed": false
   },
   "outputs": [],
   "source": [
    "dx, dt, x, y, z, t, c, h = symbols('dx dt x y z t c h')\n",
    "U = IndexedBase('U')\n",
    "# 2nd order approximation\n",
    "n = 2\n",
    "# list of variables\n",
    "l = [x,y,z,t]"
   ]
  },
  {
   "cell_type": "code",
   "execution_count": 4,
   "metadata": {
    "collapsed": false
   },
   "outputs": [
    {
     "data": {
      "image/png": "[encoded data removed]",
      "text/latex": [
       "$$- \\frac{2 U_{x,y,z,t}}{h^{2}} + \\frac{1}{h^{2}} U_{x - 1,y,z,t} + \\frac{1}{h^{2}} U_{x + 1,y,z,t}$$"
      ],
      "text/plain": [
       "  2⋅U[x, y, z, t]   U[x - 1, y, z, t]   U[x + 1, y, z, t]\n",
       "- ─────────────── + ───────────────── + ─────────────────\n",
       "          2                  2                   2       \n",
       "         h                  h                   h        "
      ]
     },
     "execution_count": 4,
     "metadata": {},
     "output_type": "execute_result"
    }
   ],
   "source": [
    "# get the derivative expressions\n",
    "# using dx = dy = h\n",
    "Uxx = Deriv(U,l,0,h,n)[2]\n",
    "Uyy = Deriv(U,l,1,h,n)[2]\n",
    "Uzz = Deriv(U,l,2,h,n)[2]\n",
    "Utt = Deriv(U,l,3,dt,n)[2]\n",
    "Uxx"
   ]
  },
  {
   "cell_type": "code",
   "execution_count": 5,
   "metadata": {
    "collapsed": false
   },
   "outputs": [
    {
     "data": {
      "image/png": "[encoded data removed]",
      "text/latex": [
       "$$- \\frac{2 U_{x,y,z,t}}{dt^{2}} + \\frac{1}{dt^{2}} U_{x,y,z,t - 1} + \\frac{1}{dt^{2}} U_{x,y,z,t + 1} = - \\frac{6 U_{x,y,z,t}}{h^{2}} + \\frac{1}{h^{2}} U_{x,y,z - 1,t} + \\frac{1}{h^{2}} U_{x,y,z + 1,t} + \\frac{1}{h^{2}} U_{x,y - 1,z,t} + \\frac{1}{h^{2}} U_{x,y + 1,z,t} + \\frac{1}{h^{2}} U_{x - 1,y,z,t} + \\frac{1}{h^{2}} U_{x + 1,y,z,t}$$"
      ],
      "text/plain": [
       "  2⋅U[x, y, z, t]   U[x, y, z, t - 1]   U[x, y, z, t + 1]     6⋅U[x, y, z, t] \n",
       "- ─────────────── + ───────────────── + ───────────────── = - ─────────────── \n",
       "          2                  2                   2                    2       \n",
       "        dt                 dt                  dt                    h        \n",
       "\n",
       "  U[x, y, z - 1, t]   U[x, y, z + 1, t]   U[x, y - 1, z, t]   U[x, y + 1, z, t\n",
       "+ ───────────────── + ───────────────── + ───────────────── + ────────────────\n",
       "           2                   2                   2                   2      \n",
       "          h                   h                   h                   h       \n",
       "\n",
       "]   U[x - 1, y, z, t]   U[x + 1, y, z, t]\n",
       "─ + ───────────────── + ─────────────────\n",
       "             2                   2       \n",
       "            h                   h        "
      ]
     },
     "execution_count": 5,
     "metadata": {},
     "output_type": "execute_result"
    }
   ],
   "source": [
    "# 2d wave equation\n",
    "eq = Eq(Utt, (Uxx+Uyy+Uzz))\n",
    "eq"
   ]
  },
  {
   "cell_type": "code",
   "execution_count": 6,
   "metadata": {
    "collapsed": false
   },
   "outputs": [
    {
     "data": {
      "text/plain": [
       "'U[x][y][z][t + 1]=(-6*pow(dt, 2)*U[x][y][z][t] + pow(dt, 2)*U[x][y][z - 1][t] + pow(dt, 2)*U[x][y][z + 1][t] + pow(dt, 2)*U[x][y - 1][z][t] + pow(dt, 2)*U[x][y + 1][z][t] + pow(dt, 2)*U[x - 1][y][z][t] + pow(dt, 2)*U[x + 1][y][z][t] + pow(h, 2)*(2*U[x][y][z][t] - U[x][y][z][t - 1]))/pow(h, 2)'"
      ]
     },
     "execution_count": 6,
     "metadata": {},
     "output_type": "execute_result"
    }
   ],
   "source": [
    "# generate C code for the body of the loop\n",
    "code = print_myccode(U[x,y,z,t+1]) + \"=\" + print_myccode(simplify(solve(eq, U[x,y,z,t+1])[0]))\n",
    "code"
   ]
  },
  {
   "cell_type": "markdown",
   "metadata": {},
   "source": [
    "###Wave equation in 2D"
   ]
  },
  {
   "cell_type": "code",
   "execution_count": 7,
   "metadata": {
    "collapsed": true
   },
   "outputs": [],
   "source": [
    "l = [x,t]\n",
    "Uxx = Deriv(U,l,0,h,n)[2]\n",
    "Utt = Deriv(U,l,1,dt,n)[2]"
   ]
  },
  {
   "cell_type": "code",
   "execution_count": 8,
   "metadata": {
    "collapsed": false
   },
   "outputs": [
    {
     "data": {
      "text/plain": [
       "'U[x][t + 1]=(-2*pow(dt, 2)*U[x][t] + pow(dt, 2)*U[x - 1][t] + pow(dt, 2)*U[x + 1][t] + pow(h, 2)*(2*U[x][t] - U[x][t - 1]))/pow(h, 2)'"
      ]
     },
     "execution_count": 8,
     "metadata": {},
     "output_type": "execute_result"
    }
   ],
   "source": [
    "eq = Eq(Utt, Uxx)\n",
    "code = print_myccode(U[x,t+1]) + \"=\" + print_myccode(simplify(solve(eq, U[x,t+1])[0]))\n",
    "code"
   ]
  },
  {
   "cell_type": "code",
   "execution_count": 9,
   "metadata": {
    "collapsed": false
   },
   "outputs": [],
   "source": [
    "mytemplate = Template(filename='templates/tmpl1.c')\n",
    "buf = StringIO()\n",
    "ctx = Context(buf, loopbody=code)\n",
    "mytemplate.render_context(ctx)"
   ]
  },
  {
   "cell_type": "code",
   "execution_count": 10,
   "metadata": {
    "collapsed": false
   },
   "outputs": [
    {
     "name": "stdout",
     "output_type": "stream",
     "text": [
      "// initialisation\n",
      "for(int i=0; i<=Nx; i++)\n",
      "    u[i][0] = I(x[i])\n",
      "// separate calculation for first time step\n",
      "for(int i=1; i<Nx; i++)\n",
      "    u[i][1] = u[i][0]\n",
      "        -0.5*C**2(u[i+1][0] - 2*u[i][0] + u[i-1][0])\n",
      "// main loop\n",
      "for(int n=1; n<Nt; n++){\n",
      "    // boundary conditions\n",
      "    u[n+1][0] = 0; u[n+1][Nx] = 0;\n",
      "    for(int i=1; i<Nx; i++)\n",
      "    // update mesh points at time = n+1\n",
      "        U[x][t + 1]=(-2*pow(dt, 2)*U[x][t] + pow(dt, 2)*U[x - 1][t] + pow(dt, 2)*U[x + 1][t] + pow(h, 2)*(2*U[x][t] - U[x][t - 1]))/pow(h, 2)\n",
      "}\n",
      "\n"
     ]
    }
   ],
   "source": [
    "print(buf.getvalue())"
   ]
  },
  {
   "cell_type": "markdown",
   "metadata": {
    "collapsed": true
   },
   "source": [
    "###Propagator"
   ]
  },
  {
   "cell_type": "code",
   "execution_count": 32,
   "metadata": {
    "collapsed": false
   },
   "outputs": [],
   "source": [
    "U,V,W,Txx,Tyy,Tzz,Txy,Tyz,Txz = IndexedBases('U V W Txx Tyy Tzz Txy Tyz Txz')\n",
    "x,y,z,t,h,dt = symbols('x y z t h dt')\n",
    "b, lam, miu = symbols('b lam miu')"
   ]
  },
  {
   "cell_type": "code",
   "execution_count": 40,
   "metadata": {
    "collapsed": false
   },
   "outputs": [],
   "source": [
    "l = [x,y,z,t]\n",
    "\n",
    "# first-order derivatives of velocities\n",
    "Ut = Deriv(U,l,3,dt/2,2)[1]\n",
    "Vt = Deriv(V,l,3,dt/2,2)[1]\n",
    "Wt = Deriv(W,l,3,dt/2,2)[1]\n",
    "\n",
    "Ux = Deriv(U,l,0,h/2,2)[1]\n",
    "Uy = Deriv(U,l,1,h/2,2)[1]\n",
    "Uz = Deriv(U,l,2,h/2,2)[1]\n",
    "\n",
    "Vx = Deriv(V,l,0,h/2,2)[1]\n",
    "Vy = Deriv(V,l,1,h/2,2)[1]\n",
    "Vz = Deriv(V,l,2,h/2,2)[1]\n",
    "\n",
    "Wx = Deriv(W,l,0,h/2,2)[1]\n",
    "Wy = Deriv(W,l,1,h/2,2)[1]\n",
    "Wz = Deriv(W,l,2,h/2,2)[1]\n",
    "\n",
    "# first-order derivatives of stresses\n",
    "DxTxx = Deriv(Txx,l,0,h/2,2)[1]\n",
    "DyTxy = Deriv(Txy,l,1,h/2,2)[1]\n",
    "DzTxz = Deriv(Txz,l,2,h/2,2)[1]\n",
    "\n",
    "DxTxy = Deriv(Txy,l,0,h/2,2)[1]\n",
    "DyTyy = Deriv(Tyy,l,1,h/2,2)[1]\n",
    "DzTyz = Deriv(Tyz,l,2,h/2,2)[1]\n",
    "\n",
    "DxTxz = Deriv(Txz,l,0,h/2,2)[1]\n",
    "DyTyz = Deriv(Tyz,l,1,h/2,2)[1]\n",
    "DzTzz = Deriv(Tzz,l,2,h/2,2)[1]\n",
    "\n",
    "DtTxx = Deriv(Txx,l,3,dt/2,2)[1]\n",
    "DtTxy = Deriv(Txy,l,3,dt/2,2)[1]\n",
    "DtTxz = Deriv(Txz,l,3,dt/2,2)[1]\n",
    "DtTyy = Deriv(Tyy,l,3,h,2)[1]\n",
    "DtTyz = Deriv(Tyz,l,3,h,2)[1]\n",
    "DtTzz = Deriv(Tzz,l,3,h,2)[1]"
   ]
  },
  {
   "cell_type": "code",
   "execution_count": 51,
   "metadata": {
    "collapsed": false,
    "scrolled": true
   },
   "outputs": [
    {
     "data": {
      "image/png": "[encoded data removed]",
      "text/latex": [
       "$$- \\frac{U_{x - 1,y,z,t}}{2 dt} + \\frac{U_{x + 1,y,z,t}}{2 dt}$$"
      ],
      "text/plain": [
       "  U[x - 1, y, z, t]   U[x + 1, y, z, t]\n",
       "- ───────────────── + ─────────────────\n",
       "         2⋅dt                2⋅dt      "
      ]
     },
     "execution_count": 51,
     "metadata": {},
     "output_type": "execute_result"
    }
   ],
   "source": [
    "D"
   ]
  },
  {
   "cell_type": "code",
   "execution_count": 43,
   "metadata": {
    "collapsed": false
   },
   "outputs": [],
   "source": [
    "# momentum equations\n",
    "eq1 = Eq(Ut, b*(DxTxx + DyTxy + DzTxz))\n",
    "eq2 = Eq(Vt, b*(DxTxy + DyTyy + DzTyz))\n",
    "eq3 = Eq(Wt, b*(DxTxz + DyTyz + DzTzz))"
   ]
  },
  {
   "cell_type": "code",
   "execution_count": 99,
   "metadata": {
    "collapsed": true
   },
   "outputs": [],
   "source": [
    "# stress-strain equations\n",
    "eq4 = Eq(DtTxx, (lam + 2*miu)*Ux + lam*(Vy+Wz))\n",
    "eq5 = Eq(DtTyy, (lam + 2*miu)*Vy + lam*(Ux+Wz))\n",
    "eq6 = Eq(DtTzz, (lam + 2*miu)*Wz + lam*(Ux+Vy))\n",
    "eq7 = Eq(DtTxy, miu*(Uy+Vx))\n",
    "eq8 = Eq(DtTxz, miu*(Uz+Wx))\n",
    "eq9 = Eq(DtTyz, miu*(Vz+Wy))"
   ]
  },
  {
   "cell_type": "code",
   "execution_count": 100,
   "metadata": {
    "collapsed": true
   },
   "outputs": [],
   "source": [
    "eqs = [eq1,eq2,eq3,eq4,eq5,eq6,eq7,eq8,eq9]"
   ]
  },
  {
   "cell_type": "code",
   "execution_count": 101,
   "metadata": {
    "collapsed": false
   },
   "outputs": [
    {
     "data": {
      "image/png": "[encoded data removed]",
      "text/latex": [
       "$$\\left [ - \\frac{U_{x,y,z,t - 1}}{2 dt} + \\frac{U_{x,y,z,t + 1}}{2 dt} = b \\left(- \\frac{Txx_{x - 1,y,z,t}}{2 h} + \\frac{Txx_{x + 1,y,z,t}}{2 h} - \\frac{Txy_{x,y - 1,z,t}}{2 h} + \\frac{Txy_{x,y + 1,z,t}}{2 h} - \\frac{Txz_{x,y,z - 1,t}}{2 h} + \\frac{Txz_{x,y,z + 1,t}}{2 h}\\right), \\quad - \\frac{V_{x,y,z,t - 1}}{2 dt} + \\frac{V_{x,y,z,t + 1}}{2 dt} = b \\left(- \\frac{Txy_{x - 1,y,z,t}}{2 h} + \\frac{Txy_{x + 1,y,z,t}}{2 h} - \\frac{Tyy_{x,y - 1,z,t}}{2 h} + \\frac{Tyy_{x,y + 1,z,t}}{2 h} - \\frac{Tyz_{x,y,z - 1,t}}{2 h} + \\frac{Tyz_{x,y,z + 1,t}}{2 h}\\right), \\quad - \\frac{W_{x,y,z,t - 1}}{2 dt} + \\frac{W_{x,y,z,t + 1}}{2 dt} = b \\left(- \\frac{Txz_{x - 1,y,z,t}}{2 h} + \\frac{Txz_{x + 1,y,z,t}}{2 h} - \\frac{Tyz_{x,y - 1,z,t}}{2 h} + \\frac{Tyz_{x,y + 1,z,t}}{2 h} - \\frac{Tzz_{x,y,z - 1,t}}{2 h} + \\frac{Tzz_{x,y,z + 1,t}}{2 h}\\right), \\quad - \\frac{Txx_{x,y,z,t - 1}}{2 h} + \\frac{Txx_{x,y,z,t + 1}}{2 h} = lam \\left(- \\frac{V_{x,y - 1,z,t}}{2 dt} + \\frac{V_{x,y + 1,z,t}}{2 dt} - \\frac{W_{x,y,z - 1,t}}{2 dt} + \\frac{W_{x,y,z + 1,t}}{2 dt}\\right) + \\left(lam + 2 miu\\right) \\left(- \\frac{U_{x - 1,y,z,t}}{2 dt} + \\frac{U_{x + 1,y,z,t}}{2 dt}\\right), \\quad - \\frac{Tyy_{x,y,z,t - 1}}{2 h} + \\frac{Tyy_{x,y,z,t + 1}}{2 h} = lam \\left(- \\frac{U_{x - 1,y,z,t}}{2 dt} + \\frac{U_{x + 1,y,z,t}}{2 dt} - \\frac{W_{x,y,z - 1,t}}{2 dt} + \\frac{W_{x,y,z + 1,t}}{2 dt}\\right) + \\left(lam + 2 miu\\right) \\left(- \\frac{V_{x,y - 1,z,t}}{2 dt} + \\frac{V_{x,y + 1,z,t}}{2 dt}\\right), \\quad - \\frac{Tzz_{x,y,z,t - 1}}{2 h} + \\frac{Tzz_{x,y,z,t + 1}}{2 h} = lam \\left(- \\frac{U_{x - 1,y,z,t}}{2 dt} + \\frac{U_{x + 1,y,z,t}}{2 dt} - \\frac{V_{x,y - 1,z,t}}{2 dt} + \\frac{V_{x,y + 1,z,t}}{2 dt}\\right) + \\left(lam + 2 miu\\right) \\left(- \\frac{W_{x,y,z - 1,t}}{2 dt} + \\frac{W_{x,y,z + 1,t}}{2 dt}\\right), \\quad - \\frac{Txy_{x,y,z,t - 1}}{2 h} + \\frac{Txy_{x,y,z,t + 1}}{2 h} = miu \\left(- \\frac{U_{x,y - 1,z,t}}{2 dt} + \\frac{U_{x,y + 1,z,t}}{2 dt} - \\frac{V_{x - 1,y,z,t}}{2 dt} + \\frac{V_{x + 1,y,z,t}}{2 dt}\\right), \\quad - \\frac{Txz_{x,y,z,t - 1}}{2 h} + \\frac{Txz_{x,y,z,t + 1}}{2 h} = miu \\left(- \\frac{U_{x,y,z - 1,t}}{2 dt} + \\frac{U_{x,y,z + 1,t}}{2 dt} - \\frac{W_{x - 1,y,z,t}}{2 dt} + \\frac{W_{x + 1,y,z,t}}{2 dt}\\right), \\quad - \\frac{Tyz_{x,y,z,t - 1}}{2 h} + \\frac{Tyz_{x,y,z,t + 1}}{2 h} = miu \\left(- \\frac{V_{x,y,z - 1,t}}{2 dt} + \\frac{V_{x,y,z + 1,t}}{2 dt} - \\frac{W_{x,y - 1,z,t}}{2 dt} + \\frac{W_{x,y + 1,z,t}}{2 dt}\\right)\\right ]$$"
      ],
      "text/plain": [
       "⎡  U[x, y, z, t - 1]   U[x, y, z, t + 1]     ⎛  Txx[x - 1, y, z, t]   Txx[x + \n",
       "⎢- ───────────────── + ───────────────── = b⋅⎜- ─────────────────── + ────────\n",
       "⎣         2⋅dt                2⋅dt           ⎝          2⋅h                   \n",
       "\n",
       "1, y, z, t]   Txy[x, y - 1, z, t]   Txy[x, y + 1, z, t]   Txz[x, y, z - 1, t] \n",
       "─────────── - ─────────────────── + ─────────────────── - ─────────────────── \n",
       "2⋅h                   2⋅h                   2⋅h                   2⋅h         \n",
       "\n",
       "  Txz[x, y, z + 1, t]⎞    V[x, y, z, t - 1]   V[x, y, z, t + 1]     ⎛  Txy[x -\n",
       "+ ───────────────────⎟, - ───────────────── + ───────────────── = b⋅⎜- ───────\n",
       "          2⋅h        ⎠           2⋅dt                2⋅dt           ⎝         \n",
       "\n",
       " 1, y, z, t]   Txy[x + 1, y, z, t]   Tyy[x, y - 1, z, t]   Tyy[x, y + 1, z, t]\n",
       "──────────── + ─────────────────── - ─────────────────── + ───────────────────\n",
       " 2⋅h                   2⋅h                   2⋅h                   2⋅h        \n",
       "\n",
       "   Tyz[x, y, z - 1, t]   Tyz[x, y, z + 1, t]⎞    W[x, y, z, t - 1]   W[x, y, z\n",
       " - ─────────────────── + ───────────────────⎟, - ───────────────── + ─────────\n",
       "           2⋅h                   2⋅h        ⎠           2⋅dt                2⋅\n",
       "\n",
       ", t + 1]     ⎛  Txz[x - 1, y, z, t]   Txz[x + 1, y, z, t]   Tyz[x, y - 1, z, t\n",
       "──────── = b⋅⎜- ─────────────────── + ─────────────────── - ──────────────────\n",
       "dt           ⎝          2⋅h                   2⋅h                   2⋅h       \n",
       "\n",
       "]   Tyz[x, y + 1, z, t]   Tzz[x, y, z - 1, t]   Tzz[x, y, z + 1, t]⎞    Txx[x,\n",
       "─ + ─────────────────── - ─────────────────── + ───────────────────⎟, - ──────\n",
       "            2⋅h                   2⋅h                   2⋅h        ⎠          \n",
       "\n",
       " y, z, t - 1]   Txx[x, y, z, t + 1]       ⎛  V[x, y - 1, z, t]   V[x, y + 1, z\n",
       "───────────── + ─────────────────── = lam⋅⎜- ───────────────── + ─────────────\n",
       "  2⋅h                   2⋅h               ⎝         2⋅dt                2⋅dt  \n",
       "\n",
       ", t]   W[x, y, z - 1, t]   W[x, y, z + 1, t]⎞                 ⎛  U[x - 1, y, z\n",
       "──── - ───────────────── + ─────────────────⎟ + (lam + 2⋅miu)⋅⎜- ─────────────\n",
       "              2⋅dt                2⋅dt      ⎠                 ⎝         2⋅dt  \n",
       "\n",
       ", t]   U[x + 1, y, z, t]⎞    Tyy[x, y, z, t - 1]   Tyy[x, y, z, t + 1]       ⎛\n",
       "──── + ─────────────────⎟, - ─────────────────── + ─────────────────── = lam⋅⎜\n",
       "              2⋅dt      ⎠            2⋅h                   2⋅h               ⎝\n",
       "\n",
       "  U[x - 1, y, z, t]   U[x + 1, y, z, t]   W[x, y, z - 1, t]   W[x, y, z + 1, t\n",
       "- ───────────────── + ───────────────── - ───────────────── + ────────────────\n",
       "         2⋅dt                2⋅dt                2⋅dt                2⋅dt     \n",
       "\n",
       "]⎞                 ⎛  V[x, y - 1, z, t]   V[x, y + 1, z, t]⎞    Tzz[x, y, z, t\n",
       "─⎟ + (lam + 2⋅miu)⋅⎜- ───────────────── + ─────────────────⎟, - ──────────────\n",
       " ⎠                 ⎝         2⋅dt                2⋅dt      ⎠            2⋅h   \n",
       "\n",
       " - 1]   Tzz[x, y, z, t + 1]       ⎛  U[x - 1, y, z, t]   U[x + 1, y, z, t]   V\n",
       "───── + ─────────────────── = lam⋅⎜- ───────────────── + ───────────────── - ─\n",
       "                2⋅h               ⎝         2⋅dt                2⋅dt          \n",
       "\n",
       "[x, y - 1, z, t]   V[x, y + 1, z, t]⎞                 ⎛  W[x, y, z - 1, t]   W\n",
       "──────────────── + ─────────────────⎟ + (lam + 2⋅miu)⋅⎜- ───────────────── + ─\n",
       "      2⋅dt                2⋅dt      ⎠                 ⎝         2⋅dt          \n",
       "\n",
       "[x, y, z + 1, t]⎞    Txy[x, y, z, t - 1]   Txy[x, y, z, t + 1]       ⎛  U[x, y\n",
       "────────────────⎟, - ─────────────────── + ─────────────────── = miu⋅⎜- ──────\n",
       "      2⋅dt      ⎠            2⋅h                   2⋅h               ⎝        \n",
       "\n",
       " - 1, z, t]   U[x, y + 1, z, t]   V[x - 1, y, z, t]   V[x + 1, y, z, t]⎞    Tx\n",
       "─────────── + ───────────────── - ───────────────── + ─────────────────⎟, - ──\n",
       " 2⋅dt                2⋅dt                2⋅dt                2⋅dt      ⎠      \n",
       "\n",
       "z[x, y, z, t - 1]   Txz[x, y, z, t + 1]       ⎛  U[x, y, z - 1, t]   U[x, y, z\n",
       "───────────────── + ─────────────────── = miu⋅⎜- ───────────────── + ─────────\n",
       "      2⋅h                   2⋅h               ⎝         2⋅dt                2⋅\n",
       "\n",
       " + 1, t]   W[x - 1, y, z, t]   W[x + 1, y, z, t]⎞    Tyz[x, y, z, t - 1]   Tyz\n",
       "──────── - ───────────────── + ─────────────────⎟, - ─────────────────── + ───\n",
       "dt                2⋅dt                2⋅dt      ⎠            2⋅h              \n",
       "\n",
       "[x, y, z, t + 1]       ⎛  V[x, y, z - 1, t]   V[x, y, z + 1, t]   W[x, y - 1, \n",
       "──────────────── = miu⋅⎜- ───────────────── + ───────────────── - ────────────\n",
       "     2⋅h               ⎝         2⋅dt                2⋅dt                2⋅dt \n",
       "\n",
       "z, t]   W[x, y + 1, z, t]⎞⎤\n",
       "───── + ─────────────────⎟⎥\n",
       "               2⋅dt      ⎠⎦"
      ]
     },
     "execution_count": 101,
     "metadata": {},
     "output_type": "execute_result"
    }
   ],
   "source": [
    "eqs"
   ]
  },
  {
   "cell_type": "code",
   "execution_count": 104,
   "metadata": {
    "collapsed": false
   },
   "outputs": [],
   "source": [
    "U_t = print_increment(eq1, U[x,y,z,t+1], U[x,y,z,t-1])\n",
    "V_t = print_increment(eq2, V[x,y,z,t+1], V[x,y,z,t-1])\n",
    "W_t = print_increment(eq3, W[x,y,z,t+1], W[x,y,z,t-1])\n",
    "\n",
    "Txx_t = print_increment(eq4, Txx[x,y,z,t+1], Txx[x,y,z,t-1])\n",
    "Tyy_t = print_increment(eq5, Tyy[x,y,z,t+1], Tyy[x,y,z,t-1])\n",
    "Tzz_t = print_increment(eq6, Tzz[x,y,z,t+1], Tzz[x,y,z,t-1])\n",
    "Txy_t = print_increment(eq7, Txy[x,y,z,t+1], Txy[x,y,z,t-1])\n",
    "Txz_t = print_increment(eq8, Txz[x,y,z,t+1], Txz[x,y,z,t-1])\n",
    "Tyz_t = print_increment(eq9, Tyz[x,y,z,t+1], Tyz[x,y,z,t-1])"
   ]
  },
  {
   "cell_type": "code",
   "execution_count": 106,
   "metadata": {
    "collapsed": false
   },
   "outputs": [
    {
     "data": {
      "text/plain": [
       "'U[x][y][z][t + 1]+=b*dt*(-Txx[x - 1][y][z][t] + Txx[x + 1][y][z][t] - Txy[x][y - 1][z][t] + Txy[x][y + 1][z][t] - Txz[x][y][z - 1][t] + Txz[x][y][z + 1][t])/h'"
      ]
     },
     "execution_count": 106,
     "metadata": {},
     "output_type": "execute_result"
    }
   ],
   "source": [
    "U_t"
   ]
  },
  {
   "cell_type": "code",
   "execution_count": null,
   "metadata": {
    "collapsed": true
   },
   "outputs": [],
   "source": []
  }
 ],
 "metadata": {
  "kernelspec": {
   "display_name": "Python 2",
   "language": "python",
   "name": "python2"
  },
  "language_info": {
   "codemirror_mode": {
    "name": "ipython",
    "version": 2
   },
   "file_extension": ".py",
   "mimetype": "text/x-python",
   "name": "python",
   "nbconvert_exporter": "python",
   "pygments_lexer": "ipython2",
   "version": "2.7.10"
  }
 },
 "nbformat": 4,
 "nbformat_minor": 0
}
