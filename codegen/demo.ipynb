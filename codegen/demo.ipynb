{
 "cells": [
  {
   "cell_type": "code",
   "execution_count": 3,
   "metadata": {
    "collapsed": true
   },
   "outputs": [],
   "source": [
    "from sympy import symbols, init_printing, simplify, solve\n",
    "from fdlib import *\n",
    "init_printing()"
   ]
  },
  {
   "cell_type": "code",
   "execution_count": 4,
   "metadata": {
    "collapsed": false
   },
   "outputs": [],
   "source": [
    "dx, dt, x, y, z, t, c, h = symbols('dx dt x y z t c h')\n",
    "U = IndexedBase('U')\n",
    "# 2nd order approximation\n",
    "n = 2\n",
    "# list of variables\n",
    "l = [x,y,t]"
   ]
  },
  {
   "cell_type": "code",
   "execution_count": 5,
   "metadata": {
    "collapsed": false
   },
   "outputs": [],
   "source": [
    "# get the derivative expressions\n",
    "# using dx = dy = h\n",
    "Uxx = Deriv(U,l,0,h,n)[2]\n",
    "Uyy = Deriv(U,l,1,h,n)[2]\n",
    "Utt = Deriv(U,l,2,dt,n)[2]"
   ]
  },
  {
   "cell_type": "code",
   "execution_count": 6,
   "metadata": {
    "collapsed": false
   },
   "outputs": [
    {
     "data": {
      "image/png": "[encoded data removed]",
      "text/latex": [
       "$$- \\frac{2 U_{x,y,t}}{dt^{2}} + \\frac{1}{dt^{2}} U_{x,y,t - 1} + \\frac{1}{dt^{2}} U_{x,y,t + 1} = - \\frac{4 U_{x,y,t}}{h^{2}} + \\frac{1}{h^{2}} U_{x,y - 1,t} + \\frac{1}{h^{2}} U_{x,y + 1,t} + \\frac{1}{h^{2}} U_{x - 1,y,t} + \\frac{1}{h^{2}} U_{x + 1,y,t}$$"
      ],
      "text/plain": [
       "  2⋅U[x, y, t]   U[x, y, t - 1]   U[x, y, t + 1]     4⋅U[x, y, t]   U[x, y - 1\n",
       "- ──────────── + ────────────── + ────────────── = - ──────────── + ──────────\n",
       "        2               2                2                 2               2  \n",
       "      dt              dt               dt                 h               h   \n",
       "\n",
       ", t]   U[x, y + 1, t]   U[x - 1, y, t]   U[x + 1, y, t]\n",
       "──── + ────────────── + ────────────── + ──────────────\n",
       "              2                2                2      \n",
       "             h                h                h       "
      ]
     },
     "execution_count": 6,
     "metadata": {},
     "output_type": "execute_result"
    }
   ],
   "source": [
    "# 2d wave equation\n",
    "eq = Eq(Utt, (Uxx+Uyy))\n",
    "eq"
   ]
  },
  {
   "cell_type": "code",
   "execution_count": 7,
   "metadata": {
    "collapsed": false
   },
   "outputs": [
    {
     "data": {
      "text/plain": [
       "'U[x][y][t + 1]=(-4*pow(dt, 2)*U[x][y][t] + pow(dt, 2)*U[x][y - 1][t] + pow(dt, 2)*U[x][y + 1][t] + pow(dt, 2)*U[x - 1][y][t] + pow(dt, 2)*U[x + 1][y][t] + pow(h, 2)*(2*U[x][y][t] - U[x][y][t - 1]))/pow(h, 2)'"
      ]
     },
     "execution_count": 7,
     "metadata": {},
     "output_type": "execute_result"
    }
   ],
   "source": [
    "# generate C code for the body of the loop\n",
    "code = print_myccode(U[x,y,t+1]) + \"=\" + print_myccode(simplify(solve(eq, U[x,y,t+1])[0]))\n",
    "code"
   ]
  },
  {
   "cell_type": "code",
   "execution_count": null,
   "metadata": {
    "collapsed": true
   },
   "outputs": [],
   "source": []
  }
 ],
 "metadata": {
  "kernelspec": {
   "display_name": "Python 2",
   "language": "python",
   "name": "python2"
  },
  "language_info": {
   "codemirror_mode": {
    "name": "ipython",
    "version": 2
   },
   "file_extension": ".py",
   "mimetype": "text/x-python",
   "name": "python",
   "nbconvert_exporter": "python",
   "pygments_lexer": "ipython2",
   "version": "2.7.10"
  }
 },
 "nbformat": 4,
 "nbformat_minor": 0
}
