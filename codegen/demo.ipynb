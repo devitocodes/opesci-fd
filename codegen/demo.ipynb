{
 "cells": [
  {
   "cell_type": "code",
   "execution_count": 3,
   "metadata": {
    "collapsed": false
   },
   "outputs": [
    {
     "name": "stdout",
     "output_type": "stream",
     "text": [
      "The autoreload extension is already loaded. To reload it, use:\n",
      "  %reload_ext autoreload\n"
     ]
    }
   ],
   "source": [
    "%load_ext autoreload\n",
    "%autoreload 2\n",
    "from sympy import symbols, init_printing, simplify, solve\n",
    "from mako.template import Template\n",
    "from mako.lookup import TemplateLookup\n",
    "from mako.runtime import Context\n",
    "from StringIO import StringIO\n",
    "from fdlib import *\n",
    "init_printing()"
   ]
  },
  {
   "cell_type": "markdown",
   "metadata": {},
   "source": [
    "###Wave equation in 3D"
   ]
  },
  {
   "cell_type": "code",
   "execution_count": 2,
   "metadata": {
    "collapsed": false
   },
   "outputs": [],
   "source": [
    "dx, dt, x, y, z, t, c, h = symbols('dx dt x y z t c h')\n",
    "U = IndexedBase('U')\n",
    "# 2nd order approximation\n",
    "n = 2\n",
    "# list of variables\n",
    "l = [x,y,z,t]"
   ]
  },
  {
   "cell_type": "code",
   "execution_count": 4,
   "metadata": {
    "collapsed": false
   },
   "outputs": [
    {
     "data": {
      "image/png": "[encoded data removed]",
      "text/latex": [
       "$$- \\frac{2 U_{x,y,z,t}}{h^{2}} + \\frac{1}{h^{2}} U_{x - 1,y,z,t} + \\frac{1}{h^{2}} U_{x + 1,y,z,t}$$"
      ],
      "text/plain": [
       "  2⋅U[x, y, z, t]   U[x - 1, y, z, t]   U[x + 1, y, z, t]\n",
       "- ─────────────── + ───────────────── + ─────────────────\n",
       "          2                  2                   2       \n",
       "         h                  h                   h        "
      ]
     },
     "execution_count": 4,
     "metadata": {},
     "output_type": "execute_result"
    }
   ],
   "source": [
    "# get the derivative expressions\n",
    "# using dx = dy = h\n",
    "Uxx = Deriv(U,l,0,h,n)[2]\n",
    "Uyy = Deriv(U,l,1,h,n)[2]\n",
    "Uzz = Deriv(U,l,2,h,n)[2]\n",
    "Utt = Deriv(U,l,3,dt,n)[2]\n",
    "Uxx"
   ]
  },
  {
   "cell_type": "code",
   "execution_count": 5,
   "metadata": {
    "collapsed": false
   },
   "outputs": [
    {
     "data": {
      "image/png": "[encoded data removed]",
      "text/latex": [
       "$$- \\frac{2 U_{x,y,z,t}}{dt^{2}} + \\frac{1}{dt^{2}} U_{x,y,z,t - 1} + \\frac{1}{dt^{2}} U_{x,y,z,t + 1} = - \\frac{6 U_{x,y,z,t}}{h^{2}} + \\frac{1}{h^{2}} U_{x,y,z - 1,t} + \\frac{1}{h^{2}} U_{x,y,z + 1,t} + \\frac{1}{h^{2}} U_{x,y - 1,z,t} + \\frac{1}{h^{2}} U_{x,y + 1,z,t} + \\frac{1}{h^{2}} U_{x - 1,y,z,t} + \\frac{1}{h^{2}} U_{x + 1,y,z,t}$$"
      ],
      "text/plain": [
       "  2⋅U[x, y, z, t]   U[x, y, z, t - 1]   U[x, y, z, t + 1]     6⋅U[x, y, z, t] \n",
       "- ─────────────── + ───────────────── + ───────────────── = - ─────────────── \n",
       "          2                  2                   2                    2       \n",
       "        dt                 dt                  dt                    h        \n",
       "\n",
       "  U[x, y, z - 1, t]   U[x, y, z + 1, t]   U[x, y - 1, z, t]   U[x, y + 1, z, t\n",
       "+ ───────────────── + ───────────────── + ───────────────── + ────────────────\n",
       "           2                   2                   2                   2      \n",
       "          h                   h                   h                   h       \n",
       "\n",
       "]   U[x - 1, y, z, t]   U[x + 1, y, z, t]\n",
       "─ + ───────────────── + ─────────────────\n",
       "             2                   2       \n",
       "            h                   h        "
      ]
     },
     "execution_count": 5,
     "metadata": {},
     "output_type": "execute_result"
    }
   ],
   "source": [
    "# 2d wave equation\n",
    "eq = Eq(Utt, (Uxx+Uyy+Uzz))\n",
    "eq"
   ]
  },
  {
   "cell_type": "code",
   "execution_count": 6,
   "metadata": {
    "collapsed": false
   },
   "outputs": [
    {
     "data": {
      "text/plain": [
       "'U[x][y][z][t + 1]=(-6*pow(dt, 2)*U[x][y][z][t] + pow(dt, 2)*U[x][y][z - 1][t] + pow(dt, 2)*U[x][y][z + 1][t] + pow(dt, 2)*U[x][y - 1][z][t] + pow(dt, 2)*U[x][y + 1][z][t] + pow(dt, 2)*U[x - 1][y][z][t] + pow(dt, 2)*U[x + 1][y][z][t] + pow(h, 2)*(2*U[x][y][z][t] - U[x][y][z][t - 1]))/pow(h, 2)'"
      ]
     },
     "execution_count": 6,
     "metadata": {},
     "output_type": "execute_result"
    }
   ],
   "source": [
    "# generate C code for the body of the loop\n",
    "code = print_myccode(U[x,y,z,t+1]) + \"=\" + print_myccode(simplify(solve(eq, U[x,y,z,t+1])[0]))\n",
    "code"
   ]
  },
  {
   "cell_type": "markdown",
   "metadata": {},
   "source": [
    "###Wave equation in 2D"
   ]
  },
  {
   "cell_type": "code",
   "execution_count": 7,
   "metadata": {
    "collapsed": true
   },
   "outputs": [],
   "source": [
    "l = [x,t]\n",
    "Uxx = Deriv(U,l,0,h,n)[2]\n",
    "Utt = Deriv(U,l,1,dt,n)[2]"
   ]
  },
  {
   "cell_type": "code",
   "execution_count": 8,
   "metadata": {
    "collapsed": false
   },
   "outputs": [
    {
     "data": {
      "text/plain": [
       "'U[x][t + 1]=(-2*pow(dt, 2)*U[x][t] + pow(dt, 2)*U[x - 1][t] + pow(dt, 2)*U[x + 1][t] + pow(h, 2)*(2*U[x][t] - U[x][t - 1]))/pow(h, 2)'"
      ]
     },
     "execution_count": 8,
     "metadata": {},
     "output_type": "execute_result"
    }
   ],
   "source": [
    "eq = Eq(Utt, Uxx)\n",
    "code = print_myccode(U[x,t+1]) + \"=\" + print_myccode(simplify(solve(eq, U[x,t+1])[0]))\n",
    "code"
   ]
  },
  {
   "cell_type": "code",
   "execution_count": 9,
   "metadata": {
    "collapsed": false
   },
   "outputs": [],
   "source": [
    "mytemplate = Template(filename='templates/tmpl1.c')\n",
    "buf = StringIO()\n",
    "ctx = Context(buf, loopbody=code)\n",
    "mytemplate.render_context(ctx)"
   ]
  },
  {
   "cell_type": "code",
   "execution_count": 10,
   "metadata": {
    "collapsed": false
   },
   "outputs": [
    {
     "name": "stdout",
     "output_type": "stream",
     "text": [
      "// initialisation\n",
      "for(int i=0; i<=Nx; i++)\n",
      "    u[i][0] = I(x[i])\n",
      "// separate calculation for first time step\n",
      "for(int i=1; i<Nx; i++)\n",
      "    u[i][1] = u[i][0]\n",
      "        -0.5*C**2(u[i+1][0] - 2*u[i][0] + u[i-1][0])\n",
      "// main loop\n",
      "for(int n=1; n<Nt; n++){\n",
      "    // boundary conditions\n",
      "    u[n+1][0] = 0; u[n+1][Nx] = 0;\n",
      "    for(int i=1; i<Nx; i++)\n",
      "    // update mesh points at time = n+1\n",
      "        U[x][t + 1]=(-2*pow(dt, 2)*U[x][t] + pow(dt, 2)*U[x - 1][t] + pow(dt, 2)*U[x + 1][t] + pow(h, 2)*(2*U[x][t] - U[x][t - 1]))/pow(h, 2)\n",
      "}\n",
      "\n"
     ]
    }
   ],
   "source": [
    "print(buf.getvalue())"
   ]
  },
  {
   "cell_type": "markdown",
   "metadata": {
    "collapsed": true
   },
   "source": [
    "###Propagator"
   ]
  },
  {
   "cell_type": "code",
   "execution_count": 4,
   "metadata": {
    "collapsed": false
   },
   "outputs": [],
   "source": [
    "U,V,W,Txx,Tyy,Tzz,Txy,Tyz,Txz = IndexedBases('U V W Txx Tyy Tzz Txy Tyz Txz')\n",
    "x,y,z,t,h,dt = symbols('x y z t h dt')\n",
    "Buoyancy, Lambda, Miu = IndexedBases('Buoyancy Lambda Miu')"
   ]
  },
  {
   "cell_type": "code",
   "execution_count": 5,
   "metadata": {
    "collapsed": false
   },
   "outputs": [],
   "source": [
    "l = [x,y,z,t]\n",
    "\n",
    "# first-order derivatives of velocities\n",
    "Ut = Deriv_half(U,l,3,dt,1)[1]\n",
    "Vt = Deriv_half(V,l,3,dt,1)[1]\n",
    "Wt = Deriv_half(W,l,3,dt,1)[1]\n",
    "\n",
    "Ux = Deriv_half(U,l,0,h,2)[1]\n",
    "Uy = Deriv_half(U,l,1,h,2)[1]\n",
    "Uz = Deriv_half(U,l,2,h,2)[1]\n",
    "\n",
    "Vx = Deriv_half(V,l,0,h,2)[1]\n",
    "Vy = Deriv_half(V,l,1,h,2)[1]\n",
    "Vz = Deriv_half(V,l,2,h,2)[1]\n",
    "\n",
    "Wx = Deriv_half(W,l,0,h,2)[1]\n",
    "Wy = Deriv_half(W,l,1,h,2)[1]\n",
    "Wz = Deriv_half(W,l,2,h,2)[1]\n",
    "\n",
    "# first-order derivatives of stresses\n",
    "DxTxx = Deriv_half(Txx,l,0,h,2)[1]\n",
    "DyTxy = Deriv_half(Txy,l,1,h,2)[1]\n",
    "DzTxz = Deriv_half(Txz,l,2,h,2)[1]\n",
    "\n",
    "DxTxy = Deriv_half(Txy,l,0,h,2)[1]\n",
    "DyTyy = Deriv_half(Tyy,l,1,h,2)[1]\n",
    "DzTyz = Deriv_half(Tyz,l,2,h,2)[1]\n",
    "\n",
    "DxTxz = Deriv_half(Txz,l,0,h,2)[1]\n",
    "DyTyz = Deriv_half(Tyz,l,1,h,2)[1]\n",
    "DzTzz = Deriv_half(Tzz,l,2,h,2)[1]\n",
    "\n",
    "DtTxx = Deriv_half(Txx,l,3,dt,1)[1]\n",
    "DtTxy = Deriv_half(Txy,l,3,dt,1)[1]\n",
    "DtTxz = Deriv_half(Txz,l,3,dt,1)[1]\n",
    "DtTyy = Deriv_half(Tyy,l,3,dt,1)[1]\n",
    "DtTyz = Deriv_half(Tyz,l,3,dt,1)[1]\n",
    "DtTzz = Deriv_half(Tzz,l,3,dt,1)[1]"
   ]
  },
  {
   "cell_type": "code",
   "execution_count": 6,
   "metadata": {
    "collapsed": false
   },
   "outputs": [],
   "source": [
    "# momentum equations\n",
    "eq1 = Eq(Ut, Buoyancy[x,y,z]*(DxTxx + DyTxy + DzTxz))\n",
    "eq2 = Eq(Vt, Buoyancy[x,y,z]*(DxTxy + DyTyy + DzTyz))\n",
    "eq3 = Eq(Wt, Buoyancy[x,y,z]*(DxTxz + DyTyz + DzTzz))"
   ]
  },
  {
   "cell_type": "code",
   "execution_count": 7,
   "metadata": {
    "collapsed": true
   },
   "outputs": [],
   "source": [
    "# stress-strain equations\n",
    "eq4 = Eq(DtTxx, (Lambda[x,y,z] + 2*Miu[x,y,z])*Ux + Lambda[x,y,z]*(Vy+Wz))\n",
    "eq5 = Eq(DtTyy, (Lambda[x,y,z] + 2*Miu[x,y,z])*Vy + Lambda[x,y,z]*(Ux+Wz))\n",
    "eq6 = Eq(DtTzz, (Lambda[x,y,z] + 2*Miu[x,y,z])*Wz + Lambda[x,y,z]*(Ux+Vy))\n",
    "eq7 = Eq(DtTxy, Miu[x,y,z]*(Uy+Vx))\n",
    "eq8 = Eq(DtTxz, Miu[x,y,z]*(Uz+Wx))\n",
    "eq9 = Eq(DtTyz, Miu[x,y,z]*(Vz+Wy))"
   ]
  },
  {
   "cell_type": "code",
   "execution_count": 8,
   "metadata": {
    "collapsed": false,
    "scrolled": true
   },
   "outputs": [
    {
     "data": {
      "image/png": "[encoded data removed]",
      "text/latex": [
       "$$\\left [ - \\frac{U_{x,y,z,t}}{dt} + \\frac{1}{dt} U_{x,y,z,t + 1} = \\left(- \\frac{9 Txx_{x,y,z,t}}{8 h} + \\frac{Txx_{x - 1,y,z,t}}{24 h} + \\frac{9 Txx_{x + 1,y,z,t}}{8 h} - \\frac{Txx_{x + 2,y,z,t}}{24 h} - \\frac{9 Txy_{x,y,z,t}}{8 h} + \\frac{Txy_{x,y - 1,z,t}}{24 h} + \\frac{9 Txy_{x,y + 1,z,t}}{8 h} - \\frac{Txy_{x,y + 2,z,t}}{24 h} - \\frac{9 Txz_{x,y,z,t}}{8 h} + \\frac{Txz_{x,y,z - 1,t}}{24 h} + \\frac{9 Txz_{x,y,z + 1,t}}{8 h} - \\frac{Txz_{x,y,z + 2,t}}{24 h}\\right) Buoyancy_{x,y,z}, \\quad - \\frac{V_{x,y,z,t}}{dt} + \\frac{1}{dt} V_{x,y,z,t + 1} = \\left(- \\frac{9 Txy_{x,y,z,t}}{8 h} + \\frac{Txy_{x - 1,y,z,t}}{24 h} + \\frac{9 Txy_{x + 1,y,z,t}}{8 h} - \\frac{Txy_{x + 2,y,z,t}}{24 h} - \\frac{9 Tyy_{x,y,z,t}}{8 h} + \\frac{Tyy_{x,y - 1,z,t}}{24 h} + \\frac{9 Tyy_{x,y + 1,z,t}}{8 h} - \\frac{Tyy_{x,y + 2,z,t}}{24 h} - \\frac{9 Tyz_{x,y,z,t}}{8 h} + \\frac{Tyz_{x,y,z - 1,t}}{24 h} + \\frac{9 Tyz_{x,y,z + 1,t}}{8 h} - \\frac{Tyz_{x,y,z + 2,t}}{24 h}\\right) Buoyancy_{x,y,z}, \\quad - \\frac{W_{x,y,z,t}}{dt} + \\frac{1}{dt} W_{x,y,z,t + 1} = \\left(- \\frac{9 Txz_{x,y,z,t}}{8 h} + \\frac{Txz_{x - 1,y,z,t}}{24 h} + \\frac{9 Txz_{x + 1,y,z,t}}{8 h} - \\frac{Txz_{x + 2,y,z,t}}{24 h} - \\frac{9 Tyz_{x,y,z,t}}{8 h} + \\frac{Tyz_{x,y - 1,z,t}}{24 h} + \\frac{9 Tyz_{x,y + 1,z,t}}{8 h} - \\frac{Tyz_{x,y + 2,z,t}}{24 h} - \\frac{9 Tzz_{x,y,z,t}}{8 h} + \\frac{Tzz_{x,y,z - 1,t}}{24 h} + \\frac{9 Tzz_{x,y,z + 1,t}}{8 h} - \\frac{Tzz_{x,y,z + 2,t}}{24 h}\\right) Buoyancy_{x,y,z}, \\quad - \\frac{Txx_{x,y,z,t}}{dt} + \\frac{1}{dt} Txx_{x,y,z,t + 1} = \\left(\\Lambda_{x,y,z} + 2 Miu_{x,y,z}\\right) \\left(- \\frac{9 U_{x,y,z,t}}{8 h} + \\frac{U_{x - 1,y,z,t}}{24 h} + \\frac{9 U_{x + 1,y,z,t}}{8 h} - \\frac{U_{x + 2,y,z,t}}{24 h}\\right) + \\left(- \\frac{9 V_{x,y,z,t}}{8 h} + \\frac{V_{x,y - 1,z,t}}{24 h} + \\frac{9 V_{x,y + 1,z,t}}{8 h} - \\frac{V_{x,y + 2,z,t}}{24 h} - \\frac{9 W_{x,y,z,t}}{8 h} + \\frac{W_{x,y,z - 1,t}}{24 h} + \\frac{9 W_{x,y,z + 1,t}}{8 h} - \\frac{W_{x,y,z + 2,t}}{24 h}\\right) \\Lambda_{x,y,z}, \\quad - \\frac{Tyy_{x,y,z,t}}{dt} + \\frac{1}{dt} Tyy_{x,y,z,t + 1} = \\left(\\Lambda_{x,y,z} + 2 Miu_{x,y,z}\\right) \\left(- \\frac{9 V_{x,y,z,t}}{8 h} + \\frac{V_{x,y - 1,z,t}}{24 h} + \\frac{9 V_{x,y + 1,z,t}}{8 h} - \\frac{V_{x,y + 2,z,t}}{24 h}\\right) + \\left(- \\frac{9 U_{x,y,z,t}}{8 h} + \\frac{U_{x - 1,y,z,t}}{24 h} + \\frac{9 U_{x + 1,y,z,t}}{8 h} - \\frac{U_{x + 2,y,z,t}}{24 h} - \\frac{9 W_{x,y,z,t}}{8 h} + \\frac{W_{x,y,z - 1,t}}{24 h} + \\frac{9 W_{x,y,z + 1,t}}{8 h} - \\frac{W_{x,y,z + 2,t}}{24 h}\\right) \\Lambda_{x,y,z}, \\quad - \\frac{Tzz_{x,y,z,t}}{dt} + \\frac{1}{dt} Tzz_{x,y,z,t + 1} = \\left(\\Lambda_{x,y,z} + 2 Miu_{x,y,z}\\right) \\left(- \\frac{9 W_{x,y,z,t}}{8 h} + \\frac{W_{x,y,z - 1,t}}{24 h} + \\frac{9 W_{x,y,z + 1,t}}{8 h} - \\frac{W_{x,y,z + 2,t}}{24 h}\\right) + \\left(- \\frac{9 U_{x,y,z,t}}{8 h} + \\frac{U_{x - 1,y,z,t}}{24 h} + \\frac{9 U_{x + 1,y,z,t}}{8 h} - \\frac{U_{x + 2,y,z,t}}{24 h} - \\frac{9 V_{x,y,z,t}}{8 h} + \\frac{V_{x,y - 1,z,t}}{24 h} + \\frac{9 V_{x,y + 1,z,t}}{8 h} - \\frac{V_{x,y + 2,z,t}}{24 h}\\right) \\Lambda_{x,y,z}, \\quad - \\frac{Txy_{x,y,z,t}}{dt} + \\frac{1}{dt} Txy_{x,y,z,t + 1} = \\left(- \\frac{9 U_{x,y,z,t}}{8 h} + \\frac{U_{x,y - 1,z,t}}{24 h} + \\frac{9 U_{x,y + 1,z,t}}{8 h} - \\frac{U_{x,y + 2,z,t}}{24 h} - \\frac{9 V_{x,y,z,t}}{8 h} + \\frac{V_{x - 1,y,z,t}}{24 h} + \\frac{9 V_{x + 1,y,z,t}}{8 h} - \\frac{V_{x + 2,y,z,t}}{24 h}\\right) Miu_{x,y,z}, \\quad - \\frac{Txz_{x,y,z,t}}{dt} + \\frac{1}{dt} Txz_{x,y,z,t + 1} = \\left(- \\frac{9 U_{x,y,z,t}}{8 h} + \\frac{U_{x,y,z - 1,t}}{24 h} + \\frac{9 U_{x,y,z + 1,t}}{8 h} - \\frac{U_{x,y,z + 2,t}}{24 h} - \\frac{9 W_{x,y,z,t}}{8 h} + \\frac{W_{x - 1,y,z,t}}{24 h} + \\frac{9 W_{x + 1,y,z,t}}{8 h} - \\frac{W_{x + 2,y,z,t}}{24 h}\\right) Miu_{x,y,z}, \\quad - \\frac{Tyz_{x,y,z,t}}{dt} + \\frac{1}{dt} Tyz_{x,y,z,t + 1} = \\left(- \\frac{9 V_{x,y,z,t}}{8 h} + \\frac{V_{x,y,z - 1,t}}{24 h} + \\frac{9 V_{x,y,z + 1,t}}{8 h} - \\frac{V_{x,y,z + 2,t}}{24 h} - \\frac{9 W_{x,y,z,t}}{8 h} + \\frac{W_{x,y - 1,z,t}}{24 h} + \\frac{9 W_{x,y + 1,z,t}}{8 h} - \\frac{W_{x,y + 2,z,t}}{24 h}\\right) Miu_{x,y,z}\\right ]$$"
      ],
      "text/plain": [
       "⎡  U[x, y, z, t]   U[x, y, z, t + 1]   ⎛  9⋅Txx[x, y, z, t]   Txx[x - 1, y, z,\n",
       "⎢- ───────────── + ───────────────── = ⎜- ───────────────── + ────────────────\n",
       "⎣        dt                dt          ⎝         8⋅h                  24⋅h    \n",
       "\n",
       " t]   9⋅Txx[x + 1, y, z, t]   Txx[x + 2, y, z, t]   9⋅Txy[x, y, z, t]   Txy[x,\n",
       "─── + ───────────────────── - ─────────────────── - ───────────────── + ──────\n",
       "               8⋅h                    24⋅h                 8⋅h                \n",
       "\n",
       " y - 1, z, t]   9⋅Txy[x, y + 1, z, t]   Txy[x, y + 2, z, t]   9⋅Txz[x, y, z, t\n",
       "───────────── + ───────────────────── - ─────────────────── - ────────────────\n",
       "  24⋅h                   8⋅h                    24⋅h                 8⋅h      \n",
       "\n",
       "]   Txz[x, y, z - 1, t]   9⋅Txz[x, y, z + 1, t]   Txz[x, y, z + 2, t]⎞        \n",
       "─ + ─────────────────── + ───────────────────── - ───────────────────⎟⋅Buoyanc\n",
       "            24⋅h                   8⋅h                    24⋅h       ⎠        \n",
       "\n",
       "              V[x, y, z, t]   V[x, y, z, t + 1]   ⎛  9⋅Txy[x, y, z, t]   Txy[x\n",
       "y[x, y, z], - ───────────── + ───────────────── = ⎜- ───────────────── + ─────\n",
       "                    dt                dt          ⎝         8⋅h               \n",
       "\n",
       " - 1, y, z, t]   9⋅Txy[x + 1, y, z, t]   Txy[x + 2, y, z, t]   9⋅Tyy[x, y, z, \n",
       "────────────── + ───────────────────── - ─────────────────── - ───────────────\n",
       "   24⋅h                   8⋅h                    24⋅h                 8⋅h     \n",
       "\n",
       "t]   Tyy[x, y - 1, z, t]   9⋅Tyy[x, y + 1, z, t]   Tyy[x, y + 2, z, t]   9⋅Tyz\n",
       "── + ─────────────────── + ───────────────────── - ─────────────────── - ─────\n",
       "             24⋅h                   8⋅h                    24⋅h               \n",
       "\n",
       "[x, y, z, t]   Tyz[x, y, z - 1, t]   9⋅Tyz[x, y, z + 1, t]   Tyz[x, y, z + 2, \n",
       "──────────── + ─────────────────── + ───────────────────── - ─────────────────\n",
       "  8⋅h                  24⋅h                   8⋅h                    24⋅h     \n",
       "\n",
       "t]⎞                      W[x, y, z, t]   W[x, y, z, t + 1]   ⎛  9⋅Txz[x, y, z,\n",
       "──⎟⋅Buoyancy[x, y, z], - ───────────── + ───────────────── = ⎜- ──────────────\n",
       "  ⎠                            dt                dt          ⎝         8⋅h    \n",
       "\n",
       " t]   Txz[x - 1, y, z, t]   9⋅Txz[x + 1, y, z, t]   Txz[x + 2, y, z, t]   9⋅Ty\n",
       "─── + ─────────────────── + ───────────────────── - ─────────────────── - ────\n",
       "              24⋅h                   8⋅h                    24⋅h              \n",
       "\n",
       "z[x, y, z, t]   Tyz[x, y - 1, z, t]   9⋅Tyz[x, y + 1, z, t]   Tyz[x, y + 2, z,\n",
       "───────────── + ─────────────────── + ───────────────────── - ────────────────\n",
       "   8⋅h                  24⋅h                   8⋅h                    24⋅h    \n",
       "\n",
       " t]   9⋅Tzz[x, y, z, t]   Tzz[x, y, z - 1, t]   9⋅Tzz[x, y, z + 1, t]   Tzz[x,\n",
       "─── - ───────────────── + ─────────────────── + ───────────────────── - ──────\n",
       "             8⋅h                  24⋅h                   8⋅h                  \n",
       "\n",
       " y, z + 2, t]⎞                      Txx[x, y, z, t]   Txx[x, y, z, t + 1]     \n",
       "─────────────⎟⋅Buoyancy[x, y, z], - ─────────────── + ─────────────────── = (L\n",
       "  24⋅h       ⎠                             dt                  dt             \n",
       "\n",
       "                                 ⎛  9⋅U[x, y, z, t]   U[x - 1, y, z, t]   9⋅U[\n",
       "ambda[x, y, z] + 2⋅Miu[x, y, z])⋅⎜- ─────────────── + ───────────────── + ────\n",
       "                                 ⎝        8⋅h                24⋅h             \n",
       "\n",
       "x + 1, y, z, t]   U[x + 2, y, z, t]⎞   ⎛  9⋅V[x, y, z, t]   V[x, y - 1, z, t] \n",
       "─────────────── - ─────────────────⎟ + ⎜- ─────────────── + ───────────────── \n",
       "    8⋅h                  24⋅h      ⎠   ⎝        8⋅h                24⋅h       \n",
       "\n",
       "  9⋅V[x, y + 1, z, t]   V[x, y + 2, z, t]   9⋅W[x, y, z, t]   W[x, y, z - 1, t\n",
       "+ ─────────────────── - ───────────────── - ─────────────── + ────────────────\n",
       "          8⋅h                  24⋅h               8⋅h                24⋅h     \n",
       "\n",
       "]   9⋅W[x, y, z + 1, t]   W[x, y, z + 2, t]⎞                    Tyy[x, y, z, t\n",
       "─ + ─────────────────── - ─────────────────⎟⋅Lambda[x, y, z], - ──────────────\n",
       "            8⋅h                  24⋅h      ⎠                           dt     \n",
       "\n",
       "]   Tyy[x, y, z, t + 1]                                      ⎛  9⋅V[x, y, z, t\n",
       "─ + ─────────────────── = (Lambda[x, y, z] + 2⋅Miu[x, y, z])⋅⎜- ──────────────\n",
       "             dt                                              ⎝        8⋅h     \n",
       "\n",
       "]   V[x, y - 1, z, t]   9⋅V[x, y + 1, z, t]   V[x, y + 2, z, t]⎞   ⎛  9⋅U[x, y\n",
       "─ + ───────────────── + ─────────────────── - ─────────────────⎟ + ⎜- ────────\n",
       "           24⋅h                 8⋅h                  24⋅h      ⎠   ⎝        8⋅\n",
       "\n",
       ", z, t]   U[x - 1, y, z, t]   9⋅U[x + 1, y, z, t]   U[x + 2, y, z, t]   9⋅W[x,\n",
       "─────── + ───────────────── + ─────────────────── - ───────────────── - ──────\n",
       "h                24⋅h                 8⋅h                  24⋅h               \n",
       "\n",
       " y, z, t]   W[x, y, z - 1, t]   9⋅W[x, y, z + 1, t]   W[x, y, z + 2, t]⎞      \n",
       "───────── + ───────────────── + ─────────────────── - ─────────────────⎟⋅Lambd\n",
       "8⋅h                24⋅h                 8⋅h                  24⋅h      ⎠      \n",
       "\n",
       "              Tzz[x, y, z, t]   Tzz[x, y, z, t + 1]                           \n",
       "a[x, y, z], - ─────────────── + ─────────────────── = (Lambda[x, y, z] + 2⋅Miu\n",
       "                     dt                  dt                                   \n",
       "\n",
       "           ⎛  9⋅W[x, y, z, t]   W[x, y, z - 1, t]   9⋅W[x, y, z + 1, t]   W[x,\n",
       "[x, y, z])⋅⎜- ─────────────── + ───────────────── + ─────────────────── - ────\n",
       "           ⎝        8⋅h                24⋅h                 8⋅h               \n",
       "\n",
       " y, z + 2, t]⎞   ⎛  9⋅U[x, y, z, t]   U[x - 1, y, z, t]   9⋅U[x + 1, y, z, t] \n",
       "─────────────⎟ + ⎜- ─────────────── + ───────────────── + ─────────────────── \n",
       "   24⋅h      ⎠   ⎝        8⋅h                24⋅h                 8⋅h         \n",
       "\n",
       "  U[x + 2, y, z, t]   9⋅V[x, y, z, t]   V[x, y - 1, z, t]   9⋅V[x, y + 1, z, t\n",
       "- ───────────────── - ─────────────── + ───────────────── + ──────────────────\n",
       "         24⋅h               8⋅h                24⋅h                 8⋅h       \n",
       "\n",
       "]   V[x, y + 2, z, t]⎞                    Txy[x, y, z, t]   Txy[x, y, z, t + 1\n",
       "─ - ─────────────────⎟⋅Lambda[x, y, z], - ─────────────── + ──────────────────\n",
       "           24⋅h      ⎠                           dt                  dt       \n",
       "\n",
       "]   ⎛  9⋅U[x, y, z, t]   U[x, y - 1, z, t]   9⋅U[x, y + 1, z, t]   U[x, y + 2,\n",
       "─ = ⎜- ─────────────── + ───────────────── + ─────────────────── - ───────────\n",
       "    ⎝        8⋅h                24⋅h                 8⋅h                  24⋅h\n",
       "\n",
       " z, t]   9⋅V[x, y, z, t]   V[x - 1, y, z, t]   9⋅V[x + 1, y, z, t]   V[x + 2, \n",
       "────── - ─────────────── + ───────────────── + ─────────────────── - ─────────\n",
       "               8⋅h                24⋅h                 8⋅h                  24\n",
       "\n",
       "y, z, t]⎞                 Txz[x, y, z, t]   Txz[x, y, z, t + 1]   ⎛  9⋅U[x, y,\n",
       "────────⎟⋅Miu[x, y, z], - ─────────────── + ─────────────────── = ⎜- ─────────\n",
       "⋅h      ⎠                        dt                  dt           ⎝        8⋅h\n",
       "\n",
       " z, t]   U[x, y, z - 1, t]   9⋅U[x, y, z + 1, t]   U[x, y, z + 2, t]   9⋅W[x, \n",
       "────── + ───────────────── + ─────────────────── - ───────────────── - ───────\n",
       "                24⋅h                 8⋅h                  24⋅h               8\n",
       "\n",
       "y, z, t]   W[x - 1, y, z, t]   9⋅W[x + 1, y, z, t]   W[x + 2, y, z, t]⎞       \n",
       "──────── + ───────────────── + ─────────────────── - ─────────────────⎟⋅Miu[x,\n",
       "⋅h                24⋅h                 8⋅h                  24⋅h      ⎠       \n",
       "\n",
       "          Tyz[x, y, z, t]   Tyz[x, y, z, t + 1]   ⎛  9⋅V[x, y, z, t]   V[x, y,\n",
       " y, z], - ─────────────── + ─────────────────── = ⎜- ─────────────── + ───────\n",
       "                 dt                  dt           ⎝        8⋅h                \n",
       "\n",
       " z - 1, t]   9⋅V[x, y, z + 1, t]   V[x, y, z + 2, t]   9⋅W[x, y, z, t]   W[x, \n",
       "────────── + ─────────────────── - ───────────────── - ─────────────── + ─────\n",
       "24⋅h                 8⋅h                  24⋅h               8⋅h              \n",
       "\n",
       "y - 1, z, t]   9⋅W[x, y + 1, z, t]   W[x, y + 2, z, t]⎞             ⎤\n",
       "──────────── + ─────────────────── - ─────────────────⎟⋅Miu[x, y, z]⎥\n",
       "  24⋅h                 8⋅h                  24⋅h      ⎠             ⎦"
      ]
     },
     "execution_count": 8,
     "metadata": {},
     "output_type": "execute_result"
    }
   ],
   "source": [
    "eqs = [eq1,eq2,eq3,eq4,eq5,eq6,eq7,eq8,eq9]; eqs"
   ]
  },
  {
   "cell_type": "code",
   "execution_count": 13,
   "metadata": {
    "collapsed": false
   },
   "outputs": [
    {
     "data": {
      "image/png": "[encoded data removed]",
      "text/latex": [
       "$$\\left [ \\frac{1}{24 h} \\left(- 27 dt Buoyancy_{x,y,z} Txx_{x,y,z,t} + dt Buoyancy_{x,y,z} Txx_{x - 1,y,z,t} + 27 dt Buoyancy_{x,y,z} Txx_{x + 1,y,z,t} - dt Buoyancy_{x,y,z} Txx_{x + 2,y,z,t} - 27 dt Buoyancy_{x,y,z} Txy_{x,y,z,t} + dt Buoyancy_{x,y,z} Txy_{x,y - 1,z,t} + 27 dt Buoyancy_{x,y,z} Txy_{x,y + 1,z,t} - dt Buoyancy_{x,y,z} Txy_{x,y + 2,z,t} - 27 dt Buoyancy_{x,y,z} Txz_{x,y,z,t} + dt Buoyancy_{x,y,z} Txz_{x,y,z - 1,t} + 27 dt Buoyancy_{x,y,z} Txz_{x,y,z + 1,t} - dt Buoyancy_{x,y,z} Txz_{x,y,z + 2,t} + 24 h U_{x,y,z,t}\\right)\\right ]$$"
      ],
      "text/plain": [
       "⎡-27⋅dt⋅Buoyancy[x, y, z]⋅Txx[x, y, z, t] + dt⋅Buoyancy[x, y, z]⋅Txx[x - 1, y,\n",
       "⎢─────────────────────────────────────────────────────────────────────────────\n",
       "⎣                                                                             \n",
       "\n",
       " z, t] + 27⋅dt⋅Buoyancy[x, y, z]⋅Txx[x + 1, y, z, t] - dt⋅Buoyancy[x, y, z]⋅Tx\n",
       "──────────────────────────────────────────────────────────────────────────────\n",
       "                                                                              \n",
       "\n",
       "x[x + 2, y, z, t] - 27⋅dt⋅Buoyancy[x, y, z]⋅Txy[x, y, z, t] + dt⋅Buoyancy[x, y\n",
       "──────────────────────────────────────────────────────────────────────────────\n",
       "                                                                              \n",
       "\n",
       ", z]⋅Txy[x, y - 1, z, t] + 27⋅dt⋅Buoyancy[x, y, z]⋅Txy[x, y + 1, z, t] - dt⋅Bu\n",
       "──────────────────────────────────────────────────────────────────────────────\n",
       "                                    24⋅h                                      \n",
       "\n",
       "oyancy[x, y, z]⋅Txy[x, y + 2, z, t] - 27⋅dt⋅Buoyancy[x, y, z]⋅Txz[x, y, z, t] \n",
       "──────────────────────────────────────────────────────────────────────────────\n",
       "                                                                              \n",
       "\n",
       "+ dt⋅Buoyancy[x, y, z]⋅Txz[x, y, z - 1, t] + 27⋅dt⋅Buoyancy[x, y, z]⋅Txz[x, y,\n",
       "──────────────────────────────────────────────────────────────────────────────\n",
       "                                                                              \n",
       "\n",
       " z + 1, t] - dt⋅Buoyancy[x, y, z]⋅Txz[x, y, z + 2, t] + 24⋅h⋅U[x, y, z, t]⎤\n",
       "──────────────────────────────────────────────────────────────────────────⎥\n",
       "                                                                          ⎦"
      ]
     },
     "execution_count": 13,
     "metadata": {},
     "output_type": "execute_result"
    }
   ],
   "source": [
    "hf = Rational(1,2)\n",
    "DxTxx\n",
    "solve(eq1,U[x,y,z,t+1])"
   ]
  },
  {
   "cell_type": "code",
   "execution_count": 10,
   "metadata": {
    "collapsed": false
   },
   "outputs": [],
   "source": [
    "U_t = print_increment(eq1, U[x,y,z,t+1], U[x,y,z,t])\n",
    "V_t = print_increment(eq2, V[x,y,z,t+1], V[x,y,z,t])\n",
    "W_t = print_increment(eq3, W[x,y,z,t+1], W[x,y,z,t])\n",
    "Txx_t = print_increment(eq4, Txx[x,y,z,t+1], Txx[x,y,z,t])\n",
    "Tyy_t = print_increment(eq5, Tyy[x,y,z,t+1], Tyy[x,y,z,t])\n",
    "Tzz_t = print_increment(eq6, Tzz[x,y,z,t+1], Tzz[x,y,z,t])\n",
    "Txy_t = print_increment(eq7, Txy[x,y,z,t+1], Txy[x,y,z,t])\n",
    "Txz_t = print_increment(eq8, Txz[x,y,z,t+1], Txz[x,y,z,t])\n",
    "Tyz_t = print_increment(eq9, Tyz[x,y,z,t+1], Tyz[x,y,z,t])"
   ]
  },
  {
   "cell_type": "code",
   "execution_count": 11,
   "metadata": {
    "collapsed": false
   },
   "outputs": [],
   "source": [
    "mylookup = TemplateLookup(directories=['templates/'])\n",
    "mytemplate = mylookup.get_template('test_ref_iso_elastic_tmpl.cpp')\n",
    "buf = StringIO()\n",
    "dict1 = {'Txx':Txx_t,'Tyy':Tyy_t,'Tzz':Tzz_t,'Txy':Txy_t,'Txz':Txz_t,'Tyz':Tyz_t,'U':U_t,'V':V_t,'W':W_t}\n",
    "ctx = Context(buf, **dict1)\n",
    "mytemplate.render_context(ctx)"
   ]
  },
  {
   "cell_type": "code",
   "execution_count": 12,
   "metadata": {
    "collapsed": false
   },
   "outputs": [
    {
     "name": "stdout",
     "output_type": "stream",
     "text": [
      "/*  Copyright (C) 2015 Imperial College London and others.\n",
      " *\n",
      " *  Please see the AUTHORS file in the main source directory for a\n",
      " *  full list of copyright holders.\n",
      " *\n",
      " *  Gerard Gorman\n",
      " *  Department of Earth Science and Engineering\n",
      " *  Imperial College London\n",
      " *\n",
      " *  g.gorman@imperial.ac.uk\n",
      " *\n",
      " *  Redistribution and use in source and binary forms, with or without\n",
      " *  modification, are permitted provided that the following conditions\n",
      " *  are met:\n",
      " *  1. Redistributions of source code must retain the above copyright\n",
      " *  notice, this list of conditions and the following disclaimer.\n",
      " *  2. Redistributions in binary form must reproduce the above\n",
      " *  copyright notice, this list of conditions and the following\n",
      " *  disclaimer in the documentation and/or other materials provided\n",
      " *  with the distribution.\n",
      " *\n",
      " *  THIS SOFTWARE IS PROVIDED BY THE COPYRIGHT HOLDERS AND\n",
      " *  CONTRIBUTORS \"AS IS\" AND ANY EXPRESS OR IMPLIED WARRANTIES,\n",
      " *  INCLUDING, BUT NOT LIMITED TO, THE IMPLIED WARRANTIES OF\n",
      " *  MERCHANTABILITY AND FITNESS FOR A PARTICULAR PURPOSE ARE\n",
      " *  DISCLAIMED. IN NO EVENT SHALL THE COPYRIGHT HOLDER OR CONTRIBUTORS\n",
      " *  BE LIABLE FOR ANY DIRECT, INDIRECT, INCIDENTAL, SPECIAL,\n",
      " *  EXEMPLARY, OR CONSEQUENTIAL DAMAGES (INCLUDING, BUT NOT LIMITED\n",
      " *  TO, PROCUREMENT OF SUBSTITUTE GOODS OR SERVICES; LOSS OF USE,\n",
      " *  DATA, OR PROFITS; OR BUSINESS INTERRUPTION) HOWEVER CAUSED AND ON\n",
      " *  ANY THEORY OF LIABILITY, WHETHER IN CONTRACT, STRICT LIABILITY, OR\n",
      " *  TORT (INCLUDING NEGLIGENCE OR OTHERWISE) ARISING IN ANY WAY OUT OF\n",
      " *  THE USE OF THIS SOFTWARE, EVEN IF ADVISED OF THE POSSIBILITY OF\n",
      " *  SUCH DAMAGE.\n",
      " */\n",
      "\n",
      "/* Test case implements:\n",
      "\n",
      "   Graves, Robert W. \"Simulating seismic wave propagation in 3D\n",
      "   elastic media using staggered-grid finite differences.\" Bulletin of\n",
      "   the Seismological Society of America 86.4 (1996): 1091-1106.\n",
      "\n",
      "*/\n",
      "\n",
      "#include \"opesciIO.h\"\n",
      "#include \"opesciHandy.h\"\n",
      "\n",
      "#include <cassert>\n",
      "#include <cstdlib>\n",
      "#include <cmath>\n",
      "\n",
      "#include <iostream>\n",
      "#include <fstream>\n",
      "\n",
      "int main(){\n",
      "  std::string vpfile(\"VPhomogx200\");       // Vp file in binary (in m/s)\n",
      "  std::string vsfile(\"VShomogx200\");       // Vs file: Vs file in binary (in m/s)\n",
      "  std::string rhofile(\"RHOhomogx200\");     // rhofile: densities file in binary (in kg/m**3)\n",
      "  std::string geomsrc(\"geomx200.src\");     // Geometry file with sources locations (in m)\n",
      "  std::string geomrec(\"geomx200.rec\");     // Geometry file with receivers locations (in m)\n",
      "  int dimx=200, dimy=200, dimz=200;   // Model dimensions in number of nodes\n",
      "  float h=25;                         // Node spacing in meters (hx=hy=hz=h)\n",
      "  std::string xsrcname(\"xrick5.sep\");      // Source files\n",
      "  std::string ysrcname(\"yrick5.sep\");\n",
      "  std::string zsrcname(\"zrick5.sep\"); \n",
      "  float sdt=0.004;                    // Source sample rate (in s).\n",
      "  float maxt=1.0;                     // Maximum time to compute;\n",
      "  std::string useis(\"seisu\");              // Seismogram files for the x, y and z components of velocity.\n",
      "  std::string vseis(\"seisv\");\n",
      "  std::string wseis(\"seisw\");\n",
      "  std::string pseis(\"seisp\");              // Seismogram files for pressure.\n",
      "  \n",
      "  // Read Vp\n",
      "  std::vector<float> vp;\n",
      "  if(opesci_read_simple_binary(vpfile.c_str(), vp)){\n",
      "    opesci_abort(\"Missing input file\\n\");\n",
      "  }\n",
      "  assert(vp.size()==dimx*dimy*dimz);\n",
      " \n",
      "  // Read Vs\n",
      "  std::vector<float> vs;\n",
      "  if(opesci_read_simple_binary(vsfile.c_str(), vs)){\n",
      "    opesci_abort(\"Missing input file\\n\");\n",
      "  }\n",
      "  assert(vs.size()==dimx*dimy*dimz);\n",
      "\n",
      "  // Read rho (density).\n",
      "  std::vector<float> rho;\n",
      "  if(opesci_read_simple_binary(rhofile.c_str(), rho)){\n",
      "    opesci_abort(\"Missing input file\\n\");\n",
      "  }\n",
      "  assert(rho.size()==dimx*dimy*dimz);\n",
      "  std::vector<float> buoyancy(rho.size());\n",
      "\n",
      "  // Calculate Lame constents.\n",
      "  std::vector<float> mu, lam;\n",
      "  opesci_calculate_lame_costants(vp, vs, rho, mu, lam);\n",
      "\n",
      "  // Get sources.\n",
      "  std::vector<float> coorsrc, xsrc, ysrc, zsrc;\n",
      "  if(opesci_read_souces(geomsrc.c_str(), xsrcname.c_str(), ysrcname.c_str(), zsrcname.c_str(), coorsrc, xsrc, ysrc, zsrc)){\n",
      "    opesci_abort(\"Cannot read sources.\\n\");\n",
      "  }\n",
      "  int nsrc = coorsrc.size()/3;\n",
      "\n",
      "  // Get receivers.\n",
      "  std::vector<float> coorrec;\n",
      "  if(opesci_read_receivers(geomrec.c_str(), coorrec)){\n",
      "    opesci_abort(\"Cannot read receivers.\\n\");\n",
      "  }\n",
      "  int nrec = coorrec.size()/3;\n",
      "\n",
      "  float dt = opesci_calculate_dt(vp, h);\n",
      "  int ntsteps = (int)(maxt/dt);\n",
      "  \n",
      "  // Resample sources if required.\n",
      "  assert(nsrc==1);\n",
      "  std::vector<float> resampled_src;\n",
      "  opesci_resample_timeseries(xsrc, dt, sdt, resampled_src);\n",
      "  xsrc.swap(resampled_src);\n",
      "\n",
      "  opesci_resample_timeseries(ysrc, dt, sdt, resampled_src);\n",
      "  ysrc.swap(resampled_src);\n",
      "\n",
      "  opesci_resample_timeseries(zsrc, dt, sdt, resampled_src);\n",
      "  zsrc.swap(resampled_src);\n",
      "\n",
      "  int snt = xsrc.size()/nsrc;\n",
      "  sdt = dt;\n",
      "\n",
      "  // Set up solution fields.\n",
      "  std::vector<float> u(dimx*dimy*dimz), v(dimx*dimy*dimz), w(dimx*dimy*dimz),\n",
      "    txx(dimx*dimy*dimz), tyy(dimx*dimy*dimz), tzz(dimx*dimy*dimz),\n",
      "    tyz(dimx*dimy*dimz), txz(dimx*dimy*dimz), txy(dimx*dimy*dimz);\n",
      "\n",
      "  // Set up seismic sections\n",
      "  std::vector<float> uss, vss, wss, pss;\n",
      "  uss.reserve(nrec*ntsteps);\n",
      "  vss.reserve(nrec*ntsteps);\n",
      "  wss.reserve(nrec*ntsteps);\n",
      "  pss.reserve(nrec*ntsteps);\n",
      "\n",
      "#pragma omp parallel\n",
      "  {\n",
      "    // Initialise fields exploiting first touch.\n",
      "#pragma omp for nowait\n",
      "    for(int i=0;i<dimx*dimy*dimz;i++){\n",
      "      u[i] = 0.0;\n",
      "      v[i] = 0.0;\n",
      "      w[i] = 0.0;\n",
      "\n",
      "      txx[i] = 0.0;\n",
      "      tyy[i] = 0.0;\n",
      "      tzz[i] = 0.0;\n",
      "      tyz[i] = 0.0;\n",
      "      txz[i] = 0.0;\n",
      "      txy[i] = 0.0;\n",
      "\n",
      "      buoyancy[i] = 1.0/rho[i];\n",
      "    }\n",
      "\n",
      "    // Start of time loop.\n",
      "    float (*Lambda)[dimy][dimx] = (float (*)[dimy][dimx]) lam.data();\n",
      "    float (*Mu)[dimy][dimx] = (float (*)[dimy][dimx]) mu.data(); // need to correct to use the effective media parameters\n",
      "    float (*Buoyancy)[dimy][dimx] = (float (*)[dimy][dimx]) buoyancy.data(); // need to correct to use the effective media parameters\n",
      "\n",
      "    float (*U)[dimy][dimx] = (float (*)[dimy][dimx]) u.data();\n",
      "    float (*V)[dimy][dimx] = (float (*)[dimy][dimx]) v.data();\n",
      "    float (*W)[dimy][dimx] = (float (*)[dimy][dimx]) w.data();\n",
      "\n",
      "    float (*Txx)[dimy][dimx] = (float (*)[dimy][dimx]) txx.data();\n",
      "    float (*Tyy)[dimy][dimx] = (float (*)[dimy][dimx]) tyy.data();\n",
      "    float (*Tzz)[dimy][dimx] = (float (*)[dimy][dimx]) tzz.data();\n",
      "    float (*Tyz)[dimy][dimx] = (float (*)[dimy][dimx]) tyz.data();\n",
      "    float (*Txz)[dimy][dimx] = (float (*)[dimy][dimx]) txz.data();\n",
      "    float (*Txy)[dimy][dimx] = (float (*)[dimy][dimx]) txy.data();\n",
      "\n",
      "    float c0=9./8.;\n",
      "    float c1=1./24.;\n",
      "\n",
      "    for(int ti=0;ti<ntsteps;ti++){\n",
      "      \n",
      "      // Compute stresses\n",
      "#pragma omp for schedule(guided)\n",
      "      for(int k=2;k<dimz-2;k++){\n",
      "\tfor(int j=2;j<dimy-2;j++){\n",
      "\t  for(int i=2;i<dimx-2;i++){\n",
      "\t    Txx[x][y][z]+=(1.0L/24.0L)*dt*(-27*Lambda[x][y][z]*U[x][y][z] + Lambda[x][y][z]*U[x - 1][y][z] + 27*Lambda[x][y][z]*U[x + 1][y][z] - Lambda[x][y][z]*U[x + 2][y][z] - 27*Lambda[x][y][z]*V[x][y][z] + Lambda[x][y][z]*V[x][y - 1][z] + 27*Lambda[x][y][z]*V[x][y + 1][z] - Lambda[x][y][z]*V[x][y + 2][z] - 27*Lambda[x][y][z]*W[x][y][z] + Lambda[x][y][z]*W[x][y][z - 1] + 27*Lambda[x][y][z]*W[x][y][z + 1] - Lambda[x][y][z]*W[x][y][z + 2] - 54*Miu[x][y][z]*U[x][y][z] + 2*Miu[x][y][z]*U[x - 1][y][z] + 54*Miu[x][y][z]*U[x + 1][y][z] - 2*Miu[x][y][z]*U[x + 2][y][z])/h;\n",
      "\t    Tyy[x][y][z]+=(1.0L/24.0L)*dt*(-27*Lambda[x][y][z]*U[x][y][z] + Lambda[x][y][z]*U[x - 1][y][z] + 27*Lambda[x][y][z]*U[x + 1][y][z] - Lambda[x][y][z]*U[x + 2][y][z] - 27*Lambda[x][y][z]*V[x][y][z] + Lambda[x][y][z]*V[x][y - 1][z] + 27*Lambda[x][y][z]*V[x][y + 1][z] - Lambda[x][y][z]*V[x][y + 2][z] - 27*Lambda[x][y][z]*W[x][y][z] + Lambda[x][y][z]*W[x][y][z - 1] + 27*Lambda[x][y][z]*W[x][y][z + 1] - Lambda[x][y][z]*W[x][y][z + 2] - 54*Miu[x][y][z]*V[x][y][z] + 2*Miu[x][y][z]*V[x][y - 1][z] + 54*Miu[x][y][z]*V[x][y + 1][z] - 2*Miu[x][y][z]*V[x][y + 2][z])/h;\n",
      "\t    Tzz[x][y][z]+=(1.0L/24.0L)*dt*(-27*Lambda[x][y][z]*U[x][y][z] + Lambda[x][y][z]*U[x - 1][y][z] + 27*Lambda[x][y][z]*U[x + 1][y][z] - Lambda[x][y][z]*U[x + 2][y][z] - 27*Lambda[x][y][z]*V[x][y][z] + Lambda[x][y][z]*V[x][y - 1][z] + 27*Lambda[x][y][z]*V[x][y + 1][z] - Lambda[x][y][z]*V[x][y + 2][z] - 27*Lambda[x][y][z]*W[x][y][z] + Lambda[x][y][z]*W[x][y][z - 1] + 27*Lambda[x][y][z]*W[x][y][z + 1] - Lambda[x][y][z]*W[x][y][z + 2] - 54*Miu[x][y][z]*W[x][y][z] + 2*Miu[x][y][z]*W[x][y][z - 1] + 54*Miu[x][y][z]*W[x][y][z + 1] - 2*Miu[x][y][z]*W[x][y][z + 2])/h;\n",
      "\t    Tyz[x][y][z]+=(1.0L/24.0L)*dt*(-27*V[x][y][z] + V[x][y][z - 1] + 27*V[x][y][z + 1] - V[x][y][z + 2] - 27*W[x][y][z] + W[x][y - 1][z] + 27*W[x][y + 1][z] - W[x][y + 2][z])*Miu[x][y][z]/h;\n",
      "\t    Txz[x][y][z]+=(1.0L/24.0L)*dt*(-27*U[x][y][z] + U[x][y][z - 1] + 27*U[x][y][z + 1] - U[x][y][z + 2] - 27*W[x][y][z] + W[x - 1][y][z] + 27*W[x + 1][y][z] - W[x + 2][y][z])*Miu[x][y][z]/h;\n",
      "\t    Txy[x][y][z]+=(1.0L/24.0L)*dt*(-27*U[x][y][z] + U[x][y - 1][z] + 27*U[x][y + 1][z] - U[x][y + 2][z] - 27*V[x][y][z] + V[x - 1][y][z] + 27*V[x + 1][y][z] - V[x + 2][y][z])*Miu[x][y][z]/h;\n",
      "\t  }\n",
      "\t}\n",
      "      }\n",
      "\n",
      "      // Compute velocities\n",
      "#pragma omp for schedule(guided)\n",
      "      for(int k=2;k<dimz-2;k++){\n",
      "\tfor(int j=2;j<dimy-2;j++){\n",
      "\t  for(int i=2;i<dimx-2;i++){\n",
      "\t    \n",
      "\t    U[x][y][z]+=(1.0L/24.0L)*dt*(-27*Txx[x][y][z] + Txx[x - 1][y][z] + 27*Txx[x + 1][y][z] - Txx[x + 2][y][z] - 27*Txy[x][y][z] + Txy[x][y - 1][z] + 27*Txy[x][y + 1][z] - Txy[x][y + 2][z] - 27*Txz[x][y][z] + Txz[x][y][z - 1] + 27*Txz[x][y][z + 1] - Txz[x][y][z + 2])*Buoyancy[x][y][z]/h;\n",
      "\t    V[x][y][z]+=(1.0L/24.0L)*dt*(-27*Txy[x][y][z] + Txy[x - 1][y][z] + 27*Txy[x + 1][y][z] - Txy[x + 2][y][z] - 27*Tyy[x][y][z] + Tyy[x][y - 1][z] + 27*Tyy[x][y + 1][z] - Tyy[x][y + 2][z] - 27*Tyz[x][y][z] + Tyz[x][y][z - 1] + 27*Tyz[x][y][z + 1] - Tyz[x][y][z + 2])*Buoyancy[x][y][z]/h;\n",
      "\t    W[x][y][z]+=(1.0L/24.0L)*dt*(-27*Txz[x][y][z] + Txz[x - 1][y][z] + 27*Txz[x + 1][y][z] - Txz[x + 2][y][z] - 27*Tyz[x][y][z] + Tyz[x][y - 1][z] + 27*Tyz[x][y + 1][z] - Tyz[x][y + 2][z] - 27*Tzz[x][y][z] + Tzz[x][y][z - 1] + 27*Tzz[x][y][z + 1] - Tzz[x][y][z + 2])*Buoyancy[x][y][z]/h;\n",
      "\t  }\n",
      "\t}\n",
      "      }\n",
      "   \n",
      "#pragma omp single nowait\n",
      "      {\n",
      "\tfor(int i=0;i<nrec;i++){\n",
      "\t  int xi = (int)round(coorrec[i*3]/h);\n",
      "\t  int yi = (int)round(coorrec[i*3+1]/h);\n",
      "\t  int zi = (int)round(coorrec[i*3+2]/h);\n",
      "\n",
      "\t  uss.push_back(U[zi][yi][xi]);\n",
      "\t}\n",
      "      }\n",
      "\n",
      "#pragma omp single nowait\n",
      "      {\n",
      "\tfor(int i=0;i<nrec;i++){\n",
      "\t  int xi = (int)round(coorrec[i*3]/h);\n",
      "\t  int yi = (int)round(coorrec[i*3+1]/h);\n",
      "\t  int zi = (int)round(coorrec[i*3+2]/h);\n",
      "\t  \n",
      "\t  vss.push_back(V[zi][yi][xi]);\n",
      "\t}\n",
      "      }\n",
      "\n",
      "#pragma omp single nowait\n",
      "      {\n",
      "\tfor(int i=0;i<nrec;i++){\n",
      "\t  int xi = (int)round(coorrec[i*3]/h);\n",
      "\t  int yi = (int)round(coorrec[i*3+1]/h);\n",
      "\t  int zi = (int)round(coorrec[i*3+2]/h);\n",
      "\t  \n",
      "\t  wss.push_back(W[zi][yi][xi]);\n",
      "\t}\n",
      "      }\n",
      "\n",
      "      // A barrier is implied here because the next block modifies the stress field.\n",
      "#pragma omp single\n",
      "      {\n",
      "\tfor(int i=0;i<nrec;i++){\n",
      "\t  int xi = (int)round(coorrec[i*3]/h);\n",
      "\t  int yi = (int)round(coorrec[i*3+1]/h);\n",
      "\t  int zi = (int)round(coorrec[i*3+2]/h);\n",
      "\n",
      "\t  pss.push_back((Txx[zi][yi][xi]+\n",
      "\t\t\t Tyy[zi][yi][xi]+\n",
      "\t\t\t Tzz[zi][yi][xi])/3);\n",
      "\t}\n",
      "      }\n",
      "\n",
      "      // Insert source\n",
      "#pragma omp single\n",
      "      {\n",
      "\tif(ti<snt){\n",
      "\t  int sx=(int)round(coorsrc[0]/h);\n",
      "\t  int sy=(int)round(coorsrc[1]/h);\n",
      "\t  int sz=(int)round(coorsrc[2]/h);\n",
      "\n",
      "\t  assert(sx<dimx);\n",
      "\t  assert(sy<dimy);\n",
      "\t  assert(sz<dimz);\n",
      "\n",
      "\t  Txx[sz][sy][sx] -= xsrc[ti]/3;\n",
      "\t  Tyy[sz][sy][sx] -= ysrc[ti]/3;\n",
      "\t  Tzz[sz][sy][sx] -= zsrc[ti]/3;\n",
      "\t}\n",
      "      }\n",
      "    }\n",
      "  }\n",
      "\n",
      "  {\n",
      "    int dims[]={dimx, dimy, dimz};\n",
      "    float spacing[]={h, h, h};\n",
      "    opesci_dump_solution_vts(\"solution\", dims, spacing, u,v,w,txx,tyy,tzz);\n",
      "  }\n",
      "  \n",
      "  {\n",
      "    int dims[]={(int)round(sqrt(nrec)), (int)round(sqrt(nrec)), ntsteps};\n",
      "    float spacing[]={h, h, dt};\n",
      "    opesci_dump_receivers_vts(\"receivers\", dims, spacing, uss, vss, wss, pss);\n",
      "  }\n",
      "\n",
      "  return 0;\n",
      "}\n",
      "\n"
     ]
    }
   ],
   "source": [
    "print(buf.getvalue())"
   ]
  },
  {
   "cell_type": "code",
   "execution_count": null,
   "metadata": {
    "collapsed": true
   },
   "outputs": [],
   "source": []
  }
 ],
 "metadata": {
  "kernelspec": {
   "display_name": "Python 2",
   "language": "python",
   "name": "python2"
  },
  "language_info": {
   "codemirror_mode": {
    "name": "ipython",
    "version": 2
   },
   "file_extension": ".py",
   "mimetype": "text/x-python",
   "name": "python",
   "nbconvert_exporter": "python",
   "pygments_lexer": "ipython2",
   "version": "2.7.10"
  }
 },
 "nbformat": 4,
 "nbformat_minor": 0
}
