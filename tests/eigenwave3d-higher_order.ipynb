{
 "cells": [
  {
   "cell_type": "code",
   "execution_count": 1,
   "metadata": {
    "collapsed": false
   },
   "outputs": [],
   "source": [
    "%load_ext autoreload\n",
    "%autoreload 2\n",
    "import os, sys\n",
    "sys.path.append(os.path.abspath(os.pardir))"
   ]
  },
  {
   "cell_type": "code",
   "execution_count": 10,
   "metadata": {
    "collapsed": false
   },
   "outputs": [],
   "source": [
    "# %reset\n",
    "from sympy import symbols, init_printing, simplify, solve, srepr, Add, Symbol, Integer, Float, pi, cos, sin, Rational\n",
    "from sympy import IndexedBase, Eq, simplify, sqrt, latex\n",
    "from mako.template import Template\n",
    "from mako.lookup import TemplateLookup\n",
    "from mako.runtime import Context\n",
    "from StringIO import StringIO\n",
    "from opesci import *\n",
    "init_printing()"
   ]
  },
  {
   "cell_type": "code",
   "execution_count": 28,
   "metadata": {
    "collapsed": false
   },
   "outputs": [],
   "source": [
    "U = IndexedBase('U')\n",
    "delta = Symbol('Delta')\n",
    "t, x,y,z = symbols('t x y z')"
   ]
  },
  {
   "cell_type": "code",
   "execution_count": 34,
   "metadata": {
    "collapsed": true
   },
   "outputs": [],
   "source": [
    "from opesci.util import Taylor_generic, Deriv_generic"
   ]
  },
  {
   "cell_type": "code",
   "execution_count": 22,
   "metadata": {
    "collapsed": false
   },
   "outputs": [
    {
     "data": {
      "image/png": "[encoded data removed]",
      "text/latex": [
       "$$\\left[\\begin{matrix}1 & - \\Delta & \\frac{\\Delta^{2}}{2} & - \\frac{\\Delta^{3}}{6}\\\\1 & 0 & 0 & 0\\\\1 & \\Delta & \\frac{\\Delta^{2}}{2} & \\frac{\\Delta^{3}}{6}\\\\1 & 2 \\Delta & 2 \\Delta^{2} & \\frac{4 \\Delta^{3}}{3}\\end{matrix}\\right]$$"
      ],
      "text/plain": [
       "⎡          2     3 ⎤\n",
       "⎢         Δ    -Δ  ⎥\n",
       "⎢1  -Δ    ──   ────⎥\n",
       "⎢         2     6  ⎥\n",
       "⎢                  ⎥\n",
       "⎢1   0    0     0  ⎥\n",
       "⎢                  ⎥\n",
       "⎢          2     3 ⎥\n",
       "⎢         Δ     Δ  ⎥\n",
       "⎢1   Δ    ──    ── ⎥\n",
       "⎢         2     6  ⎥\n",
       "⎢                  ⎥\n",
       "⎢                 3⎥\n",
       "⎢           2  4⋅Δ ⎥\n",
       "⎢1  2⋅Δ  2⋅Δ   ────⎥\n",
       "⎣               3  ⎦"
      ]
     },
     "execution_count": 22,
     "metadata": {},
     "output_type": "execute_result"
    }
   ],
   "source": [
    "M = Taylor_generic(delta,1,2); M"
   ]
  },
  {
   "cell_type": "code",
   "execution_count": 24,
   "metadata": {
    "collapsed": false
   },
   "outputs": [
    {
     "data": {
      "image/png": "[encoded data removed]",
      "text/latex": [
       "$$\\left[\\begin{matrix}U_{x - 1}\\\\U_{x}\\\\U_{x + 1}\\\\U_{x + 2}\\end{matrix}\\right]$$"
      ],
      "text/plain": [
       "⎡U[x - 1]⎤\n",
       "⎢        ⎥\n",
       "⎢  U[x]  ⎥\n",
       "⎢        ⎥\n",
       "⎢U[x + 1]⎥\n",
       "⎢        ⎥\n",
       "⎣U[x + 2]⎦"
      ]
     },
     "execution_count": 24,
     "metadata": {},
     "output_type": "execute_result"
    }
   ],
   "source": [
    "R = Matrix([U[x-1],U[x],U[x+1],U[x+2]]); R"
   ]
  },
  {
   "cell_type": "code",
   "execution_count": 25,
   "metadata": {
    "collapsed": false
   },
   "outputs": [
    {
     "data": {
      "image/png": "[encoded data removed]",
      "text/latex": [
       "$$\\left[\\begin{matrix}U_{x}\\\\- \\frac{U_{x}}{2 \\Delta} - \\frac{U_{x - 1}}{3 \\Delta} + \\frac{1}{\\Delta} U_{x + 1} - \\frac{U_{x + 2}}{6 \\Delta}\\\\- \\frac{2 U_{x}}{\\Delta^{2}} + \\frac{1}{\\Delta^{2}} U_{x - 1} + \\frac{1}{\\Delta^{2}} U_{x + 1}\\\\\\frac{3 U_{x}}{\\Delta^{3}} - \\frac{1}{\\Delta^{3}} U_{x - 1} - \\frac{3}{\\Delta^{3}} U_{x + 1} + \\frac{1}{\\Delta^{3}} U_{x + 2}\\end{matrix}\\right]$$"
      ],
      "text/plain": [
       "⎡                  U[x]                   ⎤\n",
       "⎢                                         ⎥\n",
       "⎢   U[x]   U[x - 1]   U[x + 1]   U[x + 2] ⎥\n",
       "⎢ - ──── - ──────── + ──────── - ──────── ⎥\n",
       "⎢   2⋅Δ      3⋅Δ         Δ         6⋅Δ    ⎥\n",
       "⎢                                         ⎥\n",
       "⎢       2⋅U[x]   U[x - 1]   U[x + 1]      ⎥\n",
       "⎢     - ────── + ──────── + ────────      ⎥\n",
       "⎢          2         2          2         ⎥\n",
       "⎢         Δ         Δ          Δ          ⎥\n",
       "⎢                                         ⎥\n",
       "⎢3⋅U[x]   U[x - 1]   3⋅U[x + 1]   U[x + 2]⎥\n",
       "⎢────── - ──────── - ────────── + ────────⎥\n",
       "⎢   3         3           3           3   ⎥\n",
       "⎣  Δ         Δ           Δ           Δ    ⎦"
      ]
     },
     "execution_count": 25,
     "metadata": {},
     "output_type": "execute_result"
    }
   ],
   "source": [
    "M.inv()*R"
   ]
  },
  {
   "cell_type": "code",
   "execution_count": 43,
   "metadata": {
    "collapsed": false
   },
   "outputs": [
    {
     "data": {
      "image/png": "[encoded data removed]",
      "text/latex": [
       "$$\\left[\\begin{matrix}U_{t,x - 1,y,z}\\\\\\frac{U_{t,x,y,z}}{\\Delta} - \\frac{5 U_{t,x - 1,y,z}}{6 \\Delta} - \\frac{U_{t,x + 2,y,z}}{6 \\Delta}\\\\\\frac{U_{t,x,y,z}}{\\Delta^{2}} - \\frac{1}{\\Delta^{2}} U_{t,x - 1,y,z}\\\\- \\frac{3 U_{t,x,y,z}}{\\Delta^{3}} + \\frac{2}{\\Delta^{3}} U_{t,x - 1,y,z} + \\frac{1}{\\Delta^{3}} U_{t,x + 2,y,z}\\end{matrix}\\right]$$"
      ],
      "text/plain": [
       "⎡                     U[t, x - 1, y, z]                     ⎤\n",
       "⎢                                                           ⎥\n",
       "⎢  U[t, x, y, z]   5⋅U[t, x - 1, y, z]   U[t, x + 2, y, z]  ⎥\n",
       "⎢  ───────────── - ─────────────────── - ─────────────────  ⎥\n",
       "⎢        Δ                 6⋅Δ                  6⋅Δ         ⎥\n",
       "⎢                                                           ⎥\n",
       "⎢             U[t, x, y, z]   U[t, x - 1, y, z]             ⎥\n",
       "⎢             ───────────── - ─────────────────             ⎥\n",
       "⎢                    2                 2                    ⎥\n",
       "⎢                   Δ                 Δ                     ⎥\n",
       "⎢                                                           ⎥\n",
       "⎢  3⋅U[t, x, y, z]   2⋅U[t, x - 1, y, z]   U[t, x + 2, y, z]⎥\n",
       "⎢- ─────────────── + ─────────────────── + ─────────────────⎥\n",
       "⎢          3                   3                    3       ⎥\n",
       "⎣         Δ                   Δ                    Δ        ⎦"
      ]
     },
     "execution_count": 43,
     "metadata": {},
     "output_type": "execute_result"
    }
   ],
   "source": [
    "Deriv_generic(U,[t,x,y,z],1,delta,1,2)"
   ]
  },
  {
   "cell_type": "code",
   "execution_count": null,
   "metadata": {
    "collapsed": true
   },
   "outputs": [],
   "source": []
  },
  {
   "cell_type": "code",
   "execution_count": null,
   "metadata": {
    "collapsed": true
   },
   "outputs": [],
   "source": []
  },
  {
   "cell_type": "code",
   "execution_count": 3,
   "metadata": {
    "collapsed": false
   },
   "outputs": [],
   "source": [
    "Txx = SField('Txx', dimension=3, direction=(1, 1))\n",
    "Tyy = SField('Tyy', dimension=3, direction=(2, 2))\n",
    "Tzz = SField('Tzz', dimension=3, direction=(3, 3))\n",
    "Txy = SField('Txy', dimension=3, direction=(1, 2))\n",
    "Tyz = SField('Tyz', dimension=3, direction=(2, 3))\n",
    "Txz = SField('Txz', dimension=3, direction=(1, 3))\n",
    "U = VField('U', dimension=3, direction=1)\n",
    "V = VField('V', dimension=3, direction=2)\n",
    "W = VField('W', dimension=3, direction=3)"
   ]
  },
  {
   "cell_type": "code",
   "execution_count": 4,
   "metadata": {
    "collapsed": true
   },
   "outputs": [],
   "source": [
    "grid = StaggeredGrid(dimension=3, domain_size=(1.0, 1.0, 1.0), grid_size=(100, 100, 100), \n",
    "                     stress_fields=[Txx, Tyy, Tzz, Txy, Tyz, Txz], velocity_fields=[U, V, W])\n",
    "grid.set_time_step(0.002, 1.0)\n",
    "grid.set_switches(omp=True, simd=False, ivdep=True,\n",
    "                  double=False, expand=True, eval_const=True, converge=True)"
   ]
  },
  {
   "cell_type": "code",
   "execution_count": 5,
   "metadata": {
    "collapsed": false
   },
   "outputs": [
    {
     "data": {
      "image/png": "[encoded data removed]",
      "text/latex": [
       "$$0.00495$$"
      ],
      "text/plain": [
       "0.00495"
      ]
     },
     "execution_count": 5,
     "metadata": {},
     "output_type": "execute_result"
    }
   ],
   "source": [
    "t, x, y, z = symbols('t x y z')\n",
    "grid.set_index([x, y, z])\n",
    "grid.set_media_params(read=False, rho=1.0, vp=1.0, vs=0.5,\n",
    "                      rho_file='RHOhomogx200', vp_file='VPhomogx200', vs_file='VShomogx200')\n",
    "grid.get_time_step_limit()"
   ]
  },
  {
   "cell_type": "markdown",
   "metadata": {},
   "source": [
    "####Analytical solutions\n",
    "$U = cos(\\pi x)(sin(\\pi y)-sin(\\pi z))cos(\\Omega t)$<br>\n",
    "$V = cos(\\pi y)(sin(\\pi z)-sin(\\pi x))cos(\\Omega t)$<br>\n",
    "$W = cos(\\pi z)(sin(\\pi x)-sin(\\pi y))cos(\\Omega t)$<br>\n",
    "$T_{xx} = -Asin(\\pi x)(sin(\\pi y)-sin(\\pi z))sin(\\Omega t)$<br>\n",
    "$T_{yy} = -Asin(\\pi y)(sin(\\pi z)-sin(\\pi x))sin(\\Omega t)$<br>\n",
    "$T_{zz} = -Asin(\\pi z)(sin(\\pi x)-sin(\\pi y))sin(\\Omega t)$<br>\n",
    "$T_{xy} = T_{yz} = T_{xz} = 0$<br>\n",
    "where $A=\\sqrt{2\\rho \\mu} \\space \\space \\Omega=\\pi\\sqrt{\\frac{2\\mu}{\\rho}}$"
   ]
  },
  {
   "cell_type": "code",
   "execution_count": 6,
   "metadata": {
    "collapsed": false
   },
   "outputs": [],
   "source": [
    "rho, beta, lam, mu = symbols('rho beta lambda mu')\n",
    "\n",
    "Omega = pi*sqrt(2*mu/rho)\n",
    "A = sqrt(2*rho*mu)\n",
    "U_func = cos(pi*x)*(sin(pi*y)-sin(pi*z))*cos(Omega*t)\n",
    "V_func = cos(pi*y)*(sin(pi*z)-sin(pi*x))*cos(Omega*t)\n",
    "W_func = cos(pi*z)*(sin(pi*x)-sin(pi*y))*cos(Omega*t)\n",
    "Txx_func = -A*sin(pi*x)*(sin(pi*y)-sin(pi*z))*sin(Omega*t)\n",
    "Tyy_func = -A*sin(pi*y)*(sin(pi*z)-sin(pi*x))*sin(Omega*t)\n",
    "Tzz_func = -A*sin(pi*z)*(sin(pi*x)-sin(pi*y))*sin(Omega*t)\n",
    "Txy_func = Float(0)\n",
    "Tyz_func = Float(0)\n",
    "Txz_func = Float(0)"
   ]
  },
  {
   "cell_type": "code",
   "execution_count": 7,
   "metadata": {
    "collapsed": false
   },
   "outputs": [],
   "source": [
    "U.set_analytic_solution(U_func)\n",
    "V.set_analytic_solution(V_func)\n",
    "W.set_analytic_solution(W_func)\n",
    "Txx.set_analytic_solution(Txx_func)\n",
    "Tyy.set_analytic_solution(Tyy_func)\n",
    "Tzz.set_analytic_solution(Tzz_func)\n",
    "Txy.set_analytic_solution(Txy_func)\n",
    "Tyz.set_analytic_solution(Tyz_func)\n",
    "Txz.set_analytic_solution(Txz_func)"
   ]
  },
  {
   "cell_type": "code",
   "execution_count": 12,
   "metadata": {
    "collapsed": false
   },
   "outputs": [],
   "source": [
    "grid.set_accuracy([1,4,4,4])\n",
    "grid.calc_derivatives()"
   ]
  },
  {
   "cell_type": "code",
   "execution_count": 13,
   "metadata": {
    "collapsed": false
   },
   "outputs": [
    {
     "data": {
      "image/png": "[encoded data removed]",
      "text/latex": [
       "$$4$$"
      ],
      "text/plain": [
       "4"
      ]
     },
     "execution_count": 13,
     "metadata": {},
     "output_type": "execute_result"
    }
   ],
   "source": [
    "grid.margin.value"
   ]
  },
  {
   "cell_type": "code",
   "execution_count": 14,
   "metadata": {
    "collapsed": false
   },
   "outputs": [
    {
     "data": {
      "image/png": "[encoded data removed]",
      "text/latex": [
       "$$\\frac{5 U_{t,x - \\frac{7}{2},y,z}}{7168 dx_{1}} - \\frac{49 U_{t,x - \\frac{5}{2},y,z}}{5120 dx_{1}} + \\frac{245 U_{t,x - \\frac{3}{2},y,z}}{3072 dx_{1}} - \\frac{1225 U_{t,x - \\frac{1}{2},y,z}}{1024 dx_{1}} + \\frac{1225 U_{t,x + \\frac{1}{2},y,z}}{1024 dx_{1}} - \\frac{245 U_{t,x + \\frac{3}{2},y,z}}{3072 dx_{1}} + \\frac{49 U_{t,x + \\frac{5}{2},y,z}}{5120 dx_{1}} - \\frac{5 U_{t,x + \\frac{7}{2},y,z}}{7168 dx_{1}}$$"
      ],
      "text/plain": [
       "5⋅U[t, x - 7/2, y, z]   49⋅U[t, x - 5/2, y, z]   245⋅U[t, x - 3/2, y, z]   122\n",
       "───────────────────── - ────────────────────── + ─────────────────────── - ───\n",
       "       7168⋅dx₁                5120⋅dx₁                  3072⋅dx₁             \n",
       "\n",
       "5⋅U[t, x - 1/2, y, z]   1225⋅U[t, x + 1/2, y, z]   245⋅U[t, x + 3/2, y, z]   4\n",
       "───────────────────── + ──────────────────────── - ─────────────────────── + ─\n",
       "     1024⋅dx₁                   1024⋅dx₁                   3072⋅dx₁           \n",
       "\n",
       "9⋅U[t, x + 5/2, y, z]   5⋅U[t, x + 7/2, y, z]\n",
       "───────────────────── - ─────────────────────\n",
       "      5120⋅dx₁                 7168⋅dx₁      "
      ]
     },
     "execution_count": 14,
     "metadata": {},
     "output_type": "execute_result"
    }
   ],
   "source": [
    "U.d[1][1].fd[4]"
   ]
  },
  {
   "cell_type": "markdown",
   "metadata": {},
   "source": [
    "###PDEs\n",
    "#####momentum equations\n",
    "$\\partial_tU = b(\\partial_xT_{xx}+\\partial_yT_{xy}+\\partial_zT_{xz})$<br>\n",
    "$\\partial_tV = b(\\partial_xT_{xy}+\\partial_yT_{yy}+\\partial_zT_{yz})$<br>\n",
    "$\\partial_tW = b(\\partial_xT_{xz}+\\partial_yT_{yz}+\\partial_zT_{zz})$<br>\n",
    "#####stress-strain equations\n",
    "$\\partial_tT_{xx} = (\\lambda+2\\mu)\\partial_xU + \\lambda(\\partial_yV+\\partial_zW)$<br>\n",
    "$\\partial_tT_{yy} = (\\lambda+2\\mu)\\partial_yV + \\lambda(\\partial_xU+\\partial_zW)$<br>\n",
    "$\\partial_tT_{zz} = (\\lambda+2\\mu)\\partial_zW + \\lambda(\\partial_xU+\\partial_yV)$<br>\n",
    "$\\partial_tT_{xy} = \\mu(\\partial_yU + \\partial_xV)$<br>\n",
    "$\\partial_tT_{xz} = \\mu(\\partial_zU + \\partial_xW)$<br>\n",
    "$\\partial_tT_{yz} = \\mu(\\partial_zV + \\partial_yW)$<br>"
   ]
  },
  {
   "cell_type": "code",
   "execution_count": 15,
   "metadata": {
    "collapsed": false
   },
   "outputs": [],
   "source": [
    "# momentum equations\n",
    "eq1 = Eq(U.d[0][1], beta*(Txx.d[1][1] + Txy.d[2][1] + Txz.d[3][1]))\n",
    "eq2 = Eq(V.d[0][1], beta*(Txy.d[1][1] + Tyy.d[2][1] + Tyz.d[3][1]))\n",
    "eq3 = Eq(W.d[0][1], beta*(Txz.d[1][1] + Tyz.d[2][1] + Tzz.d[3][1]))\n",
    "# stress-strain equations\n",
    "eq4 = Eq(Txx.d[0][1], (lam + 2*mu)*U.d[1][1] + lam*(V.d[2][1]+W.d[3][1]))\n",
    "eq5 = Eq(Tyy.d[0][1], (lam + 2*mu)*V.d[2][1] + lam*(U.d[1][1]+W.d[3][1]))\n",
    "eq6 = Eq(Tzz.d[0][1], (lam + 2*mu)*W.d[3][1] + lam*(U.d[1][1]+V.d[2][1]))\n",
    "eq7 = Eq(Txy.d[0][1], mu*(U.d[2][1] + V.d[1][1]))\n",
    "eq8 = Eq(Tyz.d[0][1], mu*(V.d[3][1] + W.d[2][1]))\n",
    "eq9 = Eq(Txz.d[0][1], mu*(U.d[3][1] + W.d[1][1]))"
   ]
  },
  {
   "cell_type": "code",
   "execution_count": 16,
   "metadata": {
    "collapsed": false
   },
   "outputs": [],
   "source": [
    "grid.solve_fd([eq1,eq2,eq3,eq4,eq5,eq6,eq7,eq8,eq9])"
   ]
  },
  {
   "cell_type": "code",
   "execution_count": 17,
   "metadata": {
    "collapsed": false
   },
   "outputs": [
    {
     "data": {
      "image/png": "[encoded data removed]",
      "text/latex": [
       "$$\\frac{1}{107520 dx_{1} dx_{2} dx_{3}} \\left(dt dx_{1} dx_{2} \\lambda \\left(75 W_{t + \\frac{1}{2},x,y,z - \\frac{7}{2}} - 1029 W_{t + \\frac{1}{2},x,y,z - \\frac{5}{2}} + 8575 W_{t + \\frac{1}{2},x,y,z - \\frac{3}{2}} - 128625 W_{t + \\frac{1}{2},x,y,z - \\frac{1}{2}} + 128625 W_{t + \\frac{1}{2},x,y,z + \\frac{1}{2}} - 8575 W_{t + \\frac{1}{2},x,y,z + \\frac{3}{2}} + 1029 W_{t + \\frac{1}{2},x,y,z + \\frac{5}{2}} - 75 W_{t + \\frac{1}{2},x,y,z + \\frac{7}{2}}\\right) + dt dx_{1} dx_{3} \\lambda \\left(75 V_{t + \\frac{1}{2},x,y - \\frac{7}{2},z} - 1029 V_{t + \\frac{1}{2},x,y - \\frac{5}{2},z} + 8575 V_{t + \\frac{1}{2},x,y - \\frac{3}{2},z} - 128625 V_{t + \\frac{1}{2},x,y - \\frac{1}{2},z} + 128625 V_{t + \\frac{1}{2},x,y + \\frac{1}{2},z} - 8575 V_{t + \\frac{1}{2},x,y + \\frac{3}{2},z} + 1029 V_{t + \\frac{1}{2},x,y + \\frac{5}{2},z} - 75 V_{t + \\frac{1}{2},x,y + \\frac{7}{2},z}\\right) + dt dx_{2} dx_{3} \\left(75 \\lambda U_{t + \\frac{1}{2},x - \\frac{7}{2},y,z} - 1029 \\lambda U_{t + \\frac{1}{2},x - \\frac{5}{2},y,z} + 8575 \\lambda U_{t + \\frac{1}{2},x - \\frac{3}{2},y,z} - 128625 \\lambda U_{t + \\frac{1}{2},x - \\frac{1}{2},y,z} + 128625 \\lambda U_{t + \\frac{1}{2},x + \\frac{1}{2},y,z} - 8575 \\lambda U_{t + \\frac{1}{2},x + \\frac{3}{2},y,z} + 1029 \\lambda U_{t + \\frac{1}{2},x + \\frac{5}{2},y,z} - 75 \\lambda U_{t + \\frac{1}{2},x + \\frac{7}{2},y,z} + 150 \\mu U_{t + \\frac{1}{2},x - \\frac{7}{2},y,z} - 2058 \\mu U_{t + \\frac{1}{2},x - \\frac{5}{2},y,z} + 17150 \\mu U_{t + \\frac{1}{2},x - \\frac{3}{2},y,z} - 257250 \\mu U_{t + \\frac{1}{2},x - \\frac{1}{2},y,z} + 257250 \\mu U_{t + \\frac{1}{2},x + \\frac{1}{2},y,z} - 17150 \\mu U_{t + \\frac{1}{2},x + \\frac{3}{2},y,z} + 2058 \\mu U_{t + \\frac{1}{2},x + \\frac{5}{2},y,z} - 150 \\mu U_{t + \\frac{1}{2},x + \\frac{7}{2},y,z}\\right) + 107520 dx_{1} dx_{2} dx_{3} Txx_{t,x,y,z}\\right)$$"
      ],
      "text/plain": [
       "dt⋅dx₁⋅dx₂⋅λ⋅(75⋅W[t + 1/2, x, y, z - 7/2] - 1029⋅W[t + 1/2, x, y, z - 5/2] + \n",
       "──────────────────────────────────────────────────────────────────────────────\n",
       "                                                                              \n",
       "\n",
       "8575⋅W[t + 1/2, x, y, z - 3/2] - 128625⋅W[t + 1/2, x, y, z - 1/2] + 128625⋅W[t\n",
       "──────────────────────────────────────────────────────────────────────────────\n",
       "                                                                              \n",
       "\n",
       " + 1/2, x, y, z + 1/2] - 8575⋅W[t + 1/2, x, y, z + 3/2] + 1029⋅W[t + 1/2, x, y\n",
       "──────────────────────────────────────────────────────────────────────────────\n",
       "                                                                              \n",
       "\n",
       ", z + 5/2] - 75⋅W[t + 1/2, x, y, z + 7/2]) + dt⋅dx₁⋅dx₃⋅λ⋅(75⋅V[t + 1/2, x, y \n",
       "──────────────────────────────────────────────────────────────────────────────\n",
       "                                                                              \n",
       "\n",
       "- 7/2, z] - 1029⋅V[t + 1/2, x, y - 5/2, z] + 8575⋅V[t + 1/2, x, y - 3/2, z] - \n",
       "──────────────────────────────────────────────────────────────────────────────\n",
       "                                                                              \n",
       "\n",
       "128625⋅V[t + 1/2, x, y - 1/2, z] + 128625⋅V[t + 1/2, x, y + 1/2, z] - 8575⋅V[t\n",
       "──────────────────────────────────────────────────────────────────────────────\n",
       "                                                                              \n",
       "\n",
       " + 1/2, x, y + 3/2, z] + 1029⋅V[t + 1/2, x, y + 5/2, z] - 75⋅V[t + 1/2, x, y +\n",
       "──────────────────────────────────────────────────────────────────────────────\n",
       "                                                                              \n",
       "\n",
       " 7/2, z]) + dt⋅dx₂⋅dx₃⋅(75⋅λ⋅U[t + 1/2, x - 7/2, y, z] - 1029⋅λ⋅U[t + 1/2, x -\n",
       "──────────────────────────────────────────────────────────────────────────────\n",
       "                              107520⋅dx₁⋅dx₂⋅dx₃                              \n",
       "\n",
       " 5/2, y, z] + 8575⋅λ⋅U[t + 1/2, x - 3/2, y, z] - 128625⋅λ⋅U[t + 1/2, x - 1/2, \n",
       "──────────────────────────────────────────────────────────────────────────────\n",
       "                                                                              \n",
       "\n",
       "y, z] + 128625⋅λ⋅U[t + 1/2, x + 1/2, y, z] - 8575⋅λ⋅U[t + 1/2, x + 3/2, y, z] \n",
       "──────────────────────────────────────────────────────────────────────────────\n",
       "                                                                              \n",
       "\n",
       "+ 1029⋅λ⋅U[t + 1/2, x + 5/2, y, z] - 75⋅λ⋅U[t + 1/2, x + 7/2, y, z] + 150⋅μ⋅U[\n",
       "──────────────────────────────────────────────────────────────────────────────\n",
       "                                                                              \n",
       "\n",
       "t + 1/2, x - 7/2, y, z] - 2058⋅μ⋅U[t + 1/2, x - 5/2, y, z] + 17150⋅μ⋅U[t + 1/2\n",
       "──────────────────────────────────────────────────────────────────────────────\n",
       "                                                                              \n",
       "\n",
       ", x - 3/2, y, z] - 257250⋅μ⋅U[t + 1/2, x - 1/2, y, z] + 257250⋅μ⋅U[t + 1/2, x \n",
       "──────────────────────────────────────────────────────────────────────────────\n",
       "                                                                              \n",
       "\n",
       "+ 1/2, y, z] - 17150⋅μ⋅U[t + 1/2, x + 3/2, y, z] + 2058⋅μ⋅U[t + 1/2, x + 5/2, \n",
       "──────────────────────────────────────────────────────────────────────────────\n",
       "                                                                              \n",
       "\n",
       "y, z] - 150⋅μ⋅U[t + 1/2, x + 7/2, y, z]) + 107520⋅dx₁⋅dx₂⋅dx₃⋅Txx[t, x, y, z]\n",
       "─────────────────────────────────────────────────────────────────────────────\n",
       "                                                                             "
      ]
     },
     "execution_count": 17,
     "metadata": {},
     "output_type": "execute_result"
    }
   ],
   "source": [
    "Txx.kernel"
   ]
  },
  {
   "cell_type": "code",
   "execution_count": 18,
   "metadata": {
    "collapsed": false
   },
   "outputs": [
    {
     "data": {
      "image/png": "[encoded data removed]",
      "text/latex": [
       "$$\\frac{1}{107520 dx_{1} dx_{2} dx_{3}} \\left(dt dx_{1} dx_{2} \\lambda \\left(128625 W_{t,x,y,z} + 75 W_{t,x,y,z - 4} - 1029 W_{t,x,y,z - 3} + 8575 W_{t,x,y,z - 2} - 128625 W_{t,x,y,z - 1} - 8575 W_{t,x,y,z + 1} + 1029 W_{t,x,y,z + 2} - 75 W_{t,x,y,z + 3}\\right) + dt dx_{1} dx_{3} \\lambda \\left(128625 V_{t,x,y,z} + 75 V_{t,x,y - 4,z} - 1029 V_{t,x,y - 3,z} + 8575 V_{t,x,y - 2,z} - 128625 V_{t,x,y - 1,z} - 8575 V_{t,x,y + 1,z} + 1029 V_{t,x,y + 2,z} - 75 V_{t,x,y + 3,z}\\right) + dt dx_{2} dx_{3} \\left(128625 \\lambda U_{t,x,y,z} + 75 \\lambda U_{t,x - 4,y,z} - 1029 \\lambda U_{t,x - 3,y,z} + 8575 \\lambda U_{t,x - 2,y,z} - 128625 \\lambda U_{t,x - 1,y,z} - 8575 \\lambda U_{t,x + 1,y,z} + 1029 \\lambda U_{t,x + 2,y,z} - 75 \\lambda U_{t,x + 3,y,z} + 257250 \\mu U_{t,x,y,z} + 150 \\mu U_{t,x - 4,y,z} - 2058 \\mu U_{t,x - 3,y,z} + 17150 \\mu U_{t,x - 2,y,z} - 257250 \\mu U_{t,x - 1,y,z} - 17150 \\mu U_{t,x + 1,y,z} + 2058 \\mu U_{t,x + 2,y,z} - 150 \\mu U_{t,x + 3,y,z}\\right) + 107520 dx_{1} dx_{2} dx_{3} Txx_{t,x,y,z}\\right)$$"
      ],
      "text/plain": [
       "dt⋅dx₁⋅dx₂⋅λ⋅(128625⋅W[t, x, y, z] + 75⋅W[t, x, y, z - 4] - 1029⋅W[t, x, y, z \n",
       "──────────────────────────────────────────────────────────────────────────────\n",
       "                                                                              \n",
       "\n",
       "- 3] + 8575⋅W[t, x, y, z - 2] - 128625⋅W[t, x, y, z - 1] - 8575⋅W[t, x, y, z +\n",
       "──────────────────────────────────────────────────────────────────────────────\n",
       "                                                                              \n",
       "\n",
       " 1] + 1029⋅W[t, x, y, z + 2] - 75⋅W[t, x, y, z + 3]) + dt⋅dx₁⋅dx₃⋅λ⋅(128625⋅V[\n",
       "──────────────────────────────────────────────────────────────────────────────\n",
       "                                                                              \n",
       "\n",
       "t, x, y, z] + 75⋅V[t, x, y - 4, z] - 1029⋅V[t, x, y - 3, z] + 8575⋅V[t, x, y -\n",
       "──────────────────────────────────────────────────────────────────────────────\n",
       "                                                                              \n",
       "\n",
       " 2, z] - 128625⋅V[t, x, y - 1, z] - 8575⋅V[t, x, y + 1, z] + 1029⋅V[t, x, y + \n",
       "──────────────────────────────────────────────────────────────────────────────\n",
       "                                                                              \n",
       "\n",
       "2, z] - 75⋅V[t, x, y + 3, z]) + dt⋅dx₂⋅dx₃⋅(128625⋅λ⋅U[t, x, y, z] + 75⋅λ⋅U[t,\n",
       "──────────────────────────────────────────────────────────────────────────────\n",
       "                                                  107520⋅dx₁⋅dx₂⋅dx₃          \n",
       "\n",
       " x - 4, y, z] - 1029⋅λ⋅U[t, x - 3, y, z] + 8575⋅λ⋅U[t, x - 2, y, z] - 128625⋅λ\n",
       "──────────────────────────────────────────────────────────────────────────────\n",
       "                                                                              \n",
       "\n",
       "⋅U[t, x - 1, y, z] - 8575⋅λ⋅U[t, x + 1, y, z] + 1029⋅λ⋅U[t, x + 2, y, z] - 75⋅\n",
       "──────────────────────────────────────────────────────────────────────────────\n",
       "                                                                              \n",
       "\n",
       "λ⋅U[t, x + 3, y, z] + 257250⋅μ⋅U[t, x, y, z] + 150⋅μ⋅U[t, x - 4, y, z] - 2058⋅\n",
       "──────────────────────────────────────────────────────────────────────────────\n",
       "                                                                              \n",
       "\n",
       "μ⋅U[t, x - 3, y, z] + 17150⋅μ⋅U[t, x - 2, y, z] - 257250⋅μ⋅U[t, x - 1, y, z] -\n",
       "──────────────────────────────────────────────────────────────────────────────\n",
       "                                                                              \n",
       "\n",
       " 17150⋅μ⋅U[t, x + 1, y, z] + 2058⋅μ⋅U[t, x + 2, y, z] - 150⋅μ⋅U[t, x + 3, y, z\n",
       "──────────────────────────────────────────────────────────────────────────────\n",
       "                                                                              \n",
       "\n",
       "]) + 107520⋅dx₁⋅dx₂⋅dx₃⋅Txx[t, x, y, z]\n",
       "───────────────────────────────────────\n",
       "                                       "
      ]
     },
     "execution_count": 18,
     "metadata": {},
     "output_type": "execute_result"
    }
   ],
   "source": [
    "Txx.kernel_aligned"
   ]
  },
  {
   "cell_type": "code",
   "execution_count": 31,
   "metadata": {
    "collapsed": false
   },
   "outputs": [],
   "source": [
    "grid.set_free_surface_boundary(dimension=1,side=0)\n",
    "grid.set_free_surface_boundary(dimension=1,side=1)\n",
    "grid.set_free_surface_boundary(dimension=2,side=0)\n",
    "grid.set_free_surface_boundary(dimension=2,side=1)\n",
    "grid.set_free_surface_boundary(dimension=3,side=0)\n",
    "grid.set_free_surface_boundary(dimension=3,side=1)"
   ]
  },
  {
   "cell_type": "markdown",
   "metadata": {},
   "source": [
    "###output using templates"
   ]
  },
  {
   "cell_type": "code",
   "execution_count": 36,
   "metadata": {
    "collapsed": false
   },
   "outputs": [
    {
     "name": "stdout",
     "output_type": "stream",
     "text": [
      "Generated: ../tmp/test_8order.cpp\n"
     ]
    }
   ],
   "source": [
    "# write to template file\n",
    "grid.generate('../tmp/test_8order.cpp')"
   ]
  },
  {
   "cell_type": "code",
   "execution_count": 14,
   "metadata": {
    "collapsed": false,
    "scrolled": true
   },
   "outputs": [
    {
     "data": {
      "image/png": "[encoded data removed]",
      "text/latex": [
       "$$\\left ( 1.5, \\quad 1.5, \\quad 36, \\quad 36, \\quad 9, \\quad 3\\right )$$"
      ],
      "text/plain": [
       "(1.5, 1.5, 36, 36, 9, 3)"
      ]
     },
     "execution_count": 14,
     "metadata": {},
     "output_type": "execute_result"
    }
   ],
   "source": [
    "grid.get_velocity_kernel_ai()"
   ]
  },
  {
   "cell_type": "code",
   "execution_count": 15,
   "metadata": {
    "collapsed": false,
    "scrolled": true
   },
   "outputs": [
    {
     "data": {
      "image/png": "[encoded data removed]",
      "text/latex": [
       "$$\\left ( 2.0, \\quad 2.0, \\quad 60, \\quad 60, \\quad 9, \\quad 6\\right )$$"
      ],
      "text/plain": [
       "(2.0, 2.0, 60, 60, 9, 6)"
      ]
     },
     "execution_count": 15,
     "metadata": {},
     "output_type": "execute_result"
    }
   ],
   "source": [
    "grid.get_stress_kernel_ai()"
   ]
  },
  {
   "cell_type": "code",
   "execution_count": 17,
   "metadata": {
    "collapsed": false
   },
   "outputs": [
    {
     "data": {
      "image/png": "[encoded data removed]",
      "text/latex": [
       "$$\\frac{1}{24 dx_{1} dx_{2} dx_{3}} \\left(\\beta dt dx_{1} dx_{2} \\left(27 Txz_{t + 1,x,y,z} + Txz_{t + 1,x,y,z - 2} - 27 Txz_{t + 1,x,y,z - 1} - Txz_{t + 1,x,y,z + 1}\\right) + \\beta dt dx_{1} dx_{3} \\left(27 Txy_{t + 1,x,y,z} + Txy_{t + 1,x,y - 2,z} - 27 Txy_{t + 1,x,y - 1,z} - Txy_{t + 1,x,y + 1,z}\\right) + \\beta dt dx_{2} dx_{3} \\left(- 27 Txx_{t + 1,x,y,z} + Txx_{t + 1,x - 1,y,z} + 27 Txx_{t + 1,x + 1,y,z} - Txx_{t + 1,x + 2,y,z}\\right) + 24 dx_{1} dx_{2} dx_{3} U_{t,x,y,z}\\right)$$"
      ],
      "text/plain": [
       "β⋅dt⋅dx₁⋅dx₂⋅(27⋅Txz[t + 1, x, y, z] + Txz[t + 1, x, y, z - 2] - 27⋅Txz[t + 1,\n",
       "──────────────────────────────────────────────────────────────────────────────\n",
       "                                                                              \n",
       "\n",
       " x, y, z - 1] - Txz[t + 1, x, y, z + 1]) + β⋅dt⋅dx₁⋅dx₃⋅(27⋅Txy[t + 1, x, y, z\n",
       "──────────────────────────────────────────────────────────────────────────────\n",
       "                                                                              \n",
       "\n",
       "] + Txy[t + 1, x, y - 2, z] - 27⋅Txy[t + 1, x, y - 1, z] - Txy[t + 1, x, y + 1\n",
       "──────────────────────────────────────────────────────────────────────────────\n",
       "                                 24⋅dx₁⋅dx₂⋅dx₃                               \n",
       "\n",
       ", z]) + β⋅dt⋅dx₂⋅dx₃⋅(-27⋅Txx[t + 1, x, y, z] + Txx[t + 1, x - 1, y, z] + 27⋅T\n",
       "──────────────────────────────────────────────────────────────────────────────\n",
       "                                                                              \n",
       "\n",
       "xx[t + 1, x + 1, y, z] - Txx[t + 1, x + 2, y, z]) + 24⋅dx₁⋅dx₂⋅dx₃⋅U[t, x, y, \n",
       "──────────────────────────────────────────────────────────────────────────────\n",
       "                                                                              \n",
       "\n",
       "z]\n",
       "──\n",
       "  "
      ]
     },
     "execution_count": 17,
     "metadata": {},
     "output_type": "execute_result"
    }
   ],
   "source": [
    "U.kernel_aligned"
   ]
  },
  {
   "cell_type": "code",
   "execution_count": 24,
   "metadata": {
    "collapsed": false
   },
   "outputs": [
    {
     "data": {
      "image/png": "[encoded data removed]",
      "text/latex": [
       "$$U_{t + 1,dim_{1} - 3,y,z} = \\frac{1}{dx_{2} dx_{3} \\left(\\lambda + 2 \\mu\\right)} \\left(- dx_{1} dx_{2} \\lambda W_{t + 1,dim_{1} - 3,y,z} + dx_{1} dx_{2} \\lambda W_{t + 1,dim_{1} - 3,y,z - 1} - dx_{1} dx_{3} \\lambda V_{t + 1,dim_{1} - 3,y,z} + dx_{1} dx_{3} \\lambda V_{t + 1,dim_{1} - 3,y - 1,z} + dx_{2} dx_{3} \\lambda U_{t + 1,dim_{1} - 4,y,z} + 2 dx_{2} dx_{3} \\mu U_{t + 1,dim_{1} - 4,y,z}\\right)$$"
      ],
      "text/plain": [
       "                           -dx₁⋅dx₂⋅λ⋅W[t + 1, dim1 - 3, y, z] + dx₁⋅dx₂⋅λ⋅W[t\n",
       "U[t + 1, dim1 - 3, y, z] = ───────────────────────────────────────────────────\n",
       "                                                                              \n",
       "\n",
       " + 1, dim1 - 3, y, z - 1] - dx₁⋅dx₃⋅λ⋅V[t + 1, dim1 - 3, y, z] + dx₁⋅dx₃⋅λ⋅V[t\n",
       "──────────────────────────────────────────────────────────────────────────────\n",
       "                                                       dx₂⋅dx₃⋅(λ + 2⋅μ)      \n",
       "\n",
       " + 1, dim1 - 3, y - 1, z] + dx₂⋅dx₃⋅λ⋅U[t + 1, dim1 - 4, y, z] + 2⋅dx₂⋅dx₃⋅μ⋅U\n",
       "──────────────────────────────────────────────────────────────────────────────\n",
       "                                                                              \n",
       "\n",
       "[t + 1, dim1 - 4, y, z]\n",
       "───────────────────────\n",
       "                       "
      ]
     },
     "execution_count": 24,
     "metadata": {},
     "output_type": "execute_result"
    }
   ],
   "source": [
    "U.bc[1][1][0]"
   ]
  },
  {
   "cell_type": "code",
   "execution_count": 19,
   "metadata": {
    "collapsed": false
   },
   "outputs": [
    {
     "data": {
      "text/plain": [
       "u'#pragma omp for\\nfor(int x=4;x<dim1 - 4;++x){\\nfor(int y=4;y<dim2 - 4;++y){\\n#pragma GCC ivdep\\nfor(int z=4;z<dim3 - 4;++z){\\nU[t1][x][y][z]=-2.392578125e-1*Txx[t1][x][y][z] + 1.39508928571429e-4*Txx[t1][x - 3][y][z] - 1.9140625e-3*Txx[t1][x - 2][y][z] + 1.59505208333333e-2*Txx[t1][x - 1][y][z] + 2.392578125e-1*Txx[t1][x + 1][y][z] - 1.59505208333333e-2*Txx[t1][x + 2][y][z] + 1.9140625e-3*Txx[t1][x + 3][y][z] - 1.39508928571429e-4*Txx[t1][x + 4][y][z] + 2.392578125e-1*Txy[t1][x][y][z] + 1.39508928571429e-4*Txy[t1][x][y - 4][z] - 1.9140625e-3*Txy[t1][x][y - 3][z] + 1.59505208333333e-2*Txy[t1][x][y - 2][z] - 2.392578125e-1*Txy[t1][x][y - 1][z] - 1.59505208333333e-2*Txy[t1][x][y + 1][z] + 1.9140625e-3*Txy[t1][x][y + 2][z] - 1.39508928571429e-4*Txy[t1][x][y + 3][z] + 2.392578125e-1*Txz[t1][x][y][z] + 1.39508928571429e-4*Txz[t1][x][y][z - 4] - 1.9140625e-3*Txz[t1][x][y][z - 3] + 1.59505208333333e-2*Txz[t1][x][y][z - 2] - 2.392578125e-1*Txz[t1][x][y][z - 1] - 1.59505208333333e-2*Txz[t1][x][y][z + 1] + 1.9140625e-3*Txz[t1][x][y][z + 2] - 1.39508928571429e-4*Txz[t1][x][y][z + 3] + U[t0][x][y][z];\\nV[t1][x][y][z]=2.392578125e-1*Txy[t1][x][y][z] + 1.39508928571429e-4*Txy[t1][x - 4][y][z] - 1.9140625e-3*Txy[t1][x - 3][y][z] + 1.59505208333333e-2*Txy[t1][x - 2][y][z] - 2.392578125e-1*Txy[t1][x - 1][y][z] - 1.59505208333333e-2*Txy[t1][x + 1][y][z] + 1.9140625e-3*Txy[t1][x + 2][y][z] - 1.39508928571429e-4*Txy[t1][x + 3][y][z] - 2.392578125e-1*Tyy[t1][x][y][z] + 1.39508928571429e-4*Tyy[t1][x][y - 3][z] - 1.9140625e-3*Tyy[t1][x][y - 2][z] + 1.59505208333333e-2*Tyy[t1][x][y - 1][z] + 2.392578125e-1*Tyy[t1][x][y + 1][z] - 1.59505208333333e-2*Tyy[t1][x][y + 2][z] + 1.9140625e-3*Tyy[t1][x][y + 3][z] - 1.39508928571429e-4*Tyy[t1][x][y + 4][z] + 2.392578125e-1*Tyz[t1][x][y][z] + 1.39508928571429e-4*Tyz[t1][x][y][z - 4] - 1.9140625e-3*Tyz[t1][x][y][z - 3] + 1.59505208333333e-2*Tyz[t1][x][y][z - 2] - 2.392578125e-1*Tyz[t1][x][y][z - 1] - 1.59505208333333e-2*Tyz[t1][x][y][z + 1] + 1.9140625e-3*Tyz[t1][x][y][z + 2] - 1.39508928571429e-4*Tyz[t1][x][y][z + 3] + V[t0][x][y][z];\\nW[t1][x][y][z]=2.392578125e-1*Txz[t1][x][y][z] + 1.39508928571429e-4*Txz[t1][x - 4][y][z] - 1.9140625e-3*Txz[t1][x - 3][y][z] + 1.59505208333333e-2*Txz[t1][x - 2][y][z] - 2.392578125e-1*Txz[t1][x - 1][y][z] - 1.59505208333333e-2*Txz[t1][x + 1][y][z] + 1.9140625e-3*Txz[t1][x + 2][y][z] - 1.39508928571429e-4*Txz[t1][x + 3][y][z] + 2.392578125e-1*Tyz[t1][x][y][z] + 1.39508928571429e-4*Tyz[t1][x][y - 4][z] - 1.9140625e-3*Tyz[t1][x][y - 3][z] + 1.59505208333333e-2*Tyz[t1][x][y - 2][z] - 2.392578125e-1*Tyz[t1][x][y - 1][z] - 1.59505208333333e-2*Tyz[t1][x][y + 1][z] + 1.9140625e-3*Tyz[t1][x][y + 2][z] - 1.39508928571429e-4*Tyz[t1][x][y + 3][z] - 2.392578125e-1*Tzz[t1][x][y][z] + 1.39508928571429e-4*Tzz[t1][x][y][z - 3] - 1.9140625e-3*Tzz[t1][x][y][z - 2] + 1.59505208333333e-2*Tzz[t1][x][y][z - 1] + 2.392578125e-1*Tzz[t1][x][y][z + 1] - 1.59505208333333e-2*Tzz[t1][x][y][z + 2] + 1.9140625e-3*Tzz[t1][x][y][z + 3] - 1.39508928571429e-4*Tzz[t1][x][y][z + 4] + W[t0][x][y][z];\\n}\\n}\\n}\\n'"
      ]
     },
     "execution_count": 19,
     "metadata": {},
     "output_type": "execute_result"
    }
   ],
   "source": [
    "grid.velocity_loop"
   ]
  },
  {
   "cell_type": "code",
   "execution_count": 21,
   "metadata": {
    "collapsed": false
   },
   "outputs": [
    {
     "data": {
      "image/png": "[encoded data removed]",
      "text/latex": [
       "$$\\left ( 3.0, \\quad 3.0, \\quad 72, \\quad 72, \\quad 9, \\quad 3\\right )$$"
      ],
      "text/plain": [
       "(3.0, 3.0, 72, 72, 9, 3)"
      ]
     },
     "execution_count": 21,
     "metadata": {},
     "output_type": "execute_result"
    }
   ],
   "source": [
    "grid.get_velocity_kernel_ai()"
   ]
  },
  {
   "cell_type": "code",
   "execution_count": 22,
   "metadata": {
    "collapsed": false
   },
   "outputs": [
    {
     "data": {
      "image/png": "[encoded data removed]",
      "text/latex": [
       "$$\\left ( 4.0, \\quad 4.0, \\quad 120, \\quad 120, \\quad 9, \\quad 6\\right )$$"
      ],
      "text/plain": [
       "(4.0, 4.0, 120, 120, 9, 6)"
      ]
     },
     "execution_count": 22,
     "metadata": {},
     "output_type": "execute_result"
    }
   ],
   "source": [
    "grid.get_stress_kernel_ai()"
   ]
  },
  {
   "cell_type": "code",
   "execution_count": 32,
   "metadata": {
    "collapsed": false
   },
   "outputs": [
    {
     "data": {
      "text/plain": [
       "[[None, None],\n",
       " [[U[t + 1, 3, y, z] == 0,\n",
       "   U[t + 1, 2, y, z] == 0,\n",
       "   U[t + 1, 1, y, z] == 0,\n",
       "   U[t + 1, 0, y, z] == 0],\n",
       "  [U[t + 1, dim1 - 5, y, z] == 0,\n",
       "   U[t + 1, dim1 - 4, y, z] == 0,\n",
       "   U[t + 1, dim1 - 3, y, z] == 0,\n",
       "   U[t + 1, dim1 - 2, y, z] == 0]],\n",
       " [[U[t + 1, x, 3, z] == 0,\n",
       "   U[t + 1, x, 2, z] == 0,\n",
       "   U[t + 1, x, 1, z] == 0,\n",
       "   U[t + 1, x, 0, z] == 0],\n",
       "  [U[t + 1, x, dim2 - 4, z] == 0,\n",
       "   U[t + 1, x, dim2 - 3, z] == 0,\n",
       "   U[t + 1, x, dim2 - 2, z] == 0,\n",
       "   U[t + 1, x, dim2 - 1, z] == 0]],\n",
       " [[U[t + 1, x, y, 3] == 0,\n",
       "   U[t + 1, x, y, 2] == 0,\n",
       "   U[t + 1, x, y, 1] == 0,\n",
       "   U[t + 1, x, y, 0] == 0],\n",
       "  [U[t + 1, x, y, dim3 - 4] == 0,\n",
       "   U[t + 1, x, y, dim3 - 3] == 0,\n",
       "   U[t + 1, x, y, dim3 - 2] == 0,\n",
       "   U[t + 1, x, y, dim3 - 1] == 0]]]"
      ]
     },
     "execution_count": 32,
     "metadata": {},
     "output_type": "execute_result"
    }
   ],
   "source": [
    "U.bc"
   ]
  },
  {
   "cell_type": "code",
   "execution_count": 30,
   "metadata": {
    "collapsed": false
   },
   "outputs": [
    {
     "data": {
      "text/plain": [
       "[[None, None],\n",
       " [[Txx[t + 1, 4, y, z] == 0,\n",
       "   Txx[t + 1, 3, y, z] == -Txx[t + 1, 5, y, z],\n",
       "   Txx[t + 1, 2, y, z] == -Txx[t + 1, 6, y, z],\n",
       "   Txx[t + 1, 1, y, z] == -Txx[t + 1, 7, y, z]],\n",
       "  [Txx[t + 1, dim1 - 5, y, z] == 0,\n",
       "   Txx[t + 1, dim1 - 4, y, z] == -Txx[t + 1, dim1 - 6, y, z],\n",
       "   Txx[t + 1, dim1 - 3, y, z] == -Txx[t + 1, dim1 - 7, y, z],\n",
       "   Txx[t + 1, dim1 - 2, y, z] == -Txx[t + 1, dim1 - 8, y, z]]],\n",
       " [[], []],\n",
       " [[], []]]"
      ]
     },
     "execution_count": 30,
     "metadata": {},
     "output_type": "execute_result"
    }
   ],
   "source": [
    "Txx.bc"
   ]
  },
  {
   "cell_type": "code",
   "execution_count": 33,
   "metadata": {
    "collapsed": false
   },
   "outputs": [
    {
     "data": {
      "text/plain": [
       "u'#pragma omp for\\nfor(int y=1;y<dim2 - 1;++y){\\n#pragma GCC ivdep\\nfor(int z=1;z<dim3 - 1;++z){\\nU[t1][3][y][z] = 0;\\nU[t1][2][y][z] = 0;\\nU[t1][1][y][z] = 0;\\nU[t1][0][y][z] = 0;\\n}\\n}\\n#pragma omp for\\nfor(int y=1;y<dim2 - 1;++y){\\n#pragma GCC ivdep\\nfor(int z=1;z<dim3 - 1;++z){\\nU[t1][dim1 - 5][y][z] = 0;\\nU[t1][dim1 - 4][y][z] = 0;\\nU[t1][dim1 - 3][y][z] = 0;\\nU[t1][dim1 - 2][y][z] = 0;\\n}\\n}\\n#pragma omp for\\nfor(int y=1;y<dim2 - 1;++y){\\n#pragma GCC ivdep\\nfor(int z=1;z<dim3 - 1;++z){\\nV[t1][3][y][z] = 0;\\nV[t1][2][y][z] = 0;\\nV[t1][1][y][z] = 0;\\nV[t1][0][y][z] = 0;\\n}\\n}\\n#pragma omp for\\nfor(int y=1;y<dim2 - 1;++y){\\n#pragma GCC ivdep\\nfor(int z=1;z<dim3 - 1;++z){\\nV[t1][dim1 - 4][y][z] = 0;\\nV[t1][dim1 - 3][y][z] = 0;\\nV[t1][dim1 - 2][y][z] = 0;\\nV[t1][dim1 - 1][y][z] = 0;\\n}\\n}\\n#pragma omp for\\nfor(int y=1;y<dim2 - 1;++y){\\n#pragma GCC ivdep\\nfor(int z=1;z<dim3 - 1;++z){\\nW[t1][3][y][z] = 0;\\nW[t1][2][y][z] = 0;\\nW[t1][1][y][z] = 0;\\nW[t1][0][y][z] = 0;\\n}\\n}\\n#pragma omp for\\nfor(int y=1;y<dim2 - 1;++y){\\n#pragma GCC ivdep\\nfor(int z=1;z<dim3 - 1;++z){\\nW[t1][dim1 - 4][y][z] = 0;\\nW[t1][dim1 - 3][y][z] = 0;\\nW[t1][dim1 - 2][y][z] = 0;\\nW[t1][dim1 - 1][y][z] = 0;\\n}\\n}\\n#pragma omp for\\nfor(int x=1;x<dim1 - 1;++x){\\n#pragma GCC ivdep\\nfor(int z=1;z<dim3 - 1;++z){\\nV[t1][x][3][z] = 0;\\nV[t1][x][2][z] = 0;\\nV[t1][x][1][z] = 0;\\nV[t1][x][0][z] = 0;\\n}\\n}\\n#pragma omp for\\nfor(int x=1;x<dim1 - 1;++x){\\n#pragma GCC ivdep\\nfor(int z=1;z<dim3 - 1;++z){\\nV[t1][x][dim2 - 5][z] = 0;\\nV[t1][x][dim2 - 4][z] = 0;\\nV[t1][x][dim2 - 3][z] = 0;\\nV[t1][x][dim2 - 2][z] = 0;\\n}\\n}\\n#pragma omp for\\nfor(int x=1;x<dim1 - 1;++x){\\n#pragma GCC ivdep\\nfor(int z=1;z<dim3 - 1;++z){\\nU[t1][x][3][z] = 0;\\nU[t1][x][2][z] = 0;\\nU[t1][x][1][z] = 0;\\nU[t1][x][0][z] = 0;\\n}\\n}\\n#pragma omp for\\nfor(int x=1;x<dim1 - 1;++x){\\n#pragma GCC ivdep\\nfor(int z=1;z<dim3 - 1;++z){\\nU[t1][x][dim2 - 4][z] = 0;\\nU[t1][x][dim2 - 3][z] = 0;\\nU[t1][x][dim2 - 2][z] = 0;\\nU[t1][x][dim2 - 1][z] = 0;\\n}\\n}\\n#pragma omp for\\nfor(int x=1;x<dim1 - 1;++x){\\n#pragma GCC ivdep\\nfor(int z=1;z<dim3 - 1;++z){\\nW[t1][x][3][z] = 0;\\nW[t1][x][2][z] = 0;\\nW[t1][x][1][z] = 0;\\nW[t1][x][0][z] = 0;\\n}\\n}\\n#pragma omp for\\nfor(int x=1;x<dim1 - 1;++x){\\n#pragma GCC ivdep\\nfor(int z=1;z<dim3 - 1;++z){\\nW[t1][x][dim2 - 4][z] = 0;\\nW[t1][x][dim2 - 3][z] = 0;\\nW[t1][x][dim2 - 2][z] = 0;\\nW[t1][x][dim2 - 1][z] = 0;\\n}\\n}\\n#pragma omp for\\nfor(int x=1;x<dim1 - 1;++x){\\n#pragma GCC ivdep\\nfor(int y=1;y<dim2 - 1;++y){\\nW[t1][x][y][3] = 0;\\nW[t1][x][y][2] = 0;\\nW[t1][x][y][1] = 0;\\nW[t1][x][y][0] = 0;\\n}\\n}\\n#pragma omp for\\nfor(int x=1;x<dim1 - 1;++x){\\n#pragma GCC ivdep\\nfor(int y=1;y<dim2 - 1;++y){\\nW[t1][x][y][dim3 - 5] = 0;\\nW[t1][x][y][dim3 - 4] = 0;\\nW[t1][x][y][dim3 - 3] = 0;\\nW[t1][x][y][dim3 - 2] = 0;\\n}\\n}\\n#pragma omp for\\nfor(int x=1;x<dim1 - 1;++x){\\n#pragma GCC ivdep\\nfor(int y=1;y<dim2 - 1;++y){\\nU[t1][x][y][3] = 0;\\nU[t1][x][y][2] = 0;\\nU[t1][x][y][1] = 0;\\nU[t1][x][y][0] = 0;\\n}\\n}\\n#pragma omp for\\nfor(int x=1;x<dim1 - 1;++x){\\n#pragma GCC ivdep\\nfor(int y=1;y<dim2 - 1;++y){\\nU[t1][x][y][dim3 - 4] = 0;\\nU[t1][x][y][dim3 - 3] = 0;\\nU[t1][x][y][dim3 - 2] = 0;\\nU[t1][x][y][dim3 - 1] = 0;\\n}\\n}\\n#pragma omp for\\nfor(int x=1;x<dim1 - 1;++x){\\n#pragma GCC ivdep\\nfor(int y=1;y<dim2 - 1;++y){\\nV[t1][x][y][3] = 0;\\nV[t1][x][y][2] = 0;\\nV[t1][x][y][1] = 0;\\nV[t1][x][y][0] = 0;\\n}\\n}\\n#pragma omp for\\nfor(int x=1;x<dim1 - 1;++x){\\n#pragma GCC ivdep\\nfor(int y=1;y<dim2 - 1;++y){\\nV[t1][x][y][dim3 - 4] = 0;\\nV[t1][x][y][dim3 - 3] = 0;\\nV[t1][x][y][dim3 - 2] = 0;\\nV[t1][x][y][dim3 - 1] = 0;\\n}\\n}\\n'"
      ]
     },
     "execution_count": 33,
     "metadata": {},
     "output_type": "execute_result"
    }
   ],
   "source": [
    "grid.velocity_bc"
   ]
  },
  {
   "cell_type": "code",
   "execution_count": 35,
   "metadata": {
    "collapsed": true
   },
   "outputs": [],
   "source": [
    "grid.set_switches(omp=True, simd=False, ivdep=True,\n",
    "                  double=False, expand=True, eval_const=True, converge=True)"
   ]
  },
  {
   "cell_type": "code",
   "execution_count": null,
   "metadata": {
    "collapsed": true
   },
   "outputs": [],
   "source": []
  }
 ],
 "metadata": {
  "kernelspec": {
   "display_name": "Python 2",
   "language": "python",
   "name": "python2"
  },
  "language_info": {
   "codemirror_mode": {
    "name": "ipython",
    "version": 2
   },
   "file_extension": ".py",
   "mimetype": "text/x-python",
   "name": "python",
   "nbconvert_exporter": "python",
   "pygments_lexer": "ipython2",
   "version": "2.7.10"
  }
 },
 "nbformat": 4,
 "nbformat_minor": 0
}
