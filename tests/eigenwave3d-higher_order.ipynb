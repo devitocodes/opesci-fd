{
 "cells": [
  {
   "cell_type": "code",
   "execution_count": 28,
   "metadata": {
    "collapsed": false
   },
   "outputs": [
    {
     "name": "stdout",
     "output_type": "stream",
     "text": [
      "The autoreload extension is already loaded. To reload it, use:\n",
      "  %reload_ext autoreload\n"
     ]
    }
   ],
   "source": [
    "%load_ext autoreload\n",
    "%autoreload 2\n",
    "import os, sys\n",
    "sys.path.append(os.path.abspath(os.pardir))"
   ]
  },
  {
   "cell_type": "code",
   "execution_count": 29,
   "metadata": {
    "collapsed": false
   },
   "outputs": [],
   "source": [
    "# %reset\n",
    "from sympy import symbols, init_printing, simplify, solve, srepr, Add, Symbol, Integer, Float, pi, cos, sin, Rational\n",
    "from sympy import IndexedBase, Eq, simplify, sqrt, latex\n",
    "from mako.template import Template\n",
    "from mako.lookup import TemplateLookup\n",
    "from mako.runtime import Context\n",
    "from StringIO import StringIO\n",
    "from opesci import *\n",
    "init_printing()"
   ]
  },
  {
   "cell_type": "code",
   "execution_count": 30,
   "metadata": {
    "collapsed": false
   },
   "outputs": [],
   "source": [
    "U = IndexedBase('U')\n",
    "delta = Symbol('Delta')\n",
    "t, x,y,z = symbols('t x y z')"
   ]
  },
  {
   "cell_type": "code",
   "execution_count": 37,
   "metadata": {
    "collapsed": false,
    "scrolled": false
   },
   "outputs": [
    {
     "data": {
      "image/png": "[encoded data removed]",
      "text/latex": [
       "$$\\left[\\begin{matrix}1 & - \\Delta & \\frac{\\Delta^{2}}{2} & - \\frac{\\Delta^{3}}{6}\\\\1 & 0 & 0 & 0\\\\1 & \\Delta & \\frac{\\Delta^{2}}{2} & \\frac{\\Delta^{3}}{6}\\\\1 & 2 \\Delta & 2 \\Delta^{2} & \\frac{4 \\Delta^{3}}{3}\\end{matrix}\\right]$$"
      ],
      "text/plain": [
       "⎡          2     3 ⎤\n",
       "⎢         Δ    -Δ  ⎥\n",
       "⎢1  -Δ    ──   ────⎥\n",
       "⎢         2     6  ⎥\n",
       "⎢                  ⎥\n",
       "⎢1   0    0     0  ⎥\n",
       "⎢                  ⎥\n",
       "⎢          2     3 ⎥\n",
       "⎢         Δ     Δ  ⎥\n",
       "⎢1   Δ    ──    ── ⎥\n",
       "⎢         2     6  ⎥\n",
       "⎢                  ⎥\n",
       "⎢                 3⎥\n",
       "⎢           2  4⋅Δ ⎥\n",
       "⎢1  2⋅Δ  2⋅Δ   ────⎥\n",
       "⎣               3  ⎦"
      ]
     },
     "execution_count": 37,
     "metadata": {},
     "output_type": "execute_result"
    }
   ],
   "source": [
    "M = Taylor_generic(delta,1,2); M"
   ]
  },
  {
   "cell_type": "code",
   "execution_count": 24,
   "metadata": {
    "collapsed": false
   },
   "outputs": [
    {
     "data": {
      "image/png": "[encoded data removed]",
      "text/latex": [
       "$$\\left[\\begin{matrix}U_{x - 1}\\\\U_{x}\\\\U_{x + 1}\\\\U_{x + 2}\\end{matrix}\\right]$$"
      ],
      "text/plain": [
       "⎡U[x - 1]⎤\n",
       "⎢        ⎥\n",
       "⎢  U[x]  ⎥\n",
       "⎢        ⎥\n",
       "⎢U[x + 1]⎥\n",
       "⎢        ⎥\n",
       "⎣U[x + 2]⎦"
      ]
     },
     "execution_count": 24,
     "metadata": {},
     "output_type": "execute_result"
    }
   ],
   "source": [
    "R = Matrix([U[x-1],U[x],U[x+1],U[x+2]]); R"
   ]
  },
  {
   "cell_type": "code",
   "execution_count": 25,
   "metadata": {
    "collapsed": false
   },
   "outputs": [
    {
     "data": {
      "image/png": "[encoded data removed]",
      "text/latex": [
       "$$\\left[\\begin{matrix}U_{x}\\\\- \\frac{U_{x}}{2 \\Delta} - \\frac{U_{x - 1}}{3 \\Delta} + \\frac{1}{\\Delta} U_{x + 1} - \\frac{U_{x + 2}}{6 \\Delta}\\\\- \\frac{2 U_{x}}{\\Delta^{2}} + \\frac{1}{\\Delta^{2}} U_{x - 1} + \\frac{1}{\\Delta^{2}} U_{x + 1}\\\\\\frac{3 U_{x}}{\\Delta^{3}} - \\frac{1}{\\Delta^{3}} U_{x - 1} - \\frac{3}{\\Delta^{3}} U_{x + 1} + \\frac{1}{\\Delta^{3}} U_{x + 2}\\end{matrix}\\right]$$"
      ],
      "text/plain": [
       "⎡                  U[x]                   ⎤\n",
       "⎢                                         ⎥\n",
       "⎢   U[x]   U[x - 1]   U[x + 1]   U[x + 2] ⎥\n",
       "⎢ - ──── - ──────── + ──────── - ──────── ⎥\n",
       "⎢   2⋅Δ      3⋅Δ         Δ         6⋅Δ    ⎥\n",
       "⎢                                         ⎥\n",
       "⎢       2⋅U[x]   U[x - 1]   U[x + 1]      ⎥\n",
       "⎢     - ────── + ──────── + ────────      ⎥\n",
       "⎢          2         2          2         ⎥\n",
       "⎢         Δ         Δ          Δ          ⎥\n",
       "⎢                                         ⎥\n",
       "⎢3⋅U[x]   U[x - 1]   3⋅U[x + 1]   U[x + 2]⎥\n",
       "⎢────── - ──────── - ────────── + ────────⎥\n",
       "⎢   3         3           3           3   ⎥\n",
       "⎣  Δ         Δ           Δ           Δ    ⎦"
      ]
     },
     "execution_count": 25,
     "metadata": {},
     "output_type": "execute_result"
    }
   ],
   "source": [
    "M.inv()*R"
   ]
  },
  {
   "cell_type": "code",
   "execution_count": 43,
   "metadata": {
    "collapsed": false
   },
   "outputs": [
    {
     "data": {
      "image/png": "[encoded data removed]",
      "text/latex": [
       "$$\\left[\\begin{matrix}U_{t,x - 1,y,z}\\\\\\frac{U_{t,x,y,z}}{\\Delta} - \\frac{5 U_{t,x - 1,y,z}}{6 \\Delta} - \\frac{U_{t,x + 2,y,z}}{6 \\Delta}\\\\\\frac{U_{t,x,y,z}}{\\Delta^{2}} - \\frac{1}{\\Delta^{2}} U_{t,x - 1,y,z}\\\\- \\frac{3 U_{t,x,y,z}}{\\Delta^{3}} + \\frac{2}{\\Delta^{3}} U_{t,x - 1,y,z} + \\frac{1}{\\Delta^{3}} U_{t,x + 2,y,z}\\end{matrix}\\right]$$"
      ],
      "text/plain": [
       "⎡                     U[t, x - 1, y, z]                     ⎤\n",
       "⎢                                                           ⎥\n",
       "⎢  U[t, x, y, z]   5⋅U[t, x - 1, y, z]   U[t, x + 2, y, z]  ⎥\n",
       "⎢  ───────────── - ─────────────────── - ─────────────────  ⎥\n",
       "⎢        Δ                 6⋅Δ                  6⋅Δ         ⎥\n",
       "⎢                                                           ⎥\n",
       "⎢             U[t, x, y, z]   U[t, x - 1, y, z]             ⎥\n",
       "⎢             ───────────── - ─────────────────             ⎥\n",
       "⎢                    2                 2                    ⎥\n",
       "⎢                   Δ                 Δ                     ⎥\n",
       "⎢                                                           ⎥\n",
       "⎢  3⋅U[t, x, y, z]   2⋅U[t, x - 1, y, z]   U[t, x + 2, y, z]⎥\n",
       "⎢- ─────────────── + ─────────────────── + ─────────────────⎥\n",
       "⎢          3                   3                    3       ⎥\n",
       "⎣         Δ                   Δ                    Δ        ⎦"
      ]
     },
     "execution_count": 43,
     "metadata": {},
     "output_type": "execute_result"
    }
   ],
   "source": [
    "Deriv_generic(U,[t,x,y,z],1,delta,1,2)"
   ]
  },
  {
   "cell_type": "code",
   "execution_count": 38,
   "metadata": {
    "collapsed": false
   },
   "outputs": [],
   "source": [
    "Txx = SField('Txx', dimension=3, direction=(1, 1))\n",
    "Tyy = SField('Tyy', dimension=3, direction=(2, 2))\n",
    "Tzz = SField('Tzz', dimension=3, direction=(3, 3))\n",
    "Txy = SField('Txy', dimension=3, direction=(1, 2))\n",
    "Tyz = SField('Tyz', dimension=3, direction=(2, 3))\n",
    "Txz = SField('Txz', dimension=3, direction=(1, 3))\n",
    "U = VField('U', dimension=3, direction=1)\n",
    "V = VField('V', dimension=3, direction=2)\n",
    "W = VField('W', dimension=3, direction=3)"
   ]
  },
  {
   "cell_type": "code",
   "execution_count": 39,
   "metadata": {
    "collapsed": true
   },
   "outputs": [],
   "source": [
    "grid = StaggeredGrid(dimension=3, domain_size=(1.0, 1.0, 1.0), grid_size=(100, 100, 100), \n",
    "                     stress_fields=[Txx, Tyy, Tzz, Txy, Tyz, Txz], velocity_fields=[U, V, W])\n",
    "grid.set_time_step(0.002, 1.0)\n",
    "grid.set_switches(omp=True, simd=False, ivdep=True,\n",
    "                  double=False, expand=True, eval_const=True, converge=True)"
   ]
  },
  {
   "cell_type": "code",
   "execution_count": 40,
   "metadata": {
    "collapsed": false
   },
   "outputs": [
    {
     "data": {
      "image/png": "[encoded data removed]",
      "text/latex": [
       "$$0.00495$$"
      ],
      "text/plain": [
       "0.00495"
      ]
     },
     "execution_count": 40,
     "metadata": {},
     "output_type": "execute_result"
    }
   ],
   "source": [
    "t, x, y, z = symbols('t x y z')\n",
    "grid.set_index([x, y, z])\n",
    "grid.set_media_params(read=False, rho=1.0, vp=1.0, vs=0.5,\n",
    "                      rho_file='RHOhomogx200', vp_file='VPhomogx200', vs_file='VShomogx200')\n",
    "grid.get_time_step_limit()"
   ]
  },
  {
   "cell_type": "markdown",
   "metadata": {},
   "source": [
    "####Analytical solutions\n",
    "$U = cos(\\pi x)(sin(\\pi y)-sin(\\pi z))cos(\\Omega t)$<br>\n",
    "$V = cos(\\pi y)(sin(\\pi z)-sin(\\pi x))cos(\\Omega t)$<br>\n",
    "$W = cos(\\pi z)(sin(\\pi x)-sin(\\pi y))cos(\\Omega t)$<br>\n",
    "$T_{xx} = -Asin(\\pi x)(sin(\\pi y)-sin(\\pi z))sin(\\Omega t)$<br>\n",
    "$T_{yy} = -Asin(\\pi y)(sin(\\pi z)-sin(\\pi x))sin(\\Omega t)$<br>\n",
    "$T_{zz} = -Asin(\\pi z)(sin(\\pi x)-sin(\\pi y))sin(\\Omega t)$<br>\n",
    "$T_{xy} = T_{yz} = T_{xz} = 0$<br>\n",
    "where $A=\\sqrt{2\\rho \\mu} \\space \\space \\Omega=\\pi\\sqrt{\\frac{2\\mu}{\\rho}}$"
   ]
  },
  {
   "cell_type": "code",
   "execution_count": 41,
   "metadata": {
    "collapsed": false
   },
   "outputs": [],
   "source": [
    "rho, beta, lam, mu = symbols('rho beta lambda mu')\n",
    "\n",
    "Omega = pi*sqrt(2*mu/rho)\n",
    "A = sqrt(2*rho*mu)\n",
    "U_func = cos(pi*x)*(sin(pi*y)-sin(pi*z))*cos(Omega*t)\n",
    "V_func = cos(pi*y)*(sin(pi*z)-sin(pi*x))*cos(Omega*t)\n",
    "W_func = cos(pi*z)*(sin(pi*x)-sin(pi*y))*cos(Omega*t)\n",
    "Txx_func = -A*sin(pi*x)*(sin(pi*y)-sin(pi*z))*sin(Omega*t)\n",
    "Tyy_func = -A*sin(pi*y)*(sin(pi*z)-sin(pi*x))*sin(Omega*t)\n",
    "Tzz_func = -A*sin(pi*z)*(sin(pi*x)-sin(pi*y))*sin(Omega*t)\n",
    "Txy_func = Float(0)\n",
    "Tyz_func = Float(0)\n",
    "Txz_func = Float(0)"
   ]
  },
  {
   "cell_type": "code",
   "execution_count": 42,
   "metadata": {
    "collapsed": false
   },
   "outputs": [],
   "source": [
    "U.set_analytic_solution(U_func)\n",
    "V.set_analytic_solution(V_func)\n",
    "W.set_analytic_solution(W_func)\n",
    "Txx.set_analytic_solution(Txx_func)\n",
    "Tyy.set_analytic_solution(Tyy_func)\n",
    "Tzz.set_analytic_solution(Tzz_func)\n",
    "Txy.set_analytic_solution(Txy_func)\n",
    "Tyz.set_analytic_solution(Tyz_func)\n",
    "Txz.set_analytic_solution(Txz_func)"
   ]
  },
  {
   "cell_type": "code",
   "execution_count": 43,
   "metadata": {
    "collapsed": false
   },
   "outputs": [],
   "source": [
    "grid.set_accuracy([1,8,8,8])\n",
    "grid.calc_derivatives()"
   ]
  },
  {
   "cell_type": "code",
   "execution_count": 44,
   "metadata": {
    "collapsed": false
   },
   "outputs": [
    {
     "data": {
      "image/png": "[encoded data removed]",
      "text/latex": [
       "$$8$$"
      ],
      "text/plain": [
       "8"
      ]
     },
     "execution_count": 44,
     "metadata": {},
     "output_type": "execute_result"
    }
   ],
   "source": [
    "grid.margin.value"
   ]
  },
  {
   "cell_type": "code",
   "execution_count": 45,
   "metadata": {
    "collapsed": false
   },
   "outputs": [
    {
     "data": {
      "image/png": "[encoded data removed]",
      "text/latex": [
       "$$\\frac{143 U_{t,x - \\frac{15}{2},y,z}}{167772160 dx_{1}} - \\frac{7425 U_{t,x - \\frac{13}{2},y,z}}{436207616 dx_{1}} + \\frac{61425 U_{t,x - \\frac{11}{2},y,z}}{369098752 dx_{1}} - \\frac{325325 U_{t,x - \\frac{9}{2},y,z}}{301989888 dx_{1}} + \\frac{1254825 U_{t,x - \\frac{7}{2},y,z}}{234881024 dx_{1}} - \\frac{3864861 U_{t,x - \\frac{5}{2},y,z}}{167772160 dx_{1}} + \\frac{3578575 U_{t,x - \\frac{3}{2},y,z}}{33554432 dx_{1}} - \\frac{41409225 U_{t,x - \\frac{1}{2},y,z}}{33554432 dx_{1}} + \\frac{41409225 U_{t,x + \\frac{1}{2},y,z}}{33554432 dx_{1}} - \\frac{3578575 U_{t,x + \\frac{3}{2},y,z}}{33554432 dx_{1}} + \\frac{3864861 U_{t,x + \\frac{5}{2},y,z}}{167772160 dx_{1}} - \\frac{1254825 U_{t,x + \\frac{7}{2},y,z}}{234881024 dx_{1}} + \\frac{325325 U_{t,x + \\frac{9}{2},y,z}}{301989888 dx_{1}} - \\frac{61425 U_{t,x + \\frac{11}{2},y,z}}{369098752 dx_{1}} + \\frac{7425 U_{t,x + \\frac{13}{2},y,z}}{436207616 dx_{1}} - \\frac{143 U_{t,x + \\frac{15}{2},y,z}}{167772160 dx_{1}}$$"
      ],
      "text/plain": [
       "143⋅U[t, x - 15/2, y, z]   7425⋅U[t, x - 13/2, y, z]   61425⋅U[t, x - 11/2, y,\n",
       "──────────────────────── - ───────────────────────── + ───────────────────────\n",
       "     167772160⋅dx₁               436207616⋅dx₁               369098752⋅dx₁    \n",
       "\n",
       " z]   325325⋅U[t, x - 9/2, y, z]   1254825⋅U[t, x - 7/2, y, z]   3864861⋅U[t, \n",
       "─── - ────────────────────────── + ─────────────────────────── - ─────────────\n",
       "            301989888⋅dx₁                 234881024⋅dx₁                 167772\n",
       "\n",
       "x - 5/2, y, z]   3578575⋅U[t, x - 3/2, y, z]   41409225⋅U[t, x - 1/2, y, z]   \n",
       "────────────── + ─────────────────────────── - ──────────────────────────── + \n",
       "160⋅dx₁                  33554432⋅dx₁                  33554432⋅dx₁           \n",
       "\n",
       "41409225⋅U[t, x + 1/2, y, z]   3578575⋅U[t, x + 3/2, y, z]   3864861⋅U[t, x + \n",
       "──────────────────────────── - ─────────────────────────── + ─────────────────\n",
       "        33554432⋅dx₁                   33554432⋅dx₁                 167772160⋅\n",
       "\n",
       "5/2, y, z]   1254825⋅U[t, x + 7/2, y, z]   325325⋅U[t, x + 9/2, y, z]   61425⋅\n",
       "────────── - ─────────────────────────── + ────────────────────────── - ──────\n",
       "dx₁                 234881024⋅dx₁                301989888⋅dx₁                \n",
       "\n",
       "U[t, x + 11/2, y, z]   7425⋅U[t, x + 13/2, y, z]   143⋅U[t, x + 15/2, y, z]\n",
       "──────────────────── + ───────────────────────── - ────────────────────────\n",
       "369098752⋅dx₁                436207616⋅dx₁              167772160⋅dx₁      "
      ]
     },
     "execution_count": 45,
     "metadata": {},
     "output_type": "execute_result"
    }
   ],
   "source": [
    "U.d[1][1].fd[8]"
   ]
  },
  {
   "cell_type": "markdown",
   "metadata": {},
   "source": [
    "###PDEs\n",
    "#####momentum equations\n",
    "$\\partial_tU = b(\\partial_xT_{xx}+\\partial_yT_{xy}+\\partial_zT_{xz})$<br>\n",
    "$\\partial_tV = b(\\partial_xT_{xy}+\\partial_yT_{yy}+\\partial_zT_{yz})$<br>\n",
    "$\\partial_tW = b(\\partial_xT_{xz}+\\partial_yT_{yz}+\\partial_zT_{zz})$<br>\n",
    "#####stress-strain equations\n",
    "$\\partial_tT_{xx} = (\\lambda+2\\mu)\\partial_xU + \\lambda(\\partial_yV+\\partial_zW)$<br>\n",
    "$\\partial_tT_{yy} = (\\lambda+2\\mu)\\partial_yV + \\lambda(\\partial_xU+\\partial_zW)$<br>\n",
    "$\\partial_tT_{zz} = (\\lambda+2\\mu)\\partial_zW + \\lambda(\\partial_xU+\\partial_yV)$<br>\n",
    "$\\partial_tT_{xy} = \\mu(\\partial_yU + \\partial_xV)$<br>\n",
    "$\\partial_tT_{xz} = \\mu(\\partial_zU + \\partial_xW)$<br>\n",
    "$\\partial_tT_{yz} = \\mu(\\partial_zV + \\partial_yW)$<br>"
   ]
  },
  {
   "cell_type": "code",
   "execution_count": 46,
   "metadata": {
    "collapsed": false
   },
   "outputs": [],
   "source": [
    "# momentum equations\n",
    "eq1 = Eq(U.d[0][1], beta*(Txx.d[1][1] + Txy.d[2][1] + Txz.d[3][1]))\n",
    "eq2 = Eq(V.d[0][1], beta*(Txy.d[1][1] + Tyy.d[2][1] + Tyz.d[3][1]))\n",
    "eq3 = Eq(W.d[0][1], beta*(Txz.d[1][1] + Tyz.d[2][1] + Tzz.d[3][1]))\n",
    "# stress-strain equations\n",
    "eq4 = Eq(Txx.d[0][1], (lam + 2*mu)*U.d[1][1] + lam*(V.d[2][1]+W.d[3][1]))\n",
    "eq5 = Eq(Tyy.d[0][1], (lam + 2*mu)*V.d[2][1] + lam*(U.d[1][1]+W.d[3][1]))\n",
    "eq6 = Eq(Tzz.d[0][1], (lam + 2*mu)*W.d[3][1] + lam*(U.d[1][1]+V.d[2][1]))\n",
    "eq7 = Eq(Txy.d[0][1], mu*(U.d[2][1] + V.d[1][1]))\n",
    "eq8 = Eq(Tyz.d[0][1], mu*(V.d[3][1] + W.d[2][1]))\n",
    "eq9 = Eq(Txz.d[0][1], mu*(U.d[3][1] + W.d[1][1]))"
   ]
  },
  {
   "cell_type": "code",
   "execution_count": 53,
   "metadata": {
    "collapsed": false
   },
   "outputs": [
    {
     "data": {
      "image/png": "[encoded data removed]",
      "text/latex": [
       "$$- \\frac{1}{dt} U_{t - \\frac{1}{2},x,y,z} + \\frac{1}{dt} U_{t + \\frac{1}{2},x,y,z} = \\beta \\left(\\frac{143 Txz_{t,x,y,z - \\frac{15}{2}}}{167772160 dx_{3}} - \\frac{7425 Txz_{t,x,y,z - \\frac{13}{2}}}{436207616 dx_{3}} + \\frac{61425 Txz_{t,x,y,z - \\frac{11}{2}}}{369098752 dx_{3}} - \\frac{325325 Txz_{t,x,y,z - \\frac{9}{2}}}{301989888 dx_{3}} + \\frac{1254825 Txz_{t,x,y,z - \\frac{7}{2}}}{234881024 dx_{3}} - \\frac{3864861 Txz_{t,x,y,z - \\frac{5}{2}}}{167772160 dx_{3}} + \\frac{3578575 Txz_{t,x,y,z - \\frac{3}{2}}}{33554432 dx_{3}} - \\frac{41409225 Txz_{t,x,y,z - \\frac{1}{2}}}{33554432 dx_{3}} + \\frac{41409225 Txz_{t,x,y,z + \\frac{1}{2}}}{33554432 dx_{3}} - \\frac{3578575 Txz_{t,x,y,z + \\frac{3}{2}}}{33554432 dx_{3}} + \\frac{3864861 Txz_{t,x,y,z + \\frac{5}{2}}}{167772160 dx_{3}} - \\frac{1254825 Txz_{t,x,y,z + \\frac{7}{2}}}{234881024 dx_{3}} + \\frac{325325 Txz_{t,x,y,z + \\frac{9}{2}}}{301989888 dx_{3}} - \\frac{61425 Txz_{t,x,y,z + \\frac{11}{2}}}{369098752 dx_{3}} + \\frac{7425 Txz_{t,x,y,z + \\frac{13}{2}}}{436207616 dx_{3}} - \\frac{143 Txz_{t,x,y,z + \\frac{15}{2}}}{167772160 dx_{3}} + \\frac{143 Txy_{t,x,y - \\frac{15}{2},z}}{167772160 dx_{2}} - \\frac{7425 Txy_{t,x,y - \\frac{13}{2},z}}{436207616 dx_{2}} + \\frac{61425 Txy_{t,x,y - \\frac{11}{2},z}}{369098752 dx_{2}} - \\frac{325325 Txy_{t,x,y - \\frac{9}{2},z}}{301989888 dx_{2}} + \\frac{1254825 Txy_{t,x,y - \\frac{7}{2},z}}{234881024 dx_{2}} - \\frac{3864861 Txy_{t,x,y - \\frac{5}{2},z}}{167772160 dx_{2}} + \\frac{3578575 Txy_{t,x,y - \\frac{3}{2},z}}{33554432 dx_{2}} - \\frac{41409225 Txy_{t,x,y - \\frac{1}{2},z}}{33554432 dx_{2}} + \\frac{41409225 Txy_{t,x,y + \\frac{1}{2},z}}{33554432 dx_{2}} - \\frac{3578575 Txy_{t,x,y + \\frac{3}{2},z}}{33554432 dx_{2}} + \\frac{3864861 Txy_{t,x,y + \\frac{5}{2},z}}{167772160 dx_{2}} - \\frac{1254825 Txy_{t,x,y + \\frac{7}{2},z}}{234881024 dx_{2}} + \\frac{325325 Txy_{t,x,y + \\frac{9}{2},z}}{301989888 dx_{2}} - \\frac{61425 Txy_{t,x,y + \\frac{11}{2},z}}{369098752 dx_{2}} + \\frac{7425 Txy_{t,x,y + \\frac{13}{2},z}}{436207616 dx_{2}} - \\frac{143 Txy_{t,x,y + \\frac{15}{2},z}}{167772160 dx_{2}} + \\frac{143 Txx_{t,x - \\frac{15}{2},y,z}}{167772160 dx_{1}} - \\frac{7425 Txx_{t,x - \\frac{13}{2},y,z}}{436207616 dx_{1}} + \\frac{61425 Txx_{t,x - \\frac{11}{2},y,z}}{369098752 dx_{1}} - \\frac{325325 Txx_{t,x - \\frac{9}{2},y,z}}{301989888 dx_{1}} + \\frac{1254825 Txx_{t,x - \\frac{7}{2},y,z}}{234881024 dx_{1}} - \\frac{3864861 Txx_{t,x - \\frac{5}{2},y,z}}{167772160 dx_{1}} + \\frac{3578575 Txx_{t,x - \\frac{3}{2},y,z}}{33554432 dx_{1}} - \\frac{41409225 Txx_{t,x - \\frac{1}{2},y,z}}{33554432 dx_{1}} + \\frac{41409225 Txx_{t,x + \\frac{1}{2},y,z}}{33554432 dx_{1}} - \\frac{3578575 Txx_{t,x + \\frac{3}{2},y,z}}{33554432 dx_{1}} + \\frac{3864861 Txx_{t,x + \\frac{5}{2},y,z}}{167772160 dx_{1}} - \\frac{1254825 Txx_{t,x + \\frac{7}{2},y,z}}{234881024 dx_{1}} + \\frac{325325 Txx_{t,x + \\frac{9}{2},y,z}}{301989888 dx_{1}} - \\frac{61425 Txx_{t,x + \\frac{11}{2},y,z}}{369098752 dx_{1}} + \\frac{7425 Txx_{t,x + \\frac{13}{2},y,z}}{436207616 dx_{1}} - \\frac{143 Txx_{t,x + \\frac{15}{2},y,z}}{167772160 dx_{1}}\\right)$$"
      ],
      "text/plain": [
       "  U[t - 1/2, x, y, z]   U[t + 1/2, x, y, z]     ⎛143⋅Txz[t, x, y, z - 15/2]   \n",
       "- ─────────────────── + ─────────────────── = β⋅⎜────────────────────────── - \n",
       "           dt                    dt             ⎝      167772160⋅dx₃          \n",
       "\n",
       "7425⋅Txz[t, x, y, z - 13/2]   61425⋅Txz[t, x, y, z - 11/2]   325325⋅Txz[t, x, \n",
       "─────────────────────────── + ──────────────────────────── - ─────────────────\n",
       "       436207616⋅dx₃                 369098752⋅dx₃                  301989888⋅\n",
       "\n",
       "y, z - 9/2]   1254825⋅Txz[t, x, y, z - 7/2]   3864861⋅Txz[t, x, y, z - 5/2]   \n",
       "─────────── + ───────────────────────────── - ───────────────────────────── + \n",
       "dx₃                   234881024⋅dx₃                   167772160⋅dx₃           \n",
       "\n",
       "3578575⋅Txz[t, x, y, z - 3/2]   41409225⋅Txz[t, x, y, z - 1/2]   41409225⋅Txz[\n",
       "───────────────────────────── - ────────────────────────────── + ─────────────\n",
       "         33554432⋅dx₃                    33554432⋅dx₃                     3355\n",
       "\n",
       "t, x, y, z + 1/2]   3578575⋅Txz[t, x, y, z + 3/2]   3864861⋅Txz[t, x, y, z + 5\n",
       "───────────────── - ───────────────────────────── + ──────────────────────────\n",
       "4432⋅dx₃                     33554432⋅dx₃                   167772160⋅dx₃     \n",
       "\n",
       "/2]   1254825⋅Txz[t, x, y, z + 7/2]   325325⋅Txz[t, x, y, z + 9/2]   61425⋅Txz\n",
       "─── - ───────────────────────────── + ──────────────────────────── - ─────────\n",
       "              234881024⋅dx₃                  301989888⋅dx₃                  36\n",
       "\n",
       "[t, x, y, z + 11/2]   7425⋅Txz[t, x, y, z + 13/2]   143⋅Txz[t, x, y, z + 15/2]\n",
       "─────────────────── + ─────────────────────────── - ──────────────────────────\n",
       "9098752⋅dx₃                  436207616⋅dx₃                167772160⋅dx₃       \n",
       "\n",
       "   143⋅Txy[t, x, y - 15/2, z]   7425⋅Txy[t, x, y - 13/2, z]   61425⋅Txy[t, x, \n",
       " + ────────────────────────── - ─────────────────────────── + ────────────────\n",
       "         167772160⋅dx₂                 436207616⋅dx₂                 369098752\n",
       "\n",
       "y - 11/2, z]   325325⋅Txy[t, x, y - 9/2, z]   1254825⋅Txy[t, x, y - 7/2, z]   \n",
       "──────────── - ──────────────────────────── + ───────────────────────────── - \n",
       "⋅dx₂                  301989888⋅dx₂                   234881024⋅dx₂           \n",
       "\n",
       "3864861⋅Txy[t, x, y - 5/2, z]   3578575⋅Txy[t, x, y - 3/2, z]   41409225⋅Txy[t\n",
       "───────────────────────────── + ───────────────────────────── - ──────────────\n",
       "        167772160⋅dx₂                    33554432⋅dx₂                    33554\n",
       "\n",
       ", x, y - 1/2, z]   41409225⋅Txy[t, x, y + 1/2, z]   3578575⋅Txy[t, x, y + 3/2,\n",
       "──────────────── + ────────────────────────────── - ──────────────────────────\n",
       "432⋅dx₂                     33554432⋅dx₂                     33554432⋅dx₂     \n",
       "\n",
       " z]   3864861⋅Txy[t, x, y + 5/2, z]   1254825⋅Txy[t, x, y + 7/2, z]   325325⋅T\n",
       "─── + ───────────────────────────── - ───────────────────────────── + ────────\n",
       "              167772160⋅dx₂                   234881024⋅dx₂                  3\n",
       "\n",
       "xy[t, x, y + 9/2, z]   61425⋅Txy[t, x, y + 11/2, z]   7425⋅Txy[t, x, y + 13/2,\n",
       "──────────────────── - ──────────────────────────── + ────────────────────────\n",
       "01989888⋅dx₂                  369098752⋅dx₂                  436207616⋅dx₂    \n",
       "\n",
       " z]   143⋅Txy[t, x, y + 15/2, z]   143⋅Txx[t, x - 15/2, y, z]   7425⋅Txx[t, x \n",
       "─── - ────────────────────────── + ────────────────────────── - ──────────────\n",
       "            167772160⋅dx₂                167772160⋅dx₁                 4362076\n",
       "\n",
       "- 13/2, y, z]   61425⋅Txx[t, x - 11/2, y, z]   325325⋅Txx[t, x - 9/2, y, z]   \n",
       "───────────── + ──────────────────────────── - ──────────────────────────── + \n",
       "16⋅dx₁                 369098752⋅dx₁                  301989888⋅dx₁           \n",
       "\n",
       "1254825⋅Txx[t, x - 7/2, y, z]   3864861⋅Txx[t, x - 5/2, y, z]   3578575⋅Txx[t,\n",
       "───────────────────────────── - ───────────────────────────── + ──────────────\n",
       "        234881024⋅dx₁                   167772160⋅dx₁                    33554\n",
       "\n",
       " x - 3/2, y, z]   41409225⋅Txx[t, x - 1/2, y, z]   41409225⋅Txx[t, x + 1/2, y,\n",
       "─────────────── - ────────────────────────────── + ───────────────────────────\n",
       "432⋅dx₁                    33554432⋅dx₁                     33554432⋅dx₁      \n",
       "\n",
       " z]   3578575⋅Txx[t, x + 3/2, y, z]   3864861⋅Txx[t, x + 5/2, y, z]   1254825⋅\n",
       "─── - ───────────────────────────── + ───────────────────────────── - ────────\n",
       "               33554432⋅dx₁                   167772160⋅dx₁                   \n",
       "\n",
       "Txx[t, x + 7/2, y, z]   325325⋅Txx[t, x + 9/2, y, z]   61425⋅Txx[t, x + 11/2, \n",
       "───────────────────── + ──────────────────────────── - ───────────────────────\n",
       "234881024⋅dx₁                  301989888⋅dx₁                  369098752⋅dx₁   \n",
       "\n",
       "y, z]   7425⋅Txx[t, x + 13/2, y, z]   143⋅Txx[t, x + 15/2, y, z]⎞\n",
       "───── + ─────────────────────────── - ──────────────────────────⎟\n",
       "               436207616⋅dx₁                167772160⋅dx₁       ⎠"
      ]
     },
     "execution_count": 53,
     "metadata": {},
     "output_type": "execute_result"
    }
   ],
   "source": [
    "eq = Eq(U.d[0][1], beta*(Txx.d[1][1] + Txy.d[2][1] + Txz.d[3][1]))\n",
    "derivatives = get_all_objects(eq, DDerivative)\n",
    "for deriv in derivatives:\n",
    "    # this might need changing for higher order scheme\n",
    "    eq = eq.subs(deriv, deriv.fd[deriv.max_accuracy])\n",
    "eq"
   ]
  },
  {
   "cell_type": "code",
   "execution_count": null,
   "metadata": {
    "collapsed": true
   },
   "outputs": [],
   "source": []
  },
  {
   "cell_type": "code",
   "execution_count": 56,
   "metadata": {
    "collapsed": false
   },
   "outputs": [],
   "source": [
    "grid.solve_fd([eq1,eq2,eq3,eq4,eq5,eq6,eq7,eq8,eq9])"
   ]
  },
  {
   "cell_type": "code",
   "execution_count": 57,
   "metadata": {
    "collapsed": false
   },
   "outputs": [
    {
     "data": {
      "image/png": "[encoded data removed]",
      "text/latex": [
       "$$\\frac{143 dt \\lambda}{167772160 dx_{3}} W_{t + \\frac{1}{2},x,y,z - \\frac{15}{2}} - \\frac{7425 dt \\lambda}{436207616 dx_{3}} W_{t + \\frac{1}{2},x,y,z - \\frac{13}{2}} + \\frac{61425 dt \\lambda}{369098752 dx_{3}} W_{t + \\frac{1}{2},x,y,z - \\frac{11}{2}} - \\frac{325325 dt \\lambda}{301989888 dx_{3}} W_{t + \\frac{1}{2},x,y,z - \\frac{9}{2}} + \\frac{1254825 dt \\lambda}{234881024 dx_{3}} W_{t + \\frac{1}{2},x,y,z - \\frac{7}{2}} - \\frac{3864861 dt \\lambda}{167772160 dx_{3}} W_{t + \\frac{1}{2},x,y,z - \\frac{5}{2}} + \\frac{3578575 dt \\lambda}{33554432 dx_{3}} W_{t + \\frac{1}{2},x,y,z - \\frac{3}{2}} - \\frac{41409225 dt \\lambda}{33554432 dx_{3}} W_{t + \\frac{1}{2},x,y,z - \\frac{1}{2}} + \\frac{41409225 dt \\lambda}{33554432 dx_{3}} W_{t + \\frac{1}{2},x,y,z + \\frac{1}{2}} - \\frac{3578575 dt \\lambda}{33554432 dx_{3}} W_{t + \\frac{1}{2},x,y,z + \\frac{3}{2}} + \\frac{3864861 dt \\lambda}{167772160 dx_{3}} W_{t + \\frac{1}{2},x,y,z + \\frac{5}{2}} - \\frac{1254825 dt \\lambda}{234881024 dx_{3}} W_{t + \\frac{1}{2},x,y,z + \\frac{7}{2}} + \\frac{325325 dt \\lambda}{301989888 dx_{3}} W_{t + \\frac{1}{2},x,y,z + \\frac{9}{2}} - \\frac{61425 dt \\lambda}{369098752 dx_{3}} W_{t + \\frac{1}{2},x,y,z + \\frac{11}{2}} + \\frac{7425 dt \\lambda}{436207616 dx_{3}} W_{t + \\frac{1}{2},x,y,z + \\frac{13}{2}} - \\frac{143 dt \\lambda}{167772160 dx_{3}} W_{t + \\frac{1}{2},x,y,z + \\frac{15}{2}} + \\frac{143 dt \\lambda}{167772160 dx_{2}} V_{t + \\frac{1}{2},x,y - \\frac{15}{2},z} - \\frac{7425 dt \\lambda}{436207616 dx_{2}} V_{t + \\frac{1}{2},x,y - \\frac{13}{2},z} + \\frac{61425 dt \\lambda}{369098752 dx_{2}} V_{t + \\frac{1}{2},x,y - \\frac{11}{2},z} - \\frac{325325 dt \\lambda}{301989888 dx_{2}} V_{t + \\frac{1}{2},x,y - \\frac{9}{2},z} + \\frac{1254825 dt \\lambda}{234881024 dx_{2}} V_{t + \\frac{1}{2},x,y - \\frac{7}{2},z} - \\frac{3864861 dt \\lambda}{167772160 dx_{2}} V_{t + \\frac{1}{2},x,y - \\frac{5}{2},z} + \\frac{3578575 dt \\lambda}{33554432 dx_{2}} V_{t + \\frac{1}{2},x,y - \\frac{3}{2},z} - \\frac{41409225 dt \\lambda}{33554432 dx_{2}} V_{t + \\frac{1}{2},x,y - \\frac{1}{2},z} + \\frac{41409225 dt \\lambda}{33554432 dx_{2}} V_{t + \\frac{1}{2},x,y + \\frac{1}{2},z} - \\frac{3578575 dt \\lambda}{33554432 dx_{2}} V_{t + \\frac{1}{2},x,y + \\frac{3}{2},z} + \\frac{3864861 dt \\lambda}{167772160 dx_{2}} V_{t + \\frac{1}{2},x,y + \\frac{5}{2},z} - \\frac{1254825 dt \\lambda}{234881024 dx_{2}} V_{t + \\frac{1}{2},x,y + \\frac{7}{2},z} + \\frac{325325 dt \\lambda}{301989888 dx_{2}} V_{t + \\frac{1}{2},x,y + \\frac{9}{2},z} - \\frac{61425 dt \\lambda}{369098752 dx_{2}} V_{t + \\frac{1}{2},x,y + \\frac{11}{2},z} + \\frac{7425 dt \\lambda}{436207616 dx_{2}} V_{t + \\frac{1}{2},x,y + \\frac{13}{2},z} - \\frac{143 dt \\lambda}{167772160 dx_{2}} V_{t + \\frac{1}{2},x,y + \\frac{15}{2},z} + \\frac{143 dt \\lambda}{167772160 dx_{1}} U_{t + \\frac{1}{2},x - \\frac{15}{2},y,z} - \\frac{7425 dt \\lambda}{436207616 dx_{1}} U_{t + \\frac{1}{2},x - \\frac{13}{2},y,z} + \\frac{61425 dt \\lambda}{369098752 dx_{1}} U_{t + \\frac{1}{2},x - \\frac{11}{2},y,z} - \\frac{325325 dt \\lambda}{301989888 dx_{1}} U_{t + \\frac{1}{2},x - \\frac{9}{2},y,z} + \\frac{1254825 dt \\lambda}{234881024 dx_{1}} U_{t + \\frac{1}{2},x - \\frac{7}{2},y,z} - \\frac{3864861 dt \\lambda}{167772160 dx_{1}} U_{t + \\frac{1}{2},x - \\frac{5}{2},y,z} + \\frac{3578575 dt \\lambda}{33554432 dx_{1}} U_{t + \\frac{1}{2},x - \\frac{3}{2},y,z} - \\frac{41409225 dt \\lambda}{33554432 dx_{1}} U_{t + \\frac{1}{2},x - \\frac{1}{2},y,z} + \\frac{41409225 dt \\lambda}{33554432 dx_{1}} U_{t + \\frac{1}{2},x + \\frac{1}{2},y,z} - \\frac{3578575 dt \\lambda}{33554432 dx_{1}} U_{t + \\frac{1}{2},x + \\frac{3}{2},y,z} + \\frac{3864861 dt \\lambda}{167772160 dx_{1}} U_{t + \\frac{1}{2},x + \\frac{5}{2},y,z} - \\frac{1254825 dt \\lambda}{234881024 dx_{1}} U_{t + \\frac{1}{2},x + \\frac{7}{2},y,z} + \\frac{325325 dt \\lambda}{301989888 dx_{1}} U_{t + \\frac{1}{2},x + \\frac{9}{2},y,z} - \\frac{61425 dt \\lambda}{369098752 dx_{1}} U_{t + \\frac{1}{2},x + \\frac{11}{2},y,z} + \\frac{7425 dt \\lambda}{436207616 dx_{1}} U_{t + \\frac{1}{2},x + \\frac{13}{2},y,z} - \\frac{143 dt \\lambda}{167772160 dx_{1}} U_{t + \\frac{1}{2},x + \\frac{15}{2},y,z} + \\frac{143 dt \\mu}{83886080 dx_{1}} U_{t + \\frac{1}{2},x - \\frac{15}{2},y,z} - \\frac{7425 dt \\mu}{218103808 dx_{1}} U_{t + \\frac{1}{2},x - \\frac{13}{2},y,z} + \\frac{61425 dt \\mu}{184549376 dx_{1}} U_{t + \\frac{1}{2},x - \\frac{11}{2},y,z} - \\frac{325325 dt \\mu}{150994944 dx_{1}} U_{t + \\frac{1}{2},x - \\frac{9}{2},y,z} + \\frac{1254825 dt \\mu}{117440512 dx_{1}} U_{t + \\frac{1}{2},x - \\frac{7}{2},y,z} - \\frac{3864861 dt \\mu}{83886080 dx_{1}} U_{t + \\frac{1}{2},x - \\frac{5}{2},y,z} + \\frac{3578575 dt \\mu}{16777216 dx_{1}} U_{t + \\frac{1}{2},x - \\frac{3}{2},y,z} - \\frac{41409225 dt \\mu}{16777216 dx_{1}} U_{t + \\frac{1}{2},x - \\frac{1}{2},y,z} + \\frac{41409225 dt \\mu}{16777216 dx_{1}} U_{t + \\frac{1}{2},x + \\frac{1}{2},y,z} - \\frac{3578575 dt \\mu}{16777216 dx_{1}} U_{t + \\frac{1}{2},x + \\frac{3}{2},y,z} + \\frac{3864861 dt \\mu}{83886080 dx_{1}} U_{t + \\frac{1}{2},x + \\frac{5}{2},y,z} - \\frac{1254825 dt \\mu}{117440512 dx_{1}} U_{t + \\frac{1}{2},x + \\frac{7}{2},y,z} + \\frac{325325 dt \\mu}{150994944 dx_{1}} U_{t + \\frac{1}{2},x + \\frac{9}{2},y,z} - \\frac{61425 dt \\mu}{184549376 dx_{1}} U_{t + \\frac{1}{2},x + \\frac{11}{2},y,z} + \\frac{7425 dt \\mu}{218103808 dx_{1}} U_{t + \\frac{1}{2},x + \\frac{13}{2},y,z} - \\frac{143 dt \\mu}{83886080 dx_{1}} U_{t + \\frac{1}{2},x + \\frac{15}{2},y,z} + Txx_{t,x,y,z}$$"
      ],
      "text/plain": [
       "143⋅dt⋅λ⋅W[t + 1/2, x, y, z - 15/2]   7425⋅dt⋅λ⋅W[t + 1/2, x, y, z - 13/2]   6\n",
       "─────────────────────────────────── - ──────────────────────────────────── + ─\n",
       "           167772160⋅dx₃                         436207616⋅dx₃                \n",
       "\n",
       "1425⋅dt⋅λ⋅W[t + 1/2, x, y, z - 11/2]   325325⋅dt⋅λ⋅W[t + 1/2, x, y, z - 9/2]  \n",
       "──────────────────────────────────── - ───────────────────────────────────── +\n",
       "           369098752⋅dx₃                           301989888⋅dx₃              \n",
       "\n",
       " 1254825⋅dt⋅λ⋅W[t + 1/2, x, y, z - 7/2]   3864861⋅dt⋅λ⋅W[t + 1/2, x, y, z - 5/\n",
       " ────────────────────────────────────── - ────────────────────────────────────\n",
       "             234881024⋅dx₃                            167772160⋅dx₃           \n",
       "\n",
       "2]   3578575⋅dt⋅λ⋅W[t + 1/2, x, y, z - 3/2]   41409225⋅dt⋅λ⋅W[t + 1/2, x, y, z\n",
       "── + ────────────────────────────────────── - ────────────────────────────────\n",
       "                  33554432⋅dx₃                              33554432⋅dx₃      \n",
       "\n",
       " - 1/2]   41409225⋅dt⋅λ⋅W[t + 1/2, x, y, z + 1/2]   3578575⋅dt⋅λ⋅W[t + 1/2, x,\n",
       "─────── + ─────────────────────────────────────── - ──────────────────────────\n",
       "                        33554432⋅dx₃                             33554432⋅dx₃ \n",
       "\n",
       " y, z + 3/2]   3864861⋅dt⋅λ⋅W[t + 1/2, x, y, z + 5/2]   1254825⋅dt⋅λ⋅W[t + 1/2\n",
       "──────────── + ────────────────────────────────────── - ──────────────────────\n",
       "                           167772160⋅dx₃                            234881024⋅\n",
       "\n",
       ", x, y, z + 7/2]   325325⋅dt⋅λ⋅W[t + 1/2, x, y, z + 9/2]   61425⋅dt⋅λ⋅W[t + 1/\n",
       "──────────────── + ───────────────────────────────────── - ───────────────────\n",
       "dx₃                            301989888⋅dx₃                           3690987\n",
       "\n",
       "2, x, y, z + 11/2]   7425⋅dt⋅λ⋅W[t + 1/2, x, y, z + 13/2]   143⋅dt⋅λ⋅W[t + 1/2\n",
       "────────────────── + ──────────────────────────────────── - ──────────────────\n",
       "52⋅dx₃                          436207616⋅dx₃                          1677721\n",
       "\n",
       ", x, y, z + 15/2]   143⋅dt⋅λ⋅V[t + 1/2, x, y - 15/2, z]   7425⋅dt⋅λ⋅V[t + 1/2,\n",
       "───────────────── + ─────────────────────────────────── - ────────────────────\n",
       "60⋅dx₃                         167772160⋅dx₂                         436207616\n",
       "\n",
       " x, y - 13/2, z]   61425⋅dt⋅λ⋅V[t + 1/2, x, y - 11/2, z]   325325⋅dt⋅λ⋅V[t + 1\n",
       "──────────────── + ───────────────────────────────────── - ───────────────────\n",
       "⋅dx₂                           369098752⋅dx₂                           3019898\n",
       "\n",
       "/2, x, y - 9/2, z]   1254825⋅dt⋅λ⋅V[t + 1/2, x, y - 7/2, z]   3864861⋅dt⋅λ⋅V[t\n",
       "────────────────── + ────────────────────────────────────── - ────────────────\n",
       "88⋅dx₂                           234881024⋅dx₂                            1677\n",
       "\n",
       " + 1/2, x, y - 5/2, z]   3578575⋅dt⋅λ⋅V[t + 1/2, x, y - 3/2, z]   41409225⋅dt⋅\n",
       "────────────────────── + ────────────────────────────────────── - ────────────\n",
       "72160⋅dx₂                             33554432⋅dx₂                            \n",
       "\n",
       "λ⋅V[t + 1/2, x, y - 1/2, z]   41409225⋅dt⋅λ⋅V[t + 1/2, x, y + 1/2, z]   357857\n",
       "─────────────────────────── + ─────────────────────────────────────── - ──────\n",
       "  33554432⋅dx₂                              33554432⋅dx₂                      \n",
       "\n",
       "5⋅dt⋅λ⋅V[t + 1/2, x, y + 3/2, z]   3864861⋅dt⋅λ⋅V[t + 1/2, x, y + 5/2, z]   12\n",
       "──────────────────────────────── + ────────────────────────────────────── - ──\n",
       "       33554432⋅dx₂                            167772160⋅dx₂                  \n",
       "\n",
       "54825⋅dt⋅λ⋅V[t + 1/2, x, y + 7/2, z]   325325⋅dt⋅λ⋅V[t + 1/2, x, y + 9/2, z]  \n",
       "──────────────────────────────────── + ───────────────────────────────────── -\n",
       "          234881024⋅dx₂                            301989888⋅dx₂              \n",
       "\n",
       " 61425⋅dt⋅λ⋅V[t + 1/2, x, y + 11/2, z]   7425⋅dt⋅λ⋅V[t + 1/2, x, y + 13/2, z] \n",
       " ───────────────────────────────────── + ──────────────────────────────────── \n",
       "             369098752⋅dx₂                          436207616⋅dx₂             \n",
       "\n",
       "  143⋅dt⋅λ⋅V[t + 1/2, x, y + 15/2, z]   143⋅dt⋅λ⋅U[t + 1/2, x - 15/2, y, z]   \n",
       "- ─────────────────────────────────── + ─────────────────────────────────── - \n",
       "             167772160⋅dx₂                         167772160⋅dx₁              \n",
       "\n",
       "7425⋅dt⋅λ⋅U[t + 1/2, x - 13/2, y, z]   61425⋅dt⋅λ⋅U[t + 1/2, x - 11/2, y, z]  \n",
       "──────────────────────────────────── + ───────────────────────────────────── -\n",
       "           436207616⋅dx₁                           369098752⋅dx₁              \n",
       "\n",
       " 325325⋅dt⋅λ⋅U[t + 1/2, x - 9/2, y, z]   1254825⋅dt⋅λ⋅U[t + 1/2, x - 7/2, y, z\n",
       " ───────────────────────────────────── + ─────────────────────────────────────\n",
       "             301989888⋅dx₁                           234881024⋅dx₁            \n",
       "\n",
       "]   3864861⋅dt⋅λ⋅U[t + 1/2, x - 5/2, y, z]   3578575⋅dt⋅λ⋅U[t + 1/2, x - 3/2, \n",
       "─ - ────────────────────────────────────── + ─────────────────────────────────\n",
       "                167772160⋅dx₁                             33554432⋅dx₁        \n",
       "\n",
       "y, z]   41409225⋅dt⋅λ⋅U[t + 1/2, x - 1/2, y, z]   41409225⋅dt⋅λ⋅U[t + 1/2, x +\n",
       "───── - ─────────────────────────────────────── + ────────────────────────────\n",
       "                      33554432⋅dx₁                              33554432⋅dx₁  \n",
       "\n",
       " 1/2, y, z]   3578575⋅dt⋅λ⋅U[t + 1/2, x + 3/2, y, z]   3864861⋅dt⋅λ⋅U[t + 1/2,\n",
       "─────────── - ────────────────────────────────────── + ───────────────────────\n",
       "                           33554432⋅dx₁                            167772160⋅d\n",
       "\n",
       " x + 5/2, y, z]   1254825⋅dt⋅λ⋅U[t + 1/2, x + 7/2, y, z]   325325⋅dt⋅λ⋅U[t + 1\n",
       "─────────────── - ────────────────────────────────────── + ───────────────────\n",
       "x₁                            234881024⋅dx₁                            3019898\n",
       "\n",
       "/2, x + 9/2, y, z]   61425⋅dt⋅λ⋅U[t + 1/2, x + 11/2, y, z]   7425⋅dt⋅λ⋅U[t + 1\n",
       "────────────────── - ───────────────────────────────────── + ─────────────────\n",
       "88⋅dx₁                           369098752⋅dx₁                          436207\n",
       "\n",
       "/2, x + 13/2, y, z]   143⋅dt⋅λ⋅U[t + 1/2, x + 15/2, y, z]   143⋅dt⋅μ⋅U[t + 1/2\n",
       "─────────────────── - ─────────────────────────────────── + ──────────────────\n",
       "616⋅dx₁                          167772160⋅dx₁                          838860\n",
       "\n",
       ", x - 15/2, y, z]   7425⋅dt⋅μ⋅U[t + 1/2, x - 13/2, y, z]   61425⋅dt⋅μ⋅U[t + 1/\n",
       "───────────────── - ──────────────────────────────────── + ───────────────────\n",
       "80⋅dx₁                         218103808⋅dx₁                           1845493\n",
       "\n",
       "2, x - 11/2, y, z]   325325⋅dt⋅μ⋅U[t + 1/2, x - 9/2, y, z]   1254825⋅dt⋅μ⋅U[t \n",
       "────────────────── - ───────────────────────────────────── + ─────────────────\n",
       "76⋅dx₁                           150994944⋅dx₁                           11744\n",
       "\n",
       "+ 1/2, x - 7/2, y, z]   3864861⋅dt⋅μ⋅U[t + 1/2, x - 5/2, y, z]   3578575⋅dt⋅μ⋅\n",
       "───────────────────── - ────────────────────────────────────── + ─────────────\n",
       "0512⋅dx₁                             83886080⋅dx₁                             \n",
       "\n",
       "U[t + 1/2, x - 3/2, y, z]   41409225⋅dt⋅μ⋅U[t + 1/2, x - 1/2, y, z]   41409225\n",
       "───────────────────────── - ─────────────────────────────────────── + ────────\n",
       "16777216⋅dx₁                              16777216⋅dx₁                        \n",
       "\n",
       "⋅dt⋅μ⋅U[t + 1/2, x + 1/2, y, z]   3578575⋅dt⋅μ⋅U[t + 1/2, x + 3/2, y, z]   386\n",
       "─────────────────────────────── - ────────────────────────────────────── + ───\n",
       "      16777216⋅dx₁                             16777216⋅dx₁                   \n",
       "\n",
       "4861⋅dt⋅μ⋅U[t + 1/2, x + 5/2, y, z]   1254825⋅dt⋅μ⋅U[t + 1/2, x + 7/2, y, z]  \n",
       "─────────────────────────────────── - ────────────────────────────────────── +\n",
       "          83886080⋅dx₁                            117440512⋅dx₁               \n",
       "\n",
       " 325325⋅dt⋅μ⋅U[t + 1/2, x + 9/2, y, z]   61425⋅dt⋅μ⋅U[t + 1/2, x + 11/2, y, z]\n",
       " ───────────────────────────────────── - ─────────────────────────────────────\n",
       "             150994944⋅dx₁                           184549376⋅dx₁            \n",
       "\n",
       "   7425⋅dt⋅μ⋅U[t + 1/2, x + 13/2, y, z]   143⋅dt⋅μ⋅U[t + 1/2, x + 15/2, y, z] \n",
       " + ──────────────────────────────────── - ─────────────────────────────────── \n",
       "              218103808⋅dx₁                           83886080⋅dx₁            \n",
       "\n",
       "                 \n",
       "+ Txx[t, x, y, z]\n",
       "                 "
      ]
     },
     "execution_count": 57,
     "metadata": {},
     "output_type": "execute_result"
    }
   ],
   "source": [
    "Txx.kernel"
   ]
  },
  {
   "cell_type": "code",
   "execution_count": 58,
   "metadata": {
    "collapsed": false
   },
   "outputs": [
    {
     "data": {
      "image/png": "[encoded data removed]",
      "text/latex": [
       "$$\\frac{41409225 dt \\lambda W_{t,x,y,z}}{33554432 dx_{3}} + \\frac{143 dt \\lambda}{167772160 dx_{3}} W_{t,x,y,z - 8} - \\frac{7425 dt \\lambda}{436207616 dx_{3}} W_{t,x,y,z - 7} + \\frac{61425 dt \\lambda}{369098752 dx_{3}} W_{t,x,y,z - 6} - \\frac{325325 dt \\lambda}{301989888 dx_{3}} W_{t,x,y,z - 5} + \\frac{1254825 dt \\lambda}{234881024 dx_{3}} W_{t,x,y,z - 4} - \\frac{3864861 dt \\lambda}{167772160 dx_{3}} W_{t,x,y,z - 3} + \\frac{3578575 dt \\lambda}{33554432 dx_{3}} W_{t,x,y,z - 2} - \\frac{41409225 dt \\lambda}{33554432 dx_{3}} W_{t,x,y,z - 1} - \\frac{3578575 dt \\lambda}{33554432 dx_{3}} W_{t,x,y,z + 1} + \\frac{3864861 dt \\lambda}{167772160 dx_{3}} W_{t,x,y,z + 2} - \\frac{1254825 dt \\lambda}{234881024 dx_{3}} W_{t,x,y,z + 3} + \\frac{325325 dt \\lambda}{301989888 dx_{3}} W_{t,x,y,z + 4} - \\frac{61425 dt \\lambda}{369098752 dx_{3}} W_{t,x,y,z + 5} + \\frac{7425 dt \\lambda}{436207616 dx_{3}} W_{t,x,y,z + 6} - \\frac{143 dt \\lambda}{167772160 dx_{3}} W_{t,x,y,z + 7} + \\frac{41409225 dt \\lambda V_{t,x,y,z}}{33554432 dx_{2}} + \\frac{143 dt \\lambda}{167772160 dx_{2}} V_{t,x,y - 8,z} - \\frac{7425 dt \\lambda}{436207616 dx_{2}} V_{t,x,y - 7,z} + \\frac{61425 dt \\lambda}{369098752 dx_{2}} V_{t,x,y - 6,z} - \\frac{325325 dt \\lambda}{301989888 dx_{2}} V_{t,x,y - 5,z} + \\frac{1254825 dt \\lambda}{234881024 dx_{2}} V_{t,x,y - 4,z} - \\frac{3864861 dt \\lambda}{167772160 dx_{2}} V_{t,x,y - 3,z} + \\frac{3578575 dt \\lambda}{33554432 dx_{2}} V_{t,x,y - 2,z} - \\frac{41409225 dt \\lambda}{33554432 dx_{2}} V_{t,x,y - 1,z} - \\frac{3578575 dt \\lambda}{33554432 dx_{2}} V_{t,x,y + 1,z} + \\frac{3864861 dt \\lambda}{167772160 dx_{2}} V_{t,x,y + 2,z} - \\frac{1254825 dt \\lambda}{234881024 dx_{2}} V_{t,x,y + 3,z} + \\frac{325325 dt \\lambda}{301989888 dx_{2}} V_{t,x,y + 4,z} - \\frac{61425 dt \\lambda}{369098752 dx_{2}} V_{t,x,y + 5,z} + \\frac{7425 dt \\lambda}{436207616 dx_{2}} V_{t,x,y + 6,z} - \\frac{143 dt \\lambda}{167772160 dx_{2}} V_{t,x,y + 7,z} + \\frac{41409225 dt \\lambda U_{t,x,y,z}}{33554432 dx_{1}} + \\frac{143 dt \\lambda}{167772160 dx_{1}} U_{t,x - 8,y,z} - \\frac{7425 dt \\lambda}{436207616 dx_{1}} U_{t,x - 7,y,z} + \\frac{61425 dt \\lambda}{369098752 dx_{1}} U_{t,x - 6,y,z} - \\frac{325325 dt \\lambda}{301989888 dx_{1}} U_{t,x - 5,y,z} + \\frac{1254825 dt \\lambda}{234881024 dx_{1}} U_{t,x - 4,y,z} - \\frac{3864861 dt \\lambda}{167772160 dx_{1}} U_{t,x - 3,y,z} + \\frac{3578575 dt \\lambda}{33554432 dx_{1}} U_{t,x - 2,y,z} - \\frac{41409225 dt \\lambda}{33554432 dx_{1}} U_{t,x - 1,y,z} - \\frac{3578575 dt \\lambda}{33554432 dx_{1}} U_{t,x + 1,y,z} + \\frac{3864861 dt \\lambda}{167772160 dx_{1}} U_{t,x + 2,y,z} - \\frac{1254825 dt \\lambda}{234881024 dx_{1}} U_{t,x + 3,y,z} + \\frac{325325 dt \\lambda}{301989888 dx_{1}} U_{t,x + 4,y,z} - \\frac{61425 dt \\lambda}{369098752 dx_{1}} U_{t,x + 5,y,z} + \\frac{7425 dt \\lambda}{436207616 dx_{1}} U_{t,x + 6,y,z} - \\frac{143 dt \\lambda}{167772160 dx_{1}} U_{t,x + 7,y,z} + \\frac{41409225 dt \\mu U_{t,x,y,z}}{16777216 dx_{1}} + \\frac{143 dt \\mu}{83886080 dx_{1}} U_{t,x - 8,y,z} - \\frac{7425 dt \\mu}{218103808 dx_{1}} U_{t,x - 7,y,z} + \\frac{61425 dt \\mu}{184549376 dx_{1}} U_{t,x - 6,y,z} - \\frac{325325 dt \\mu}{150994944 dx_{1}} U_{t,x - 5,y,z} + \\frac{1254825 dt \\mu}{117440512 dx_{1}} U_{t,x - 4,y,z} - \\frac{3864861 dt \\mu}{83886080 dx_{1}} U_{t,x - 3,y,z} + \\frac{3578575 dt \\mu}{16777216 dx_{1}} U_{t,x - 2,y,z} - \\frac{41409225 dt \\mu}{16777216 dx_{1}} U_{t,x - 1,y,z} - \\frac{3578575 dt \\mu}{16777216 dx_{1}} U_{t,x + 1,y,z} + \\frac{3864861 dt \\mu}{83886080 dx_{1}} U_{t,x + 2,y,z} - \\frac{1254825 dt \\mu}{117440512 dx_{1}} U_{t,x + 3,y,z} + \\frac{325325 dt \\mu}{150994944 dx_{1}} U_{t,x + 4,y,z} - \\frac{61425 dt \\mu}{184549376 dx_{1}} U_{t,x + 5,y,z} + \\frac{7425 dt \\mu}{218103808 dx_{1}} U_{t,x + 6,y,z} - \\frac{143 dt \\mu}{83886080 dx_{1}} U_{t,x + 7,y,z} + Txx_{t,x,y,z}$$"
      ],
      "text/plain": [
       "41409225⋅dt⋅λ⋅W[t, x, y, z]   143⋅dt⋅λ⋅W[t, x, y, z - 8]   7425⋅dt⋅λ⋅W[t, x, y\n",
       "─────────────────────────── + ────────────────────────── - ───────────────────\n",
       "        33554432⋅dx₃                167772160⋅dx₃                 436207616⋅dx\n",
       "\n",
       ", z - 7]   61425⋅dt⋅λ⋅W[t, x, y, z - 6]   325325⋅dt⋅λ⋅W[t, x, y, z - 5]   1254\n",
       "──────── + ──────────────────────────── - ───────────────────────────── + ────\n",
       "₃                 369098752⋅dx₃                   301989888⋅dx₃               \n",
       "\n",
       "825⋅dt⋅λ⋅W[t, x, y, z - 4]   3864861⋅dt⋅λ⋅W[t, x, y, z - 3]   3578575⋅dt⋅λ⋅W[t\n",
       "────────────────────────── - ────────────────────────────── + ────────────────\n",
       "    234881024⋅dx₃                    167772160⋅dx₃                     3355443\n",
       "\n",
       ", x, y, z - 2]   41409225⋅dt⋅λ⋅W[t, x, y, z - 1]   3578575⋅dt⋅λ⋅W[t, x, y, z +\n",
       "────────────── - ─────────────────────────────── - ───────────────────────────\n",
       "2⋅dx₃                      33554432⋅dx₃                     33554432⋅dx₃      \n",
       "\n",
       " 1]   3864861⋅dt⋅λ⋅W[t, x, y, z + 2]   1254825⋅dt⋅λ⋅W[t, x, y, z + 3]   325325\n",
       "─── + ────────────────────────────── - ────────────────────────────── + ──────\n",
       "              167772160⋅dx₃                    234881024⋅dx₃                  \n",
       "\n",
       "⋅dt⋅λ⋅W[t, x, y, z + 4]   61425⋅dt⋅λ⋅W[t, x, y, z + 5]   7425⋅dt⋅λ⋅W[t, x, y, \n",
       "─────────────────────── - ──────────────────────────── + ─────────────────────\n",
       "  301989888⋅dx₃                  369098752⋅dx₃                  436207616⋅dx₃ \n",
       "\n",
       "z + 6]   143⋅dt⋅λ⋅W[t, x, y, z + 7]   41409225⋅dt⋅λ⋅V[t, x, y, z]   143⋅dt⋅λ⋅V\n",
       "────── - ────────────────────────── + ─────────────────────────── + ──────────\n",
       "               167772160⋅dx₃                  33554432⋅dx₂                1677\n",
       "\n",
       "[t, x, y - 8, z]   7425⋅dt⋅λ⋅V[t, x, y - 7, z]   61425⋅dt⋅λ⋅V[t, x, y - 6, z] \n",
       "──────────────── - ─────────────────────────── + ──────────────────────────── \n",
       "72160⋅dx₂                 436207616⋅dx₂                 369098752⋅dx₂         \n",
       "\n",
       "  325325⋅dt⋅λ⋅V[t, x, y - 5, z]   1254825⋅dt⋅λ⋅V[t, x, y - 4, z]   3864861⋅dt⋅\n",
       "- ───────────────────────────── + ────────────────────────────── - ───────────\n",
       "          301989888⋅dx₂                   234881024⋅dx₂                    167\n",
       "\n",
       "λ⋅V[t, x, y - 3, z]   3578575⋅dt⋅λ⋅V[t, x, y - 2, z]   41409225⋅dt⋅λ⋅V[t, x, y\n",
       "─────────────────── + ────────────────────────────── - ───────────────────────\n",
       "772160⋅dx₂                     33554432⋅dx₂                      33554432⋅dx₂ \n",
       "\n",
       " - 1, z]   3578575⋅dt⋅λ⋅V[t, x, y + 1, z]   3864861⋅dt⋅λ⋅V[t, x, y + 2, z]   1\n",
       "──────── - ────────────────────────────── + ────────────────────────────── - ─\n",
       "                    33554432⋅dx₂                    167772160⋅dx₂             \n",
       "\n",
       "254825⋅dt⋅λ⋅V[t, x, y + 3, z]   325325⋅dt⋅λ⋅V[t, x, y + 4, z]   61425⋅dt⋅λ⋅V[t\n",
       "───────────────────────────── + ───────────────────────────── - ──────────────\n",
       "       234881024⋅dx₂                    301989888⋅dx₂                  3690987\n",
       "\n",
       ", x, y + 5, z]   7425⋅dt⋅λ⋅V[t, x, y + 6, z]   143⋅dt⋅λ⋅V[t, x, y + 7, z]   41\n",
       "────────────── + ─────────────────────────── - ────────────────────────── + ──\n",
       "52⋅dx₂                  436207616⋅dx₂                167772160⋅dx₂            \n",
       "\n",
       "409225⋅dt⋅λ⋅U[t, x, y, z]   143⋅dt⋅λ⋅U[t, x - 8, y, z]   7425⋅dt⋅λ⋅U[t, x - 7,\n",
       "───────────────────────── + ────────────────────────── - ─────────────────────\n",
       "      33554432⋅dx₁                167772160⋅dx₁                 436207616⋅dx₁ \n",
       "\n",
       " y, z]   61425⋅dt⋅λ⋅U[t, x - 6, y, z]   325325⋅dt⋅λ⋅U[t, x - 5, y, z]   125482\n",
       "────── + ──────────────────────────── - ───────────────────────────── + ──────\n",
       "                369098752⋅dx₁                   301989888⋅dx₁                 \n",
       "\n",
       "5⋅dt⋅λ⋅U[t, x - 4, y, z]   3864861⋅dt⋅λ⋅U[t, x - 3, y, z]   3578575⋅dt⋅λ⋅U[t, \n",
       "──────────────────────── - ────────────────────────────── + ──────────────────\n",
       "  234881024⋅dx₁                    167772160⋅dx₁                     33554432⋅\n",
       "\n",
       "x - 2, y, z]   41409225⋅dt⋅λ⋅U[t, x - 1, y, z]   3578575⋅dt⋅λ⋅U[t, x + 1, y, z\n",
       "──────────── - ─────────────────────────────── - ─────────────────────────────\n",
       "dx₁                      33554432⋅dx₁                     33554432⋅dx₁        \n",
       "\n",
       "]   3864861⋅dt⋅λ⋅U[t, x + 2, y, z]   1254825⋅dt⋅λ⋅U[t, x + 3, y, z]   325325⋅d\n",
       "─ + ────────────────────────────── - ────────────────────────────── + ────────\n",
       "            167772160⋅dx₁                    234881024⋅dx₁                    \n",
       "\n",
       "t⋅λ⋅U[t, x + 4, y, z]   61425⋅dt⋅λ⋅U[t, x + 5, y, z]   7425⋅dt⋅λ⋅U[t, x + 6, y\n",
       "───────────────────── - ──────────────────────────── + ───────────────────────\n",
       "301989888⋅dx₁                  369098752⋅dx₁                  436207616⋅dx₁   \n",
       "\n",
       ", z]   143⋅dt⋅λ⋅U[t, x + 7, y, z]   41409225⋅dt⋅μ⋅U[t, x, y, z]   143⋅dt⋅μ⋅U[t\n",
       "──── - ────────────────────────── + ─────────────────────────── + ────────────\n",
       "             167772160⋅dx₁                  16777216⋅dx₁                 83886\n",
       "\n",
       ", x - 8, y, z]   7425⋅dt⋅μ⋅U[t, x - 7, y, z]   61425⋅dt⋅μ⋅U[t, x - 6, y, z]   \n",
       "────────────── - ─────────────────────────── + ──────────────────────────── - \n",
       "080⋅dx₁                 218103808⋅dx₁                 184549376⋅dx₁           \n",
       "\n",
       "325325⋅dt⋅μ⋅U[t, x - 5, y, z]   1254825⋅dt⋅μ⋅U[t, x - 4, y, z]   3864861⋅dt⋅μ⋅\n",
       "───────────────────────────── + ────────────────────────────── - ─────────────\n",
       "        150994944⋅dx₁                   117440512⋅dx₁                     8388\n",
       "\n",
       "U[t, x - 3, y, z]   3578575⋅dt⋅μ⋅U[t, x - 2, y, z]   41409225⋅dt⋅μ⋅U[t, x - 1,\n",
       "───────────────── + ────────────────────────────── - ─────────────────────────\n",
       "6080⋅dx₁                     16777216⋅dx₁                      16777216⋅dx₁   \n",
       "\n",
       " y, z]   3578575⋅dt⋅μ⋅U[t, x + 1, y, z]   3864861⋅dt⋅μ⋅U[t, x + 2, y, z]   125\n",
       "────── - ────────────────────────────── + ────────────────────────────── - ───\n",
       "                  16777216⋅dx₁                     83886080⋅dx₁               \n",
       "\n",
       "4825⋅dt⋅μ⋅U[t, x + 3, y, z]   325325⋅dt⋅μ⋅U[t, x + 4, y, z]   61425⋅dt⋅μ⋅U[t, \n",
       "─────────────────────────── + ───────────────────────────── - ────────────────\n",
       "     117440512⋅dx₁                    150994944⋅dx₁                  184549376\n",
       "\n",
       "x + 5, y, z]   7425⋅dt⋅μ⋅U[t, x + 6, y, z]   143⋅dt⋅μ⋅U[t, x + 7, y, z]       \n",
       "──────────── + ─────────────────────────── - ────────────────────────── + Txx[\n",
       "⋅dx₁                  218103808⋅dx₁                 83886080⋅dx₁              \n",
       "\n",
       "           \n",
       "t, x, y, z]\n",
       "           "
      ]
     },
     "execution_count": 58,
     "metadata": {},
     "output_type": "execute_result"
    }
   ],
   "source": [
    "Txx.kernel_aligned"
   ]
  },
  {
   "cell_type": "code",
   "execution_count": 31,
   "metadata": {
    "collapsed": false
   },
   "outputs": [],
   "source": [
    "grid.set_free_surface_boundary(dimension=1,side=0)\n",
    "grid.set_free_surface_boundary(dimension=1,side=1)\n",
    "grid.set_free_surface_boundary(dimension=2,side=0)\n",
    "grid.set_free_surface_boundary(dimension=2,side=1)\n",
    "grid.set_free_surface_boundary(dimension=3,side=0)\n",
    "grid.set_free_surface_boundary(dimension=3,side=1)"
   ]
  },
  {
   "cell_type": "markdown",
   "metadata": {},
   "source": [
    "###output using templates"
   ]
  },
  {
   "cell_type": "code",
   "execution_count": 36,
   "metadata": {
    "collapsed": false
   },
   "outputs": [
    {
     "name": "stdout",
     "output_type": "stream",
     "text": [
      "Generated: ../tmp/test_8order.cpp\n"
     ]
    }
   ],
   "source": [
    "# write to template file\n",
    "grid.generate('../tmp/test_8order.cpp')"
   ]
  },
  {
   "cell_type": "code",
   "execution_count": 14,
   "metadata": {
    "collapsed": false,
    "scrolled": true
   },
   "outputs": [
    {
     "data": {
      "image/png": "[encoded data removed]",
      "text/latex": [
       "$$\\left ( 1.5, \\quad 1.5, \\quad 36, \\quad 36, \\quad 9, \\quad 3\\right )$$"
      ],
      "text/plain": [
       "(1.5, 1.5, 36, 36, 9, 3)"
      ]
     },
     "execution_count": 14,
     "metadata": {},
     "output_type": "execute_result"
    }
   ],
   "source": [
    "grid.get_velocity_kernel_ai()"
   ]
  },
  {
   "cell_type": "code",
   "execution_count": 15,
   "metadata": {
    "collapsed": false,
    "scrolled": true
   },
   "outputs": [
    {
     "data": {
      "image/png": "[encoded data removed]",
      "text/latex": [
       "$$\\left ( 2.0, \\quad 2.0, \\quad 60, \\quad 60, \\quad 9, \\quad 6\\right )$$"
      ],
      "text/plain": [
       "(2.0, 2.0, 60, 60, 9, 6)"
      ]
     },
     "execution_count": 15,
     "metadata": {},
     "output_type": "execute_result"
    }
   ],
   "source": [
    "grid.get_stress_kernel_ai()"
   ]
  },
  {
   "cell_type": "code",
   "execution_count": 17,
   "metadata": {
    "collapsed": false
   },
   "outputs": [
    {
     "data": {
      "image/png": "[encoded data removed]",
      "text/latex": [
       "$$\\frac{1}{24 dx_{1} dx_{2} dx_{3}} \\left(\\beta dt dx_{1} dx_{2} \\left(27 Txz_{t + 1,x,y,z} + Txz_{t + 1,x,y,z - 2} - 27 Txz_{t + 1,x,y,z - 1} - Txz_{t + 1,x,y,z + 1}\\right) + \\beta dt dx_{1} dx_{3} \\left(27 Txy_{t + 1,x,y,z} + Txy_{t + 1,x,y - 2,z} - 27 Txy_{t + 1,x,y - 1,z} - Txy_{t + 1,x,y + 1,z}\\right) + \\beta dt dx_{2} dx_{3} \\left(- 27 Txx_{t + 1,x,y,z} + Txx_{t + 1,x - 1,y,z} + 27 Txx_{t + 1,x + 1,y,z} - Txx_{t + 1,x + 2,y,z}\\right) + 24 dx_{1} dx_{2} dx_{3} U_{t,x,y,z}\\right)$$"
      ],
      "text/plain": [
       "β⋅dt⋅dx₁⋅dx₂⋅(27⋅Txz[t + 1, x, y, z] + Txz[t + 1, x, y, z - 2] - 27⋅Txz[t + 1,\n",
       "──────────────────────────────────────────────────────────────────────────────\n",
       "                                                                              \n",
       "\n",
       " x, y, z - 1] - Txz[t + 1, x, y, z + 1]) + β⋅dt⋅dx₁⋅dx₃⋅(27⋅Txy[t + 1, x, y, z\n",
       "──────────────────────────────────────────────────────────────────────────────\n",
       "                                                                              \n",
       "\n",
       "] + Txy[t + 1, x, y - 2, z] - 27⋅Txy[t + 1, x, y - 1, z] - Txy[t + 1, x, y + 1\n",
       "──────────────────────────────────────────────────────────────────────────────\n",
       "                                 24⋅dx₁⋅dx₂⋅dx₃                               \n",
       "\n",
       ", z]) + β⋅dt⋅dx₂⋅dx₃⋅(-27⋅Txx[t + 1, x, y, z] + Txx[t + 1, x - 1, y, z] + 27⋅T\n",
       "──────────────────────────────────────────────────────────────────────────────\n",
       "                                                                              \n",
       "\n",
       "xx[t + 1, x + 1, y, z] - Txx[t + 1, x + 2, y, z]) + 24⋅dx₁⋅dx₂⋅dx₃⋅U[t, x, y, \n",
       "──────────────────────────────────────────────────────────────────────────────\n",
       "                                                                              \n",
       "\n",
       "z]\n",
       "──\n",
       "  "
      ]
     },
     "execution_count": 17,
     "metadata": {},
     "output_type": "execute_result"
    }
   ],
   "source": [
    "U.kernel_aligned"
   ]
  },
  {
   "cell_type": "code",
   "execution_count": 24,
   "metadata": {
    "collapsed": false
   },
   "outputs": [
    {
     "data": {
      "image/png": "[encoded data removed]",
      "text/latex": [
       "$$U_{t + 1,dim_{1} - 3,y,z} = \\frac{1}{dx_{2} dx_{3} \\left(\\lambda + 2 \\mu\\right)} \\left(- dx_{1} dx_{2} \\lambda W_{t + 1,dim_{1} - 3,y,z} + dx_{1} dx_{2} \\lambda W_{t + 1,dim_{1} - 3,y,z - 1} - dx_{1} dx_{3} \\lambda V_{t + 1,dim_{1} - 3,y,z} + dx_{1} dx_{3} \\lambda V_{t + 1,dim_{1} - 3,y - 1,z} + dx_{2} dx_{3} \\lambda U_{t + 1,dim_{1} - 4,y,z} + 2 dx_{2} dx_{3} \\mu U_{t + 1,dim_{1} - 4,y,z}\\right)$$"
      ],
      "text/plain": [
       "                           -dx₁⋅dx₂⋅λ⋅W[t + 1, dim1 - 3, y, z] + dx₁⋅dx₂⋅λ⋅W[t\n",
       "U[t + 1, dim1 - 3, y, z] = ───────────────────────────────────────────────────\n",
       "                                                                              \n",
       "\n",
       " + 1, dim1 - 3, y, z - 1] - dx₁⋅dx₃⋅λ⋅V[t + 1, dim1 - 3, y, z] + dx₁⋅dx₃⋅λ⋅V[t\n",
       "──────────────────────────────────────────────────────────────────────────────\n",
       "                                                       dx₂⋅dx₃⋅(λ + 2⋅μ)      \n",
       "\n",
       " + 1, dim1 - 3, y - 1, z] + dx₂⋅dx₃⋅λ⋅U[t + 1, dim1 - 4, y, z] + 2⋅dx₂⋅dx₃⋅μ⋅U\n",
       "──────────────────────────────────────────────────────────────────────────────\n",
       "                                                                              \n",
       "\n",
       "[t + 1, dim1 - 4, y, z]\n",
       "───────────────────────\n",
       "                       "
      ]
     },
     "execution_count": 24,
     "metadata": {},
     "output_type": "execute_result"
    }
   ],
   "source": [
    "U.bc[1][1][0]"
   ]
  },
  {
   "cell_type": "code",
   "execution_count": 19,
   "metadata": {
    "collapsed": false
   },
   "outputs": [
    {
     "data": {
      "text/plain": [
       "u'#pragma omp for\\nfor(int x=4;x<dim1 - 4;++x){\\nfor(int y=4;y<dim2 - 4;++y){\\n#pragma GCC ivdep\\nfor(int z=4;z<dim3 - 4;++z){\\nU[t1][x][y][z]=-2.392578125e-1*Txx[t1][x][y][z] + 1.39508928571429e-4*Txx[t1][x - 3][y][z] - 1.9140625e-3*Txx[t1][x - 2][y][z] + 1.59505208333333e-2*Txx[t1][x - 1][y][z] + 2.392578125e-1*Txx[t1][x + 1][y][z] - 1.59505208333333e-2*Txx[t1][x + 2][y][z] + 1.9140625e-3*Txx[t1][x + 3][y][z] - 1.39508928571429e-4*Txx[t1][x + 4][y][z] + 2.392578125e-1*Txy[t1][x][y][z] + 1.39508928571429e-4*Txy[t1][x][y - 4][z] - 1.9140625e-3*Txy[t1][x][y - 3][z] + 1.59505208333333e-2*Txy[t1][x][y - 2][z] - 2.392578125e-1*Txy[t1][x][y - 1][z] - 1.59505208333333e-2*Txy[t1][x][y + 1][z] + 1.9140625e-3*Txy[t1][x][y + 2][z] - 1.39508928571429e-4*Txy[t1][x][y + 3][z] + 2.392578125e-1*Txz[t1][x][y][z] + 1.39508928571429e-4*Txz[t1][x][y][z - 4] - 1.9140625e-3*Txz[t1][x][y][z - 3] + 1.59505208333333e-2*Txz[t1][x][y][z - 2] - 2.392578125e-1*Txz[t1][x][y][z - 1] - 1.59505208333333e-2*Txz[t1][x][y][z + 1] + 1.9140625e-3*Txz[t1][x][y][z + 2] - 1.39508928571429e-4*Txz[t1][x][y][z + 3] + U[t0][x][y][z];\\nV[t1][x][y][z]=2.392578125e-1*Txy[t1][x][y][z] + 1.39508928571429e-4*Txy[t1][x - 4][y][z] - 1.9140625e-3*Txy[t1][x - 3][y][z] + 1.59505208333333e-2*Txy[t1][x - 2][y][z] - 2.392578125e-1*Txy[t1][x - 1][y][z] - 1.59505208333333e-2*Txy[t1][x + 1][y][z] + 1.9140625e-3*Txy[t1][x + 2][y][z] - 1.39508928571429e-4*Txy[t1][x + 3][y][z] - 2.392578125e-1*Tyy[t1][x][y][z] + 1.39508928571429e-4*Tyy[t1][x][y - 3][z] - 1.9140625e-3*Tyy[t1][x][y - 2][z] + 1.59505208333333e-2*Tyy[t1][x][y - 1][z] + 2.392578125e-1*Tyy[t1][x][y + 1][z] - 1.59505208333333e-2*Tyy[t1][x][y + 2][z] + 1.9140625e-3*Tyy[t1][x][y + 3][z] - 1.39508928571429e-4*Tyy[t1][x][y + 4][z] + 2.392578125e-1*Tyz[t1][x][y][z] + 1.39508928571429e-4*Tyz[t1][x][y][z - 4] - 1.9140625e-3*Tyz[t1][x][y][z - 3] + 1.59505208333333e-2*Tyz[t1][x][y][z - 2] - 2.392578125e-1*Tyz[t1][x][y][z - 1] - 1.59505208333333e-2*Tyz[t1][x][y][z + 1] + 1.9140625e-3*Tyz[t1][x][y][z + 2] - 1.39508928571429e-4*Tyz[t1][x][y][z + 3] + V[t0][x][y][z];\\nW[t1][x][y][z]=2.392578125e-1*Txz[t1][x][y][z] + 1.39508928571429e-4*Txz[t1][x - 4][y][z] - 1.9140625e-3*Txz[t1][x - 3][y][z] + 1.59505208333333e-2*Txz[t1][x - 2][y][z] - 2.392578125e-1*Txz[t1][x - 1][y][z] - 1.59505208333333e-2*Txz[t1][x + 1][y][z] + 1.9140625e-3*Txz[t1][x + 2][y][z] - 1.39508928571429e-4*Txz[t1][x + 3][y][z] + 2.392578125e-1*Tyz[t1][x][y][z] + 1.39508928571429e-4*Tyz[t1][x][y - 4][z] - 1.9140625e-3*Tyz[t1][x][y - 3][z] + 1.59505208333333e-2*Tyz[t1][x][y - 2][z] - 2.392578125e-1*Tyz[t1][x][y - 1][z] - 1.59505208333333e-2*Tyz[t1][x][y + 1][z] + 1.9140625e-3*Tyz[t1][x][y + 2][z] - 1.39508928571429e-4*Tyz[t1][x][y + 3][z] - 2.392578125e-1*Tzz[t1][x][y][z] + 1.39508928571429e-4*Tzz[t1][x][y][z - 3] - 1.9140625e-3*Tzz[t1][x][y][z - 2] + 1.59505208333333e-2*Tzz[t1][x][y][z - 1] + 2.392578125e-1*Tzz[t1][x][y][z + 1] - 1.59505208333333e-2*Tzz[t1][x][y][z + 2] + 1.9140625e-3*Tzz[t1][x][y][z + 3] - 1.39508928571429e-4*Tzz[t1][x][y][z + 4] + W[t0][x][y][z];\\n}\\n}\\n}\\n'"
      ]
     },
     "execution_count": 19,
     "metadata": {},
     "output_type": "execute_result"
    }
   ],
   "source": [
    "grid.velocity_loop"
   ]
  },
  {
   "cell_type": "code",
   "execution_count": 21,
   "metadata": {
    "collapsed": false
   },
   "outputs": [
    {
     "data": {
      "image/png": "[encoded data removed]",
      "text/latex": [
       "$$\\left ( 3.0, \\quad 3.0, \\quad 72, \\quad 72, \\quad 9, \\quad 3\\right )$$"
      ],
      "text/plain": [
       "(3.0, 3.0, 72, 72, 9, 3)"
      ]
     },
     "execution_count": 21,
     "metadata": {},
     "output_type": "execute_result"
    }
   ],
   "source": [
    "grid.get_velocity_kernel_ai()"
   ]
  },
  {
   "cell_type": "code",
   "execution_count": 22,
   "metadata": {
    "collapsed": false
   },
   "outputs": [
    {
     "data": {
      "image/png": "[encoded data removed]",
      "text/latex": [
       "$$\\left ( 4.0, \\quad 4.0, \\quad 120, \\quad 120, \\quad 9, \\quad 6\\right )$$"
      ],
      "text/plain": [
       "(4.0, 4.0, 120, 120, 9, 6)"
      ]
     },
     "execution_count": 22,
     "metadata": {},
     "output_type": "execute_result"
    }
   ],
   "source": [
    "grid.get_stress_kernel_ai()"
   ]
  },
  {
   "cell_type": "code",
   "execution_count": 32,
   "metadata": {
    "collapsed": false
   },
   "outputs": [
    {
     "data": {
      "text/plain": [
       "[[None, None],\n",
       " [[U[t + 1, 3, y, z] == 0,\n",
       "   U[t + 1, 2, y, z] == 0,\n",
       "   U[t + 1, 1, y, z] == 0,\n",
       "   U[t + 1, 0, y, z] == 0],\n",
       "  [U[t + 1, dim1 - 5, y, z] == 0,\n",
       "   U[t + 1, dim1 - 4, y, z] == 0,\n",
       "   U[t + 1, dim1 - 3, y, z] == 0,\n",
       "   U[t + 1, dim1 - 2, y, z] == 0]],\n",
       " [[U[t + 1, x, 3, z] == 0,\n",
       "   U[t + 1, x, 2, z] == 0,\n",
       "   U[t + 1, x, 1, z] == 0,\n",
       "   U[t + 1, x, 0, z] == 0],\n",
       "  [U[t + 1, x, dim2 - 4, z] == 0,\n",
       "   U[t + 1, x, dim2 - 3, z] == 0,\n",
       "   U[t + 1, x, dim2 - 2, z] == 0,\n",
       "   U[t + 1, x, dim2 - 1, z] == 0]],\n",
       " [[U[t + 1, x, y, 3] == 0,\n",
       "   U[t + 1, x, y, 2] == 0,\n",
       "   U[t + 1, x, y, 1] == 0,\n",
       "   U[t + 1, x, y, 0] == 0],\n",
       "  [U[t + 1, x, y, dim3 - 4] == 0,\n",
       "   U[t + 1, x, y, dim3 - 3] == 0,\n",
       "   U[t + 1, x, y, dim3 - 2] == 0,\n",
       "   U[t + 1, x, y, dim3 - 1] == 0]]]"
      ]
     },
     "execution_count": 32,
     "metadata": {},
     "output_type": "execute_result"
    }
   ],
   "source": [
    "U.bc"
   ]
  },
  {
   "cell_type": "code",
   "execution_count": 30,
   "metadata": {
    "collapsed": false
   },
   "outputs": [
    {
     "data": {
      "text/plain": [
       "[[None, None],\n",
       " [[Txx[t + 1, 4, y, z] == 0,\n",
       "   Txx[t + 1, 3, y, z] == -Txx[t + 1, 5, y, z],\n",
       "   Txx[t + 1, 2, y, z] == -Txx[t + 1, 6, y, z],\n",
       "   Txx[t + 1, 1, y, z] == -Txx[t + 1, 7, y, z]],\n",
       "  [Txx[t + 1, dim1 - 5, y, z] == 0,\n",
       "   Txx[t + 1, dim1 - 4, y, z] == -Txx[t + 1, dim1 - 6, y, z],\n",
       "   Txx[t + 1, dim1 - 3, y, z] == -Txx[t + 1, dim1 - 7, y, z],\n",
       "   Txx[t + 1, dim1 - 2, y, z] == -Txx[t + 1, dim1 - 8, y, z]]],\n",
       " [[], []],\n",
       " [[], []]]"
      ]
     },
     "execution_count": 30,
     "metadata": {},
     "output_type": "execute_result"
    }
   ],
   "source": [
    "Txx.bc"
   ]
  },
  {
   "cell_type": "code",
   "execution_count": 33,
   "metadata": {
    "collapsed": false
   },
   "outputs": [
    {
     "data": {
      "text/plain": [
       "u'#pragma omp for\\nfor(int y=1;y<dim2 - 1;++y){\\n#pragma GCC ivdep\\nfor(int z=1;z<dim3 - 1;++z){\\nU[t1][3][y][z] = 0;\\nU[t1][2][y][z] = 0;\\nU[t1][1][y][z] = 0;\\nU[t1][0][y][z] = 0;\\n}\\n}\\n#pragma omp for\\nfor(int y=1;y<dim2 - 1;++y){\\n#pragma GCC ivdep\\nfor(int z=1;z<dim3 - 1;++z){\\nU[t1][dim1 - 5][y][z] = 0;\\nU[t1][dim1 - 4][y][z] = 0;\\nU[t1][dim1 - 3][y][z] = 0;\\nU[t1][dim1 - 2][y][z] = 0;\\n}\\n}\\n#pragma omp for\\nfor(int y=1;y<dim2 - 1;++y){\\n#pragma GCC ivdep\\nfor(int z=1;z<dim3 - 1;++z){\\nV[t1][3][y][z] = 0;\\nV[t1][2][y][z] = 0;\\nV[t1][1][y][z] = 0;\\nV[t1][0][y][z] = 0;\\n}\\n}\\n#pragma omp for\\nfor(int y=1;y<dim2 - 1;++y){\\n#pragma GCC ivdep\\nfor(int z=1;z<dim3 - 1;++z){\\nV[t1][dim1 - 4][y][z] = 0;\\nV[t1][dim1 - 3][y][z] = 0;\\nV[t1][dim1 - 2][y][z] = 0;\\nV[t1][dim1 - 1][y][z] = 0;\\n}\\n}\\n#pragma omp for\\nfor(int y=1;y<dim2 - 1;++y){\\n#pragma GCC ivdep\\nfor(int z=1;z<dim3 - 1;++z){\\nW[t1][3][y][z] = 0;\\nW[t1][2][y][z] = 0;\\nW[t1][1][y][z] = 0;\\nW[t1][0][y][z] = 0;\\n}\\n}\\n#pragma omp for\\nfor(int y=1;y<dim2 - 1;++y){\\n#pragma GCC ivdep\\nfor(int z=1;z<dim3 - 1;++z){\\nW[t1][dim1 - 4][y][z] = 0;\\nW[t1][dim1 - 3][y][z] = 0;\\nW[t1][dim1 - 2][y][z] = 0;\\nW[t1][dim1 - 1][y][z] = 0;\\n}\\n}\\n#pragma omp for\\nfor(int x=1;x<dim1 - 1;++x){\\n#pragma GCC ivdep\\nfor(int z=1;z<dim3 - 1;++z){\\nV[t1][x][3][z] = 0;\\nV[t1][x][2][z] = 0;\\nV[t1][x][1][z] = 0;\\nV[t1][x][0][z] = 0;\\n}\\n}\\n#pragma omp for\\nfor(int x=1;x<dim1 - 1;++x){\\n#pragma GCC ivdep\\nfor(int z=1;z<dim3 - 1;++z){\\nV[t1][x][dim2 - 5][z] = 0;\\nV[t1][x][dim2 - 4][z] = 0;\\nV[t1][x][dim2 - 3][z] = 0;\\nV[t1][x][dim2 - 2][z] = 0;\\n}\\n}\\n#pragma omp for\\nfor(int x=1;x<dim1 - 1;++x){\\n#pragma GCC ivdep\\nfor(int z=1;z<dim3 - 1;++z){\\nU[t1][x][3][z] = 0;\\nU[t1][x][2][z] = 0;\\nU[t1][x][1][z] = 0;\\nU[t1][x][0][z] = 0;\\n}\\n}\\n#pragma omp for\\nfor(int x=1;x<dim1 - 1;++x){\\n#pragma GCC ivdep\\nfor(int z=1;z<dim3 - 1;++z){\\nU[t1][x][dim2 - 4][z] = 0;\\nU[t1][x][dim2 - 3][z] = 0;\\nU[t1][x][dim2 - 2][z] = 0;\\nU[t1][x][dim2 - 1][z] = 0;\\n}\\n}\\n#pragma omp for\\nfor(int x=1;x<dim1 - 1;++x){\\n#pragma GCC ivdep\\nfor(int z=1;z<dim3 - 1;++z){\\nW[t1][x][3][z] = 0;\\nW[t1][x][2][z] = 0;\\nW[t1][x][1][z] = 0;\\nW[t1][x][0][z] = 0;\\n}\\n}\\n#pragma omp for\\nfor(int x=1;x<dim1 - 1;++x){\\n#pragma GCC ivdep\\nfor(int z=1;z<dim3 - 1;++z){\\nW[t1][x][dim2 - 4][z] = 0;\\nW[t1][x][dim2 - 3][z] = 0;\\nW[t1][x][dim2 - 2][z] = 0;\\nW[t1][x][dim2 - 1][z] = 0;\\n}\\n}\\n#pragma omp for\\nfor(int x=1;x<dim1 - 1;++x){\\n#pragma GCC ivdep\\nfor(int y=1;y<dim2 - 1;++y){\\nW[t1][x][y][3] = 0;\\nW[t1][x][y][2] = 0;\\nW[t1][x][y][1] = 0;\\nW[t1][x][y][0] = 0;\\n}\\n}\\n#pragma omp for\\nfor(int x=1;x<dim1 - 1;++x){\\n#pragma GCC ivdep\\nfor(int y=1;y<dim2 - 1;++y){\\nW[t1][x][y][dim3 - 5] = 0;\\nW[t1][x][y][dim3 - 4] = 0;\\nW[t1][x][y][dim3 - 3] = 0;\\nW[t1][x][y][dim3 - 2] = 0;\\n}\\n}\\n#pragma omp for\\nfor(int x=1;x<dim1 - 1;++x){\\n#pragma GCC ivdep\\nfor(int y=1;y<dim2 - 1;++y){\\nU[t1][x][y][3] = 0;\\nU[t1][x][y][2] = 0;\\nU[t1][x][y][1] = 0;\\nU[t1][x][y][0] = 0;\\n}\\n}\\n#pragma omp for\\nfor(int x=1;x<dim1 - 1;++x){\\n#pragma GCC ivdep\\nfor(int y=1;y<dim2 - 1;++y){\\nU[t1][x][y][dim3 - 4] = 0;\\nU[t1][x][y][dim3 - 3] = 0;\\nU[t1][x][y][dim3 - 2] = 0;\\nU[t1][x][y][dim3 - 1] = 0;\\n}\\n}\\n#pragma omp for\\nfor(int x=1;x<dim1 - 1;++x){\\n#pragma GCC ivdep\\nfor(int y=1;y<dim2 - 1;++y){\\nV[t1][x][y][3] = 0;\\nV[t1][x][y][2] = 0;\\nV[t1][x][y][1] = 0;\\nV[t1][x][y][0] = 0;\\n}\\n}\\n#pragma omp for\\nfor(int x=1;x<dim1 - 1;++x){\\n#pragma GCC ivdep\\nfor(int y=1;y<dim2 - 1;++y){\\nV[t1][x][y][dim3 - 4] = 0;\\nV[t1][x][y][dim3 - 3] = 0;\\nV[t1][x][y][dim3 - 2] = 0;\\nV[t1][x][y][dim3 - 1] = 0;\\n}\\n}\\n'"
      ]
     },
     "execution_count": 33,
     "metadata": {},
     "output_type": "execute_result"
    }
   ],
   "source": [
    "grid.velocity_bc"
   ]
  },
  {
   "cell_type": "code",
   "execution_count": 35,
   "metadata": {
    "collapsed": true
   },
   "outputs": [],
   "source": [
    "grid.set_switches(omp=True, simd=False, ivdep=True,\n",
    "                  double=False, expand=True, eval_const=True, converge=True)"
   ]
  },
  {
   "cell_type": "code",
   "execution_count": null,
   "metadata": {
    "collapsed": true
   },
   "outputs": [],
   "source": []
  }
 ],
 "metadata": {
  "kernelspec": {
   "display_name": "Python 2",
   "language": "python",
   "name": "python2"
  },
  "language_info": {
   "codemirror_mode": {
    "name": "ipython",
    "version": 2
   },
   "file_extension": ".py",
   "mimetype": "text/x-python",
   "name": "python",
   "nbconvert_exporter": "python",
   "pygments_lexer": "ipython2",
   "version": "2.7.10"
  }
 },
 "nbformat": 4,
 "nbformat_minor": 0
}
