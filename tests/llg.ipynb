{
 "cells": [
  {
   "cell_type": "code",
   "execution_count": 6,
   "metadata": {
    "collapsed": false
   },
   "outputs": [
    {
     "name": "stdout",
     "output_type": "stream",
     "text": [
      "The autoreload extension is already loaded. To reload it, use:\n",
      "  %reload_ext autoreload\n"
     ]
    }
   ],
   "source": [
    "%load_ext autoreload\n",
    "%autoreload 2\n",
    "import os, sys\n",
    "sys.path.append(os.path.abspath(os.pardir))"
   ]
  },
  {
   "cell_type": "code",
   "execution_count": 7,
   "metadata": {
    "collapsed": false
   },
   "outputs": [],
   "source": [
    "# %reset\n",
    "from sympy import symbols, init_printing, simplify, solve, srepr, Add, Symbol, Integer, Float, pi, cos, sin, Rational\n",
    "from sympy import IndexedBase, Eq, simplify, sqrt, latex\n",
    "from mako.template import Template\n",
    "from mako.lookup import TemplateLookup\n",
    "from mako.runtime import Context\n",
    "from StringIO import StringIO\n",
    "from opesci import *\n",
    "init_printing()"
   ]
  },
  {
   "cell_type": "code",
   "execution_count": 53,
   "metadata": {
    "collapsed": true
   },
   "outputs": [],
   "source": [
    "Mx = SField('Mx', dimension=3, direction=(1, 1))\n",
    "My = SField('My', dimension=3, direction=(1, 1))\n",
    "Mz = SField('Mz', dimension=3, direction=(1, 1))"
   ]
  },
  {
   "cell_type": "code",
   "execution_count": 95,
   "metadata": {
    "collapsed": false
   },
   "outputs": [
    {
     "data": {
      "image/png": "[encoded data removed]",
      "text/latex": [
       "$$\\left[\\begin{matrix}Mx_{t,x,y,z}\\\\My_{t,x,y,z}\\\\Mz_{t,x,y,z}\\end{matrix}\\right]$$"
      ],
      "text/plain": [
       "⎡Mx[t, x, y, z]⎤\n",
       "⎢              ⎥\n",
       "⎢My[t, x, y, z]⎥\n",
       "⎢              ⎥\n",
       "⎣Mz[t, x, y, z]⎦"
      ]
     },
     "execution_count": 95,
     "metadata": {},
     "output_type": "execute_result"
    }
   ],
   "source": [
    "M = Matrix([Mx[t,x,y,z],My[t,x,y,z],Mz[t,x,y,z]]); M"
   ]
  },
  {
   "cell_type": "code",
   "execution_count": 10,
   "metadata": {
    "collapsed": false
   },
   "outputs": [
    {
     "data": {
      "image/png": "[encoded data removed]",
      "text/latex": [
       "$$\\left[\\begin{matrix}0\\\\0\\\\1\\end{matrix}\\right]$$"
      ],
      "text/plain": [
       "⎡0⎤\n",
       "⎢ ⎥\n",
       "⎢0⎥\n",
       "⎢ ⎥\n",
       "⎣1⎦"
      ]
     },
     "execution_count": 10,
     "metadata": {},
     "output_type": "execute_result"
    }
   ],
   "source": [
    "H_eff = Matrix([0,0,1]);H_eff"
   ]
  },
  {
   "cell_type": "code",
   "execution_count": 11,
   "metadata": {
    "collapsed": true
   },
   "outputs": [],
   "source": [
    "t, x,y,z = symbols('t x y z')"
   ]
  },
  {
   "cell_type": "code",
   "execution_count": 12,
   "metadata": {
    "collapsed": true
   },
   "outputs": [],
   "source": [
    "dt, h = symbols('dt h')"
   ]
  },
  {
   "cell_type": "code",
   "execution_count": 55,
   "metadata": {
    "collapsed": true
   },
   "outputs": [],
   "source": [
    "Mx.set_indices([t,x,y,z])\n",
    "My.set_indices([t,x,y,z])\n",
    "Mz.set_indices([t,x,y,z])"
   ]
  },
  {
   "cell_type": "code",
   "execution_count": 56,
   "metadata": {
    "collapsed": true
   },
   "outputs": [],
   "source": [
    "Mx.set_spacing([dt,h,h,h])\n",
    "My.set_spacing([dt,h,h,h])\n",
    "Mz.set_spacing([dt,h,h,h])"
   ]
  },
  {
   "cell_type": "code",
   "execution_count": 57,
   "metadata": {
    "collapsed": true
   },
   "outputs": [],
   "source": [
    "Mx.set_accuracy([1,1,1,1])\n",
    "My.set_accuracy([1,1,1,1])\n",
    "Mz.set_accuracy([1,1,1,1])"
   ]
  },
  {
   "cell_type": "code",
   "execution_count": 58,
   "metadata": {
    "collapsed": false
   },
   "outputs": [
    {
     "data": {
      "image/png": "[encoded data removed]",
      "text/latex": [
       "$$\\left[\\begin{matrix}Mx_{t,x,y,z}\\\\- \\frac{Mx_{t - 1,x,y,z}}{2 dt} + \\frac{Mx_{t + 1,x,y,z}}{2 dt}\\\\- \\frac{2 Mx_{t,x,y,z}}{dt^{2}} + \\frac{1}{dt^{2}} Mx_{t - 1,x,y,z} + \\frac{1}{dt^{2}} Mx_{t + 1,x,y,z}\\end{matrix}\\right]$$"
      ],
      "text/plain": [
       "⎡                       Mx[t, x, y, z]                       ⎤\n",
       "⎢                                                            ⎥\n",
       "⎢           Mx[t - 1, x, y, z]   Mx[t + 1, x, y, z]          ⎥\n",
       "⎢         - ────────────────── + ──────────────────          ⎥\n",
       "⎢                  2⋅dt                 2⋅dt                 ⎥\n",
       "⎢                                                            ⎥\n",
       "⎢  2⋅Mx[t, x, y, z]   Mx[t - 1, x, y, z]   Mx[t + 1, x, y, z]⎥\n",
       "⎢- ──────────────── + ────────────────── + ──────────────────⎥\n",
       "⎢          2                   2                    2        ⎥\n",
       "⎣        dt                  dt                   dt         ⎦"
      ]
     },
     "execution_count": 58,
     "metadata": {},
     "output_type": "execute_result"
    }
   ],
   "source": [
    "Deriv(Mx,[t,x,y,z],0,dt,2)"
   ]
  },
  {
   "cell_type": "code",
   "execution_count": 59,
   "metadata": {
    "collapsed": false
   },
   "outputs": [],
   "source": [
    "Mx.populate_derivatives(max_order=2)\n",
    "My.populate_derivatives(max_order=2)\n",
    "Mz.populate_derivatives(max_order=2)"
   ]
  },
  {
   "cell_type": "code",
   "execution_count": 60,
   "metadata": {
    "collapsed": false
   },
   "outputs": [
    {
     "data": {
      "text/plain": [
       "[[None, D_Mx_t_1, D_Mx_t_2],\n",
       " [None, D_Mx_x_1, D_Mx_x_2],\n",
       " [None, D_Mx_y_1, D_Mx_y_2],\n",
       " [None, D_Mx_z_1, D_Mx_z_2]]"
      ]
     },
     "execution_count": 60,
     "metadata": {},
     "output_type": "execute_result"
    }
   ],
   "source": [
    "Mx.d"
   ]
  },
  {
   "cell_type": "code",
   "execution_count": 74,
   "metadata": {
    "collapsed": false
   },
   "outputs": [],
   "source": [
    "gamma, lam = symbols('gamma lambda')\n",
    "A, mu0, Ms, K = symbols('A mu_0 Ms K')\n",
    "e = Matrix([1,1,1])\n",
    "H = Matrix([1,1,1])"
   ]
  },
  {
   "cell_type": "code",
   "execution_count": 75,
   "metadata": {
    "collapsed": false
   },
   "outputs": [
    {
     "data": {
      "image/png": "[encoded data removed]",
      "text/latex": [
       "$$\\left[\\begin{matrix}D_{Mx x 2} + D_{Mx y 2} + D_{Mx z 2}\\\\D_{My x 2} + D_{My y 2} + D_{My z 2}\\\\D_{Mz x 2} + D_{Mz y 2} + D_{Mz z 2}\\end{matrix}\\right]$$"
      ],
      "text/plain": [
       "⎡D_Mx_x_2 + D_Mx_y_2 + D_Mx_z_2⎤\n",
       "⎢                              ⎥\n",
       "⎢D_My_x_2 + D_My_y_2 + D_My_z_2⎥\n",
       "⎢                              ⎥\n",
       "⎣D_Mz_x_2 + D_Mz_y_2 + D_Mz_z_2⎦"
      ]
     },
     "execution_count": 75,
     "metadata": {},
     "output_type": "execute_result"
    }
   ],
   "source": [
    "M_laplace = Matrix([Mx.d[1][2]+Mx.d[2][2]+Mx.d[3][2],My.d[1][2]+My.d[2][2]+My.d[3][2],Mz.d[1][2]+Mz.d[2][2]+Mz.d[3][2]])\n",
    "M_laplace"
   ]
  },
  {
   "cell_type": "code",
   "execution_count": 98,
   "metadata": {
    "collapsed": false
   },
   "outputs": [
    {
     "data": {
      "image/png": "[encoded data removed]",
      "text/latex": [
       "$$\\left[\\begin{matrix}\\frac{2 A}{Ms \\mu_{0}} \\left(D_{Mx x 2} + D_{Mx y 2} + D_{Mx z 2}\\right) - \\frac{2 K}{Ms \\mu_{0}} \\left(Mx_{t,x,y,z} + My_{t,x,y,z} + Mz_{t,x,y,z}\\right) + 1\\\\\\frac{2 A}{Ms \\mu_{0}} \\left(D_{My x 2} + D_{My y 2} + D_{My z 2}\\right) - \\frac{2 K}{Ms \\mu_{0}} \\left(Mx_{t,x,y,z} + My_{t,x,y,z} + Mz_{t,x,y,z}\\right) + 1\\\\\\frac{2 A}{Ms \\mu_{0}} \\left(D_{Mz x 2} + D_{Mz y 2} + D_{Mz z 2}\\right) - \\frac{2 K}{Ms \\mu_{0}} \\left(Mx_{t,x,y,z} + My_{t,x,y,z} + Mz_{t,x,y,z}\\right) + 1\\end{matrix}\\right]$$"
      ],
      "text/plain": [
       "⎡2⋅A⋅(D_Mx_x_2 + D_Mx_y_2 + D_Mx_z_2)   2⋅K⋅(Mx[t, x, y, z] + My[t, x, y, z] +\n",
       "⎢──────────────────────────────────── - ──────────────────────────────────────\n",
       "⎢               Ms⋅μ₀                                           Ms⋅μ₀         \n",
       "⎢                                                                             \n",
       "⎢2⋅A⋅(D_My_x_2 + D_My_y_2 + D_My_z_2)   2⋅K⋅(Mx[t, x, y, z] + My[t, x, y, z] +\n",
       "⎢──────────────────────────────────── - ──────────────────────────────────────\n",
       "⎢               Ms⋅μ₀                                           Ms⋅μ₀         \n",
       "⎢                                                                             \n",
       "⎢2⋅A⋅(D_Mz_x_2 + D_Mz_y_2 + D_Mz_z_2)   2⋅K⋅(Mx[t, x, y, z] + My[t, x, y, z] +\n",
       "⎢──────────────────────────────────── - ──────────────────────────────────────\n",
       "⎣               Ms⋅μ₀                                           Ms⋅μ₀         \n",
       "\n",
       " Mz[t, x, y, z])    ⎤\n",
       "──────────────── + 1⎥\n",
       "                    ⎥\n",
       "                    ⎥\n",
       " Mz[t, x, y, z])    ⎥\n",
       "──────────────── + 1⎥\n",
       "                    ⎥\n",
       "                    ⎥\n",
       " Mz[t, x, y, z])    ⎥\n",
       "──────────────── + 1⎥\n",
       "                    ⎦"
      ]
     },
     "execution_count": 98,
     "metadata": {},
     "output_type": "execute_result"
    }
   ],
   "source": [
    "H_eff = 2*A/mu0/Ms*M_laplace - 2*K/mu0/Ms*(M.dot(e))*e + H\n",
    "H_eff"
   ]
  },
  {
   "cell_type": "code",
   "execution_count": 82,
   "metadata": {
    "collapsed": false
   },
   "outputs": [
    {
     "data": {
      "text/plain": [
       "[[None, D_Mx_t_1, D_Mx_t_2],\n",
       " [None, D_Mx_x_1, D_Mx_x_2],\n",
       " [None, D_Mx_y_1, D_Mx_y_2],\n",
       " [None, D_Mx_z_1, D_Mx_z_2]]"
      ]
     },
     "execution_count": 82,
     "metadata": {},
     "output_type": "execute_result"
    }
   ],
   "source": [
    "Mx.d"
   ]
  },
  {
   "cell_type": "code",
   "execution_count": 99,
   "metadata": {
    "collapsed": false
   },
   "outputs": [],
   "source": [
    "eq11 = Eq(Mx.d[0][1], (-gamma*(M.cross(H_eff)) - lam*M.cross(M.cross(H_eff)))[0])\n",
    "eq12 = Eq(My.d[0][1], (-gamma*(M.cross(H_eff)) - lam*M.cross(M.cross(H_eff)))[1])\n",
    "eq13 = Eq(Mz.d[0][1], (-gamma*(M.cross(H_eff)) - lam*M.cross(M.cross(H_eff)))[2])"
   ]
  },
  {
   "cell_type": "code",
   "execution_count": 100,
   "metadata": {
    "collapsed": false
   },
   "outputs": [
    {
     "data": {
      "image/png": "[encoded data removed]",
      "text/latex": [
       "$$D_{Mx t 1} = - \\gamma \\left(- \\left(\\frac{2 A}{Ms \\mu_{0}} \\left(D_{My x 2} + D_{My y 2} + D_{My z 2}\\right) - \\frac{2 K}{Ms \\mu_{0}} \\left(Mx_{t,x,y,z} + My_{t,x,y,z} + Mz_{t,x,y,z}\\right) + 1\\right) Mz_{t,x,y,z} + \\left(\\frac{2 A}{Ms \\mu_{0}} \\left(D_{Mz x 2} + D_{Mz y 2} + D_{Mz z 2}\\right) - \\frac{2 K}{Ms \\mu_{0}} \\left(Mx_{t,x,y,z} + My_{t,x,y,z} + Mz_{t,x,y,z}\\right) + 1\\right) My_{t,x,y,z}\\right) - \\lambda \\left(\\left(- \\left(\\frac{2 A}{Ms \\mu_{0}} \\left(D_{Mx x 2} + D_{Mx y 2} + D_{Mx z 2}\\right) - \\frac{2 K}{Ms \\mu_{0}} \\left(Mx_{t,x,y,z} + My_{t,x,y,z} + Mz_{t,x,y,z}\\right) + 1\\right) My_{t,x,y,z} + \\left(\\frac{2 A}{Ms \\mu_{0}} \\left(D_{My x 2} + D_{My y 2} + D_{My z 2}\\right) - \\frac{2 K}{Ms \\mu_{0}} \\left(Mx_{t,x,y,z} + My_{t,x,y,z} + Mz_{t,x,y,z}\\right) + 1\\right) Mx_{t,x,y,z}\\right) My_{t,x,y,z} - \\left(\\left(\\frac{2 A}{Ms \\mu_{0}} \\left(D_{Mx x 2} + D_{Mx y 2} + D_{Mx z 2}\\right) - \\frac{2 K}{Ms \\mu_{0}} \\left(Mx_{t,x,y,z} + My_{t,x,y,z} + Mz_{t,x,y,z}\\right) + 1\\right) Mz_{t,x,y,z} - \\left(\\frac{2 A}{Ms \\mu_{0}} \\left(D_{Mz x 2} + D_{Mz y 2} + D_{Mz z 2}\\right) - \\frac{2 K}{Ms \\mu_{0}} \\left(Mx_{t,x,y,z} + My_{t,x,y,z} + Mz_{t,x,y,z}\\right) + 1\\right) Mx_{t,x,y,z}\\right) Mz_{t,x,y,z}\\right)$$"
      ],
      "text/plain": [
       "               ⎛  ⎛2⋅A⋅(D_My_x_2 + D_My_y_2 + D_My_z_2)   2⋅K⋅(Mx[t, x, y, z] \n",
       "D_Mx_t_1 = - γ⋅⎜- ⎜──────────────────────────────────── - ────────────────────\n",
       "               ⎝  ⎝               Ms⋅μ₀                                       \n",
       "\n",
       "+ My[t, x, y, z] + Mz[t, x, y, z])    ⎞                  ⎛2⋅A⋅(D_Mz_x_2 + D_Mz\n",
       "────────────────────────────────── + 1⎟⋅Mz[t, x, y, z] + ⎜────────────────────\n",
       "    Ms⋅μ₀                             ⎠                  ⎝               Ms⋅μ₀\n",
       "\n",
       "_y_2 + D_Mz_z_2)   2⋅K⋅(Mx[t, x, y, z] + My[t, x, y, z] + Mz[t, x, y, z])    ⎞\n",
       "──────────────── - ────────────────────────────────────────────────────── + 1⎟\n",
       "                                           Ms⋅μ₀                             ⎠\n",
       "\n",
       "               ⎞     ⎛⎛  ⎛2⋅A⋅(D_Mx_x_2 + D_Mx_y_2 + D_Mx_z_2)   2⋅K⋅(Mx[t, x,\n",
       "⋅My[t, x, y, z]⎟ - λ⋅⎜⎜- ⎜──────────────────────────────────── - ─────────────\n",
       "               ⎠     ⎝⎝  ⎝               Ms⋅μ₀                                \n",
       "\n",
       " y, z] + My[t, x, y, z] + Mz[t, x, y, z])    ⎞                  ⎛2⋅A⋅(D_My_x_2\n",
       "───────────────────────────────────────── + 1⎟⋅My[t, x, y, z] + ⎜─────────────\n",
       "           Ms⋅μ₀                             ⎠                  ⎝             \n",
       "\n",
       " + D_My_y_2 + D_My_z_2)   2⋅K⋅(Mx[t, x, y, z] + My[t, x, y, z] + Mz[t, x, y, z\n",
       "─────────────────────── - ────────────────────────────────────────────────────\n",
       "  Ms⋅μ₀                                           Ms⋅μ₀                       \n",
       "\n",
       "])    ⎞               ⎞                  ⎛⎛2⋅A⋅(D_Mx_x_2 + D_Mx_y_2 + D_Mx_z_2\n",
       "── + 1⎟⋅Mx[t, x, y, z]⎟⋅My[t, x, y, z] - ⎜⎜───────────────────────────────────\n",
       "      ⎠               ⎠                  ⎝⎝               Ms⋅μ₀               \n",
       "\n",
       ")   2⋅K⋅(Mx[t, x, y, z] + My[t, x, y, z] + Mz[t, x, y, z])    ⎞               \n",
       "─ - ────────────────────────────────────────────────────── + 1⎟⋅Mz[t, x, y, z]\n",
       "                            Ms⋅μ₀                             ⎠               \n",
       "\n",
       "   ⎛2⋅A⋅(D_Mz_x_2 + D_Mz_y_2 + D_Mz_z_2)   2⋅K⋅(Mx[t, x, y, z] + My[t, x, y, z\n",
       " - ⎜──────────────────────────────────── - ───────────────────────────────────\n",
       "   ⎝               Ms⋅μ₀                                           Ms⋅μ₀      \n",
       "\n",
       "] + Mz[t, x, y, z])    ⎞               ⎞               ⎞\n",
       "─────────────────── + 1⎟⋅Mx[t, x, y, z]⎟⋅Mz[t, x, y, z]⎟\n",
       "                       ⎠               ⎠               ⎠"
      ]
     },
     "execution_count": 100,
     "metadata": {},
     "output_type": "execute_result"
    }
   ],
   "source": [
    "eq11"
   ]
  },
  {
   "cell_type": "code",
   "execution_count": 88,
   "metadata": {
    "collapsed": false
   },
   "outputs": [
    {
     "data": {
      "text/plain": [
       "[None, -Mx[t, x - 1, y, z]/(2*h) + Mx[t, x + 1, y, z]/(2*h)]"
      ]
     },
     "execution_count": 88,
     "metadata": {},
     "output_type": "execute_result"
    }
   ],
   "source": [
    "Mx.d[1][1].fd[1]"
   ]
  },
  {
   "cell_type": "code",
   "execution_count": 101,
   "metadata": {
    "collapsed": true
   },
   "outputs": [],
   "source": [
    "dict1 = {}\n",
    "for deriv in get_all_objects(eq11,DDerivative):\n",
    "    dict1[deriv] = deriv.fd[1]"
   ]
  },
  {
   "cell_type": "code",
   "execution_count": 90,
   "metadata": {
    "collapsed": false
   },
   "outputs": [
    {
     "data": {
      "image/png": "[encoded data removed]",
      "text/latex": [
       "$$\\left \\{ D_{Mx t 1} : - \\frac{Mx_{t - 1,x,y,z}}{2 dt} + \\frac{Mx_{t + 1,x,y,z}}{2 dt}, \\quad D_{Mx x 2} : - \\frac{Mx_{t,x - 1,y,z}}{2 h} + \\frac{Mx_{t,x + 1,y,z}}{2 h}, \\quad D_{Mx y 2} : - \\frac{Mx_{t,x,y - 1,z}}{2 h} + \\frac{Mx_{t,x,y + 1,z}}{2 h}, \\quad D_{Mx z 2} : - \\frac{Mx_{t,x,y,z - 1}}{2 h} + \\frac{Mx_{t,x,y,z + 1}}{2 h}, \\quad D_{My x 2} : - \\frac{My_{t,x - 1,y,z}}{2 h} + \\frac{My_{t,x + 1,y,z}}{2 h}, \\quad D_{My y 2} : - \\frac{My_{t,x,y - 1,z}}{2 h} + \\frac{My_{t,x,y + 1,z}}{2 h}, \\quad D_{My z 2} : - \\frac{My_{t,x,y,z - 1}}{2 h} + \\frac{My_{t,x,y,z + 1}}{2 h}, \\quad D_{Mz x 2} : - \\frac{Mz_{t,x - 1,y,z}}{2 h} + \\frac{Mz_{t,x + 1,y,z}}{2 h}, \\quad D_{Mz y 2} : - \\frac{Mz_{t,x,y - 1,z}}{2 h} + \\frac{Mz_{t,x,y + 1,z}}{2 h}, \\quad D_{Mz z 2} : - \\frac{Mz_{t,x,y,z - 1}}{2 h} + \\frac{Mz_{t,x,y,z + 1}}{2 h}\\right \\}$$"
      ],
      "text/plain": [
       "⎧            Mx[t - 1, x, y, z]   Mx[t + 1, x, y, z]              Mx[t, x - 1,\n",
       "⎨D_Mx_t_1: - ────────────────── + ──────────────────, D_Mx_x_2: - ────────────\n",
       "⎩                   2⋅dt                 2⋅dt                            2⋅h  \n",
       "\n",
       " y, z]   Mx[t, x + 1, y, z]              Mx[t, x, y - 1, z]   Mx[t, x, y + 1, \n",
       "────── + ──────────────────, D_Mx_y_2: - ────────────────── + ────────────────\n",
       "                2⋅h                             2⋅h                  2⋅h      \n",
       "\n",
       "z]              Mx[t, x, y, z - 1]   Mx[t, x, y, z + 1]              My[t, x -\n",
       "──, D_Mx_z_2: - ────────────────── + ──────────────────, D_My_x_2: - ─────────\n",
       "                       2⋅h                  2⋅h                             2⋅\n",
       "\n",
       " 1, y, z]   My[t, x + 1, y, z]              My[t, x, y - 1, z]   My[t, x, y + \n",
       "───────── + ──────────────────, D_My_y_2: - ────────────────── + ─────────────\n",
       "h                  2⋅h                             2⋅h                  2⋅h   \n",
       "\n",
       "1, z]              My[t, x, y, z - 1]   My[t, x, y, z + 1]              Mz[t, \n",
       "─────, D_My_z_2: - ────────────────── + ──────────────────, D_Mz_x_2: - ──────\n",
       "                          2⋅h                  2⋅h                            \n",
       "\n",
       "x - 1, y, z]   Mz[t, x + 1, y, z]              Mz[t, x, y - 1, z]   Mz[t, x, y\n",
       "──────────── + ──────────────────, D_Mz_y_2: - ────────────────── + ──────────\n",
       " 2⋅h                  2⋅h                             2⋅h                  2⋅h\n",
       "\n",
       " + 1, z]              Mz[t, x, y, z - 1]   Mz[t, x, y, z + 1]⎫\n",
       "────────, D_Mz_z_2: - ────────────────── + ──────────────────⎬\n",
       "                             2⋅h                  2⋅h        ⎭"
      ]
     },
     "execution_count": 90,
     "metadata": {},
     "output_type": "execute_result"
    }
   ],
   "source": [
    "dict1"
   ]
  },
  {
   "cell_type": "code",
   "execution_count": 102,
   "metadata": {
    "collapsed": false
   },
   "outputs": [],
   "source": [
    "eq11 = eq11.subs(dict1)"
   ]
  },
  {
   "cell_type": "code",
   "execution_count": 104,
   "metadata": {
    "collapsed": false
   },
   "outputs": [],
   "source": [
    "lhs = Mx[t+1,x,y,z]\n",
    "kernel = solve(eq11,lhs)[0]"
   ]
  },
  {
   "cell_type": "code",
   "execution_count": 105,
   "metadata": {
    "collapsed": false
   },
   "outputs": [
    {
     "data": {
      "image/png": "[encoded data removed]",
      "text/latex": [
       "$$\\frac{1}{Ms h \\mu_{0}} \\left(2 A dt \\left(\\gamma My_{t,x,y,z} Mz_{t,x,y,z - 1} - \\gamma My_{t,x,y,z} Mz_{t,x,y,z + 1} + \\gamma My_{t,x,y,z} Mz_{t,x,y - 1,z} - \\gamma My_{t,x,y,z} Mz_{t,x,y + 1,z} + \\gamma My_{t,x,y,z} Mz_{t,x - 1,y,z} - \\gamma My_{t,x,y,z} Mz_{t,x + 1,y,z} - \\gamma My_{t,x,y,z - 1} Mz_{t,x,y,z} + \\gamma My_{t,x,y,z + 1} Mz_{t,x,y,z} - \\gamma My_{t,x,y - 1,z} Mz_{t,x,y,z} + \\gamma My_{t,x,y + 1,z} Mz_{t,x,y,z} - \\gamma My_{t,x - 1,y,z} Mz_{t,x,y,z} + \\gamma My_{t,x + 1,y,z} Mz_{t,x,y,z} + \\lambda Mx_{t,x,y,z} My_{t,x,y,z} My_{t,x,y,z - 1} - \\lambda Mx_{t,x,y,z} My_{t,x,y,z} My_{t,x,y,z + 1} + \\lambda Mx_{t,x,y,z} My_{t,x,y,z} My_{t,x,y - 1,z} - \\lambda Mx_{t,x,y,z} My_{t,x,y,z} My_{t,x,y + 1,z} + \\lambda Mx_{t,x,y,z} My_{t,x,y,z} My_{t,x - 1,y,z} - \\lambda Mx_{t,x,y,z} My_{t,x,y,z} My_{t,x + 1,y,z} + \\lambda Mx_{t,x,y,z} Mz_{t,x,y,z} Mz_{t,x,y,z - 1} - \\lambda Mx_{t,x,y,z} Mz_{t,x,y,z} Mz_{t,x,y,z + 1} + \\lambda Mx_{t,x,y,z} Mz_{t,x,y,z} Mz_{t,x,y - 1,z} - \\lambda Mx_{t,x,y,z} Mz_{t,x,y,z} Mz_{t,x,y + 1,z} + \\lambda Mx_{t,x,y,z} Mz_{t,x,y,z} Mz_{t,x - 1,y,z} - \\lambda Mx_{t,x,y,z} Mz_{t,x,y,z} Mz_{t,x + 1,y,z} - \\lambda Mx_{t,x,y,z - 1} \\left(My_{t,x,y,z}\\right)^{2} - \\lambda Mx_{t,x,y,z - 1} \\left(Mz_{t,x,y,z}\\right)^{2} + \\lambda Mx_{t,x,y,z + 1} \\left(My_{t,x,y,z}\\right)^{2} + \\lambda Mx_{t,x,y,z + 1} \\left(Mz_{t,x,y,z}\\right)^{2} - \\lambda Mx_{t,x,y - 1,z} \\left(My_{t,x,y,z}\\right)^{2} - \\lambda Mx_{t,x,y - 1,z} \\left(Mz_{t,x,y,z}\\right)^{2} + \\lambda Mx_{t,x,y + 1,z} \\left(My_{t,x,y,z}\\right)^{2} + \\lambda Mx_{t,x,y + 1,z} \\left(Mz_{t,x,y,z}\\right)^{2} - \\lambda Mx_{t,x - 1,y,z} \\left(My_{t,x,y,z}\\right)^{2} - \\lambda Mx_{t,x - 1,y,z} \\left(Mz_{t,x,y,z}\\right)^{2} + \\lambda Mx_{t,x + 1,y,z} \\left(My_{t,x,y,z}\\right)^{2} + \\lambda Mx_{t,x + 1,y,z} \\left(Mz_{t,x,y,z}\\right)^{2}\\right) + 4 K dt h \\left(\\gamma Mx_{t,x,y,z} My_{t,x,y,z} - \\gamma Mx_{t,x,y,z} Mz_{t,x,y,z} + \\gamma \\left(My_{t,x,y,z}\\right)^{2} - \\gamma \\left(Mz_{t,x,y,z}\\right)^{2} + \\lambda \\left(Mx_{t,x,y,z}\\right)^{2} My_{t,x,y,z} + \\lambda \\left(Mx_{t,x,y,z}\\right)^{2} Mz_{t,x,y,z} + 2 \\lambda Mx_{t,x,y,z} My_{t,x,y,z} Mz_{t,x,y,z} - \\lambda \\left(My_{t,x,y,z}\\right)^{3} - \\lambda \\left(My_{t,x,y,z}\\right)^{2} Mz_{t,x,y,z} - \\lambda My_{t,x,y,z} \\left(Mz_{t,x,y,z}\\right)^{2} - \\lambda \\left(Mz_{t,x,y,z}\\right)^{3}\\right) + Ms h \\mu_{0} \\left(- 2 dt \\gamma My_{t,x,y,z} + 2 dt \\gamma Mz_{t,x,y,z} - 2 dt \\lambda Mx_{t,x,y,z} My_{t,x,y,z} - 2 dt \\lambda Mx_{t,x,y,z} Mz_{t,x,y,z} + 2 dt \\lambda \\left(My_{t,x,y,z}\\right)^{2} + 2 dt \\lambda \\left(Mz_{t,x,y,z}\\right)^{2} + Mx_{t - 1,x,y,z}\\right)\\right)$$"
      ],
      "text/plain": [
       "       ⎛                                                                      \n",
       "2⋅A⋅dt⋅⎝γ⋅My[t, x, y, z]⋅Mz[t, x, y, z - 1] - γ⋅My[t, x, y, z]⋅Mz[t, x, y, z +\n",
       "──────────────────────────────────────────────────────────────────────────────\n",
       "                                                                              \n",
       "\n",
       "                                                                              \n",
       " 1] + γ⋅My[t, x, y, z]⋅Mz[t, x, y - 1, z] - γ⋅My[t, x, y, z]⋅Mz[t, x, y + 1, z\n",
       "──────────────────────────────────────────────────────────────────────────────\n",
       "                                                                              \n",
       "\n",
       "                                                                              \n",
       "] + γ⋅My[t, x, y, z]⋅Mz[t, x - 1, y, z] - γ⋅My[t, x, y, z]⋅Mz[t, x + 1, y, z] \n",
       "──────────────────────────────────────────────────────────────────────────────\n",
       "                                                                              \n",
       "\n",
       "                                                                              \n",
       "- γ⋅My[t, x, y, z - 1]⋅Mz[t, x, y, z] + γ⋅My[t, x, y, z + 1]⋅Mz[t, x, y, z] - \n",
       "──────────────────────────────────────────────────────────────────────────────\n",
       "                                                                              \n",
       "\n",
       "                                                                              \n",
       "γ⋅My[t, x, y - 1, z]⋅Mz[t, x, y, z] + γ⋅My[t, x, y + 1, z]⋅Mz[t, x, y, z] - γ⋅\n",
       "──────────────────────────────────────────────────────────────────────────────\n",
       "                                                                              \n",
       "\n",
       "                                                                              \n",
       "My[t, x - 1, y, z]⋅Mz[t, x, y, z] + γ⋅My[t, x + 1, y, z]⋅Mz[t, x, y, z] + λ⋅Mx\n",
       "──────────────────────────────────────────────────────────────────────────────\n",
       "                                                                              \n",
       "\n",
       "                                                                              \n",
       "[t, x, y, z]⋅My[t, x, y, z]⋅My[t, x, y, z - 1] - λ⋅Mx[t, x, y, z]⋅My[t, x, y, \n",
       "──────────────────────────────────────────────────────────────────────────────\n",
       "                                                                              \n",
       "\n",
       "                                                                              \n",
       "z]⋅My[t, x, y, z + 1] + λ⋅Mx[t, x, y, z]⋅My[t, x, y, z]⋅My[t, x, y - 1, z] - λ\n",
       "──────────────────────────────────────────────────────────────────────────────\n",
       "                                                                              \n",
       "\n",
       "                                                                              \n",
       "⋅Mx[t, x, y, z]⋅My[t, x, y, z]⋅My[t, x, y + 1, z] + λ⋅Mx[t, x, y, z]⋅My[t, x, \n",
       "──────────────────────────────────────────────────────────────────────────────\n",
       "                                                                              \n",
       "\n",
       "                                                                              \n",
       "y, z]⋅My[t, x - 1, y, z] - λ⋅Mx[t, x, y, z]⋅My[t, x, y, z]⋅My[t, x + 1, y, z] \n",
       "──────────────────────────────────────────────────────────────────────────────\n",
       "                                                                              \n",
       "\n",
       "                                                                              \n",
       "+ λ⋅Mx[t, x, y, z]⋅Mz[t, x, y, z]⋅Mz[t, x, y, z - 1] - λ⋅Mx[t, x, y, z]⋅Mz[t, \n",
       "──────────────────────────────────────────────────────────────────────────────\n",
       "                                                                              \n",
       "\n",
       "                                                                              \n",
       "x, y, z]⋅Mz[t, x, y, z + 1] + λ⋅Mx[t, x, y, z]⋅Mz[t, x, y, z]⋅Mz[t, x, y - 1, \n",
       "──────────────────────────────────────────────────────────────────────────────\n",
       "                                                                              \n",
       "\n",
       "                                                                              \n",
       "z] - λ⋅Mx[t, x, y, z]⋅Mz[t, x, y, z]⋅Mz[t, x, y + 1, z] + λ⋅Mx[t, x, y, z]⋅Mz[\n",
       "──────────────────────────────────────────────────────────────────────────────\n",
       "                                                                              \n",
       "\n",
       "                                                                              \n",
       "t, x, y, z]⋅Mz[t, x - 1, y, z] - λ⋅Mx[t, x, y, z]⋅Mz[t, x, y, z]⋅Mz[t, x + 1, \n",
       "──────────────────────────────────────────────────────────────────────────────\n",
       "                                            Ms⋅h⋅μ₀                           \n",
       "\n",
       "                                           2                                  \n",
       "y, z] - λ⋅Mx[t, x, y, z - 1]⋅My[t, x, y, z]  - λ⋅Mx[t, x, y, z - 1]⋅Mz[t, x, y\n",
       "──────────────────────────────────────────────────────────────────────────────\n",
       "                                                                              \n",
       "\n",
       "    2                                      2                                  \n",
       ", z]  + λ⋅Mx[t, x, y, z + 1]⋅My[t, x, y, z]  + λ⋅Mx[t, x, y, z + 1]⋅Mz[t, x, y\n",
       "──────────────────────────────────────────────────────────────────────────────\n",
       "                                                                              \n",
       "\n",
       "    2                                      2                                  \n",
       ", z]  - λ⋅Mx[t, x, y - 1, z]⋅My[t, x, y, z]  - λ⋅Mx[t, x, y - 1, z]⋅Mz[t, x, y\n",
       "──────────────────────────────────────────────────────────────────────────────\n",
       "                                                                              \n",
       "\n",
       "    2                                      2                                  \n",
       ", z]  + λ⋅Mx[t, x, y + 1, z]⋅My[t, x, y, z]  + λ⋅Mx[t, x, y + 1, z]⋅Mz[t, x, y\n",
       "──────────────────────────────────────────────────────────────────────────────\n",
       "                                                                              \n",
       "\n",
       "    2                                      2                                  \n",
       ", z]  - λ⋅Mx[t, x - 1, y, z]⋅My[t, x, y, z]  - λ⋅Mx[t, x - 1, y, z]⋅Mz[t, x, y\n",
       "──────────────────────────────────────────────────────────────────────────────\n",
       "                                                                              \n",
       "\n",
       "    2                                      2                                  \n",
       ", z]  + λ⋅Mx[t, x + 1, y, z]⋅My[t, x, y, z]  + λ⋅Mx[t, x + 1, y, z]⋅Mz[t, x, y\n",
       "──────────────────────────────────────────────────────────────────────────────\n",
       "                                                                              \n",
       "\n",
       "    2⎞            ⎛                                                           \n",
       ", z] ⎠ + 4⋅K⋅dt⋅h⋅⎝γ⋅Mx[t, x, y, z]⋅My[t, x, y, z] - γ⋅Mx[t, x, y, z]⋅Mz[t, x,\n",
       "──────────────────────────────────────────────────────────────────────────────\n",
       "                                                                              \n",
       "\n",
       "                         2                   2                   2            \n",
       " y, z] + γ⋅My[t, x, y, z]  - γ⋅Mz[t, x, y, z]  + λ⋅Mx[t, x, y, z] ⋅My[t, x, y,\n",
       "──────────────────────────────────────────────────────────────────────────────\n",
       "                                                                              \n",
       "\n",
       "                      2                                                       \n",
       " z] + λ⋅Mx[t, x, y, z] ⋅Mz[t, x, y, z] + 2⋅λ⋅Mx[t, x, y, z]⋅My[t, x, y, z]⋅Mz[\n",
       "──────────────────────────────────────────────────────────────────────────────\n",
       "                                                                              \n",
       "\n",
       "                              3                   2                           \n",
       "t, x, y, z] - λ⋅My[t, x, y, z]  - λ⋅My[t, x, y, z] ⋅Mz[t, x, y, z] - λ⋅My[t, x\n",
       "──────────────────────────────────────────────────────────────────────────────\n",
       "                                                                              \n",
       "\n",
       "                      2                   3⎞           ⎛                      \n",
       ", y, z]⋅Mz[t, x, y, z]  - λ⋅Mz[t, x, y, z] ⎠ + Ms⋅h⋅μ₀⋅⎝-2⋅dt⋅γ⋅My[t, x, y, z]\n",
       "──────────────────────────────────────────────────────────────────────────────\n",
       "                                                                              \n",
       "\n",
       "                                                                              \n",
       " + 2⋅dt⋅γ⋅Mz[t, x, y, z] - 2⋅dt⋅λ⋅Mx[t, x, y, z]⋅My[t, x, y, z] - 2⋅dt⋅λ⋅Mx[t,\n",
       "──────────────────────────────────────────────────────────────────────────────\n",
       "                                                                              \n",
       "\n",
       "                                                2                        2    \n",
       " x, y, z]⋅Mz[t, x, y, z] + 2⋅dt⋅λ⋅My[t, x, y, z]  + 2⋅dt⋅λ⋅Mz[t, x, y, z]  + M\n",
       "──────────────────────────────────────────────────────────────────────────────\n",
       "                                                                              \n",
       "\n",
       "                 ⎞\n",
       "x[t - 1, x, y, z]⎠\n",
       "──────────────────\n",
       "                  "
      ]
     },
     "execution_count": 105,
     "metadata": {},
     "output_type": "execute_result"
    }
   ],
   "source": [
    "kernel"
   ]
  },
  {
   "cell_type": "code",
   "execution_count": 106,
   "metadata": {
    "collapsed": false
   },
   "outputs": [
    {
     "data": {
      "text/plain": [
       "'(2*A*dt*(gamma*My[t][x][y][z]*Mz[t][x][y][z - 1] - gamma*My[t][x][y][z]*Mz[t][x][y][z + 1] + gamma*My[t][x][y][z]*Mz[t][x][y - 1][z] - gamma*My[t][x][y][z]*Mz[t][x][y + 1][z] + gamma*My[t][x][y][z]*Mz[t][x - 1][y][z] - gamma*My[t][x][y][z]*Mz[t][x + 1][y][z] - gamma*My[t][x][y][z - 1]*Mz[t][x][y][z] + gamma*My[t][x][y][z + 1]*Mz[t][x][y][z] - gamma*My[t][x][y - 1][z]*Mz[t][x][y][z] + gamma*My[t][x][y + 1][z]*Mz[t][x][y][z] - gamma*My[t][x - 1][y][z]*Mz[t][x][y][z] + gamma*My[t][x + 1][y][z]*Mz[t][x][y][z] + lambda*Mx[t][x][y][z]*My[t][x][y][z]*My[t][x][y][z - 1] - lambda*Mx[t][x][y][z]*My[t][x][y][z]*My[t][x][y][z + 1] + lambda*Mx[t][x][y][z]*My[t][x][y][z]*My[t][x][y - 1][z] - lambda*Mx[t][x][y][z]*My[t][x][y][z]*My[t][x][y + 1][z] + lambda*Mx[t][x][y][z]*My[t][x][y][z]*My[t][x - 1][y][z] - lambda*Mx[t][x][y][z]*My[t][x][y][z]*My[t][x + 1][y][z] + lambda*Mx[t][x][y][z]*Mz[t][x][y][z]*Mz[t][x][y][z - 1] - lambda*Mx[t][x][y][z]*Mz[t][x][y][z]*Mz[t][x][y][z + 1] + lambda*Mx[t][x][y][z]*Mz[t][x][y][z]*Mz[t][x][y - 1][z] - lambda*Mx[t][x][y][z]*Mz[t][x][y][z]*Mz[t][x][y + 1][z] + lambda*Mx[t][x][y][z]*Mz[t][x][y][z]*Mz[t][x - 1][y][z] - lambda*Mx[t][x][y][z]*Mz[t][x][y][z]*Mz[t][x + 1][y][z] - lambda*Mx[t][x][y][z - 1]*pow(My[t][x][y][z], 2) - lambda*Mx[t][x][y][z - 1]*pow(Mz[t][x][y][z], 2) + lambda*Mx[t][x][y][z + 1]*pow(My[t][x][y][z], 2) + lambda*Mx[t][x][y][z + 1]*pow(Mz[t][x][y][z], 2) - lambda*Mx[t][x][y - 1][z]*pow(My[t][x][y][z], 2) - lambda*Mx[t][x][y - 1][z]*pow(Mz[t][x][y][z], 2) + lambda*Mx[t][x][y + 1][z]*pow(My[t][x][y][z], 2) + lambda*Mx[t][x][y + 1][z]*pow(Mz[t][x][y][z], 2) - lambda*Mx[t][x - 1][y][z]*pow(My[t][x][y][z], 2) - lambda*Mx[t][x - 1][y][z]*pow(Mz[t][x][y][z], 2) + lambda*Mx[t][x + 1][y][z]*pow(My[t][x][y][z], 2) + lambda*Mx[t][x + 1][y][z]*pow(Mz[t][x][y][z], 2)) + 4*K*dt*h*(gamma*Mx[t][x][y][z]*My[t][x][y][z] - gamma*Mx[t][x][y][z]*Mz[t][x][y][z] + gamma*pow(My[t][x][y][z], 2) - gamma*pow(Mz[t][x][y][z], 2) + lambda*pow(Mx[t][x][y][z], 2)*My[t][x][y][z] + lambda*pow(Mx[t][x][y][z], 2)*Mz[t][x][y][z] + 2*lambda*Mx[t][x][y][z]*My[t][x][y][z]*Mz[t][x][y][z] - lambda*pow(My[t][x][y][z], 3) - lambda*pow(My[t][x][y][z], 2)*Mz[t][x][y][z] - lambda*My[t][x][y][z]*pow(Mz[t][x][y][z], 2) - lambda*pow(Mz[t][x][y][z], 3)) + Ms*h*mu_0*(-2*dt*gamma*My[t][x][y][z] + 2*dt*gamma*Mz[t][x][y][z] - 2*dt*lambda*Mx[t][x][y][z]*My[t][x][y][z] - 2*dt*lambda*Mx[t][x][y][z]*Mz[t][x][y][z] + 2*dt*lambda*pow(My[t][x][y][z], 2) + 2*dt*lambda*pow(Mz[t][x][y][z], 2) + Mx[t - 1][x][y][z]))/(Ms*h*mu_0)'"
      ]
     },
     "execution_count": 106,
     "metadata": {},
     "output_type": "execute_result"
    }
   ],
   "source": [
    "ccode(kernel)"
   ]
  },
  {
   "cell_type": "code",
   "execution_count": 108,
   "metadata": {
    "collapsed": false
   },
   "outputs": [],
   "source": [
    "add, mul, arrays = get_ops_expr(kernel, arrays)\n",
    "store = 1"
   ]
  },
  {
   "cell_type": "code",
   "execution_count": 110,
   "metadata": {
    "collapsed": false
   },
   "outputs": [
    {
     "name": "stdout",
     "output_type": "stream",
     "text": [
      "53 161 ['My', 'Mz', 'Mx']\n"
     ]
    }
   ],
   "source": [
    "print add, mul, arrays"
   ]
  },
  {
   "cell_type": "code",
   "execution_count": 112,
   "metadata": {
    "collapsed": false
   },
   "outputs": [
    {
     "data": {
      "image/png": "[encoded data removed]",
      "text/latex": [
       "$$13$$"
      ],
      "text/plain": [
       "13"
      ]
     },
     "execution_count": 112,
     "metadata": {},
     "output_type": "execute_result"
    }
   ],
   "source": [
    "(53+161)/4/4"
   ]
  },
  {
   "cell_type": "code",
   "execution_count": 31,
   "metadata": {
    "collapsed": false
   },
   "outputs": [],
   "source": [
    "eq1 = Eq(Mx.d[0][1], -Mx[t,x,y,z]*Mz[t,x,y,z]*lam - My[t,x,y,z]*gamma)\n",
    "eq2 = Eq(My.d[0][1], Mx[t,x,y,z]*gamma - My[t,x,y,z]*Mz[t,x,y,z]*lam)\n",
    "eq3 = Eq(Mz.d[0][1], -lam*(-Mx[t,x,y,z]*Mx[t,x,y,z]-My[t,x,y,z]*My[t,x,y,z]))"
   ]
  },
  {
   "cell_type": "code",
   "execution_count": 39,
   "metadata": {
    "collapsed": false
   },
   "outputs": [],
   "source": [
    "fdeq1 = Eq(Mx.d[0][1].fd[1],  -Mx[t,x,y,z]*Mz[t,x,y,z]*lam - My[t,x,y,z]*gamma)\n",
    "fdeq2 = Eq(My.d[0][1].fd[1], Mx[t,x,y,z]*gamma - My[t,x,y,z]*Mz[t,x,y,z]*lam)\n",
    "fdeq3 = Eq(Mz.d[0][1].fd[1], -lam*(-Mx[t,x,y,z]*Mx[t,x,y,z]-My[t,x,y,z]*My[t,x,y,z]))"
   ]
  },
  {
   "cell_type": "code",
   "execution_count": 40,
   "metadata": {
    "collapsed": false
   },
   "outputs": [
    {
     "data": {
      "image/png": "[encoded data removed]",
      "text/latex": [
       "$$- \\frac{Mx_{t - 1,x,y,z}}{2 dt} + \\frac{Mx_{t + 1,x,y,z}}{2 dt} = - \\gamma My_{t,x,y,z} - \\lambda Mx_{t,x,y,z} My_{t,x,y,z}$$"
      ],
      "text/plain": [
       "  Mx[t - 1, x, y, z]   Mx[t + 1, x, y, z]                                     \n",
       "- ────────────────── + ────────────────── = -γ⋅My[t, x, y, z] - λ⋅Mx[t, x, y, \n",
       "         2⋅dt                 2⋅dt                                            \n",
       "\n",
       "                 \n",
       "z]⋅My[t, x, y, z]\n",
       "                 "
      ]
     },
     "execution_count": 40,
     "metadata": {},
     "output_type": "execute_result"
    }
   ],
   "source": [
    "fdeq1"
   ]
  },
  {
   "cell_type": "code",
   "execution_count": 41,
   "metadata": {
    "collapsed": false
   },
   "outputs": [],
   "source": [
    "k1 = solve(fdeq1,Mx[t+1,x,y,z])[0]\n",
    "k2 = solve(fdeq2,My[t+1,x,y,z])[0]\n",
    "k3 = solve(fdeq3,Mz[t+1,x,y,z])[0]"
   ]
  },
  {
   "cell_type": "code",
   "execution_count": 42,
   "metadata": {
    "collapsed": false
   },
   "outputs": [
    {
     "data": {
      "image/png": "[encoded data removed]",
      "text/latex": [
       "$$- 2 dt \\gamma My_{t,x,y,z} - 2 dt \\lambda Mx_{t,x,y,z} My_{t,x,y,z} + Mx_{t - 1,x,y,z}$$"
      ],
      "text/plain": [
       "-2⋅dt⋅γ⋅My[t, x, y, z] - 2⋅dt⋅λ⋅Mx[t, x, y, z]⋅My[t, x, y, z] + Mx[t - 1, x, y\n",
       ", z]"
      ]
     },
     "execution_count": 42,
     "metadata": {},
     "output_type": "execute_result"
    }
   ],
   "source": [
    "k1"
   ]
  },
  {
   "cell_type": "code",
   "execution_count": 43,
   "metadata": {
    "collapsed": false
   },
   "outputs": [
    {
     "data": {
      "text/plain": [
       "'-2*dt*gamma*My[t][x][y][z] - 2*dt*lambda*Mx[t][x][y][z]*My[t][x][y][z] + Mx[t - 1][x][y][z]'"
      ]
     },
     "execution_count": 43,
     "metadata": {},
     "output_type": "execute_result"
    }
   ],
   "source": [
    "ccode(k1)"
   ]
  },
  {
   "cell_type": "code",
   "execution_count": 40,
   "metadata": {
    "collapsed": false
   },
   "outputs": [
    {
     "data": {
      "image/png": "[encoded data removed]",
      "text/latex": [
       "$$\\left[\\begin{matrix}MMy\\\\- MMx\\\\0\\end{matrix}\\right]$$"
      ],
      "text/plain": [
       "⎡MMy ⎤\n",
       "⎢    ⎥\n",
       "⎢-MMx⎥\n",
       "⎢    ⎥\n",
       "⎣ 0  ⎦"
      ]
     },
     "execution_count": 40,
     "metadata": {},
     "output_type": "execute_result"
    }
   ],
   "source": [
    "MMx, MMy, MMz = symbols('MMx MMy MMz')\n",
    "M = Matrix([MMx,MMy,MMz])\n",
    "M.cross(H_eff)"
   ]
  },
  {
   "cell_type": "code",
   "execution_count": null,
   "metadata": {
    "collapsed": true
   },
   "outputs": [],
   "source": [
    "\n",
    "Txx = SField('Txx', dimension=3, direction=(1, 1))\n",
    "Tyy = SField('Tyy', dimension=3, direction=(2, 2))\n",
    "Tzz = SField('Tzz', dimension=3, direction=(3, 3))\n",
    "Txy = SField('Txy', dimension=3, direction=(1, 2))\n",
    "Tyz = SField('Tyz', dimension=3, direction=(2, 3))\n",
    "Txz = SField('Txz', dimension=3, direction=(1, 3))\n",
    "U = VField('U', dimension=3, direction=1)\n",
    "V = VField('V', dimension=3, direction=2)\n",
    "W = VField('W', dimension=3, direction=3)"
   ]
  },
  {
   "cell_type": "code",
   "execution_count": 10,
   "metadata": {
    "collapsed": false
   },
   "outputs": [
    {
     "data": {
      "image/png": "[encoded data removed]",
      "text/latex": [
       "$$0.00495$$"
      ],
      "text/plain": [
       "0.00495"
      ]
     },
     "execution_count": 10,
     "metadata": {},
     "output_type": "execute_result"
    }
   ],
   "source": [
    "grid = StaggeredGrid(dimension=3, domain_size=(1.0, 1.0, 1.0), grid_size=(100, 100, 100), \n",
    "                     stress_fields=[Txx, Tyy, Tzz, Txy, Tyz, Txz], velocity_fields=[U, V, W])\n",
    "grid.set_time_step(0.002, 1.0)\n",
    "grid.set_switches(omp=True, simd=False, ivdep=True,\n",
    "                  double=False, expand=True, eval_const=True)\n",
    "grid.set_media_params(read=False, rho=1.0, vp=1.0, vs=0.5,\n",
    "                      rho_file='RHOhomogx200', vp_file='VPhomogx200', vs_file='VShomogx200')\n",
    "grid.get_time_step_limit()"
   ]
  },
  {
   "cell_type": "markdown",
   "metadata": {},
   "source": [
    "####Analytical solutions\n",
    "$U = cos(\\pi x)(sin(\\pi y)-sin(\\pi z))cos(\\Omega t)$<br>\n",
    "$V = cos(\\pi y)(sin(\\pi z)-sin(\\pi x))cos(\\Omega t)$<br>\n",
    "$W = cos(\\pi z)(sin(\\pi x)-sin(\\pi y))cos(\\Omega t)$<br>\n",
    "$T_{xx} = -Asin(\\pi x)(sin(\\pi y)-sin(\\pi z))sin(\\Omega t)$<br>\n",
    "$T_{yy} = -Asin(\\pi y)(sin(\\pi z)-sin(\\pi x))sin(\\Omega t)$<br>\n",
    "$T_{zz} = -Asin(\\pi z)(sin(\\pi x)-sin(\\pi y))sin(\\Omega t)$<br>\n",
    "$T_{xy} = T_{yz} = T_{xz} = 0$<br>\n",
    "where $A=\\sqrt{2\\rho \\mu} \\space \\space \\Omega=\\pi\\sqrt{\\frac{2\\mu}{\\rho}}$"
   ]
  },
  {
   "cell_type": "code",
   "execution_count": 11,
   "metadata": {
    "collapsed": false
   },
   "outputs": [],
   "source": [
    "rho, beta, lam, mu = symbols('rho beta lambda mu')\n",
    "t, x, y, z = symbols('t x y z')\n",
    "grid.set_index([x, y, z])\n",
    "\n",
    "Omega = pi*sqrt(2*mu/rho)\n",
    "A = sqrt(2*rho*mu)\n",
    "U_func = cos(pi*x)*(sin(pi*y)-sin(pi*z))*cos(Omega*t)\n",
    "V_func = cos(pi*y)*(sin(pi*z)-sin(pi*x))*cos(Omega*t)\n",
    "W_func = cos(pi*z)*(sin(pi*x)-sin(pi*y))*cos(Omega*t)\n",
    "Txx_func = -A*sin(pi*x)*(sin(pi*y)-sin(pi*z))*sin(Omega*t)\n",
    "Tyy_func = -A*sin(pi*y)*(sin(pi*z)-sin(pi*x))*sin(Omega*t)\n",
    "Tzz_func = -A*sin(pi*z)*(sin(pi*x)-sin(pi*y))*sin(Omega*t)\n",
    "Txy_func = Float(0)\n",
    "Tyz_func = Float(0)\n",
    "Txz_func = Float(0)"
   ]
  },
  {
   "cell_type": "code",
   "execution_count": 12,
   "metadata": {
    "collapsed": false
   },
   "outputs": [],
   "source": [
    "U.set_analytic_solution(U_func)\n",
    "V.set_analytic_solution(V_func)\n",
    "W.set_analytic_solution(W_func)\n",
    "Txx.set_analytic_solution(Txx_func)\n",
    "Tyy.set_analytic_solution(Tyy_func)\n",
    "Tzz.set_analytic_solution(Tzz_func)\n",
    "Txy.set_analytic_solution(Txy_func)\n",
    "Tyz.set_analytic_solution(Tyz_func)\n",
    "Txz.set_analytic_solution(Txz_func)"
   ]
  },
  {
   "cell_type": "code",
   "execution_count": 13,
   "metadata": {
    "collapsed": false
   },
   "outputs": [],
   "source": [
    "grid.set_accuracy([1,2,2,2])\n",
    "grid.calc_derivatives()"
   ]
  },
  {
   "cell_type": "markdown",
   "metadata": {},
   "source": [
    "###PDEs\n",
    "#####momentum equations\n",
    "$\\partial_tU = b(\\partial_xT_{xx}+\\partial_yT_{xy}+\\partial_zT_{xz})$<br>\n",
    "$\\partial_tV = b(\\partial_xT_{xy}+\\partial_yT_{yy}+\\partial_zT_{yz})$<br>\n",
    "$\\partial_tW = b(\\partial_xT_{xz}+\\partial_yT_{yz}+\\partial_zT_{zz})$<br>\n",
    "#####stress-strain equations\n",
    "$\\partial_tT_{xx} = (\\lambda+2\\mu)\\partial_xU + \\lambda(\\partial_yV+\\partial_zW)$<br>\n",
    "$\\partial_tT_{yy} = (\\lambda+2\\mu)\\partial_yV + \\lambda(\\partial_xU+\\partial_zW)$<br>\n",
    "$\\partial_tT_{zz} = (\\lambda+2\\mu)\\partial_zW + \\lambda(\\partial_xU+\\partial_yV)$<br>\n",
    "$\\partial_tT_{xy} = \\mu(\\partial_yU + \\partial_xV)$<br>\n",
    "$\\partial_tT_{xz} = \\mu(\\partial_zU + \\partial_xW)$<br>\n",
    "$\\partial_tT_{yz} = \\mu(\\partial_zV + \\partial_yW)$<br>"
   ]
  },
  {
   "cell_type": "code",
   "execution_count": 14,
   "metadata": {
    "collapsed": false
   },
   "outputs": [],
   "source": [
    "# momentum equations\n",
    "eq1 = Eq(U.d[0][1], beta*(Txx.d[1][1] + Txy.d[2][1] + Txz.d[3][1]))\n",
    "eq2 = Eq(V.d[0][1], beta*(Txy.d[1][1] + Tyy.d[2][1] + Tyz.d[3][1]))\n",
    "eq3 = Eq(W.d[0][1], beta*(Txz.d[1][1] + Tyz.d[2][1] + Tzz.d[3][1]))\n",
    "# stress-strain equations\n",
    "eq4 = Eq(Txx.d[0][1], (lam + 2*mu)*U.d[1][1] + lam*(V.d[2][1]+W.d[3][1]))\n",
    "eq5 = Eq(Tyy.d[0][1], (lam + 2*mu)*V.d[2][1] + lam*(U.d[1][1]+W.d[3][1]))\n",
    "eq6 = Eq(Tzz.d[0][1], (lam + 2*mu)*W.d[3][1] + lam*(U.d[1][1]+V.d[2][1]))\n",
    "eq7 = Eq(Txy.d[0][1], mu*(U.d[2][1] + V.d[1][1]))\n",
    "eq8 = Eq(Tyz.d[0][1], mu*(V.d[3][1] + W.d[2][1]))\n",
    "eq9 = Eq(Txz.d[0][1], mu*(U.d[3][1] + W.d[1][1]))"
   ]
  },
  {
   "cell_type": "code",
   "execution_count": 15,
   "metadata": {
    "collapsed": false
   },
   "outputs": [],
   "source": [
    "grid.solve_fd([eq1,eq2,eq3,eq4,eq5,eq6,eq7,eq8,eq9])"
   ]
  },
  {
   "cell_type": "code",
   "execution_count": 16,
   "metadata": {
    "collapsed": false
   },
   "outputs": [],
   "source": [
    "grid.set_free_surface_boundary(dimension=1,side=0)\n",
    "grid.set_free_surface_boundary(dimension=1,side=1)\n",
    "grid.set_free_surface_boundary(dimension=2,side=0)\n",
    "grid.set_free_surface_boundary(dimension=2,side=1)\n",
    "grid.set_free_surface_boundary(dimension=3,side=0)\n",
    "grid.set_free_surface_boundary(dimension=3,side=1)"
   ]
  },
  {
   "cell_type": "markdown",
   "metadata": {},
   "source": [
    "###output using templates"
   ]
  },
  {
   "cell_type": "code",
   "execution_count": 12,
   "metadata": {
    "collapsed": false
   },
   "outputs": [],
   "source": [
    "# write to template file\n",
    "# grid.generate('../tmp/test_deriv.cpp', False, True)"
   ]
  },
  {
   "cell_type": "code",
   "execution_count": 14,
   "metadata": {
    "collapsed": false,
    "scrolled": true
   },
   "outputs": [
    {
     "data": {
      "image/png": "[encoded data removed]",
      "text/latex": [
       "$$\\left ( 1.5, \\quad 1.5, \\quad 36, \\quad 36, \\quad 9, \\quad 3\\right )$$"
      ],
      "text/plain": [
       "(1.5, 1.5, 36, 36, 9, 3)"
      ]
     },
     "execution_count": 14,
     "metadata": {},
     "output_type": "execute_result"
    }
   ],
   "source": [
    "grid.get_velocity_kernel_ai()"
   ]
  },
  {
   "cell_type": "code",
   "execution_count": 15,
   "metadata": {
    "collapsed": false,
    "scrolled": true
   },
   "outputs": [
    {
     "data": {
      "image/png": "[encoded data removed]",
      "text/latex": [
       "$$\\left ( 2.0, \\quad 2.0, \\quad 60, \\quad 60, \\quad 9, \\quad 6\\right )$$"
      ],
      "text/plain": [
       "(2.0, 2.0, 60, 60, 9, 6)"
      ]
     },
     "execution_count": 15,
     "metadata": {},
     "output_type": "execute_result"
    }
   ],
   "source": [
    "grid.get_stress_kernel_ai()"
   ]
  },
  {
   "cell_type": "code",
   "execution_count": 17,
   "metadata": {
    "collapsed": false
   },
   "outputs": [
    {
     "data": {
      "image/png": "[encoded data removed]",
      "text/latex": [
       "$$\\frac{1}{24 dx_{1} dx_{2} dx_{3}} \\left(\\beta dt dx_{1} dx_{2} \\left(27 Txz_{t + 1,x,y,z} + Txz_{t + 1,x,y,z - 2} - 27 Txz_{t + 1,x,y,z - 1} - Txz_{t + 1,x,y,z + 1}\\right) + \\beta dt dx_{1} dx_{3} \\left(27 Txy_{t + 1,x,y,z} + Txy_{t + 1,x,y - 2,z} - 27 Txy_{t + 1,x,y - 1,z} - Txy_{t + 1,x,y + 1,z}\\right) + \\beta dt dx_{2} dx_{3} \\left(- 27 Txx_{t + 1,x,y,z} + Txx_{t + 1,x - 1,y,z} + 27 Txx_{t + 1,x + 1,y,z} - Txx_{t + 1,x + 2,y,z}\\right) + 24 dx_{1} dx_{2} dx_{3} U_{t,x,y,z}\\right)$$"
      ],
      "text/plain": [
       "β⋅dt⋅dx₁⋅dx₂⋅(27⋅Txz[t + 1, x, y, z] + Txz[t + 1, x, y, z - 2] - 27⋅Txz[t + 1,\n",
       "──────────────────────────────────────────────────────────────────────────────\n",
       "                                                                              \n",
       "\n",
       " x, y, z - 1] - Txz[t + 1, x, y, z + 1]) + β⋅dt⋅dx₁⋅dx₃⋅(27⋅Txy[t + 1, x, y, z\n",
       "──────────────────────────────────────────────────────────────────────────────\n",
       "                                                                              \n",
       "\n",
       "] + Txy[t + 1, x, y - 2, z] - 27⋅Txy[t + 1, x, y - 1, z] - Txy[t + 1, x, y + 1\n",
       "──────────────────────────────────────────────────────────────────────────────\n",
       "                                 24⋅dx₁⋅dx₂⋅dx₃                               \n",
       "\n",
       ", z]) + β⋅dt⋅dx₂⋅dx₃⋅(-27⋅Txx[t + 1, x, y, z] + Txx[t + 1, x - 1, y, z] + 27⋅T\n",
       "──────────────────────────────────────────────────────────────────────────────\n",
       "                                                                              \n",
       "\n",
       "xx[t + 1, x + 1, y, z] - Txx[t + 1, x + 2, y, z]) + 24⋅dx₁⋅dx₂⋅dx₃⋅U[t, x, y, \n",
       "──────────────────────────────────────────────────────────────────────────────\n",
       "                                                                              \n",
       "\n",
       "z]\n",
       "──\n",
       "  "
      ]
     },
     "execution_count": 17,
     "metadata": {},
     "output_type": "execute_result"
    }
   ],
   "source": [
    "U.kernel_aligned"
   ]
  },
  {
   "cell_type": "code",
   "execution_count": 24,
   "metadata": {
    "collapsed": false
   },
   "outputs": [
    {
     "data": {
      "image/png": "[encoded data removed]",
      "text/latex": [
       "$$U_{t + 1,dim_{1} - 3,y,z} = \\frac{1}{dx_{2} dx_{3} \\left(\\lambda + 2 \\mu\\right)} \\left(- dx_{1} dx_{2} \\lambda W_{t + 1,dim_{1} - 3,y,z} + dx_{1} dx_{2} \\lambda W_{t + 1,dim_{1} - 3,y,z - 1} - dx_{1} dx_{3} \\lambda V_{t + 1,dim_{1} - 3,y,z} + dx_{1} dx_{3} \\lambda V_{t + 1,dim_{1} - 3,y - 1,z} + dx_{2} dx_{3} \\lambda U_{t + 1,dim_{1} - 4,y,z} + 2 dx_{2} dx_{3} \\mu U_{t + 1,dim_{1} - 4,y,z}\\right)$$"
      ],
      "text/plain": [
       "                           -dx₁⋅dx₂⋅λ⋅W[t + 1, dim1 - 3, y, z] + dx₁⋅dx₂⋅λ⋅W[t\n",
       "U[t + 1, dim1 - 3, y, z] = ───────────────────────────────────────────────────\n",
       "                                                                              \n",
       "\n",
       " + 1, dim1 - 3, y, z - 1] - dx₁⋅dx₃⋅λ⋅V[t + 1, dim1 - 3, y, z] + dx₁⋅dx₃⋅λ⋅V[t\n",
       "──────────────────────────────────────────────────────────────────────────────\n",
       "                                                       dx₂⋅dx₃⋅(λ + 2⋅μ)      \n",
       "\n",
       " + 1, dim1 - 3, y - 1, z] + dx₂⋅dx₃⋅λ⋅U[t + 1, dim1 - 4, y, z] + 2⋅dx₂⋅dx₃⋅μ⋅U\n",
       "──────────────────────────────────────────────────────────────────────────────\n",
       "                                                                              \n",
       "\n",
       "[t + 1, dim1 - 4, y, z]\n",
       "───────────────────────\n",
       "                       "
      ]
     },
     "execution_count": 24,
     "metadata": {},
     "output_type": "execute_result"
    }
   ],
   "source": [
    "U.bc[1][1][0]"
   ]
  },
  {
   "cell_type": "code",
   "execution_count": null,
   "metadata": {
    "collapsed": true
   },
   "outputs": [],
   "source": []
  }
 ],
 "metadata": {
  "kernelspec": {
   "display_name": "Python 2",
   "language": "python",
   "name": "python2"
  },
  "language_info": {
   "codemirror_mode": {
    "name": "ipython",
    "version": 2
   },
   "file_extension": ".py",
   "mimetype": "text/x-python",
   "name": "python",
   "nbconvert_exporter": "python",
   "pygments_lexer": "ipython2",
   "version": "2.7.10"
  }
 },
 "nbformat": 4,
 "nbformat_minor": 0
}
