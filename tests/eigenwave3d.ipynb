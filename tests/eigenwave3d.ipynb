{
 "cells": [
  {
   "cell_type": "code",
   "execution_count": 1,
   "metadata": {
    "collapsed": false
   },
   "outputs": [],
   "source": [
    "%load_ext autoreload\n",
    "%autoreload 2\n",
    "import os, sys\n",
    "sys.path.append(os.path.abspath(os.pardir))"
   ]
  },
  {
   "cell_type": "code",
   "execution_count": 2,
   "metadata": {
    "collapsed": false
   },
   "outputs": [],
   "source": [
    "# %reset\n",
    "from sympy import symbols, init_printing, simplify, solve, srepr, Add, Symbol, Integer, Float, pi, cos, sin, Rational\n",
    "from sympy import IndexedBase, Eq, simplify, sqrt, latex\n",
    "from mako.template import Template\n",
    "from mako.lookup import TemplateLookup\n",
    "from mako.runtime import Context\n",
    "from StringIO import StringIO\n",
    "from opesci import *\n",
    "init_printing()"
   ]
  },
  {
   "cell_type": "code",
   "execution_count": 3,
   "metadata": {
    "collapsed": false
   },
   "outputs": [],
   "source": [
    "Txx = SField('Txx', dimension=3, direction=(1, 1))\n",
    "Tyy = SField('Tyy', dimension=3, direction=(2, 2))\n",
    "Tzz = SField('Tzz', dimension=3, direction=(3, 3))\n",
    "Txy = SField('Txy', dimension=3, direction=(1, 2))\n",
    "Tyz = SField('Tyz', dimension=3, direction=(2, 3))\n",
    "Txz = SField('Txz', dimension=3, direction=(1, 3))\n",
    "U = VField('U', dimension=3, direction=1)\n",
    "V = VField('V', dimension=3, direction=2)\n",
    "W = VField('W', dimension=3, direction=3)"
   ]
  },
  {
   "cell_type": "code",
   "execution_count": 4,
   "metadata": {
    "collapsed": false
   },
   "outputs": [
    {
     "data": {
      "image/png": "[encoded data removed]",
      "text/latex": [
       "$$0.00495$$"
      ],
      "text/plain": [
       "0.00495"
      ]
     },
     "execution_count": 4,
     "metadata": {},
     "output_type": "execute_result"
    }
   ],
   "source": [
    "grid = StaggeredGrid(dimension=3, domain_size=(1.0, 1.0, 1.0), grid_size=(100, 100, 100), \n",
    "                     stress_fields=[Txx, Tyy, Tzz, Txy, Tyz, Txz], velocity_fields=[U, V, W])\n",
    "grid.set_time_step(0.002, 1.0)\n",
    "grid.set_switches(omp=True, simd=False, ivdep=True,\n",
    "                  double=False, expand=True, eval_const=True)\n",
    "grid.set_media_params(read=False, rho=1.0, vp=1.0, vs=0.5,\n",
    "                      rho_file='RHOhomogx200', vp_file='VPhomogx200', vs_file='VShomogx200')\n",
    "grid.get_time_step_limit()"
   ]
  },
  {
   "cell_type": "markdown",
   "metadata": {},
   "source": [
    "####Analytical solutions\n",
    "$U = cos(\\pi x)(sin(\\pi y)-sin(\\pi z))cos(\\Omega t)$<br>\n",
    "$V = cos(\\pi y)(sin(\\pi z)-sin(\\pi x))cos(\\Omega t)$<br>\n",
    "$W = cos(\\pi z)(sin(\\pi x)-sin(\\pi y))cos(\\Omega t)$<br>\n",
    "$T_{xx} = -Asin(\\pi x)(sin(\\pi y)-sin(\\pi z))sin(\\Omega t)$<br>\n",
    "$T_{yy} = -Asin(\\pi y)(sin(\\pi z)-sin(\\pi x))sin(\\Omega t)$<br>\n",
    "$T_{zz} = -Asin(\\pi z)(sin(\\pi x)-sin(\\pi y))sin(\\Omega t)$<br>\n",
    "$T_{xy} = T_{yz} = T_{xz} = 0$<br>\n",
    "where $A=\\sqrt{2\\rho \\mu} \\space \\space \\Omega=\\pi\\sqrt{\\frac{2\\mu}{\\rho}}$"
   ]
  },
  {
   "cell_type": "code",
   "execution_count": 5,
   "metadata": {
    "collapsed": false
   },
   "outputs": [],
   "source": [
    "rho, beta, lam, mu = symbols('rho beta lambda mu')\n",
    "t, x, y, z = symbols('t x y z')\n",
    "grid.set_index([x, y, z])\n",
    "\n",
    "Omega = pi*sqrt(2*mu/rho)\n",
    "A = sqrt(2*rho*mu)\n",
    "U_func = cos(pi*x)*(sin(pi*y)-sin(pi*z))*cos(Omega*t)\n",
    "V_func = cos(pi*y)*(sin(pi*z)-sin(pi*x))*cos(Omega*t)\n",
    "W_func = cos(pi*z)*(sin(pi*x)-sin(pi*y))*cos(Omega*t)\n",
    "Txx_func = -A*sin(pi*x)*(sin(pi*y)-sin(pi*z))*sin(Omega*t)\n",
    "Tyy_func = -A*sin(pi*y)*(sin(pi*z)-sin(pi*x))*sin(Omega*t)\n",
    "Tzz_func = -A*sin(pi*z)*(sin(pi*x)-sin(pi*y))*sin(Omega*t)\n",
    "Txy_func = Float(0)\n",
    "Tyz_func = Float(0)\n",
    "Txz_func = Float(0)"
   ]
  },
  {
   "cell_type": "code",
   "execution_count": 6,
   "metadata": {
    "collapsed": false
   },
   "outputs": [],
   "source": [
    "U.set_analytic_solution(U_func)\n",
    "V.set_analytic_solution(V_func)\n",
    "W.set_analytic_solution(W_func)\n",
    "Txx.set_analytic_solution(Txx_func)\n",
    "Tyy.set_analytic_solution(Tyy_func)\n",
    "Tzz.set_analytic_solution(Tzz_func)\n",
    "Txy.set_analytic_solution(Txy_func)\n",
    "Tyz.set_analytic_solution(Tyz_func)\n",
    "Txz.set_analytic_solution(Txz_func)"
   ]
  },
  {
   "cell_type": "code",
   "execution_count": 7,
   "metadata": {
    "collapsed": false
   },
   "outputs": [],
   "source": [
    "n = 4\n",
    "grid.set_order([2,n,n,n])\n",
    "grid.calc_derivatives()"
   ]
  },
  {
   "cell_type": "markdown",
   "metadata": {},
   "source": [
    "###PDEs\n",
    "#####momentum equations\n",
    "$\\partial_tU = b(\\partial_xT_{xx}+\\partial_yT_{xy}+\\partial_zT_{xz})$<br>\n",
    "$\\partial_tV = b(\\partial_xT_{xy}+\\partial_yT_{yy}+\\partial_zT_{yz})$<br>\n",
    "$\\partial_tW = b(\\partial_xT_{xz}+\\partial_yT_{yz}+\\partial_zT_{zz})$<br>\n",
    "#####stress-strain equations\n",
    "$\\partial_tT_{xx} = (\\lambda+2\\mu)\\partial_xU + \\lambda(\\partial_yV+\\partial_zW)$<br>\n",
    "$\\partial_tT_{yy} = (\\lambda+2\\mu)\\partial_yV + \\lambda(\\partial_xU+\\partial_zW)$<br>\n",
    "$\\partial_tT_{zz} = (\\lambda+2\\mu)\\partial_zW + \\lambda(\\partial_xU+\\partial_yV)$<br>\n",
    "$\\partial_tT_{xy} = \\mu(\\partial_yU + \\partial_xV)$<br>\n",
    "$\\partial_tT_{xz} = \\mu(\\partial_zU + \\partial_xW)$<br>\n",
    "$\\partial_tT_{yz} = \\mu(\\partial_zV + \\partial_yW)$<br>"
   ]
  },
  {
   "cell_type": "code",
   "execution_count": 8,
   "metadata": {
    "collapsed": false
   },
   "outputs": [],
   "source": [
    "# momentum equations\n",
    "eq1 = Eq(U.d[0][1], beta*(Txx.d[1][1] + Txy.d[2][1] + Txz.d[3][1]))\n",
    "eq2 = Eq(V.d[0][1], beta*(Txy.d[1][1] + Tyy.d[2][1] + Tyz.d[3][1]))\n",
    "eq3 = Eq(W.d[0][1], beta*(Txz.d[1][1] + Tyz.d[2][1] + Tzz.d[3][1]))\n",
    "# stress-strain equations\n",
    "eq4 = Eq(Txx.d[0][1], (lam + 2*mu)*U.d[1][1] + lam*(V.d[2][1]+W.d[3][1]))\n",
    "eq5 = Eq(Tyy.d[0][1], (lam + 2*mu)*V.d[2][1] + lam*(U.d[1][1]+W.d[3][1]))\n",
    "eq6 = Eq(Tzz.d[0][1], (lam + 2*mu)*W.d[3][1] + lam*(U.d[1][1]+V.d[2][1]))\n",
    "eq7 = Eq(Txy.d[0][1], mu*(U.d[2][1] + V.d[1][1]))\n",
    "eq8 = Eq(Tyz.d[0][1], mu*(V.d[3][1] + W.d[2][1]))\n",
    "eq9 = Eq(Txz.d[0][1], mu*(U.d[3][1] + W.d[1][1]))"
   ]
  },
  {
   "cell_type": "code",
   "execution_count": 9,
   "metadata": {
    "collapsed": false
   },
   "outputs": [],
   "source": [
    "grid.solve_fd([eq1,eq2,eq3,eq4,eq5,eq6,eq7,eq8,eq9])"
   ]
  },
  {
   "cell_type": "code",
   "execution_count": 29,
   "metadata": {
    "collapsed": false
   },
   "outputs": [],
   "source": [
    "grid.set_free_surface_boundary(dimension=3,side=0,algo='kristek')"
   ]
  },
  {
   "cell_type": "code",
   "execution_count": 39,
   "metadata": {
    "collapsed": false
   },
   "outputs": [
    {
     "data": {
      "image/png": "[encoded data removed]",
      "text/latex": [
       "$$Txx_{t + 1,x,2,z} = - \\frac{31 dt \\lambda}{8 dx_{2}} V_{t + \\frac{1}{2},x,\\frac{5}{2},z} + \\frac{229 dt \\lambda}{24 dx_{2}} V_{t + \\frac{1}{2},x,\\frac{7}{2},z} - \\frac{75 dt \\lambda}{8 dx_{2}} V_{t + \\frac{1}{2},x,\\frac{9}{2},z} + \\frac{37 dt \\lambda}{8 dx_{2}} V_{t + \\frac{1}{2},x,\\frac{11}{2},z} - \\frac{11 dt \\lambda}{12 dx_{2}} V_{t + \\frac{1}{2},x,\\frac{13}{2},z} + \\frac{dt \\lambda}{24 dx_{3}} W_{t + \\frac{1}{2},x,2,z - \\frac{3}{2}} - \\frac{9 dt \\lambda}{8 dx_{3}} W_{t + \\frac{1}{2},x,2,z - \\frac{1}{2}} + \\frac{9 dt \\lambda}{8 dx_{3}} W_{t + \\frac{1}{2},x,2,z + \\frac{1}{2}} - \\frac{dt \\lambda}{24 dx_{3}} W_{t + \\frac{1}{2},x,2,z + \\frac{3}{2}} + \\frac{dt \\lambda}{24 dx_{1}} U_{t + \\frac{1}{2},x - \\frac{3}{2},2,z} - \\frac{9 dt \\lambda}{8 dx_{1}} U_{t + \\frac{1}{2},x - \\frac{1}{2},2,z} + \\frac{9 dt \\lambda}{8 dx_{1}} U_{t + \\frac{1}{2},x + \\frac{1}{2},2,z} - \\frac{dt \\lambda}{24 dx_{1}} U_{t + \\frac{1}{2},x + \\frac{3}{2},2,z} + \\frac{dt \\mu}{12 dx_{1}} U_{t + \\frac{1}{2},x - \\frac{3}{2},2,z} - \\frac{9 dt \\mu}{4 dx_{1}} U_{t + \\frac{1}{2},x - \\frac{1}{2},2,z} + \\frac{9 dt \\mu}{4 dx_{1}} U_{t + \\frac{1}{2},x + \\frac{1}{2},2,z} - \\frac{dt \\mu}{12 dx_{1}} U_{t + \\frac{1}{2},x + \\frac{3}{2},2,z} + Txx_{t,x,2,z}$$"
      ],
      "text/plain": [
       "                        31⋅dt⋅λ⋅V[t + 1/2, x, 5/2, z]   229⋅dt⋅λ⋅V[t + 1/2, x,\n",
       "Txx[t + 1, x, 2, z] = - ───────────────────────────── + ──────────────────────\n",
       "                                    8⋅dx₂                           24⋅dx₂    \n",
       "\n",
       " 7/2, z]   75⋅dt⋅λ⋅V[t + 1/2, x, 9/2, z]   37⋅dt⋅λ⋅V[t + 1/2, x, 11/2, z]   11\n",
       "──────── - ───────────────────────────── + ────────────────────────────── - ──\n",
       "                       8⋅dx₂                           8⋅dx₂                  \n",
       "\n",
       "⋅dt⋅λ⋅V[t + 1/2, x, 13/2, z]   dt⋅λ⋅W[t + 1/2, x, 2, z - 3/2]   9⋅dt⋅λ⋅W[t + 1\n",
       "──────────────────────────── + ────────────────────────────── - ──────────────\n",
       "          12⋅dx₂                           24⋅dx₃                            8\n",
       "\n",
       "/2, x, 2, z - 1/2]   9⋅dt⋅λ⋅W[t + 1/2, x, 2, z + 1/2]   dt⋅λ⋅W[t + 1/2, x, 2, \n",
       "────────────────── + ──────────────────────────────── - ──────────────────────\n",
       "⋅dx₃                              8⋅dx₃                             24⋅dx₃    \n",
       "\n",
       "z + 3/2]   dt⋅λ⋅U[t + 1/2, x - 3/2, 2, z]   9⋅dt⋅λ⋅U[t + 1/2, x - 1/2, 2, z]  \n",
       "──────── + ────────────────────────────── - ──────────────────────────────── +\n",
       "                       24⋅dx₁                            8⋅dx₁                \n",
       "\n",
       " 9⋅dt⋅λ⋅U[t + 1/2, x + 1/2, 2, z]   dt⋅λ⋅U[t + 1/2, x + 3/2, 2, z]   dt⋅μ⋅U[t \n",
       " ──────────────────────────────── - ────────────────────────────── + ─────────\n",
       "              8⋅dx₁                             24⋅dx₁                        \n",
       "\n",
       "+ 1/2, x - 3/2, 2, z]   9⋅dt⋅μ⋅U[t + 1/2, x - 1/2, 2, z]   9⋅dt⋅μ⋅U[t + 1/2, x\n",
       "───────────────────── - ──────────────────────────────── + ───────────────────\n",
       "   12⋅dx₁                            4⋅dx₁                              4⋅dx₁ \n",
       "\n",
       " + 1/2, 2, z]   dt⋅μ⋅U[t + 1/2, x + 3/2, 2, z]                  \n",
       "───────────── - ────────────────────────────── + Txx[t, x, 2, z]\n",
       "                            12⋅dx₁                              "
      ]
     },
     "execution_count": 39,
     "metadata": {},
     "output_type": "execute_result"
    }
   ],
   "source": [
    "Txx.bc[2][0][0]"
   ]
  },
  {
   "cell_type": "code",
   "execution_count": 38,
   "metadata": {
    "collapsed": false
   },
   "outputs": [
    {
     "data": {
      "image/png": "[encoded data removed]",
      "text/latex": [
       "$$- \\frac{31 dt \\lambda}{8 dx_{2}} V_{t + \\frac{1}{2},x,\\frac{5}{2},z} + \\frac{229 dt \\lambda}{24 dx_{2}} V_{t + \\frac{1}{2},x,\\frac{7}{2},z} - \\frac{75 dt \\lambda}{8 dx_{2}} V_{t + \\frac{1}{2},x,\\frac{9}{2},z} + \\frac{37 dt \\lambda}{8 dx_{2}} V_{t + \\frac{1}{2},x,\\frac{11}{2},z} - \\frac{11 dt \\lambda}{12 dx_{2}} V_{t + \\frac{1}{2},x,\\frac{13}{2},z} + \\frac{dt \\lambda}{24 dx_{3}} W_{t + \\frac{1}{2},x,2,z - \\frac{3}{2}} - \\frac{9 dt \\lambda}{8 dx_{3}} W_{t + \\frac{1}{2},x,2,z - \\frac{1}{2}} + \\frac{9 dt \\lambda}{8 dx_{3}} W_{t + \\frac{1}{2},x,2,z + \\frac{1}{2}} - \\frac{dt \\lambda}{24 dx_{3}} W_{t + \\frac{1}{2},x,2,z + \\frac{3}{2}} + \\frac{dt \\lambda}{24 dx_{1}} U_{t + \\frac{1}{2},x - \\frac{3}{2},2,z} - \\frac{9 dt \\lambda}{8 dx_{1}} U_{t + \\frac{1}{2},x - \\frac{1}{2},2,z} + \\frac{9 dt \\lambda}{8 dx_{1}} U_{t + \\frac{1}{2},x + \\frac{1}{2},2,z} - \\frac{dt \\lambda}{24 dx_{1}} U_{t + \\frac{1}{2},x + \\frac{3}{2},2,z} + \\frac{dt \\mu}{12 dx_{1}} U_{t + \\frac{1}{2},x - \\frac{3}{2},2,z} - \\frac{9 dt \\mu}{4 dx_{1}} U_{t + \\frac{1}{2},x - \\frac{1}{2},2,z} + \\frac{9 dt \\mu}{4 dx_{1}} U_{t + \\frac{1}{2},x + \\frac{1}{2},2,z} - \\frac{dt \\mu}{12 dx_{1}} U_{t + \\frac{1}{2},x + \\frac{3}{2},2,z} + Txx_{t,x,2,z}$$"
      ],
      "text/plain": [
       "  31⋅dt⋅λ⋅V[t + 1/2, x, 5/2, z]   229⋅dt⋅λ⋅V[t + 1/2, x, 7/2, z]   75⋅dt⋅λ⋅V[t\n",
       "- ───────────────────────────── + ────────────────────────────── - ───────────\n",
       "              8⋅dx₂                           24⋅dx₂                          \n",
       "\n",
       " + 1/2, x, 9/2, z]   37⋅dt⋅λ⋅V[t + 1/2, x, 11/2, z]   11⋅dt⋅λ⋅V[t + 1/2, x, 13\n",
       "────────────────── + ────────────────────────────── - ────────────────────────\n",
       " 8⋅dx₂                           8⋅dx₂                            12⋅dx₂      \n",
       "\n",
       "/2, z]   dt⋅λ⋅W[t + 1/2, x, 2, z - 3/2]   9⋅dt⋅λ⋅W[t + 1/2, x, 2, z - 1/2]   9\n",
       "────── + ────────────────────────────── - ──────────────────────────────── + ─\n",
       "                     24⋅dx₃                            8⋅dx₃                  \n",
       "\n",
       "⋅dt⋅λ⋅W[t + 1/2, x, 2, z + 1/2]   dt⋅λ⋅W[t + 1/2, x, 2, z + 3/2]   dt⋅λ⋅U[t + \n",
       "─────────────────────────────── - ────────────────────────────── + ───────────\n",
       "            8⋅dx₃                             24⋅dx₃                          \n",
       "\n",
       "1/2, x - 3/2, 2, z]   9⋅dt⋅λ⋅U[t + 1/2, x - 1/2, 2, z]   9⋅dt⋅λ⋅U[t + 1/2, x +\n",
       "─────────────────── - ──────────────────────────────── + ─────────────────────\n",
       " 24⋅dx₁                            8⋅dx₁                              8⋅dx₁   \n",
       "\n",
       " 1/2, 2, z]   dt⋅λ⋅U[t + 1/2, x + 3/2, 2, z]   dt⋅μ⋅U[t + 1/2, x - 3/2, 2, z] \n",
       "─────────── - ────────────────────────────── + ────────────────────────────── \n",
       "                          24⋅dx₁                           12⋅dx₁             \n",
       "\n",
       "  9⋅dt⋅μ⋅U[t + 1/2, x - 1/2, 2, z]   9⋅dt⋅μ⋅U[t + 1/2, x + 1/2, 2, z]   dt⋅μ⋅U\n",
       "- ──────────────────────────────── + ──────────────────────────────── - ──────\n",
       "               4⋅dx₁                              4⋅dx₁                       \n",
       "\n",
       "[t + 1/2, x + 3/2, 2, z]                  \n",
       "──────────────────────── + Txx[t, x, 2, z]\n",
       "      12⋅dx₁                              "
      ]
     },
     "execution_count": 38,
     "metadata": {},
     "output_type": "execute_result"
    }
   ],
   "source": [
    "expr = Txx.bc[2][0][0].rhs; expr"
   ]
  },
  {
   "cell_type": "code",
   "execution_count": 40,
   "metadata": {
    "collapsed": false
   },
   "outputs": [
    {
     "data": {
      "image/png": "[encoded data removed]",
      "text/latex": [
       "$$- \\frac{31 dt \\lambda}{8 dx_{2}} V_{t + \\frac{1}{2},x,\\frac{5}{2},2} + \\frac{229 dt \\lambda}{24 dx_{2}} V_{t + \\frac{1}{2},x,\\frac{7}{2},2} - \\frac{75 dt \\lambda}{8 dx_{2}} V_{t + \\frac{1}{2},x,\\frac{9}{2},2} + \\frac{37 dt \\lambda}{8 dx_{2}} V_{t + \\frac{1}{2},x,\\frac{11}{2},2} - \\frac{11 dt \\lambda}{12 dx_{2}} V_{t + \\frac{1}{2},x,\\frac{13}{2},2} + \\frac{dt \\lambda}{24 dx_{3}} W_{t + \\frac{1}{2},x,2,\\frac{1}{2}} - \\frac{9 dt \\lambda}{8 dx_{3}} W_{t + \\frac{1}{2},x,2,\\frac{3}{2}} + \\frac{9 dt \\lambda}{8 dx_{3}} W_{t + \\frac{1}{2},x,2,\\frac{5}{2}} - \\frac{dt \\lambda}{24 dx_{3}} W_{t + \\frac{1}{2},x,2,\\frac{7}{2}} + \\frac{dt \\lambda}{24 dx_{1}} U_{t + \\frac{1}{2},x - \\frac{3}{2},2,2} - \\frac{9 dt \\lambda}{8 dx_{1}} U_{t + \\frac{1}{2},x - \\frac{1}{2},2,2} + \\frac{9 dt \\lambda}{8 dx_{1}} U_{t + \\frac{1}{2},x + \\frac{1}{2},2,2} - \\frac{dt \\lambda}{24 dx_{1}} U_{t + \\frac{1}{2},x + \\frac{3}{2},2,2} + \\frac{dt \\mu}{12 dx_{1}} U_{t + \\frac{1}{2},x - \\frac{3}{2},2,2} - \\frac{9 dt \\mu}{4 dx_{1}} U_{t + \\frac{1}{2},x - \\frac{1}{2},2,2} + \\frac{9 dt \\mu}{4 dx_{1}} U_{t + \\frac{1}{2},x + \\frac{1}{2},2,2} - \\frac{dt \\mu}{12 dx_{1}} U_{t + \\frac{1}{2},x + \\frac{3}{2},2,2} + Txx_{t,x,2,2}$$"
      ],
      "text/plain": [
       "  31⋅dt⋅λ⋅V[t + 1/2, x, 5/2, 2]   229⋅dt⋅λ⋅V[t + 1/2, x, 7/2, 2]   75⋅dt⋅λ⋅V[t\n",
       "- ───────────────────────────── + ────────────────────────────── - ───────────\n",
       "              8⋅dx₂                           24⋅dx₂                          \n",
       "\n",
       " + 1/2, x, 9/2, 2]   37⋅dt⋅λ⋅V[t + 1/2, x, 11/2, 2]   11⋅dt⋅λ⋅V[t + 1/2, x, 13\n",
       "────────────────── + ────────────────────────────── - ────────────────────────\n",
       " 8⋅dx₂                           8⋅dx₂                            12⋅dx₂      \n",
       "\n",
       "/2, 2]   dt⋅λ⋅W[t + 1/2, x, 2, 1/2]   9⋅dt⋅λ⋅W[t + 1/2, x, 2, 3/2]   9⋅dt⋅λ⋅W[\n",
       "────── + ────────────────────────── - ──────────────────────────── + ─────────\n",
       "                   24⋅dx₃                        8⋅dx₃                        \n",
       "\n",
       "t + 1/2, x, 2, 5/2]   dt⋅λ⋅W[t + 1/2, x, 2, 7/2]   dt⋅λ⋅U[t + 1/2, x - 3/2, 2,\n",
       "─────────────────── - ────────────────────────── + ───────────────────────────\n",
       "  8⋅dx₃                         24⋅dx₃                         24⋅dx₁         \n",
       "\n",
       " 2]   9⋅dt⋅λ⋅U[t + 1/2, x - 1/2, 2, 2]   9⋅dt⋅λ⋅U[t + 1/2, x + 1/2, 2, 2]   dt\n",
       "─── - ──────────────────────────────── + ──────────────────────────────── - ──\n",
       "                   8⋅dx₁                              8⋅dx₁                   \n",
       "\n",
       "⋅λ⋅U[t + 1/2, x + 3/2, 2, 2]   dt⋅μ⋅U[t + 1/2, x - 3/2, 2, 2]   9⋅dt⋅μ⋅U[t + 1\n",
       "──────────────────────────── + ────────────────────────────── - ──────────────\n",
       "          24⋅dx₁                           12⋅dx₁                            4\n",
       "\n",
       "/2, x - 1/2, 2, 2]   9⋅dt⋅μ⋅U[t + 1/2, x + 1/2, 2, 2]   dt⋅μ⋅U[t + 1/2, x + 3/\n",
       "────────────────── + ──────────────────────────────── - ──────────────────────\n",
       "⋅dx₁                              4⋅dx₁                             12⋅dx₁    \n",
       "\n",
       "2, 2, 2]                  \n",
       "──────── + Txx[t, x, 2, 2]\n",
       "                          "
      ]
     },
     "execution_count": 40,
     "metadata": {},
     "output_type": "execute_result"
    }
   ],
   "source": [
    "expr.subs(z,2)"
   ]
  },
  {
   "cell_type": "code",
   "execution_count": 41,
   "metadata": {
    "collapsed": false
   },
   "outputs": [
    {
     "data": {
      "image/png": "[encoded data removed]",
      "text/latex": [
       "$$- \\frac{31 dt \\lambda}{8 dx_{3}} W_{t + \\frac{1}{2},x,y,\\frac{5}{2}} + \\frac{229 dt \\lambda}{24 dx_{3}} W_{t + \\frac{1}{2},x,y,\\frac{7}{2}} - \\frac{75 dt \\lambda}{8 dx_{3}} W_{t + \\frac{1}{2},x,y,\\frac{9}{2}} + \\frac{37 dt \\lambda}{8 dx_{3}} W_{t + \\frac{1}{2},x,y,\\frac{11}{2}} - \\frac{11 dt \\lambda}{12 dx_{3}} W_{t + \\frac{1}{2},x,y,\\frac{13}{2}} + \\frac{dt \\lambda}{24 dx_{2}} V_{t + \\frac{1}{2},x,y - \\frac{3}{2},2} - \\frac{9 dt \\lambda}{8 dx_{2}} V_{t + \\frac{1}{2},x,y - \\frac{1}{2},2} + \\frac{9 dt \\lambda}{8 dx_{2}} V_{t + \\frac{1}{2},x,y + \\frac{1}{2},2} - \\frac{dt \\lambda}{24 dx_{2}} V_{t + \\frac{1}{2},x,y + \\frac{3}{2},2} + \\frac{dt \\lambda}{24 dx_{1}} U_{t + \\frac{1}{2},x - \\frac{3}{2},y,2} - \\frac{9 dt \\lambda}{8 dx_{1}} U_{t + \\frac{1}{2},x - \\frac{1}{2},y,2} + \\frac{9 dt \\lambda}{8 dx_{1}} U_{t + \\frac{1}{2},x + \\frac{1}{2},y,2} - \\frac{dt \\lambda}{24 dx_{1}} U_{t + \\frac{1}{2},x + \\frac{3}{2},y,2} + \\frac{dt \\mu}{12 dx_{1}} U_{t + \\frac{1}{2},x - \\frac{3}{2},y,2} - \\frac{9 dt \\mu}{4 dx_{1}} U_{t + \\frac{1}{2},x - \\frac{1}{2},y,2} + \\frac{9 dt \\mu}{4 dx_{1}} U_{t + \\frac{1}{2},x + \\frac{1}{2},y,2} - \\frac{dt \\mu}{12 dx_{1}} U_{t + \\frac{1}{2},x + \\frac{3}{2},y,2} + Txx_{t,x,y,2}$$"
      ],
      "text/plain": [
       "  31⋅dt⋅λ⋅W[t + 1/2, x, y, 5/2]   229⋅dt⋅λ⋅W[t + 1/2, x, y, 7/2]   75⋅dt⋅λ⋅W[t\n",
       "- ───────────────────────────── + ────────────────────────────── - ───────────\n",
       "              8⋅dx₃                           24⋅dx₃                          \n",
       "\n",
       " + 1/2, x, y, 9/2]   37⋅dt⋅λ⋅W[t + 1/2, x, y, 11/2]   11⋅dt⋅λ⋅W[t + 1/2, x, y,\n",
       "────────────────── + ────────────────────────────── - ────────────────────────\n",
       " 8⋅dx₃                           8⋅dx₃                            12⋅dx₃      \n",
       "\n",
       " 13/2]   dt⋅λ⋅V[t + 1/2, x, y - 3/2, 2]   9⋅dt⋅λ⋅V[t + 1/2, x, y - 1/2, 2]   9\n",
       "────── + ────────────────────────────── - ──────────────────────────────── + ─\n",
       "                     24⋅dx₂                            8⋅dx₂                  \n",
       "\n",
       "⋅dt⋅λ⋅V[t + 1/2, x, y + 1/2, 2]   dt⋅λ⋅V[t + 1/2, x, y + 3/2, 2]   dt⋅λ⋅U[t + \n",
       "─────────────────────────────── - ────────────────────────────── + ───────────\n",
       "            8⋅dx₂                             24⋅dx₂                          \n",
       "\n",
       "1/2, x - 3/2, y, 2]   9⋅dt⋅λ⋅U[t + 1/2, x - 1/2, y, 2]   9⋅dt⋅λ⋅U[t + 1/2, x +\n",
       "─────────────────── - ──────────────────────────────── + ─────────────────────\n",
       " 24⋅dx₁                            8⋅dx₁                              8⋅dx₁   \n",
       "\n",
       " 1/2, y, 2]   dt⋅λ⋅U[t + 1/2, x + 3/2, y, 2]   dt⋅μ⋅U[t + 1/2, x - 3/2, y, 2] \n",
       "─────────── - ────────────────────────────── + ────────────────────────────── \n",
       "                          24⋅dx₁                           12⋅dx₁             \n",
       "\n",
       "  9⋅dt⋅μ⋅U[t + 1/2, x - 1/2, y, 2]   9⋅dt⋅μ⋅U[t + 1/2, x + 1/2, y, 2]   dt⋅μ⋅U\n",
       "- ──────────────────────────────── + ──────────────────────────────── - ──────\n",
       "               4⋅dx₁                              4⋅dx₁                       \n",
       "\n",
       "[t + 1/2, x + 3/2, y, 2]                  \n",
       "──────────────────────── + Txx[t, x, y, 2]\n",
       "      12⋅dx₁                              "
      ]
     },
     "execution_count": 41,
     "metadata": {},
     "output_type": "execute_result"
    }
   ],
   "source": [
    "expr2 = Txx.bc[3][0][0].rhs; expr2"
   ]
  },
  {
   "cell_type": "code",
   "execution_count": 42,
   "metadata": {
    "collapsed": false
   },
   "outputs": [
    {
     "data": {
      "image/png": "[encoded data removed]",
      "text/latex": [
       "$$- \\frac{31 dt \\lambda}{8 dx_{3}} W_{t + \\frac{1}{2},x,2,\\frac{5}{2}} + \\frac{229 dt \\lambda}{24 dx_{3}} W_{t + \\frac{1}{2},x,2,\\frac{7}{2}} - \\frac{75 dt \\lambda}{8 dx_{3}} W_{t + \\frac{1}{2},x,2,\\frac{9}{2}} + \\frac{37 dt \\lambda}{8 dx_{3}} W_{t + \\frac{1}{2},x,2,\\frac{11}{2}} - \\frac{11 dt \\lambda}{12 dx_{3}} W_{t + \\frac{1}{2},x,2,\\frac{13}{2}} + \\frac{dt \\lambda}{24 dx_{2}} V_{t + \\frac{1}{2},x,\\frac{1}{2},2} - \\frac{9 dt \\lambda}{8 dx_{2}} V_{t + \\frac{1}{2},x,\\frac{3}{2},2} + \\frac{9 dt \\lambda}{8 dx_{2}} V_{t + \\frac{1}{2},x,\\frac{5}{2},2} - \\frac{dt \\lambda}{24 dx_{2}} V_{t + \\frac{1}{2},x,\\frac{7}{2},2} + \\frac{dt \\lambda}{24 dx_{1}} U_{t + \\frac{1}{2},x - \\frac{3}{2},2,2} - \\frac{9 dt \\lambda}{8 dx_{1}} U_{t + \\frac{1}{2},x - \\frac{1}{2},2,2} + \\frac{9 dt \\lambda}{8 dx_{1}} U_{t + \\frac{1}{2},x + \\frac{1}{2},2,2} - \\frac{dt \\lambda}{24 dx_{1}} U_{t + \\frac{1}{2},x + \\frac{3}{2},2,2} + \\frac{dt \\mu}{12 dx_{1}} U_{t + \\frac{1}{2},x - \\frac{3}{2},2,2} - \\frac{9 dt \\mu}{4 dx_{1}} U_{t + \\frac{1}{2},x - \\frac{1}{2},2,2} + \\frac{9 dt \\mu}{4 dx_{1}} U_{t + \\frac{1}{2},x + \\frac{1}{2},2,2} - \\frac{dt \\mu}{12 dx_{1}} U_{t + \\frac{1}{2},x + \\frac{3}{2},2,2} + Txx_{t,x,2,2}$$"
      ],
      "text/plain": [
       "  31⋅dt⋅λ⋅W[t + 1/2, x, 2, 5/2]   229⋅dt⋅λ⋅W[t + 1/2, x, 2, 7/2]   75⋅dt⋅λ⋅W[t\n",
       "- ───────────────────────────── + ────────────────────────────── - ───────────\n",
       "              8⋅dx₃                           24⋅dx₃                          \n",
       "\n",
       " + 1/2, x, 2, 9/2]   37⋅dt⋅λ⋅W[t + 1/2, x, 2, 11/2]   11⋅dt⋅λ⋅W[t + 1/2, x, 2,\n",
       "────────────────── + ────────────────────────────── - ────────────────────────\n",
       " 8⋅dx₃                           8⋅dx₃                            12⋅dx₃      \n",
       "\n",
       " 13/2]   dt⋅λ⋅V[t + 1/2, x, 1/2, 2]   9⋅dt⋅λ⋅V[t + 1/2, x, 3/2, 2]   9⋅dt⋅λ⋅V[\n",
       "────── + ────────────────────────── - ──────────────────────────── + ─────────\n",
       "                   24⋅dx₂                        8⋅dx₂                        \n",
       "\n",
       "t + 1/2, x, 5/2, 2]   dt⋅λ⋅V[t + 1/2, x, 7/2, 2]   dt⋅λ⋅U[t + 1/2, x - 3/2, 2,\n",
       "─────────────────── - ────────────────────────── + ───────────────────────────\n",
       "  8⋅dx₂                         24⋅dx₂                         24⋅dx₁         \n",
       "\n",
       " 2]   9⋅dt⋅λ⋅U[t + 1/2, x - 1/2, 2, 2]   9⋅dt⋅λ⋅U[t + 1/2, x + 1/2, 2, 2]   dt\n",
       "─── - ──────────────────────────────── + ──────────────────────────────── - ──\n",
       "                   8⋅dx₁                              8⋅dx₁                   \n",
       "\n",
       "⋅λ⋅U[t + 1/2, x + 3/2, 2, 2]   dt⋅μ⋅U[t + 1/2, x - 3/2, 2, 2]   9⋅dt⋅μ⋅U[t + 1\n",
       "──────────────────────────── + ────────────────────────────── - ──────────────\n",
       "          24⋅dx₁                           12⋅dx₁                            4\n",
       "\n",
       "/2, x - 1/2, 2, 2]   9⋅dt⋅μ⋅U[t + 1/2, x + 1/2, 2, 2]   dt⋅μ⋅U[t + 1/2, x + 3/\n",
       "────────────────── + ──────────────────────────────── - ──────────────────────\n",
       "⋅dx₁                              4⋅dx₁                             12⋅dx₁    \n",
       "\n",
       "2, 2, 2]                  \n",
       "──────── + Txx[t, x, 2, 2]\n",
       "                          "
      ]
     },
     "execution_count": 42,
     "metadata": {},
     "output_type": "execute_result"
    }
   ],
   "source": [
    "expr2.subs(y,2)"
   ]
  },
  {
   "cell_type": "code",
   "execution_count": 30,
   "metadata": {
    "collapsed": false
   },
   "outputs": [],
   "source": [
    "grid.set_free_surface_boundary(dimension=1,side=0,algo='kristek')\n",
    "grid.set_free_surface_boundary(dimension=1,side=1,algo='kristek')\n",
    "grid.set_free_surface_boundary(dimension=2,side=0,algo='kristek')\n",
    "grid.set_free_surface_boundary(dimension=2,side=1,algo='kristek')\n",
    "grid.set_free_surface_boundary(dimension=3,side=0,algo='kristek')\n",
    "grid.set_free_surface_boundary(dimension=3,side=1,algo='kristek')\n",
    "# grid.set_free_surface_boundary(dimension=1,side=0)\n",
    "# grid.set_free_surface_boundary(dimension=1,side=1)\n",
    "# grid.set_free_surface_boundary(dimension=2,side=0)\n",
    "# grid.set_free_surface_boundary(dimension=2,side=1)\n",
    "# grid.set_free_surface_boundary(dimension=3,side=0)\n",
    "# grid.set_free_surface_boundary(dimension=3,side=1)"
   ]
  },
  {
   "cell_type": "markdown",
   "metadata": {},
   "source": [
    "###output using templates"
   ]
  },
  {
   "cell_type": "code",
   "execution_count": 14,
   "metadata": {
    "collapsed": false
   },
   "outputs": [
    {
     "name": "stdout",
     "output_type": "stream",
     "text": [
      "Generated: ../tmp/test_bc.cpp\n"
     ]
    }
   ],
   "source": [
    "# write to template file\n",
    "grid.generate('../tmp/test_bc.cpp')"
   ]
  },
  {
   "cell_type": "code",
   "execution_count": 12,
   "metadata": {
    "collapsed": true
   },
   "outputs": [],
   "source": [
    "grid.set_switches(expand=True, eval_const=True)"
   ]
  },
  {
   "cell_type": "code",
   "execution_count": 112,
   "metadata": {
    "collapsed": false,
    "scrolled": true
   },
   "outputs": [
    {
     "data": {
      "image/png": "[encoded data removed]",
      "text/latex": [
       "$$\\left ( 3.0, \\quad 3.0, \\quad 72, \\quad 72, \\quad 9, \\quad 3\\right )$$"
      ],
      "text/plain": [
       "(3.0, 3.0, 72, 72, 9, 3)"
      ]
     },
     "execution_count": 112,
     "metadata": {},
     "output_type": "execute_result"
    }
   ],
   "source": [
    "grid.get_velocity_kernel_ai()"
   ]
  },
  {
   "cell_type": "code",
   "execution_count": 113,
   "metadata": {
    "collapsed": false,
    "scrolled": true
   },
   "outputs": [
    {
     "data": {
      "image/png": "[encoded data removed]",
      "text/latex": [
       "$$\\left ( 4.0, \\quad 4.0, \\quad 120, \\quad 120, \\quad 9, \\quad 6\\right )$$"
      ],
      "text/plain": [
       "(4.0, 4.0, 120, 120, 9, 6)"
      ]
     },
     "execution_count": 113,
     "metadata": {},
     "output_type": "execute_result"
    }
   ],
   "source": [
    "grid.get_stress_kernel_ai()"
   ]
  },
  {
   "cell_type": "code",
   "execution_count": 114,
   "metadata": {
    "collapsed": false
   },
   "outputs": [
    {
     "data": {
      "image/png": "[encoded data removed]",
      "text/latex": [
       "$$\\left ( 2.74480619146, \\quad 2.73816845115\\right )$$"
      ],
      "text/plain": [
       "(2.74480619146, 2.73816845115)"
      ]
     },
     "execution_count": 114,
     "metadata": {},
     "output_type": "execute_result"
    }
   ],
   "source": [
    "grid.get_overall_kernel_ai()"
   ]
  },
  {
   "cell_type": "code",
   "execution_count": null,
   "metadata": {
    "collapsed": true
   },
   "outputs": [],
   "source": []
  }
 ],
 "metadata": {
  "kernelspec": {
   "display_name": "Python 2",
   "language": "python",
   "name": "python2"
  },
  "language_info": {
   "codemirror_mode": {
    "name": "ipython",
    "version": 2
   },
   "file_extension": ".py",
   "mimetype": "text/x-python",
   "name": "python",
   "nbconvert_exporter": "python",
   "pygments_lexer": "ipython2",
   "version": "2.7.10"
  }
 },
 "nbformat": 4,
 "nbformat_minor": 0
}
