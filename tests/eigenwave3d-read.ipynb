{
 "cells": [
  {
   "cell_type": "code",
   "execution_count": 1,
   "metadata": {
    "collapsed": false
   },
   "outputs": [],
   "source": [
    "%load_ext autoreload\n",
    "%autoreload 2\n",
    "import os, sys\n",
    "sys.path.append(os.path.abspath(os.pardir))"
   ]
  },
  {
   "cell_type": "code",
   "execution_count": 2,
   "metadata": {
    "collapsed": false
   },
   "outputs": [],
   "source": [
    "# %reset\n",
    "from sympy import symbols, init_printing, simplify, solve, srepr, Add, Symbol, Integer, Float, pi, cos, sin, Rational\n",
    "from sympy import IndexedBase, Eq, simplify, sqrt, latex\n",
    "from mako.template import Template\n",
    "from mako.lookup import TemplateLookup\n",
    "from mako.runtime import Context\n",
    "from StringIO import StringIO\n",
    "from opesci import *\n",
    "init_printing()"
   ]
  },
  {
   "cell_type": "code",
   "execution_count": 3,
   "metadata": {
    "collapsed": false
   },
   "outputs": [],
   "source": [
    "Txx = SField('Txx', dimension=3, direction=(1, 1))\n",
    "Tyy = SField('Tyy', dimension=3, direction=(2, 2))\n",
    "Tzz = SField('Tzz', dimension=3, direction=(3, 3))\n",
    "Txy = SField('Txy', dimension=3, direction=(1, 2))\n",
    "Tyz = SField('Tyz', dimension=3, direction=(2, 3))\n",
    "Txz = SField('Txz', dimension=3, direction=(1, 3))\n",
    "U = VField('U', dimension=3, direction=1)\n",
    "V = VField('V', dimension=3, direction=2)\n",
    "W = VField('W', dimension=3, direction=3)"
   ]
  },
  {
   "cell_type": "code",
   "execution_count": 4,
   "metadata": {
    "collapsed": false
   },
   "outputs": [
    {
     "data": {
      "text/plain": [
       "'physical parameters to be read from file, please compile and run the executable'"
      ]
     },
     "execution_count": 4,
     "metadata": {},
     "output_type": "execute_result"
    }
   ],
   "source": [
    "grid = StaggeredGrid(dimension=3, domain_size=(1.0, 1.0, 1.0), grid_size=(100, 100, 100), \n",
    "                     stress_fields=[Txx, Tyy, Tzz, Txy, Tyz, Txz], velocity_fields=[U, V, W])\n",
    "grid.set_time_step(0.002, 1.0)\n",
    "grid.set_switches(omp=True, simd=False, ivdep=True,\n",
    "                  double=False, expand=True, eval_const=True)\n",
    "t, x, y, z = symbols('t x y z')\n",
    "grid.set_index([x, y, z])\n",
    "grid.set_media_params(read=True, rho=1.0, vp=1.0, vs=0.5,\n",
    "                      rho_file='RHOhomogx200', vp_file='VPhomogx200', vs_file='VShomogx200')\n",
    "grid.get_time_step_limit()"
   ]
  },
  {
   "cell_type": "markdown",
   "metadata": {},
   "source": [
    "####Analytical solutions\n",
    "$U = cos(\\pi x)(sin(\\pi y)-sin(\\pi z))cos(\\Omega t)$<br>\n",
    "$V = cos(\\pi y)(sin(\\pi z)-sin(\\pi x))cos(\\Omega t)$<br>\n",
    "$W = cos(\\pi z)(sin(\\pi x)-sin(\\pi y))cos(\\Omega t)$<br>\n",
    "$T_{xx} = -Asin(\\pi x)(sin(\\pi y)-sin(\\pi z))sin(\\Omega t)$<br>\n",
    "$T_{yy} = -Asin(\\pi y)(sin(\\pi z)-sin(\\pi x))sin(\\Omega t)$<br>\n",
    "$T_{zz} = -Asin(\\pi z)(sin(\\pi x)-sin(\\pi y))sin(\\Omega t)$<br>\n",
    "$T_{xy} = T_{yz} = T_{xz} = 0$<br>\n",
    "where $A=\\sqrt{2\\rho \\mu} \\space \\space \\Omega=\\pi\\sqrt{\\frac{2\\mu}{\\rho}}$"
   ]
  },
  {
   "cell_type": "code",
   "execution_count": 5,
   "metadata": {
    "collapsed": false
   },
   "outputs": [],
   "source": [
    "rho, beta, lam, mu = symbols('rho beta lambda mu')\n",
    "\n",
    "Omega = pi*sqrt(2*mu/rho)\n",
    "A = sqrt(2*rho*mu)\n",
    "U_func = cos(pi*x)*(sin(pi*y)-sin(pi*z))*cos(Omega*t)\n",
    "V_func = cos(pi*y)*(sin(pi*z)-sin(pi*x))*cos(Omega*t)\n",
    "W_func = cos(pi*z)*(sin(pi*x)-sin(pi*y))*cos(Omega*t)\n",
    "Txx_func = -A*sin(pi*x)*(sin(pi*y)-sin(pi*z))*sin(Omega*t)\n",
    "Tyy_func = -A*sin(pi*y)*(sin(pi*z)-sin(pi*x))*sin(Omega*t)\n",
    "Tzz_func = -A*sin(pi*z)*(sin(pi*x)-sin(pi*y))*sin(Omega*t)\n",
    "Txy_func = Float(0)\n",
    "Tyz_func = Float(0)\n",
    "Txz_func = Float(0)"
   ]
  },
  {
   "cell_type": "code",
   "execution_count": 6,
   "metadata": {
    "collapsed": false
   },
   "outputs": [],
   "source": [
    "U.set_analytic_solution(U_func)\n",
    "V.set_analytic_solution(V_func)\n",
    "W.set_analytic_solution(W_func)\n",
    "Txx.set_analytic_solution(Txx_func)\n",
    "Tyy.set_analytic_solution(Tyy_func)\n",
    "Tzz.set_analytic_solution(Tzz_func)\n",
    "Txy.set_analytic_solution(Txy_func)\n",
    "Tyz.set_analytic_solution(Tyz_func)\n",
    "Txz.set_analytic_solution(Txz_func)"
   ]
  },
  {
   "cell_type": "code",
   "execution_count": 7,
   "metadata": {
    "collapsed": false
   },
   "outputs": [],
   "source": [
    "grid.set_accuracy([1,2,2,2])\n",
    "grid.calc_derivatives()"
   ]
  },
  {
   "cell_type": "markdown",
   "metadata": {},
   "source": [
    "###PDEs\n",
    "#####momentum equations\n",
    "$\\partial_tU = b(\\partial_xT_{xx}+\\partial_yT_{xy}+\\partial_zT_{xz})$<br>\n",
    "$\\partial_tV = b(\\partial_xT_{xy}+\\partial_yT_{yy}+\\partial_zT_{yz})$<br>\n",
    "$\\partial_tW = b(\\partial_xT_{xz}+\\partial_yT_{yz}+\\partial_zT_{zz})$<br>\n",
    "#####stress-strain equations\n",
    "$\\partial_tT_{xx} = (\\lambda+2\\mu)\\partial_xU + \\lambda(\\partial_yV+\\partial_zW)$<br>\n",
    "$\\partial_tT_{yy} = (\\lambda+2\\mu)\\partial_yV + \\lambda(\\partial_xU+\\partial_zW)$<br>\n",
    "$\\partial_tT_{zz} = (\\lambda+2\\mu)\\partial_zW + \\lambda(\\partial_xU+\\partial_yV)$<br>\n",
    "$\\partial_tT_{xy} = \\mu(\\partial_yU + \\partial_xV)$<br>\n",
    "$\\partial_tT_{xz} = \\mu(\\partial_zU + \\partial_xW)$<br>\n",
    "$\\partial_tT_{yz} = \\mu(\\partial_zV + \\partial_yW)$<br>"
   ]
  },
  {
   "cell_type": "code",
   "execution_count": 8,
   "metadata": {
    "collapsed": false
   },
   "outputs": [],
   "source": [
    "# momentum equations\n",
    "eq1 = Eq(U.d[0][1], beta*(Txx.d[1][1] + Txy.d[2][1] + Txz.d[3][1]))\n",
    "eq2 = Eq(V.d[0][1], beta*(Txy.d[1][1] + Tyy.d[2][1] + Tyz.d[3][1]))\n",
    "eq3 = Eq(W.d[0][1], beta*(Txz.d[1][1] + Tyz.d[2][1] + Tzz.d[3][1]))\n",
    "# stress-strain equations\n",
    "eq4 = Eq(Txx.d[0][1], (lam + 2*mu)*U.d[1][1] + lam*(V.d[2][1]+W.d[3][1]))\n",
    "eq5 = Eq(Tyy.d[0][1], (lam + 2*mu)*V.d[2][1] + lam*(U.d[1][1]+W.d[3][1]))\n",
    "eq6 = Eq(Tzz.d[0][1], (lam + 2*mu)*W.d[3][1] + lam*(U.d[1][1]+V.d[2][1]))\n",
    "eq7 = Eq(Txy.d[0][1], mu*(U.d[2][1] + V.d[1][1]))\n",
    "eq8 = Eq(Tyz.d[0][1], mu*(V.d[3][1] + W.d[2][1]))\n",
    "eq9 = Eq(Txz.d[0][1], mu*(U.d[3][1] + W.d[1][1]))"
   ]
  },
  {
   "cell_type": "code",
   "execution_count": 9,
   "metadata": {
    "collapsed": false
   },
   "outputs": [],
   "source": [
    "grid.solve_fd([eq1,eq2,eq3,eq4,eq5,eq6,eq7,eq8,eq9])"
   ]
  },
  {
   "cell_type": "code",
   "execution_count": 10,
   "metadata": {
    "collapsed": false
   },
   "outputs": [],
   "source": [
    "grid.set_free_surface_boundary(dimension=1,side=0)\n",
    "grid.set_free_surface_boundary(dimension=1,side=1)\n",
    "grid.set_free_surface_boundary(dimension=2,side=0)\n",
    "grid.set_free_surface_boundary(dimension=2,side=1)\n",
    "grid.set_free_surface_boundary(dimension=3,side=0)\n",
    "grid.set_free_surface_boundary(dimension=3,side=1)"
   ]
  },
  {
   "cell_type": "markdown",
   "metadata": {},
   "source": [
    "###output using templates"
   ]
  },
  {
   "cell_type": "code",
   "execution_count": 12,
   "metadata": {
    "collapsed": false
   },
   "outputs": [],
   "source": [
    "# write to template file\n",
    "# grid.generate('../tmp/test_deriv.cpp', False, True)"
   ]
  },
  {
   "cell_type": "code",
   "execution_count": 14,
   "metadata": {
    "collapsed": false,
    "scrolled": true
   },
   "outputs": [
    {
     "data": {
      "image/png": "[encoded data removed]",
      "text/latex": [
       "$$\\left ( 1.5, \\quad 1.5, \\quad 36, \\quad 36, \\quad 9, \\quad 3\\right )$$"
      ],
      "text/plain": [
       "(1.5, 1.5, 36, 36, 9, 3)"
      ]
     },
     "execution_count": 14,
     "metadata": {},
     "output_type": "execute_result"
    }
   ],
   "source": [
    "grid.get_velocity_kernel_ai()"
   ]
  },
  {
   "cell_type": "code",
   "execution_count": 15,
   "metadata": {
    "collapsed": false,
    "scrolled": true
   },
   "outputs": [
    {
     "data": {
      "image/png": "[encoded data removed]",
      "text/latex": [
       "$$\\left ( 2.0, \\quad 2.0, \\quad 60, \\quad 60, \\quad 9, \\quad 6\\right )$$"
      ],
      "text/plain": [
       "(2.0, 2.0, 60, 60, 9, 6)"
      ]
     },
     "execution_count": 15,
     "metadata": {},
     "output_type": "execute_result"
    }
   ],
   "source": [
    "grid.get_stress_kernel_ai()"
   ]
  },
  {
   "cell_type": "code",
   "execution_count": 17,
   "metadata": {
    "collapsed": false
   },
   "outputs": [
    {
     "data": {
      "image/png": "[encoded data removed]",
      "text/latex": [
       "$$\\frac{1}{24 dx_{1} dx_{2} dx_{3}} \\left(\\beta dt dx_{1} dx_{2} \\left(27 Txz_{t + 1,x,y,z} + Txz_{t + 1,x,y,z - 2} - 27 Txz_{t + 1,x,y,z - 1} - Txz_{t + 1,x,y,z + 1}\\right) + \\beta dt dx_{1} dx_{3} \\left(27 Txy_{t + 1,x,y,z} + Txy_{t + 1,x,y - 2,z} - 27 Txy_{t + 1,x,y - 1,z} - Txy_{t + 1,x,y + 1,z}\\right) + \\beta dt dx_{2} dx_{3} \\left(- 27 Txx_{t + 1,x,y,z} + Txx_{t + 1,x - 1,y,z} + 27 Txx_{t + 1,x + 1,y,z} - Txx_{t + 1,x + 2,y,z}\\right) + 24 dx_{1} dx_{2} dx_{3} U_{t,x,y,z}\\right)$$"
      ],
      "text/plain": [
       "β⋅dt⋅dx₁⋅dx₂⋅(27⋅Txz[t + 1, x, y, z] + Txz[t + 1, x, y, z - 2] - 27⋅Txz[t + 1,\n",
       "──────────────────────────────────────────────────────────────────────────────\n",
       "                                                                              \n",
       "\n",
       " x, y, z - 1] - Txz[t + 1, x, y, z + 1]) + β⋅dt⋅dx₁⋅dx₃⋅(27⋅Txy[t + 1, x, y, z\n",
       "──────────────────────────────────────────────────────────────────────────────\n",
       "                                                                              \n",
       "\n",
       "] + Txy[t + 1, x, y - 2, z] - 27⋅Txy[t + 1, x, y - 1, z] - Txy[t + 1, x, y + 1\n",
       "──────────────────────────────────────────────────────────────────────────────\n",
       "                                 24⋅dx₁⋅dx₂⋅dx₃                               \n",
       "\n",
       ", z]) + β⋅dt⋅dx₂⋅dx₃⋅(-27⋅Txx[t + 1, x, y, z] + Txx[t + 1, x - 1, y, z] + 27⋅T\n",
       "──────────────────────────────────────────────────────────────────────────────\n",
       "                                                                              \n",
       "\n",
       "xx[t + 1, x + 1, y, z] - Txx[t + 1, x + 2, y, z]) + 24⋅dx₁⋅dx₂⋅dx₃⋅U[t, x, y, \n",
       "──────────────────────────────────────────────────────────────────────────────\n",
       "                                                                              \n",
       "\n",
       "z]\n",
       "──\n",
       "  "
      ]
     },
     "execution_count": 17,
     "metadata": {},
     "output_type": "execute_result"
    }
   ],
   "source": [
    "U.kernel_aligned"
   ]
  },
  {
   "cell_type": "code",
   "execution_count": 8,
   "metadata": {
    "collapsed": false
   },
   "outputs": [],
   "source": [
    "rho = Media('rho', dimension=3, staggered=[False,False,False], index=[x,y,z])"
   ]
  },
  {
   "cell_type": "code",
   "execution_count": 10,
   "metadata": {
    "collapsed": false
   },
   "outputs": [
    {
     "data": {
      "image/png": "[encoded data removed]",
      "text/latex": [
       "$$\\left [ x, \\quad y, \\quad z\\right ]$$"
      ],
      "text/plain": [
       "[x, y, z]"
      ]
     },
     "execution_count": 10,
     "metadata": {},
     "output_type": "execute_result"
    }
   ],
   "source": [
    "rho.index"
   ]
  },
  {
   "cell_type": "code",
   "execution_count": 11,
   "metadata": {
    "collapsed": false
   },
   "outputs": [
    {
     "data": {
      "image/png": "[encoded data removed]",
      "text/latex": [
       "$$D_{U t 1} = \\left(D_{Txx x 1} + D_{Txy y 1} + D_{Txz z 1}\\right) \\beta_{x,y,z}$$"
      ],
      "text/plain": [
       "D_U_t_1 = (D_Txx_x_1 + D_Txy_y_1 + D_Txz_z_1)⋅beta[x, y, z]"
      ]
     },
     "execution_count": 11,
     "metadata": {},
     "output_type": "execute_result"
    }
   ],
   "source": [
    "grid.eq[0]"
   ]
  },
  {
   "cell_type": "code",
   "execution_count": 10,
   "metadata": {
    "collapsed": false
   },
   "outputs": [
    {
     "data": {
      "image/png": "[encoded data removed]",
      "text/latex": [
       "$$\\left \\{ \\beta : \\beta_{x,y,z}, \\quad \\lambda : \\lambda_{x,y,z}, \\quad \\mu : \\mu_{x,y,z}\\right \\}$$"
      ],
      "text/plain": [
       "{β: beta[x, y, z], λ: lambda[x, y, z], μ: mu[x, y, z]}"
      ]
     },
     "execution_count": 10,
     "metadata": {},
     "output_type": "execute_result"
    }
   ],
   "source": [
    "grid.media_dict"
   ]
  },
  {
   "cell_type": "code",
   "execution_count": 10,
   "metadata": {
    "collapsed": false
   },
   "outputs": [
    {
     "data": {
      "image/png": "[encoded data removed]",
      "text/latex": [
       "$$\\frac{1}{24 dx_{1} dx_{2} dx_{3}} \\left(dt dx_{1} dx_{2} \\left(Txz_{t + \\frac{1}{2},x,y,z - \\frac{3}{2}} - 27 Txz_{t + \\frac{1}{2},x,y,z - \\frac{1}{2}} + 27 Txz_{t + \\frac{1}{2},x,y,z + \\frac{1}{2}} - Txz_{t + \\frac{1}{2},x,y,z + \\frac{3}{2}}\\right) \\beta_{x,y,z} + dt dx_{1} dx_{3} \\left(Txy_{t + \\frac{1}{2},x,y - \\frac{3}{2},z} - 27 Txy_{t + \\frac{1}{2},x,y - \\frac{1}{2},z} + 27 Txy_{t + \\frac{1}{2},x,y + \\frac{1}{2},z} - Txy_{t + \\frac{1}{2},x,y + \\frac{3}{2},z}\\right) \\beta_{x,y,z} + dt dx_{2} dx_{3} \\left(Txx_{t + \\frac{1}{2},x - \\frac{3}{2},y,z} - 27 Txx_{t + \\frac{1}{2},x - \\frac{1}{2},y,z} + 27 Txx_{t + \\frac{1}{2},x + \\frac{1}{2},y,z} - Txx_{t + \\frac{1}{2},x + \\frac{3}{2},y,z}\\right) \\beta_{x,y,z} + 24 dx_{1} dx_{2} dx_{3} U_{t,x,y,z}\\right)$$"
      ],
      "text/plain": [
       "dt⋅dx₁⋅dx₂⋅(Txz[t + 1/2, x, y, z - 3/2] - 27⋅Txz[t + 1/2, x, y, z - 1/2] + 27⋅\n",
       "──────────────────────────────────────────────────────────────────────────────\n",
       "                                                                              \n",
       "\n",
       "Txz[t + 1/2, x, y, z + 1/2] - Txz[t + 1/2, x, y, z + 3/2])⋅beta[x, y, z] + dt⋅\n",
       "──────────────────────────────────────────────────────────────────────────────\n",
       "                                                                              \n",
       "\n",
       "dx₁⋅dx₃⋅(Txy[t + 1/2, x, y - 3/2, z] - 27⋅Txy[t + 1/2, x, y - 1/2, z] + 27⋅Txy\n",
       "──────────────────────────────────────────────────────────────────────────────\n",
       "                                                                              \n",
       "\n",
       "[t + 1/2, x, y + 1/2, z] - Txy[t + 1/2, x, y + 3/2, z])⋅beta[x, y, z] + dt⋅dx₂\n",
       "──────────────────────────────────────────────────────────────────────────────\n",
       "   24⋅dx₁⋅dx₂⋅dx₃                                                             \n",
       "\n",
       "⋅dx₃⋅(Txx[t + 1/2, x - 3/2, y, z] - 27⋅Txx[t + 1/2, x - 1/2, y, z] + 27⋅Txx[t \n",
       "──────────────────────────────────────────────────────────────────────────────\n",
       "                                                                              \n",
       "\n",
       "+ 1/2, x + 1/2, y, z] - Txx[t + 1/2, x + 3/2, y, z])⋅beta[x, y, z] + 24⋅dx₁⋅dx\n",
       "──────────────────────────────────────────────────────────────────────────────\n",
       "                                                                              \n",
       "\n",
       "₂⋅dx₃⋅U[t, x, y, z]\n",
       "───────────────────\n",
       "                   "
      ]
     },
     "execution_count": 10,
     "metadata": {},
     "output_type": "execute_result"
    }
   ],
   "source": [
    "U.kernel"
   ]
  },
  {
   "cell_type": "code",
   "execution_count": 50,
   "metadata": {
    "collapsed": false
   },
   "outputs": [],
   "source": [
    "expr = U.bc[2][0][0]"
   ]
  },
  {
   "cell_type": "code",
   "execution_count": 51,
   "metadata": {
    "collapsed": false
   },
   "outputs": [
    {
     "data": {
      "image/png": "[encoded data removed]",
      "text/latex": [
       "$$U_{t + 1,x,1,z} = \\frac{1}{dx_{1} \\mu_{x + \\frac{1}{2},\\frac{3}{2},z}} \\left(dx_{1} \\left(U_{t + 1,x,2,z} - U_{t + 1,x,3,z}\\right) \\mu_{x + \\frac{1}{2},\\frac{5}{2},z} + dx_{1} \\mu_{x + \\frac{1}{2},\\frac{3}{2},z} U_{t + 1,x,2,z} + dx_{2} \\left(- V_{t + 1,x,1,z} + V_{t + 1,x + 1,1,z}\\right) \\mu_{x + \\frac{1}{2},\\frac{3}{2},z} + dx_{2} \\left(V_{t + 1,x,2,z} - V_{t + 1,x + 1,2,z}\\right) \\mu_{x + \\frac{1}{2},\\frac{5}{2},z}\\right)$$"
      ],
      "text/plain": [
       "                    dx₁⋅(U[t + 1, x, 2, z] - U[t + 1, x, 3, z])⋅mu[x + 1/2, 5/\n",
       "U[t + 1, x, 1, z] = ──────────────────────────────────────────────────────────\n",
       "                                                                              \n",
       "\n",
       "2, z] + dx₁⋅mu[x + 1/2, 3/2, z]⋅U[t + 1, x, 2, z] + dx₂⋅(-V[t + 1, x, 1, z] + \n",
       "──────────────────────────────────────────────────────────────────────────────\n",
       "                                                      dx₁⋅mu[x + 1/2, 3/2, z] \n",
       "\n",
       "V[t + 1, x + 1, 1, z])⋅mu[x + 1/2, 3/2, z] + dx₂⋅(V[t + 1, x, 2, z] - V[t + 1,\n",
       "──────────────────────────────────────────────────────────────────────────────\n",
       "                                                                              \n",
       "\n",
       " x + 1, 2, z])⋅mu[x + 1/2, 5/2, z]\n",
       "──────────────────────────────────\n",
       "                                  "
      ]
     },
     "execution_count": 51,
     "metadata": {},
     "output_type": "execute_result"
    }
   ],
   "source": [
    "expr"
   ]
  },
  {
   "cell_type": "code",
   "execution_count": 52,
   "metadata": {
    "collapsed": false
   },
   "outputs": [
    {
     "data": {
      "text/plain": [
       "'U[t + 1][x][1][z] = (dx1*(U[t + 1][x][2][z] - U[t + 1][x][3][z])*mu12[x][2][z] + dx1*mu12[x][1][z]*U[t + 1][x][2][z] + dx2*(-V[t + 1][x][1][z] + V[t + 1][x + 1][1][z])*mu12[x][1][z] + dx2*(V[t + 1][x][2][z] - V[t + 1][x + 1][2][z])*mu12[x][2][z])/(dx1*mu12[x][1][z])'"
      ]
     },
     "execution_count": 52,
     "metadata": {},
     "output_type": "execute_result"
    }
   ],
   "source": [
    "ccode(grid.resolve_media_params(expr))"
   ]
  },
  {
   "cell_type": "code",
   "execution_count": 19,
   "metadata": {
    "collapsed": false
   },
   "outputs": [
    {
     "data": {
      "text/plain": [
       "sympy.core.symbol.Symbol"
      ]
     },
     "execution_count": 19,
     "metadata": {},
     "output_type": "execute_result"
    }
   ],
   "source": []
  },
  {
   "cell_type": "code",
   "execution_count": null,
   "metadata": {
    "collapsed": true
   },
   "outputs": [],
   "source": []
  }
 ],
 "metadata": {
  "kernelspec": {
   "display_name": "Python 2",
   "language": "python",
   "name": "python2"
  },
  "language_info": {
   "codemirror_mode": {
    "name": "ipython",
    "version": 2
   },
   "file_extension": ".py",
   "mimetype": "text/x-python",
   "name": "python",
   "nbconvert_exporter": "python",
   "pygments_lexer": "ipython2",
   "version": "2.7.10"
  }
 },
 "nbformat": 4,
 "nbformat_minor": 0
}
